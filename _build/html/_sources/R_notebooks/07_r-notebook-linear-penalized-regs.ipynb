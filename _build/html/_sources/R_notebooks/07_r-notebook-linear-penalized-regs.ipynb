{
 "cells": [
  {
   "cell_type": "markdown",
   "metadata": {
    "id": "SBlG4PHwVS36",
    "papermill": {
     "duration": 0.009913,
     "end_time": "2022-02-18T13:58:21.856595",
     "exception": false,
     "start_time": "2022-02-18T13:58:21.846682",
     "status": "completed"
    },
    "tags": []
   },
   "source": [
    "\n",
    "\n",
    "This notebook contains an example for teaching.\n"
   ]
  },
  {
   "cell_type": "markdown",
   "metadata": {
    "_execution_state": "idle",
    "_uuid": "051d70d956493feee0c6d64651c6a088724dca2a",
    "id": "lJfR0JaSVS4A",
    "papermill": {
     "duration": 0.008534,
     "end_time": "2022-02-18T13:58:21.874384",
     "exception": false,
     "start_time": "2022-02-18T13:58:21.865850",
     "status": "completed"
    },
    "tags": []
   },
   "source": [
    "# Penalized Linear Regressions: A Simulation Experiment"
   ]
  },
  {
   "cell_type": "markdown",
   "metadata": {
    "id": "agE50UOyVS4C",
    "papermill": {
     "duration": 0.008731,
     "end_time": "2022-02-18T13:58:21.891679",
     "exception": false,
     "start_time": "2022-02-18T13:58:21.882948",
     "status": "completed"
    },
    "tags": []
   },
   "source": [
    "## Data Generating Process: Approximately Sparse"
   ]
  },
  {
   "cell_type": "code",
   "execution_count": 1,
   "metadata": {
    "colab": {
     "base_uri": "https://localhost:8080/",
     "height": 555
    },
    "execution": {
     "iopub.execute_input": "2022-02-18T13:58:21.937879Z",
     "iopub.status.busy": "2022-02-18T13:58:21.935797Z",
     "iopub.status.idle": "2022-02-18T13:58:22.393735Z",
     "shell.execute_reply": "2022-02-18T13:58:22.393174Z"
    },
    "executionInfo": {
     "elapsed": 7341,
     "status": "ok",
     "timestamp": 1658249501894,
     "user": {
      "displayName": "Jhon Kevin Flores Rojas",
      "userId": "10267608749788811245"
     },
     "user_tz": 300
    },
    "id": "8hvQtDwBVS4D",
    "outputId": "4915600b-06a6-4a31-8943-15bffc3f480d",
    "papermill": {
     "duration": 0.493679,
     "end_time": "2022-02-18T13:58:22.393917",
     "exception": false,
     "start_time": "2022-02-18T13:58:21.900238",
     "status": "completed"
    },
    "tags": []
   },
   "outputs": [
    {
     "name": "stderr",
     "output_type": "stream",
     "text": [
      "Warning message in system(\"timedatectl\", intern = TRUE):\n",
      "“running command 'timedatectl' had status 1”\n"
     ]
    },
    {
     "name": "stdout",
     "output_type": "stream",
     "text": [
      "[1] \"theoretical R2:\"   \"0.826881788964026\"\n"
     ]
    },
    {
     "data": {
      "text/html": [
       "<table class=\"dataframe\">\n",
       "<caption>A matrix: 1 × 1 of type dbl</caption>\n",
       "<tbody>\n",
       "\t<tr><td>0.8268818</td></tr>\n",
       "</tbody>\n",
       "</table>\n"
      ],
      "text/latex": [
       "A matrix: 1 × 1 of type dbl\n",
       "\\begin{tabular}{l}\n",
       "\t 0.8268818\\\\\n",
       "\\end{tabular}\n"
      ],
      "text/markdown": [
       "\n",
       "A matrix: 1 × 1 of type dbl\n",
       "\n",
       "| 0.8268818 |\n",
       "\n"
      ],
      "text/plain": [
       "     [,1]     \n",
       "[1,] 0.8268818"
      ]
     },
     "metadata": {},
     "output_type": "display_data"
    },
    {
     "data": {
      "image/png": "[encoded data removed]",
      "text/plain": [
       "plot without title"
      ]
     },
     "metadata": {
      "image/png": {
       "height": 420,
       "width": 420
      }
     },
     "output_type": "display_data"
    }
   ],
   "source": [
    "install.packages(\"librarian\", quiet = T)\n",
    "librarian::shelf(glmnet, broom, tidyverse, hdm, quiet = T)\n",
    "set.seed(1)\n",
    "\n",
    "n = 100;\n",
    "p = 400;\n",
    "\n",
    "Z= runif(n)-1/2;\n",
    "W = matrix(runif(n*p)-1/2, n, p);\n",
    "\n",
    "\n",
    "\n",
    "beta = 1/seq(1:p)^2;   # approximately sparse beta\n",
    "#beta = rnorm(p)*.2    # dense beta\n",
    "gX = exp(4*Z)+ W%*%beta;  # leading term nonlinear\n",
    "X = cbind(Z, Z^2, Z^3, W );  # polynomials in Zs will be approximating exp(4*Z)\n",
    "\n",
    "\n",
    "Y = gX + rnorm(n);    #generate Y\n",
    "\n",
    "\n",
    "plot(gX,Y, xlab=\"g(X)\", ylab=\"Y\")    #plot V vs g(X)\n",
    "\n",
    "print(c(\"theoretical R2:\", var(gX)/var(Y)))\n"
   ]
  },
  {
   "cell_type": "markdown",
   "metadata": {
    "id": "yTagJ9KkVS4I",
    "papermill": {
     "duration": 0.011153,
     "end_time": "2022-02-18T13:58:22.416538",
     "exception": false,
     "start_time": "2022-02-18T13:58:22.405385",
     "status": "completed"
    },
    "tags": []
   },
   "source": [
    "We use package Glmnet to carry out predictions using cross-validated lasso, ridge, and elastic net"
   ]
  },
  {
   "cell_type": "code",
   "execution_count": 2,
   "metadata": {
    "execution": {
     "iopub.execute_input": "2022-02-18T13:58:22.472341Z",
     "iopub.status.busy": "2022-02-18T13:58:22.442534Z",
     "iopub.status.idle": "2022-02-18T13:58:25.097020Z",
     "shell.execute_reply": "2022-02-18T13:58:25.095848Z"
    },
    "executionInfo": {
     "elapsed": 1758,
     "status": "ok",
     "timestamp": 1658249503641,
     "user": {
      "displayName": "Jhon Kevin Flores Rojas",
      "userId": "10267608749788811245"
     },
     "user_tz": 300
    },
    "id": "NOnAHsR3VS4K",
    "papermill": {
     "duration": 2.669593,
     "end_time": "2022-02-18T13:58:25.097218",
     "exception": false,
     "start_time": "2022-02-18T13:58:22.427625",
     "status": "completed"
    },
    "tags": []
   },
   "outputs": [],
   "source": [
    "# library(glmnet)\n",
    "fit.lasso.cv   <- cv.glmnet(X, Y, family=\"gaussian\", alpha=1)  # family gaussian means that we'll be using square loss\n",
    "fit.ridge   <- cv.glmnet(X, Y, family=\"gaussian\", alpha=0)     # family gaussian means that we'll be using square loss\n",
    "fit.elnet   <- cv.glmnet(X, Y, family=\"gaussian\", alpha=.5)    # family gaussian means that we'll be using square loss\n",
    "\n",
    "yhat.lasso.cv    <- predict(fit.lasso.cv, newx = X)            # predictions\n",
    "yhat.ridge   <- predict(fit.ridge, newx = X)\n",
    "yhat.elnet   <- predict(fit.elnet, newx = X)\n",
    "\n",
    "MSE.lasso.cv <- summary(lm((gX-yhat.lasso.cv)^2~1))$coef[1:2]  # report MSE and standard error for MSE for approximating g(X)\n",
    "MSE.ridge <- summary(lm((gX-yhat.ridge)^2~1))$coef[1:2]        # report MSE and standard error for MSE for approximating g(X)\n",
    "MSE.elnet <- summary(lm((gX-yhat.elnet)^2~1))$coef[1:2]        # report MSE and standard error for MSE for approximating g(X)\n"
   ]
  },
  {
   "cell_type": "markdown",
   "metadata": {
    "id": "-kvQl4raVS4M",
    "papermill": {
     "duration": 0.011831,
     "end_time": "2022-02-18T13:58:25.121596",
     "exception": false,
     "start_time": "2022-02-18T13:58:25.109765",
     "status": "completed"
    },
    "tags": []
   },
   "source": [
    "Here we compute the lasso and ols post lasso using plug-in choices for penalty levels, using package hdm"
   ]
  },
  {
   "cell_type": "code",
   "execution_count": 3,
   "metadata": {
    "execution": {
     "iopub.execute_input": "2022-02-18T13:58:25.149688Z",
     "iopub.status.busy": "2022-02-18T13:58:25.148420Z",
     "iopub.status.idle": "2022-02-18T13:58:35.133003Z",
     "shell.execute_reply": "2022-02-18T13:58:35.131345Z"
    },
    "executionInfo": {
     "elapsed": 9818,
     "status": "ok",
     "timestamp": 1658249513454,
     "user": {
      "displayName": "Jhon Kevin Flores Rojas",
      "userId": "10267608749788811245"
     },
     "user_tz": 300
    },
    "id": "vQgkCuyAVS4O",
    "papermill": {
     "duration": 9.999704,
     "end_time": "2022-02-18T13:58:35.133240",
     "exception": false,
     "start_time": "2022-02-18T13:58:25.133536",
     "status": "completed"
    },
    "tags": []
   },
   "outputs": [],
   "source": [
    "# library(hdm) \n",
    "fit.rlasso  <- rlasso(Y~X,  post=FALSE)      # lasso with plug-in penalty level\n",
    "fit.rlasso.post <- rlasso(Y~X,  post=TRUE)    # post-lasso with plug-in penalty level\n",
    "\n",
    "yhat.rlasso   <- predict(fit.rlasso)            #predict g(X) for values of X\n",
    "yhat.rlasso.post   <- predict(fit.rlasso.post)  #predict g(X) for values of X\n",
    "\n",
    "MSE.lasso <- summary(lm((gX-yhat.rlasso)^2~1))$coef[1:2]       # report MSE and standard error for MSE for approximating g(X)\n",
    "MSE.lasso.post <- summary(lm((gX-yhat.rlasso.post)^2~1))$coef[1:2]  # report MSE and standard error for MSE for approximating g(X)\n",
    "\n"
   ]
  },
  {
   "cell_type": "markdown",
   "metadata": {
    "id": "mk399AAAVS4Q",
    "papermill": {
     "duration": 0.022814,
     "end_time": "2022-02-18T13:58:35.179691",
     "exception": false,
     "start_time": "2022-02-18T13:58:35.156877",
     "status": "completed"
    },
    "tags": []
   },
   "source": [
    "Next we code up lava, which alternates the fitting of lasso and ridge"
   ]
  },
  {
   "cell_type": "code",
   "execution_count": 4,
   "metadata": {
    "colab": {
     "base_uri": "https://localhost:8080/",
     "height": 34
    },
    "execution": {
     "iopub.execute_input": "2022-02-18T13:58:35.241278Z",
     "iopub.status.busy": "2022-02-18T13:58:35.240437Z",
     "iopub.status.idle": "2022-02-18T13:59:19.758935Z",
     "shell.execute_reply": "2022-02-18T13:59:19.759521Z"
    },
    "executionInfo": {
     "elapsed": 43829,
     "status": "ok",
     "timestamp": 1658249557267,
     "user": {
      "displayName": "Jhon Kevin Flores Rojas",
      "userId": "10267608749788811245"
     },
     "user_tz": 300
    },
    "id": "w8gStGp0VS4R",
    "outputId": "566c9d2e-7b7e-42b0-80e4-674cbd5414e9",
    "papermill": {
     "duration": 44.557456,
     "end_time": "2022-02-18T13:59:19.759879",
     "exception": false,
     "start_time": "2022-02-18T13:58:35.202423",
     "status": "completed"
    },
    "tags": []
   },
   "outputs": [
    {
     "data": {
      "text/html": [
       "<style>\n",
       ".list-inline {list-style: none; margin:0; padding: 0}\n",
       ".list-inline>li {display: inline-block}\n",
       ".list-inline>li:not(:last-child)::after {content: \"\\00b7\"; padding: 0 .5ex}\n",
       "</style>\n",
       "<ol class=list-inline><li>0.158968193469853</li><li>0.0256845068490924</li></ol>\n"
      ],
      "text/latex": [
       "\\begin{enumerate*}\n",
       "\\item 0.158968193469853\n",
       "\\item 0.0256845068490924\n",
       "\\end{enumerate*}\n"
      ],
      "text/markdown": [
       "1. 0.158968193469853\n",
       "2. 0.0256845068490924\n",
       "\n",
       "\n"
      ],
      "text/plain": [
       "[1] 0.15896819 0.02568451"
      ]
     },
     "metadata": {},
     "output_type": "display_data"
    }
   ],
   "source": [
    "# library(glmnet)\n",
    "\n",
    "lava.predict<- function(X,Y, iter=5){\n",
    "    \n",
    "g1 = predict(rlasso(X, Y, post=F))  #lasso step fits \"sparse part\"\n",
    "m1 =  predict(glmnet(X, as.vector(Y - g1), family = \"gaussian\", alpha = 0, lambda = 20),newx=X ) #ridge step fits the \"dense\" part\n",
    "\n",
    "    \n",
    "i = 1\n",
    "while(i <= iter) {\n",
    "  g1 = predict(rlasso(X, as.vector(Y - m1), post = F))   #lasso step fits \"sparse part\"\n",
    "  m1 = predict(glmnet(X, as.vector(Y - g1), family = \"gaussian\",  alpha = 0, lambda = 20),newx = X )  #ridge step fits the \"dense\" part\n",
    "  i = i+1 \n",
    "  }\n",
    "\n",
    "return(g1+m1)\n",
    "}\n",
    "\n",
    "\n",
    "yhat.lava = lava.predict(X,Y)\n",
    "MSE.lava <- summary(lm((gX-yhat.lava)^2~1))$coef[1:2]       # report MSE and standard error for MSE for approximating g(X)\n",
    "\n",
    "    \n",
    "MSE.lava"
   ]
  },
  {
   "cell_type": "code",
   "execution_count": 5,
   "metadata": {
    "colab": {
     "base_uri": "https://localhost:8080/",
     "height": 255
    },
    "execution": {
     "iopub.execute_input": "2022-02-18T13:59:19.816940Z",
     "iopub.status.busy": "2022-02-18T13:59:19.816059Z",
     "iopub.status.idle": "2022-02-18T13:59:19.881574Z",
     "shell.execute_reply": "2022-02-18T13:59:19.880502Z"
    },
    "executionInfo": {
     "elapsed": 36,
     "status": "ok",
     "timestamp": 1658249557270,
     "user": {
      "displayName": "Jhon Kevin Flores Rojas",
      "userId": "10267608749788811245"
     },
     "user_tz": 300
    },
    "id": "cDhvPcYeVS4T",
    "outputId": "68bf8311-cd04-485d-8df3-9d18b6f061cf",
    "papermill": {
     "duration": 0.09827,
     "end_time": "2022-02-18T13:59:19.881736",
     "exception": false,
     "start_time": "2022-02-18T13:59:19.783466",
     "status": "completed"
    },
    "tags": []
   },
   "outputs": [
    {
     "data": {
      "text/html": [
       "<table class=\"dataframe\">\n",
       "<caption>A matrix: 6 × 2 of type dbl</caption>\n",
       "<thead>\n",
       "\t<tr><th></th><th scope=col>MSA</th><th scope=col>S.E. for MSA</th></tr>\n",
       "</thead>\n",
       "<tbody>\n",
       "\t<tr><th scope=row>Cross-Validated Lasso</th><td>0.3666009</td><td>0.061279916</td></tr>\n",
       "\t<tr><th scope=row>Cross-Validated ridge</th><td>2.3842559</td><td>0.369909988</td></tr>\n",
       "\t<tr><th scope=row>Cross-Validated elnet</th><td>0.3988608</td><td>0.063757962</td></tr>\n",
       "\t<tr><th scope=row>Lasso</th><td>0.1482190</td><td>0.026705771</td></tr>\n",
       "\t<tr><th scope=row>Post-Lasso</th><td>0.0845236</td><td>0.009469643</td></tr>\n",
       "\t<tr><th scope=row>Lava</th><td>0.1589682</td><td>0.025684507</td></tr>\n",
       "</tbody>\n",
       "</table>\n"
      ],
      "text/latex": [
       "A matrix: 6 × 2 of type dbl\n",
       "\\begin{tabular}{r|ll}\n",
       "  & MSA & S.E. for MSA\\\\\n",
       "\\hline\n",
       "\tCross-Validated Lasso & 0.3666009 & 0.061279916\\\\\n",
       "\tCross-Validated ridge & 2.3842559 & 0.369909988\\\\\n",
       "\tCross-Validated elnet & 0.3988608 & 0.063757962\\\\\n",
       "\tLasso & 0.1482190 & 0.026705771\\\\\n",
       "\tPost-Lasso & 0.0845236 & 0.009469643\\\\\n",
       "\tLava & 0.1589682 & 0.025684507\\\\\n",
       "\\end{tabular}\n"
      ],
      "text/markdown": [
       "\n",
       "A matrix: 6 × 2 of type dbl\n",
       "\n",
       "| <!--/--> | MSA | S.E. for MSA |\n",
       "|---|---|---|\n",
       "| Cross-Validated Lasso | 0.3666009 | 0.061279916 |\n",
       "| Cross-Validated ridge | 2.3842559 | 0.369909988 |\n",
       "| Cross-Validated elnet | 0.3988608 | 0.063757962 |\n",
       "| Lasso | 0.1482190 | 0.026705771 |\n",
       "| Post-Lasso | 0.0845236 | 0.009469643 |\n",
       "| Lava | 0.1589682 | 0.025684507 |\n",
       "\n"
      ],
      "text/plain": [
       "                      MSA       S.E. for MSA\n",
       "Cross-Validated Lasso 0.3666009 0.061279916 \n",
       "Cross-Validated ridge 2.3842559 0.369909988 \n",
       "Cross-Validated elnet 0.3988608 0.063757962 \n",
       "Lasso                 0.1482190 0.026705771 \n",
       "Post-Lasso            0.0845236 0.009469643 \n",
       "Lava                  0.1589682 0.025684507 "
      ]
     },
     "metadata": {},
     "output_type": "display_data"
    }
   ],
   "source": [
    "# library(xtable)\n",
    "table<- matrix(0, 6, 2)\n",
    "table[1,1:2]   <- MSE.lasso.cv\n",
    "table[2,1:2]   <- MSE.ridge\n",
    "table[3,1:2]   <- MSE.elnet\n",
    "table[4,1:2]   <- MSE.lasso\n",
    "table[5,1:2]   <- MSE.lasso.post\n",
    "table[6,1:2]   <- MSE.lava\n",
    "\n",
    "colnames(table)<- c(\"MSA\", \"S.E. for MSA\")\n",
    "rownames(table)<- c(\"Cross-Validated Lasso\", \"Cross-Validated ridge\",\"Cross-Validated elnet\",\n",
    "                    \"Lasso\",\"Post-Lasso\",\"Lava\")\n",
    "# tab <- xtable(table, digits =3)\n",
    "\n",
    "table\n",
    "\n"
   ]
  },
  {
   "cell_type": "code",
   "execution_count": 6,
   "metadata": {
    "colab": {
     "base_uri": "https://localhost:8080/",
     "height": 437
    },
    "execution": {
     "iopub.execute_input": "2022-02-18T13:59:19.913745Z",
     "iopub.status.busy": "2022-02-18T13:59:19.912568Z",
     "iopub.status.idle": "2022-02-18T13:59:20.041582Z",
     "shell.execute_reply": "2022-02-18T13:59:20.041103Z"
    },
    "executionInfo": {
     "elapsed": 36,
     "status": "ok",
     "timestamp": 1658249557273,
     "user": {
      "displayName": "Jhon Kevin Flores Rojas",
      "userId": "10267608749788811245"
     },
     "user_tz": 300
    },
    "id": "6jYZYthEVS4W",
    "outputId": "c99882c0-8294-4d98-e818-322982717c44",
    "papermill": {
     "duration": 0.146507,
     "end_time": "2022-02-18T13:59:20.041718",
     "exception": false,
     "start_time": "2022-02-18T13:59:19.895211",
     "status": "completed"
    },
    "tags": []
   },
   "outputs": [
    {
     "data": {
      "image/png": "[encoded data removed]",
      "text/plain": [
       "plot without title"
      ]
     },
     "metadata": {
      "image/png": {
       "height": 420,
       "width": 420
      }
     },
     "output_type": "display_data"
    }
   ],
   "source": [
    "\n",
    "plot(gX, gX, pch=19, cex=1, ylab=\"predicted value\", xlab=\"true g(X)\")\n",
    "\n",
    "points(gX, yhat.rlasso, col=2, pch=18, cex = 1.5 )\n",
    "points(gX,  yhat.rlasso.post, col=3, pch=17,  cex = 1.2  )\n",
    "points( gX, yhat.lasso.cv,col=4, pch=19,  cex = 1.2 )\n",
    "\n",
    "\n",
    "legend(\"bottomright\", \n",
    "  legend = c(\"rLasso\", \"Post-rLasso\", \"CV Lasso\"), \n",
    "  col = c(2,3,4), \n",
    "  pch = c(18,17, 19), \n",
    "  bty = \"n\", \n",
    "  pt.cex = 1.3, \n",
    "  cex = 1.2, \n",
    "  text.col = \"black\", \n",
    "  horiz = F , \n",
    "  inset = c(0.1, 0.1))\n",
    "\n"
   ]
  },
  {
   "cell_type": "markdown",
   "metadata": {
    "id": "L9u3NDU6VS4Y",
    "papermill": {
     "duration": 0.015763,
     "end_time": "2022-02-18T13:59:20.073499",
     "exception": false,
     "start_time": "2022-02-18T13:59:20.057736",
     "status": "completed"
    },
    "tags": []
   },
   "source": [
    "## Data Generating Process: Approximately Sparse + Small Dense Part"
   ]
  },
  {
   "cell_type": "code",
   "execution_count": 7,
   "metadata": {
    "colab": {
     "base_uri": "https://localhost:8080/",
     "height": 538
    },
    "execution": {
     "iopub.execute_input": "2022-02-18T13:59:20.110348Z",
     "iopub.status.busy": "2022-02-18T13:59:20.108739Z",
     "iopub.status.idle": "2022-02-18T13:59:20.278256Z",
     "shell.execute_reply": "2022-02-18T13:59:20.277591Z"
    },
    "executionInfo": {
     "elapsed": 35,
     "status": "ok",
     "timestamp": 1658249557275,
     "user": {
      "displayName": "Jhon Kevin Flores Rojas",
      "userId": "10267608749788811245"
     },
     "user_tz": 300
    },
    "id": "nBcu2WO0VS4Z",
    "outputId": "5a15517f-1dab-4b4e-c0bb-92d8b581a799",
    "papermill": {
     "duration": 0.189287,
     "end_time": "2022-02-18T13:59:20.278432",
     "exception": false,
     "start_time": "2022-02-18T13:59:20.089145",
     "status": "completed"
    },
    "tags": []
   },
   "outputs": [
    {
     "name": "stdout",
     "output_type": "stream",
     "text": [
      "[1] \"theoretical R2:\"   \"0.696687990094227\"\n"
     ]
    },
    {
     "data": {
      "text/html": [
       "<table class=\"dataframe\">\n",
       "<caption>A matrix: 1 × 1 of type dbl</caption>\n",
       "<tbody>\n",
       "\t<tr><td>0.696688</td></tr>\n",
       "</tbody>\n",
       "</table>\n"
      ],
      "text/latex": [
       "A matrix: 1 × 1 of type dbl\n",
       "\\begin{tabular}{l}\n",
       "\t 0.696688\\\\\n",
       "\\end{tabular}\n"
      ],
      "text/markdown": [
       "\n",
       "A matrix: 1 × 1 of type dbl\n",
       "\n",
       "| 0.696688 |\n",
       "\n"
      ],
      "text/plain": [
       "     [,1]    \n",
       "[1,] 0.696688"
      ]
     },
     "metadata": {},
     "output_type": "display_data"
    },
    {
     "data": {
      "image/png": "[encoded data removed]",
      "text/plain": [
       "plot without title"
      ]
     },
     "metadata": {
      "image/png": {
       "height": 420,
       "width": 420
      }
     },
     "output_type": "display_data"
    }
   ],
   "source": [
    "set.seed(1)\n",
    "\n",
    "n = 100;\n",
    "p = 400;\n",
    "\n",
    "Z= runif(n)-1/2;\n",
    "W = matrix(runif(n*p)-1/2, n, p);\n",
    "\n",
    "\n",
    "beta = rnorm(p)*.2    # dense beta\n",
    "gX = exp(4*Z)+ W%*%beta;  # leading term nonlinear\n",
    "X = cbind(Z, Z^2, Z^3, W );  # polynomials in Zs will be approximating exp(4*Z)\n",
    "\n",
    "\n",
    "Y = gX + rnorm(n);    #generate Y\n",
    "\n",
    "\n",
    "plot(gX,Y, xlab=\"g(X)\", ylab=\"Y\")    #plot V vs g(X)\n",
    "\n",
    "print( c(\"theoretical R2:\", var(gX)/var(Y)))"
   ]
  },
  {
   "cell_type": "code",
   "execution_count": 8,
   "metadata": {
    "execution": {
     "iopub.execute_input": "2022-02-18T13:59:20.319593Z",
     "iopub.status.busy": "2022-02-18T13:59:20.317984Z",
     "iopub.status.idle": "2022-02-18T13:59:21.692241Z",
     "shell.execute_reply": "2022-02-18T13:59:21.691126Z"
    },
    "executionInfo": {
     "elapsed": 1628,
     "status": "ok",
     "timestamp": 1658249558873,
     "user": {
      "displayName": "Jhon Kevin Flores Rojas",
      "userId": "10267608749788811245"
     },
     "user_tz": 300
    },
    "id": "ILJfzcUNVS4a",
    "papermill": {
     "duration": 1.395837,
     "end_time": "2022-02-18T13:59:21.692410",
     "exception": false,
     "start_time": "2022-02-18T13:59:20.296573",
     "status": "completed"
    },
    "tags": []
   },
   "outputs": [],
   "source": [
    "\n",
    "# library(glmnet)\n",
    "fit.lasso.cv   <- cv.glmnet(X, Y, family=\"gaussian\", alpha=1)  # family gaussian means that we'll be using square loss\n",
    "fit.ridge   <- cv.glmnet(X, Y, family=\"gaussian\", alpha=0)     # family gaussian means that we'll be using square loss\n",
    "fit.elnet   <- cv.glmnet(X, Y, family=\"gaussian\", alpha=.5)    # family gaussian means that we'll be using square loss\n",
    "\n",
    "yhat.lasso.cv    <- predict(fit.lasso.cv, newx = X)            # predictions\n",
    "yhat.ridge   <- predict(fit.ridge, newx = X)\n",
    "yhat.elnet   <- predict(fit.elnet, newx = X)\n",
    "\n",
    "MSE.lasso.cv <- summary(lm((gX-yhat.lasso.cv)^2~1))$coef[1:2]  # report MSE and standard error for MSE for approximating g(X)\n",
    "MSE.ridge <- summary(lm((gX-yhat.ridge)^2~1))$coef[1:2]        # report MSE and standard error for MSE for approximating g(X)\n",
    "MSE.elnet <- summary(lm((gX-yhat.elnet)^2~1))$coef[1:2]        # report MSE and standard error for MSE for approximating g(X)\n"
   ]
  },
  {
   "cell_type": "code",
   "execution_count": 9,
   "metadata": {
    "execution": {
     "iopub.execute_input": "2022-02-18T13:59:21.736982Z",
     "iopub.status.busy": "2022-02-18T13:59:21.735970Z",
     "iopub.status.idle": "2022-02-18T13:59:33.526607Z",
     "shell.execute_reply": "2022-02-18T13:59:33.524927Z"
    },
    "executionInfo": {
     "elapsed": 11773,
     "status": "ok",
     "timestamp": 1658249570628,
     "user": {
      "displayName": "Jhon Kevin Flores Rojas",
      "userId": "10267608749788811245"
     },
     "user_tz": 300
    },
    "id": "rPadGUzUVS4b",
    "papermill": {
     "duration": 11.816946,
     "end_time": "2022-02-18T13:59:33.526861",
     "exception": false,
     "start_time": "2022-02-18T13:59:21.709915",
     "status": "completed"
    },
    "tags": []
   },
   "outputs": [],
   "source": [
    "# library(hdm) \n",
    "fit.rlasso  <- rlasso(Y~X,  post=FALSE)      # lasso with plug-in penalty level\n",
    "fit.rlasso.post <- rlasso(Y~X,  post=TRUE)    # post-lasso with plug-in penalty level\n",
    "\n",
    "yhat.rlasso   <- predict(fit.rlasso)            #predict g(X) for values of X\n",
    "yhat.rlasso.post   <- predict(fit.rlasso.post)  #predict g(X) for values of X\n",
    "\n",
    "MSE.lasso <- summary(lm((gX-yhat.rlasso)^2~1))$coef[1:2]       # report MSE and standard error for MSE for approximating g(X)\n",
    "MSE.lasso.post <- summary(lm((gX-yhat.rlasso.post)^2~1))$coef[1:2]  # report MSE and standard error for MSE for approximating g(X)\n",
    "\n"
   ]
  },
  {
   "cell_type": "code",
   "execution_count": 10,
   "metadata": {
    "colab": {
     "base_uri": "https://localhost:8080/",
     "height": 34
    },
    "execution": {
     "iopub.execute_input": "2022-02-18T13:59:33.614205Z",
     "iopub.status.busy": "2022-02-18T13:59:33.613420Z",
     "iopub.status.idle": "2022-02-18T14:00:30.089752Z",
     "shell.execute_reply": "2022-02-18T14:00:30.090365Z"
    },
    "executionInfo": {
     "elapsed": 56153,
     "status": "ok",
     "timestamp": 1658249626774,
     "user": {
      "displayName": "Jhon Kevin Flores Rojas",
      "userId": "10267608749788811245"
     },
     "user_tz": 300
    },
    "id": "SdZM0tx4VS4c",
    "outputId": "bd690869-c280-4fe3-d65d-a5db1bc31aed",
    "papermill": {
     "duration": 56.528629,
     "end_time": "2022-02-18T14:00:30.090661",
     "exception": false,
     "start_time": "2022-02-18T13:59:33.562032",
     "status": "completed"
    },
    "tags": []
   },
   "outputs": [
    {
     "data": {
      "text/html": [
       "<style>\n",
       ".list-inline {list-style: none; margin:0; padding: 0}\n",
       ".list-inline>li {display: inline-block}\n",
       ".list-inline>li:not(:last-child)::after {content: \"\\00b7\"; padding: 0 .5ex}\n",
       "</style>\n",
       "<ol class=list-inline><li>0.679714730890029</li><li>0.0737496772656864</li></ol>\n"
      ],
      "text/latex": [
       "\\begin{enumerate*}\n",
       "\\item 0.679714730890029\n",
       "\\item 0.0737496772656864\n",
       "\\end{enumerate*}\n"
      ],
      "text/markdown": [
       "1. 0.679714730890029\n",
       "2. 0.0737496772656864\n",
       "\n",
       "\n"
      ],
      "text/plain": [
       "[1] 0.67971473 0.07374968"
      ]
     },
     "metadata": {},
     "output_type": "display_data"
    }
   ],
   "source": [
    "# library(glmnet)\n",
    "\n",
    "lava.predict<- function(X,Y, iter=5){\n",
    "    \n",
    "g1 = predict(rlasso(X, Y, post=F))  #lasso step fits \"sparse part\"\n",
    "m1 =  predict(glmnet(X, as.vector(Y-g1), family=\"gaussian\", alpha=0, lambda =20),newx=X ) #ridge step fits the \"dense\" part\n",
    "\n",
    "    \n",
    "i=1\n",
    "while(i<= iter) {\n",
    "  g1 = predict(rlasso(X, as.vector(Y-m1), post=F))   #lasso step fits \"sparse part\"\n",
    "  m1 = predict(glmnet(X, as.vector(Y-g1), family=\"gaussian\",  alpha=0, lambda =20),newx=X );  #ridge step fits the \"dense\" part\n",
    "  i = i+1 \n",
    "}\n",
    "\n",
    "return(g1+m1);\n",
    "    }\n",
    "\n",
    "\n",
    "yhat.lava = lava.predict(X,Y)\n",
    "MSE.lava <- summary(lm((gX-yhat.lava)^2~1))$coef[1:2]       # report MSE and standard error for MSE for approximating g(X)\n",
    "\n",
    "    \n",
    "MSE.lava"
   ]
  },
  {
   "cell_type": "code",
   "execution_count": 11,
   "metadata": {
    "colab": {
     "base_uri": "https://localhost:8080/",
     "height": 255
    },
    "execution": {
     "iopub.execute_input": "2022-02-18T14:00:30.153626Z",
     "iopub.status.busy": "2022-02-18T14:00:30.153126Z",
     "iopub.status.idle": "2022-02-18T14:00:30.196059Z",
     "shell.execute_reply": "2022-02-18T14:00:30.194986Z"
    },
    "executionInfo": {
     "elapsed": 37,
     "status": "ok",
     "timestamp": 1658249626777,
     "user": {
      "displayName": "Jhon Kevin Flores Rojas",
      "userId": "10267608749788811245"
     },
     "user_tz": 300
    },
    "id": "LcfRaacLVS4e",
    "outputId": "b732b423-d4d9-4694-973e-00052d731de3",
    "papermill": {
     "duration": 0.069067,
     "end_time": "2022-02-18T14:00:30.196218",
     "exception": false,
     "start_time": "2022-02-18T14:00:30.127151",
     "status": "completed"
    },
    "tags": []
   },
   "outputs": [
    {
     "data": {
      "text/html": [
       "<table class=\"dataframe\">\n",
       "<caption>A matrix: 6 × 2 of type dbl</caption>\n",
       "<thead>\n",
       "\t<tr><th></th><th scope=col>MSA</th><th scope=col>S.E. for MSA</th></tr>\n",
       "</thead>\n",
       "<tbody>\n",
       "\t<tr><th scope=row>Cross-Validated Lasso</th><td>1.9318225</td><td>0.29130485</td></tr>\n",
       "\t<tr><th scope=row>Cross-Validated ridge</th><td>3.4106685</td><td>0.49426500</td></tr>\n",
       "\t<tr><th scope=row>Cross-Validated elnet</th><td>1.8251591</td><td>0.25189955</td></tr>\n",
       "\t<tr><th scope=row>Lasso</th><td>0.9641151</td><td>0.11978038</td></tr>\n",
       "\t<tr><th scope=row>Post-Lasso</th><td>1.5966018</td><td>0.20707956</td></tr>\n",
       "\t<tr><th scope=row>Lava</th><td>0.6797147</td><td>0.07374968</td></tr>\n",
       "</tbody>\n",
       "</table>\n"
      ],
      "text/latex": [
       "A matrix: 6 × 2 of type dbl\n",
       "\\begin{tabular}{r|ll}\n",
       "  & MSA & S.E. for MSA\\\\\n",
       "\\hline\n",
       "\tCross-Validated Lasso & 1.9318225 & 0.29130485\\\\\n",
       "\tCross-Validated ridge & 3.4106685 & 0.49426500\\\\\n",
       "\tCross-Validated elnet & 1.8251591 & 0.25189955\\\\\n",
       "\tLasso & 0.9641151 & 0.11978038\\\\\n",
       "\tPost-Lasso & 1.5966018 & 0.20707956\\\\\n",
       "\tLava & 0.6797147 & 0.07374968\\\\\n",
       "\\end{tabular}\n"
      ],
      "text/markdown": [
       "\n",
       "A matrix: 6 × 2 of type dbl\n",
       "\n",
       "| <!--/--> | MSA | S.E. for MSA |\n",
       "|---|---|---|\n",
       "| Cross-Validated Lasso | 1.9318225 | 0.29130485 |\n",
       "| Cross-Validated ridge | 3.4106685 | 0.49426500 |\n",
       "| Cross-Validated elnet | 1.8251591 | 0.25189955 |\n",
       "| Lasso | 0.9641151 | 0.11978038 |\n",
       "| Post-Lasso | 1.5966018 | 0.20707956 |\n",
       "| Lava | 0.6797147 | 0.07374968 |\n",
       "\n"
      ],
      "text/plain": [
       "                      MSA       S.E. for MSA\n",
       "Cross-Validated Lasso 1.9318225 0.29130485  \n",
       "Cross-Validated ridge 3.4106685 0.49426500  \n",
       "Cross-Validated elnet 1.8251591 0.25189955  \n",
       "Lasso                 0.9641151 0.11978038  \n",
       "Post-Lasso            1.5966018 0.20707956  \n",
       "Lava                  0.6797147 0.07374968  "
      ]
     },
     "metadata": {},
     "output_type": "display_data"
    }
   ],
   "source": [
    "# library(xtable)\n",
    "table<- matrix(0, 6, 2)\n",
    "table[1,1:2]   <- MSE.lasso.cv\n",
    "table[2,1:2]   <- MSE.ridge\n",
    "table[3,1:2]   <- MSE.elnet\n",
    "table[4,1:2]   <- MSE.lasso\n",
    "table[5,1:2]   <- MSE.lasso.post\n",
    "table[6,1:2]   <- MSE.lava\n",
    "\n",
    "colnames(table)<- c(\"MSA\", \"S.E. for MSA\")\n",
    "rownames(table)<- c(\"Cross-Validated Lasso\", \"Cross-Validated ridge\",\"Cross-Validated elnet\",\n",
    "                    \"Lasso\",\"Post-Lasso\",\"Lava\")\n",
    "# tab <- xtable(table, digits =3)\n",
    "\n",
    "table\n"
   ]
  },
  {
   "cell_type": "code",
   "execution_count": 12,
   "metadata": {
    "colab": {
     "base_uri": "https://localhost:8080/",
     "height": 437
    },
    "execution": {
     "iopub.execute_input": "2022-02-18T14:00:30.239141Z",
     "iopub.status.busy": "2022-02-18T14:00:30.237899Z",
     "iopub.status.idle": "2022-02-18T14:00:30.349075Z",
     "shell.execute_reply": "2022-02-18T14:00:30.348675Z"
    },
    "executionInfo": {
     "elapsed": 36,
     "status": "ok",
     "timestamp": 1658249626782,
     "user": {
      "displayName": "Jhon Kevin Flores Rojas",
      "userId": "10267608749788811245"
     },
     "user_tz": 300
    },
    "id": "UFlK5A71VS4f",
    "outputId": "a66319ae-3f49-450c-a5bc-d7497ef0a86c",
    "papermill": {
     "duration": 0.133423,
     "end_time": "2022-02-18T14:00:30.349192",
     "exception": false,
     "start_time": "2022-02-18T14:00:30.215769",
     "status": "completed"
    },
    "tags": []
   },
   "outputs": [
    {
     "data": {
      "image/png": "[encoded data removed]",
      "text/plain": [
       "plot without title"
      ]
     },
     "metadata": {
      "image/png": {
       "height": 420,
       "width": 420
      }
     },
     "output_type": "display_data"
    }
   ],
   "source": [
    "\n",
    "plot(gX, gX, pch=19, cex=1, ylab=\"predicted value\", xlab=\"true g(X)\")\n",
    "\n",
    "points(gX, yhat.rlasso,   col=2, pch=18, cex = 1.5 )\n",
    "points(gX, yhat.elnet,  col=3, pch=17,  cex = 1.2  )\n",
    "points(gX, yhat.lava,  col=4, pch=19,  cex = 1.2 )\n",
    "\n",
    "\n",
    "legend(\"bottomright\", \n",
    "  legend = c(\"rLasso\", \"Elnet\", \"Lava\"), \n",
    "  col = c(2,3,4), \n",
    "  pch = c(18,17, 19), \n",
    "  bty = \"n\", \n",
    "  pt.cex = 1.3, \n",
    "  cex = 1.2, \n",
    "  text.col = \"black\", \n",
    "  horiz = F , \n",
    "  inset = c(0.1, 0.1))\n"
   ]
  }
 ],
 "metadata": {
  "colab": {
   "collapsed_sections": [],
   "name": "07_r-notebook-linear-penalized-regs.ipynb",
   "provenance": []
  },
  "jupytext": {
   "formats": "ipynb,auto:light"
  },
  "kernelspec": {
   "display_name": "R",
   "language": "R",
   "name": "ir"
  },
  "language_info": {
   "codemirror_mode": "r",
   "file_extension": ".r",
   "mimetype": "text/x-r-source",
   "name": "R",
   "pygments_lexer": "r",
   "version": "4.2.1"
  },
  "papermill": {
   "default_parameters": {},
   "duration": 131.424435,
   "end_time": "2022-02-18T14:00:30.479077",
   "environment_variables": {},
   "exception": null,
   "input_path": "__notebook__.ipynb",
   "output_path": "__notebook__.ipynb",
   "parameters": {},
   "start_time": "2022-02-18T13:58:19.054642",
   "version": "2.2.2"
  }
 },
 "nbformat": 4,
 "nbformat_minor": 4
}
