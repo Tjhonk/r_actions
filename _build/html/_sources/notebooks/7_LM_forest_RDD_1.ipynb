{
 "cells": [
  {
   "cell_type": "markdown",
   "id": "4b45f52f",
   "metadata": {},
   "source": [
    "# LM Forest RDD\n",
    "\n",
    "\n",
    "Trains a linear model forest that can be used to estimate $h_k(x), k=1,...,k$  at $X=x$ in the the conditional linear model $Y = c(x) + h_1(x)W_1 + ... + h_k(x)W_k$, where Y is a (potentially vector-valued) response and W a set of regressors."
   ]
  },
  {
   "cell_type": "code",
   "execution_count": 1,
   "id": "964e6ade",
   "metadata": {},
   "outputs": [],
   "source": [
    "# Deleting all current variables\n",
    "rm(list=ls())"
   ]
  },
  {
   "cell_type": "code",
   "execution_count": 3,
   "id": "9f0b18b6",
   "metadata": {},
   "outputs": [],
   "source": [
    "library(rdd)\n",
    "library(grf)"
   ]
  },
  {
   "cell_type": "markdown",
   "id": "ddfb62ed",
   "metadata": {},
   "source": [
    "This is an example how to use lm_forest.\n",
    "\n",
    "link [lm_forest](https://grf-labs.github.io/grf/reference/lm_forest.html#references)"
   ]
  },
  {
   "cell_type": "code",
   "execution_count": 4,
   "id": "d0b850bb",
   "metadata": {},
   "outputs": [
    {
     "data": {
      "image/png": "[encoded data removed]",
      "text/plain": [
       "plot without title"
      ]
     },
     "metadata": {
      "image/png": {
       "height": 420,
       "width": 420
      }
     },
     "output_type": "display_data"
    }
   ],
   "source": [
    "# \\donttest{\n",
    "if (require(\"rdd\", quietly = TRUE)) {\n",
    "# Train a LM Forest to estimate CATEs in a regression discontinuity design.\n",
    "# Simulate a simple example with a heterogeneous jump in the CEF.\n",
    "n <- 2000\n",
    "p <- 5\n",
    "X <- matrix(rnorm(n * p), n, p)\n",
    "Z <- runif(n, -4, 4)\n",
    "cutoff <- 0\n",
    "W <- as.numeric(Z >= cutoff)\n",
    "tau <- pmax(0.5 * X[, 1], 0)\n",
    "Y <- tau * W  + 1 / (1 + exp(2 * Z)) + 0.2 * rnorm(n)\n",
    "\n",
    "# Compute the Imbens-Kalyanaraman MSE-optimal bandwidth for a local linear regression.\n",
    "bandwidth <- IKbandwidth(Z, Y, cutoff)\n",
    "# Compute kernel weights for a triangular kernel.\n",
    "sample.weights <- kernelwts(Z, cutoff, bandwidth, \"triangular\")\n",
    "\n",
    "# Alternatively, specify bandwith and triangular kernel weights without using the `rdd` package.\n",
    "# bandwidth <- # user can hand-specify this.\n",
    "# dist <- abs((Z - cutoff) / bandwidth)\n",
    "# sample.weights <- (1 - dist) * (dist <= 1) / bandwidth\n",
    "\n",
    "# Estimate a local linear regression with the running variable Z conditional on covariates X = x:\n",
    "# Y = c(x) + tau(x) W + b(x) Z.\n",
    "# Specify gradient.weights = c(1, 0) to target heterogeneity in the RDD coefficient tau(x).\n",
    "# Also, fit forest on subset with non-zero weights for faster estimation.\n",
    "subset <- sample.weights > 0\n",
    "lmf <- lm_forest(X[subset, ], Y[subset], cbind(W, Z)[subset, ],\n",
    "                 sample.weights = sample.weights[subset], gradient.weights = c(1, 0))\n",
    "tau.hat <- predict(lmf)$predictions[, 1, ]\n",
    "\n",
    "# Plot estimated tau(x) vs simulated ground truth.\n",
    "plot(X[subset, 1], tau.hat)\n",
    "points(X[subset, 1], tau[subset], col = \"red\", cex = 0.1)\n",
    "}#> \n",
    "#> Attaching package: ‘zoo’#> The following objects are masked from ‘package:base’:\n",
    "#> \n",
    "#>     as.Date, as.Date.numeric# }"
   ]
  },
  {
   "cell_type": "markdown",
   "id": "1d284b4c-7206-46d3-b239-c7b2c9efca3e",
   "metadata": {},
   "source": [
    " ## Aplication Causal Forest RDD to following paper titled \"Do Voters Affect or Elect Policies: Evidence from the u.s. House.\"\n",
    "\n",
    "link [Mixtape](https://mixtape.scunning.com/06-regression_discontinuity)"
   ]
  },
  {
   "cell_type": "code",
   "execution_count": 5,
   "id": "2fd374d4",
   "metadata": {},
   "outputs": [
    {
     "name": "stderr",
     "output_type": "stream",
     "text": [
      "Warning message:\n",
      "\"package 'haven' was built under R version 4.2.1\"\n",
      "Warning message:\n",
      "\"package 'estimatr' was built under R version 4.2.1\"\n",
      "Warning message:\n",
      "\"package 'rockchalk' was built under R version 4.2.1\"\n"
     ]
    }
   ],
   "source": [
    "#First we call the necessary librarieslibrary(tidyverse)\n",
    "library(haven)\n",
    "library(estimatr)\n",
    "library(rockchalk)\n",
    "library(ggplot2)\n",
    "\n",
    "# Read in data\n",
    "read_data <- function(df)\n",
    "{\n",
    "  full_path <- paste(\"https://raw.github.com/scunning1975/mixtape/master/\", \n",
    "                     df, sep = \"\")\n",
    "  df <- read_dta(full_path)\n",
    "  return(df)\n",
    "}\n",
    "\n",
    "data <- read_data(\"lmb-data.dta\")\n",
    "\n",
    "# Define variables\n",
    "outcome = \"score\"\n",
    "covariates <- c(\"age\", \"realincome\", \"sex\", \"militaryservice\", \"secondaryeduc\")\n",
    "running = \"lagdemvoteshare\"\n",
    "treatment = \"W\""
   ]
  },
  {
   "cell_type": "code",
   "execution_count": 6,
   "id": "182192ec",
   "metadata": {},
   "outputs": [],
   "source": [
    "# Prepare dataset\n",
    "options(na.action='na.pass')\n",
    "cutoff <- 0.5\n",
    "fmla <- formula(paste0(\"~ 0 + \", paste0(covariates, collapse=\"+\")))\n",
    "Y <- as.matrix(data[, outcome])\n",
    "Z <- as.matrix(data[, running])\n",
    "X <- model.matrix(fmla, data)\n",
    "W <- as.numeric(Z >= cutoff)\n",
    "data$W = W\n",
    "\n",
    "# Compute the Imbens-Kalyanaraman MSE-optimal bandwidth for a local linear regression.\n",
    "bandwidth <- IKbandwidth(Z, Y, cutoff)\n",
    "# Compute kernel weights for a triangular kernel.\n",
    "#sample.weights <- kernelwts(Z, cutoff, bandwidth, \"triangular\")\n",
    "\n",
    "# Alternatively, specify bandwith and triangular kernel weights without using the `rdd` package.\n",
    "# bandwidth <- # user can hand-specify this.\n",
    "dist <- abs((Z - cutoff) / bandwidth)\n",
    "sample.weights <- (1 - dist) * (dist <= 1) / bandwidth\n",
    "sample.weights[is.na(sample.weights)] <- 0\n",
    "\n",
    "# Estimate a local linear regression with the running variable Z conditional on covariates X = x:\n",
    "# Y = c(x) + tau(x) W + b(x) Z.\n",
    "# Specify gradient.weights = c(1, 0) to target heterogeneity in the RDD coefficient tau(x).\n",
    "# Also, fit forest on subset with non-zero weights for faster estimation.\n",
    "subset <- sample.weights > 0\n",
    "#subset <- ! is.na(subset)\n",
    "\n",
    "lmf <- lm_forest(X[subset, ], Y[subset], cbind(W, Z)[subset, ],\n",
    "                 sample.weights = sample.weights[subset], gradient.weights = c(1, 0))\n",
    "\n",
    "tau.hat <- predict(lmf)$predictions[,1,]"
   ]
  },
  {
   "cell_type": "markdown",
   "id": "eb49a23d-c829-4b95-a442-e8d8a34a0c2d",
   "metadata": {},
   "source": [
    "The function lm_forest from the package grf allows us to get estimates of the CATE"
   ]
  },
  {
   "cell_type": "code",
   "execution_count": 7,
   "id": "fccb7fe7",
   "metadata": {},
   "outputs": [
    {
     "data": {
      "image/png": "[encoded data removed]",
      "text/plain": [
       "Plot with title \"CATE estimates\""
      ]
     },
     "metadata": {
      "image/png": {
       "height": 420,
       "width": 420
      }
     },
     "output_type": "display_data"
    }
   ],
   "source": [
    "# Do not use this for assessing heterogeneity. See text above.\n",
    "hist(tau.hat, main=\"CATE estimates\", freq=F)"
   ]
  },
  {
   "cell_type": "markdown",
   "id": "398884e6-f22f-458a-9a18-cf37114fdf62",
   "metadata": {},
   "source": [
    "The grf package also produces a measure of variable importance that indicates how often a variable was used in a tree split. Again, much like the histogram above, this can be a rough diagnostic, but it should not be interpreted as indicating that, for example, variable with low importance is not related to heterogeneity. The reasoning is the same as the one presented in the causal trees section: if two covariates are highly correlated, the trees might split on one covariate but not the other, even though both (or maybe neither) are relevant in the true data-generating process."
   ]
  },
  {
   "cell_type": "code",
   "execution_count": 8,
   "id": "b3d34c5c",
   "metadata": {},
   "outputs": [
    {
     "data": {
      "text/html": [
       "<style>\n",
       ".dl-inline {width: auto; margin:0; padding: 0}\n",
       ".dl-inline>dt, .dl-inline>dd {float: none; width: auto; display: inline-block}\n",
       ".dl-inline>dt::after {content: \":\\0020\"; padding-right: .5ex}\n",
       ".dl-inline>dt:not(:first-of-type) {padding-left: .5ex}\n",
       "</style><dl class=dl-inline><dt>age</dt><dd>0.596388822158648</dd><dt>realincome</dt><dd>0.302295211407216</dd><dt>militaryservice</dt><dd>0.0476509229311444</dd><dt>secondaryeduc</dt><dd>0.0448042135234921</dd><dt>sex</dt><dd>0.00886082997949948</dd></dl>\n"
      ],
      "text/latex": [
       "\\begin{description*}\n",
       "\\item[age] 0.596388822158648\n",
       "\\item[realincome] 0.302295211407216\n",
       "\\item[militaryservice] 0.0476509229311444\n",
       "\\item[secondaryeduc] 0.0448042135234921\n",
       "\\item[sex] 0.00886082997949948\n",
       "\\end{description*}\n"
      ],
      "text/markdown": [
       "age\n",
       ":   0.596388822158648realincome\n",
       ":   0.302295211407216militaryservice\n",
       ":   0.0476509229311444secondaryeduc\n",
       ":   0.0448042135234921sex\n",
       ":   0.00886082997949948\n",
       "\n"
      ],
      "text/plain": [
       "            age      realincome militaryservice   secondaryeduc             sex \n",
       "     0.59638882      0.30229521      0.04765092      0.04480421      0.00886083 "
      ]
     },
     "metadata": {},
     "output_type": "display_data"
    }
   ],
   "source": [
    "var_imp <- c(variable_importance(lmf))\n",
    "names(var_imp) <- covariates\n",
    "sorted_var_imp <- sort(var_imp, decreasing = TRUE)\n",
    "sorted_var_imp[1:5]  # showing only first few"
   ]
  },
  {
   "cell_type": "markdown",
   "id": "1e59c839-dbd2-4194-bbdf-db12b1678a0d",
   "metadata": {},
   "source": [
    "## Data-driven subgroups"
   ]
  },
  {
   "cell_type": "code",
   "execution_count": 9,
   "id": "b3f6fb86",
   "metadata": {},
   "outputs": [],
   "source": [
    "# Valid randomized data and observational data with unconfoundedness+overlap.\n",
    "# Note: read the comments below carefully. \n",
    "# In randomized settings, do not estimate forest.e and e.hat; use known assignment probs.\n",
    "\n",
    "# Prepare dataset\n",
    "#fmla <- formula(paste0(\"~ 0 + \", paste0(covariates, collapse=\"+\")))\n",
    "#X <- model.matrix(fmla, data)\n",
    "#W <- data[,treatment]\n",
    "#Y <- data[,outcome]\n",
    "\n",
    "# Number of rankings that the predictions will be ranking on \n",
    "# (e.g., 2 for above/below median estimated CATE, 5 for estimated CATE quintiles, etc.)\n",
    "n = nrow(X[subset, ])\n",
    "\n",
    "num.rankings <- 5  \n",
    "\n",
    "# Prepare for data.splitting\n",
    "# Assign a fold number to each observation.\n",
    "# The argument 'clusters' in the next step will mimick K-fold cross-fitting.\n",
    "num.folds <- 10\n",
    "folds <- sort(seq(n) %% num.folds) + 1\n",
    "# Comment or uncomment depending on your setting.\n",
    "# Observational setting with unconfoundedness+overlap (unknown assignment probs):\n",
    "# forest <- causal_forest(X, Y, W, clusters = folds)\n",
    "# Randomized settings with fixed and known probabilities (here: 0.5).\n",
    "#forest <- causal_forest(X, Y, W, W.hat=.5, clusters = folds)\n",
    "\n",
    "lmf <- lm_forest(X[subset, ], Y[subset], cbind(W, Z)[subset, ], clusters = folds,\n",
    "                 sample.weights = sample.weights[subset], gradient.weights = c(1, 0))\n",
    "\n",
    "# Rank observations *within each fold* into quintiles according to their CATE predictions.\n",
    "ranking <- rep(NA, n)\n",
    "for (fold in seq(num.folds)) {\n",
    "  tau.hat.quantiles <- quantile(tau.hat[folds == fold], probs = seq(0, 1, by=1/num.rankings))\n",
    "  ranking[folds == fold] <- cut(tau.hat[folds == fold], tau.hat.quantiles, include.lowest=TRUE,labels=seq(num.rankings))\n",
    "}"
   ]
  },
  {
   "cell_type": "markdown",
   "id": "6ffb1ce9-e6d5-4552-86bb-1eea92d5a241",
   "metadata": {},
   "source": [
    "The next snippet computes the average treatment effect within each group defined above, i.e., $\\mathbf{E}[Y_i(1) - Y_i(0)|G_i = g]$. This can done in two ways. First, by computing a simple difference-in-means estimate of the ATE based on observations within each group. This is valid only in randomized settings."
   ]
  },
  {
   "cell_type": "code",
   "execution_count": 10,
   "id": "e663f380",
   "metadata": {},
   "outputs": [],
   "source": [
    "#Since the ranking vector was created from tau.hat, which has rows equal to nrows of X[subset,] ...\n",
    "# .. we need data with nrows iqual to X[subset] rows\n",
    "newdata = data[subset,]"
   ]
  },
  {
   "cell_type": "code",
   "execution_count": 11,
   "id": "12d1ed52",
   "metadata": {},
   "outputs": [
    {
     "data": {
      "text/html": [
       "<table class=\"dataframe\">\n",
       "<caption>A data.frame: 5 × 4</caption>\n",
       "<thead>\n",
       "\t<tr><th scope=col>method</th><th scope=col>ranking</th><th scope=col>estimate</th><th scope=col>std.err</th></tr>\n",
       "\t<tr><th scope=col>&lt;chr&gt;</th><th scope=col>&lt;chr&gt;</th><th scope=col>&lt;dbl&gt;</th><th scope=col>&lt;dbl&gt;</th></tr>\n",
       "</thead>\n",
       "<tbody>\n",
       "\t<tr><td>ols</td><td>Q1</td><td>16.86639</td><td>1.741709</td></tr>\n",
       "\t<tr><td>ols</td><td>Q2</td><td>25.38157</td><td>1.649339</td></tr>\n",
       "\t<tr><td>ols</td><td>Q3</td><td>34.00134</td><td>1.530182</td></tr>\n",
       "\t<tr><td>ols</td><td>Q4</td><td>36.68675</td><td>1.556861</td></tr>\n",
       "\t<tr><td>ols</td><td>Q5</td><td>44.62000</td><td>1.363089</td></tr>\n",
       "</tbody>\n",
       "</table>\n"
      ],
      "text/latex": [
       "A data.frame: 5 × 4\n",
       "\\begin{tabular}{llll}\n",
       " method & ranking & estimate & std.err\\\\\n",
       " <chr> & <chr> & <dbl> & <dbl>\\\\\n",
       "\\hline\n",
       "\t ols & Q1 & 16.86639 & 1.741709\\\\\n",
       "\t ols & Q2 & 25.38157 & 1.649339\\\\\n",
       "\t ols & Q3 & 34.00134 & 1.530182\\\\\n",
       "\t ols & Q4 & 36.68675 & 1.556861\\\\\n",
       "\t ols & Q5 & 44.62000 & 1.363089\\\\\n",
       "\\end{tabular}\n"
      ],
      "text/markdown": [
       "\n",
       "A data.frame: 5 × 4\n",
       "\n",
       "| method &lt;chr&gt; | ranking &lt;chr&gt; | estimate &lt;dbl&gt; | std.err &lt;dbl&gt; |\n",
       "|---|---|---|---|\n",
       "| ols | Q1 | 16.86639 | 1.741709 |\n",
       "| ols | Q2 | 25.38157 | 1.649339 |\n",
       "| ols | Q3 | 34.00134 | 1.530182 |\n",
       "| ols | Q4 | 36.68675 | 1.556861 |\n",
       "| ols | Q5 | 44.62000 | 1.363089 |\n",
       "\n"
      ],
      "text/plain": [
       "  method ranking estimate std.err \n",
       "1 ols    Q1      16.86639 1.741709\n",
       "2 ols    Q2      25.38157 1.649339\n",
       "3 ols    Q3      34.00134 1.530182\n",
       "4 ols    Q4      36.68675 1.556861\n",
       "5 ols    Q5      44.62000 1.363089"
      ]
     },
     "metadata": {},
     "output_type": "display_data"
    }
   ],
   "source": [
    "# Average difference-in-means within each ranking\n",
    "\n",
    "# Formula y ~ 0 + ranking + ranking:w\n",
    "fmla <- paste0(outcome, \" ~ 0 + ranking + ranking:\", treatment)\n",
    "ols.ate <- lm(fmla, data=transform(newdata, ranking=factor(ranking)))\n",
    "ols.ate <- coeftest(ols.ate, vcov=vcovHC(ols.ate, type='HC2'))\n",
    "interact <- which(grepl(\":\", rownames(ols.ate)))\n",
    "ols.ate <- data.frame(\"ols\", paste0(\"Q\", seq(num.rankings)), ols.ate[interact, 1:2])\n",
    "rownames(ols.ate) <- NULL # just for display\n",
    "colnames(ols.ate) <- c(\"method\", \"ranking\", \"estimate\", \"std.err\")\n",
    "ols.ate"
   ]
  },
  {
   "cell_type": "markdown",
   "id": "7e53937a-dd5f-43e5-8a7a-ae5abe8ca5c4",
   "metadata": {},
   "source": [
    "The code below plots the estimates."
   ]
  },
  {
   "cell_type": "code",
   "execution_count": 12,
   "id": "b7dadec9",
   "metadata": {},
   "outputs": [
    {
     "ename": "ERROR",
     "evalue": "Error in ggplot(res): no se pudo encontrar la función \"ggplot\"\n",
     "output_type": "error",
     "traceback": [
      "Error in ggplot(res): no se pudo encontrar la función \"ggplot\"\nTraceback:\n"
     ]
    }
   ],
   "source": [
    "# Concatenate the two results.\n",
    "res <- rbind(ols.ate)\n",
    "\n",
    "# Plotting the point estimate of average treatment effect \n",
    "# and 95% confidence intervals around it.\n",
    "ggplot(res) +\n",
    "  aes(x = ranking, y = estimate, group=method, color=method) + \n",
    "  geom_point(position=position_dodge(0.2)) +\n",
    "  geom_errorbar(aes(ymin=estimate-2*std.err, ymax=estimate+2*std.err), width=.2, position=position_dodge(0.2)) +\n",
    "  ylab(\"\") + xlab(\"\") +\n",
    "  ggtitle(\"Average CATE within each ranking (as defined by predicted CATE)\") +\n",
    "  theme_minimal() +\n",
    "  theme(legend.position=\"bottom\", legend.title = element_blank())"
   ]
  },
  {
   "cell_type": "markdown",
   "id": "79a59b42-1baa-449c-af4e-8fd5ae63c5e2",
   "metadata": {},
   "source": [
    "Next, we can test e.g., if the prediction for groups 2, 3, etc. are larger than the one in the first group. Here’s how to do it based on a difference-in-means estimator. Note the Romano-Wolf multiple-hypothesis testing correction."
   ]
  },
  {
   "cell_type": "code",
   "execution_count": 252,
   "id": "d50f1367-35cd-4740-9a7a-e567002d8397",
   "metadata": {},
   "outputs": [],
   "source": [
    "# Auxiliary function to computes adjusted p-values \n",
    "# following the Romano-Wolf method.\n",
    "# For a reference, see http://ftp.iza.org/dp12845.pdf page 8\n",
    "#  t.orig: vector of t-statistics from original model\n",
    "#  t.boot: matrix of t-statistics from bootstrapped models\n",
    "romano_wolf_correction <- function(t.orig, t.boot) {\n",
    "  abs.t.orig <- abs(t.orig)\n",
    "  abs.t.boot <- abs(t.boot)\n",
    "  abs.t.sorted <- sort(abs.t.orig, decreasing = TRUE)\n",
    "\n",
    "  max.order <- order(abs.t.orig, decreasing = TRUE)\n",
    "  rev.order <- order(max.order)\n",
    "\n",
    "  M <- nrow(t.boot)\n",
    "  S <- ncol(t.boot)\n",
    "\n",
    "  p.adj <- rep(0, S)\n",
    "  p.adj[1] <- mean(apply(abs.t.boot, 1, max) > abs.t.sorted[1])\n",
    "  for (s in seq(2, S)) {\n",
    "    cur.index <- max.order[s:S]\n",
    "    p.init <- mean(apply(abs.t.boot[, cur.index, drop=FALSE], 1, max) > abs.t.sorted[s])\n",
    "    p.adj[s] <- max(p.init, p.adj[s-1])\n",
    "  }\n",
    "  p.adj[rev.order]\n",
    "}\n",
    "\n",
    "# Computes adjusted p-values for linear regression (lm) models.\n",
    "#    model: object of lm class (i.e., a linear reg model)\n",
    "#    indices: vector of integers for the coefficients that will be tested\n",
    "#    cov.type: type of standard error (to be passed to sandwich::vcovHC)\n",
    "#    num.boot: number of null bootstrap samples. Increase to stabilize across runs.\n",
    "# Note: results are probabilitistic and may change slightly at every run. \n",
    "#\n",
    "# Adapted from the p_adjust from from the hdm package, written by Philipp Bach.\n",
    "# https://github.com/PhilippBach/hdm_prev/blob/master/R/p_adjust.R\n",
    "summary_rw_lm <- function(model, indices=NULL, cov.type=\"HC2\", num.boot=10000) {\n",
    "\n",
    "  if (is.null(indices)) {\n",
    "    indices <- 1:nrow(coef(summary(model)))\n",
    "  }\n",
    "  # Grab the original t values.\n",
    "  summary <- coef(summary(model))[indices,,drop=FALSE]\n",
    "  t.orig <- summary[, \"t value\"]\n",
    "\n",
    "  # Null resampling.\n",
    "  # This is a trick to speed up bootstrapping linear models.\n",
    "  # Here, we don't really need to re-fit linear regressions, which would be a bit slow.\n",
    "  # We know that betahat ~ N(beta, Sigma), and we have an estimate Sigmahat.\n",
    "  # So we can approximate \"null t-values\" by\n",
    "  #  - Draw beta.boot ~ N(0, Sigma-hat) --- note the 0 here, this is what makes it a *null* t-value.\n",
    "  #  - Compute t.boot = beta.boot / sqrt(diag(Sigma.hat))\n",
    "  Sigma.hat <- vcovHC(model, type=cov.type)[indices, indices]\n",
    "  se.orig <- sqrt(diag(Sigma.hat))\n",
    "  num.coef <- length(se.orig)\n",
    "  beta.boot <- mvrnorm(n=num.boot, mu=rep(0, num.coef), Sigma=Sigma.hat)\n",
    "  t.boot <- sweep(beta.boot, 2, se.orig, \"/\")\n",
    "  p.adj <- romano_wolf_correction(t.orig, t.boot)\n",
    "\n",
    "  result <- cbind(summary[,c(1,2,4),drop=F], p.adj)\n",
    "  colnames(result) <- c('Estimate', 'Std. Error', 'Orig. p-value', 'Adj. p-value')\n",
    "  result\n",
    "}"
   ]
  },
  {
   "cell_type": "code",
   "execution_count": 253,
   "id": "acce39b9-8a5b-4bf5-84b2-13b117f137ca",
   "metadata": {},
   "outputs": [
    {
     "data": {
      "text/html": [
       "<table class=\"dataframe\">\n",
       "<caption>A matrix: 4 × 4 of type dbl</caption>\n",
       "<thead>\n",
       "\t<tr><th></th><th scope=col>Estimate</th><th scope=col>Std. Error</th><th scope=col>Orig. p-value</th><th scope=col>Adj. p-value</th></tr>\n",
       "</thead>\n",
       "<tbody>\n",
       "\t<tr><th scope=row>Rank 2 - Rank 1</th><td> 6.075643</td><td>1.569542</td><td>1.089134e-04</td><td>3e-04</td></tr>\n",
       "\t<tr><th scope=row>Rank 3 - Rank 1</th><td>11.959623</td><td>1.565654</td><td>2.340203e-14</td><td>0e+00</td></tr>\n",
       "\t<tr><th scope=row>Rank 4 - Rank 1</th><td>12.196804</td><td>1.568579</td><td>8.041885e-15</td><td>0e+00</td></tr>\n",
       "\t<tr><th scope=row>Rank 5 - Rank 1</th><td>15.265177</td><td>1.567347</td><td>2.421065e-22</td><td>0e+00</td></tr>\n",
       "</tbody>\n",
       "</table>\n"
      ],
      "text/latex": [
       "A matrix: 4 × 4 of type dbl\n",
       "\\begin{tabular}{r|llll}\n",
       "  & Estimate & Std. Error & Orig. p-value & Adj. p-value\\\\\n",
       "\\hline\n",
       "\tRank 2 - Rank 1 &  6.075643 & 1.569542 & 1.089134e-04 & 3e-04\\\\\n",
       "\tRank 3 - Rank 1 & 11.959623 & 1.565654 & 2.340203e-14 & 0e+00\\\\\n",
       "\tRank 4 - Rank 1 & 12.196804 & 1.568579 & 8.041885e-15 & 0e+00\\\\\n",
       "\tRank 5 - Rank 1 & 15.265177 & 1.567347 & 2.421065e-22 & 0e+00\\\\\n",
       "\\end{tabular}\n"
      ],
      "text/markdown": [
       "\n",
       "A matrix: 4 × 4 of type dbl\n",
       "\n",
       "| <!--/--> | Estimate | Std. Error | Orig. p-value | Adj. p-value |\n",
       "|---|---|---|---|---|\n",
       "| Rank 2 - Rank 1 |  6.075643 | 1.569542 | 1.089134e-04 | 3e-04 |\n",
       "| Rank 3 - Rank 1 | 11.959623 | 1.565654 | 2.340203e-14 | 0e+00 |\n",
       "| Rank 4 - Rank 1 | 12.196804 | 1.568579 | 8.041885e-15 | 0e+00 |\n",
       "| Rank 5 - Rank 1 | 15.265177 | 1.567347 | 2.421065e-22 | 0e+00 |\n",
       "\n"
      ],
      "text/plain": [
       "                Estimate  Std. Error Orig. p-value Adj. p-value\n",
       "Rank 2 - Rank 1  6.075643 1.569542   1.089134e-04  3e-04       \n",
       "Rank 3 - Rank 1 11.959623 1.565654   2.340203e-14  0e+00       \n",
       "Rank 4 - Rank 1 12.196804 1.568579   8.041885e-15  0e+00       \n",
       "Rank 5 - Rank 1 15.265177 1.567347   2.421065e-22  0e+00       "
      ]
     },
     "metadata": {},
     "output_type": "display_data"
    }
   ],
   "source": [
    "# y ~ ranking + w + ranking:w\n",
    "fmla <- paste0(outcome, \"~ ranking + \", treatment, \" + ranking:\", treatment) \n",
    "ols <- lm(fmla, data=transform(newdata, ranking=factor(ranking)))\n",
    "interact <- which(sapply(names(coef(ols)), function(x) grepl(\":\", x)))\n",
    "res <- summary_rw_lm(ols, indices=interact)\n",
    "rownames(res) <- paste(\"Rank\", 2:num.rankings, \"- Rank 1\") # just for display\n",
    "res"
   ]
  },
  {
   "cell_type": "markdown",
   "id": "db1218b4-71e0-4fac-abb5-778ee101660a",
   "metadata": {},
   "source": [
    "Finally, we can also check if different groups have different average covariate levels across rankings."
   ]
  },
  {
   "cell_type": "code",
   "execution_count": 254,
   "id": "01dc1ea5",
   "metadata": {},
   "outputs": [
    {
     "data": {
      "image/png": "[encoded data removed]",
      "text/plain": [
       "plot without title"
      ]
     },
     "metadata": {
      "image/png": {
       "height": 420,
       "width": 420
      }
     },
     "output_type": "display_data"
    }
   ],
   "source": [
    "df <- mapply(function(covariate) {\n",
    "      # Looping over covariate names\n",
    "      # Compute average covariate value per ranking (with correct standard errors)\n",
    "      fmla <- formula(paste0(covariate, \"~ 0 + ranking\"))\n",
    "      ols <- lm(fmla, data=transform(newdata, ranking=factor(ranking)), na.action=na.exclude)\n",
    "      ols.res <- coeftest(ols, vcov=vcovHC(ols, \"HC2\"))\n",
    "    \n",
    "      # Retrieve results\n",
    "      avg <- ols.res[,1]\n",
    "      stderr <- ols.res[,2]\n",
    "      \n",
    "      # Tally up results\n",
    "      data.frame(covariate, avg, stderr, ranking=paste0(\"Q\", seq(num.rankings)), \n",
    "                 # Used for coloring\n",
    "                 scaling=pnorm((avg - mean(avg))/sd(avg)), \n",
    "                 # We will order based on how much variation is 'explain' by the averages\n",
    "                 # relative to the total variation of the covariate in the data\n",
    "                 variation=sd(avg) / sd(as.numeric(unlist(newdata[,covariate])), na.rm=TRUE),\n",
    "                 # String to print in each cell in heatmap below\n",
    "                 labels=paste0(signif(avg, 3), \"\\n\", \"(\", signif(stderr, 3), \")\"))\n",
    "}, covariates, SIMPLIFY = FALSE)\n",
    "df <- do.call(rbind, df)\n",
    "\n",
    "# a small optional trick to ensure heatmap will be in decreasing order of 'variation'\n",
    "df$covariate <- reorder(df$covariate, order(df$variation))\n",
    "\n",
    "# plot heatmap\n",
    "ggplot(df) +\n",
    "    aes(ranking, covariate) +\n",
    "    geom_tile(aes(fill = scaling)) + \n",
    "    geom_text(aes(label = labels)) +\n",
    "    scale_fill_gradient(low = \"#E1BE6A\", high = \"#40B0A6\") +\n",
    "    ggtitle(paste0(\"Average covariate values within group (based on CATE estimate ranking)\")) +\n",
    "    theme_minimal() + \n",
    "    ylab(\"\") + xlab(\"CATE estimate ranking\") +\n",
    "    theme(plot.title = element_text(size = 11, face = \"bold\"),\n",
    "          axis.text=element_text(size=11)) "
   ]
  },
  {
   "cell_type": "markdown",
   "id": "b3c13f13",
   "metadata": {},
   "source": [
    "#### Partial dependence\n",
    "\n",
    "It may also be interesting to examine how our CATE estimates behave when we change a single covariate, while keeping all the other covariates at a some fixed value. In the plot below we evaluate a variable of interest across quantiles, while keeping all other covariates at their median. \n",
    "\n",
    "It is important to recognize that by keeping some variables at their median we may be evaluating the CATE at $x$ values in regions where there are few or no data points. Also, it may be the case that varying some particular variable while keeping others fixed may just not be very interesting.\n",
    "\n",
    "In what follows we'll again use `lm_forest` predictions, along with their variance estimates (set `estimate.variances=TRUE` when predicting to we get estimates of the asymptotic variance of the prediction for each point). Since `grf` predictions are asymptotically normal, we can construct 95\\% confidence intervals in the usual manner (i.e., $\\hat{\\tau}(x) \\pm 1.96\\sqrt{\\widehat{\\text{Var}}(\\hat{\\tau}(x))}$).\n"
   ]
  },
  {
   "cell_type": "code",
   "execution_count": 255,
   "id": "4b6c443a-2a9f-4af8-8af5-f3cb3ce81c47",
   "metadata": {},
   "outputs": [
    {
     "data": {
      "image/png": "[encoded data removed]",
      "text/plain": [
       "plot without title"
      ]
     },
     "metadata": {
      "image/png": {
       "height": 420,
       "width": 420
      }
     },
     "output_type": "display_data"
    }
   ],
   "source": [
    "selected.covariate <- \"age\"\n",
    "other.covariates <- covariates[which(covariates != selected.covariate)]\n",
    "\n",
    "# Fitting a forest \n",
    "# (commented for convenience; no need re-fit if already fitted above)\n",
    "fmla <- formula(paste0(\"~ 0 + \", paste0(covariates, collapse=\"+\")))\n",
    "# Note: For smaller confidence intervals, set num.trees ~ sample size\n",
    "# X <- model.matrix(fmla, data)\n",
    "# W <- data[,treatment]\n",
    "# Y <- data[,outcome]\n",
    "# forest.tau <- causal_forest(X, Y, W, W.hat=.5)  # few trees for speed here\n",
    "\n",
    "# Compute a grid of values appropriate for the selected covariate\n",
    "#grid.size <- 7 \n",
    "#covariate.grid <- seq(min(newdata[,selected.covariate]), max(newdata[,selected.covariate]), length.out=grid.size)\n",
    "\n",
    "# Other options for constructing a grid:\n",
    "# For a binary variable, simply use 0 and 1\n",
    "# grid.size <- 2\n",
    "# covariate.grid <- c(0, 1)  \n",
    "\n",
    "# For a continuous variable, select appropriate percentiles\n",
    "percentiles <- c(.1, .25, .5, .75, .9)\n",
    "grid.size <- length(percentiles)\n",
    "covariate.grid <- quantile(newdata[,selected.covariate], probs=percentiles, na.rm= TRUE)\n",
    "\n",
    "# Take median of other covariates \n",
    "medians <- apply(newdata[, other.covariates, F], 2, median, na.rm=TRUE)\n",
    "\n",
    "# Construct a dataset\n",
    "data.grid <- data.frame(sapply(medians, function(x) rep(x, grid.size)), covariate.grid)\n",
    "colnames(data.grid) <- c(other.covariates, selected.covariate)\n",
    "\n",
    "# Expand the data\n",
    "X.grid <- model.matrix(fmla, data.grid)\n",
    "\n",
    "# Point predictions of the CATE and standard errors \n",
    "forest.pred <- predict(lmf, newdata = X.grid, estimate.variance=TRUE)\n",
    "tau.hat <- forest.pred$predictions\n",
    "tau.hat.se <- sqrt(forest.pred$variance.estimates)\n",
    "\n",
    "# Plot predictions for each group and 95% confidence intervals around them.\n",
    "data.pred <- transform(data.grid, tau.hat=tau.hat, ci.low = tau.hat[,,1] - 2*tau.hat.se, ci.high = tau.hat[,,1] + 2*tau.hat.se)\n",
    "ggplot(data.pred) +\n",
    "  geom_line(aes_string(x=selected.covariate, y=\"tau.hat.W.Y.1\", group = 1), color=\"black\") +\n",
    "  geom_errorbar(aes_string(x=selected.covariate, ymin=\"ci.low.W\", ymax=\"ci.high.W\", width=.2), color=\"blue\") +\n",
    "   ylab(\"\")  +\n",
    "  ggtitle(paste0(\"Predicted treatment effect varying '\", selected.covariate, \"' (other variables fixed at median)\")) +\n",
    "  scale_x_continuous(\"age\", breaks=covariate.grid, labels=signif(covariate.grid, 2)) +\n",
    "  theme_minimal() +\n",
    "  theme(plot.title = element_text(size = 11, face = \"bold\"))"
   ]
  },
  {
   "cell_type": "markdown",
   "id": "9d4df710",
   "metadata": {},
   "source": [
    "## References\n",
    "\n",
    "Athey, Susan, Julie Tibshirani, and Stefan Wager. \"Generalized Random Forests\". Annals of Statistics, 47(2), 2019.\n",
    "\n",
    "Zeileis, Achim, Torsten Hothorn, and Kurt Hornik. \"Model-based Recursive Partitioning.\" Journal of Computational and Graphical Statistics 17(2), 2008."
   ]
  }
 ],
 "metadata": {
  "kernelspec": {
   "display_name": "R",
   "language": "R",
   "name": "ir"
  },
  "language_info": {
   "codemirror_mode": "r",
   "file_extension": ".r",
   "mimetype": "text/x-r-source",
   "name": "R",
   "pygments_lexer": "r",
   "version": "4.2.0"
  }
 },
 "nbformat": 4,
 "nbformat_minor": 5
}
