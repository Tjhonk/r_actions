{
 "cells": [
  {
   "cell_type": "markdown",
   "metadata": {
    "id": "_MgWGCl3bWnH",
    "papermill": {
     "duration": 0.005613,
     "end_time": "2021-01-21T13:24:23.482240",
     "exception": false,
     "start_time": "2021-01-21T13:24:23.476627",
     "status": "completed"
    },
    "tags": []
   },
   "source": [
    "# Collider Bias"
   ]
  },
  {
   "cell_type": "markdown",
   "metadata": {
    "id": "jctCtlXbbWnK",
    "papermill": {
     "duration": 0.004596,
     "end_time": "2021-01-21T13:24:23.491748",
     "exception": false,
     "start_time": "2021-01-21T13:24:23.487152",
     "status": "completed"
    },
    "tags": []
   },
   "source": [
    "Here is a simple mnemonic example to illustate the collider or M-bias. \n",
    "\n",
    "Here the idea is that people who get to Hollywood have to have high congenility = talent + beauty.  Funnily enough this induces a negative correlation between talents and looks, when we condition on the set of actors or celebrities.  This simple example explains an anecdotal observation that \"talent and beaty are negatively correlated\" for celebrities.  "
   ]
  },
  {
   "cell_type": "code",
   "execution_count": 1,
   "metadata": {
    "execution": {
     "iopub.execute_input": "2021-01-21T13:24:23.534905Z",
     "iopub.status.busy": "2021-01-21T13:24:23.532354Z",
     "iopub.status.idle": "2021-01-21T13:24:40.500257Z",
     "shell.execute_reply": "2021-01-21T13:24:40.498708Z"
    },
    "executionInfo": {
     "elapsed": 316,
     "status": "ok",
     "timestamp": 1658253708754,
     "user": {
      "displayName": "Jhon Kevin Flores Rojas",
      "userId": "10267608749788811245"
     },
     "user_tz": 300
    },
    "id": "CidNgcmmbWnN",
    "papermill": {
     "duration": 17.004212,
     "end_time": "2021-01-21T13:24:40.500575",
     "exception": false,
     "start_time": "2021-01-21T13:24:23.496363",
     "status": "completed"
    },
    "tags": []
   },
   "outputs": [
    {
     "name": "stderr",
     "output_type": "stream",
     "text": [
      "Installing package into ‘/home/runner/work/_temp/Library’\n",
      "(as ‘lib’ is unspecified)\n",
      "\n"
     ]
    }
   ],
   "source": [
    "install.packages(\"dagitty\")\n",
    "library(dagitty)"
   ]
  },
  {
   "cell_type": "code",
   "execution_count": 2,
   "metadata": {
    "colab": {
     "base_uri": "https://localhost:8080/",
     "height": 472
    },
    "execution": {
     "iopub.execute_input": "2021-01-21T13:24:40.571713Z",
     "iopub.status.busy": "2021-01-21T13:24:40.516256Z",
     "iopub.status.idle": "2021-01-21T13:24:41.036210Z",
     "shell.execute_reply": "2021-01-21T13:24:41.034407Z"
    },
    "executionInfo": {
     "elapsed": 15,
     "status": "ok",
     "timestamp": 1658253709110,
     "user": {
      "displayName": "Jhon Kevin Flores Rojas",
      "userId": "10267608749788811245"
     },
     "user_tz": 300
    },
    "id": "LCuP7QkKbWnS",
    "outputId": "2929dcdc-9238-48f9-8916-000c5e2f1f0a",
    "papermill": {
     "duration": 0.529339,
     "end_time": "2021-01-21T13:24:41.036392",
     "exception": false,
     "start_time": "2021-01-21T13:24:40.507053",
     "status": "completed"
    },
    "tags": []
   },
   "outputs": [
    {
     "name": "stderr",
     "output_type": "stream",
     "text": [
      "Plot coordinates for graph not supplied! Generating coordinates, see ?coordinates for how to set your own.\n",
      "\n"
     ]
    },
    {
     "data": {
      "image/png": "[encoded data removed]",
      "text/plain": [
       "plot without title"
      ]
     },
     "metadata": {
      "filenames": {
       "image/png": "/home/runner/work/r_actions/r_actions/_build/jupyter_execute/r_notebooks/12_r-colliderbias-hollywood_3_1.png"
      },
      "image/png": {
       "height": 420,
       "width": 420
      }
     },
     "output_type": "display_data"
    }
   ],
   "source": [
    "g <- dagitty( \"dag{ T -> C <- B }\" )\n",
    "plot(g)"
   ]
  },
  {
   "cell_type": "code",
   "execution_count": 3,
   "metadata": {
    "_cell_guid": "b1076dfc-b9ad-4769-8c92-a6c4dae69d19",
    "_uuid": "8f2839f25d086af736a60e9eeb907d3b93b6e0e5",
    "colab": {
     "base_uri": "https://localhost:8080/",
     "height": 937
    },
    "execution": {
     "iopub.execute_input": "2021-01-21T13:24:41.056355Z",
     "iopub.status.busy": "2021-01-21T13:24:41.054585Z",
     "iopub.status.idle": "2021-01-21T13:24:44.083279Z",
     "shell.execute_reply": "2021-01-21T13:24:44.082075Z"
    },
    "executionInfo": {
     "elapsed": 2634,
     "status": "ok",
     "timestamp": 1658253711734,
     "user": {
      "displayName": "Jhon Kevin Flores Rojas",
      "userId": "10267608749788811245"
     },
     "user_tz": 300
    },
    "id": "48S27D6pbWnT",
    "outputId": "c27c5b4e-177f-48f0-f116-bc4fd76f5fc9",
    "papermill": {
     "duration": 3.040016,
     "end_time": "2021-01-21T13:24:44.083514",
     "exception": false,
     "start_time": "2021-01-21T13:24:41.043498",
     "status": "completed"
    },
    "tags": []
   },
   "outputs": [
    {
     "data": {
      "text/plain": [
       "\n",
       "Call:\n",
       "lm(formula = T ~ B)\n",
       "\n",
       "Residuals:\n",
       "    Min      1Q  Median      3Q     Max \n",
       "-4.8970 -0.6734 -0.0008  0.6748  4.8049 \n",
       "\n",
       "Coefficients:\n",
       "             Estimate Std. Error t value Pr(>|t|)\n",
       "(Intercept) 0.0007913  0.0009990   0.792    0.428\n",
       "B           0.0012579  0.0009990   1.259    0.208\n",
       "\n",
       "Residual standard error: 0.999 on 999998 degrees of freedom\n",
       "Multiple R-squared:  1.585e-06,\tAdjusted R-squared:  5.854e-07 \n",
       "F-statistic: 1.585 on 1 and 999998 DF,  p-value: 0.208\n"
      ]
     },
     "metadata": {},
     "output_type": "display_data"
    },
    {
     "data": {
      "text/plain": [
       "\n",
       "Call:\n",
       "lm(formula = T ~ B + C)\n",
       "\n",
       "Residuals:\n",
       "    Min      1Q  Median      3Q     Max \n",
       "-3.2564 -0.4760  0.0005  0.4765  3.3179 \n",
       "\n",
       "Coefficients:\n",
       "              Estimate Std. Error  t value Pr(>|t|)    \n",
       "(Intercept)  0.0004564  0.0007067    0.646    0.518    \n",
       "B           -0.4992045  0.0008661 -576.396   <2e-16 ***\n",
       "C            0.4993691  0.0004997  999.386   <2e-16 ***\n",
       "---\n",
       "Signif. codes:  0 ‘***’ 0.001 ‘**’ 0.01 ‘*’ 0.05 ‘.’ 0.1 ‘ ’ 1\n",
       "\n",
       "Residual standard error: 0.7067 on 999997 degrees of freedom\n",
       "Multiple R-squared:  0.4997,\tAdjusted R-squared:  0.4997 \n",
       "F-statistic: 4.994e+05 on 2 and 999997 DF,  p-value: < 2.2e-16\n"
      ]
     },
     "metadata": {},
     "output_type": "display_data"
    },
    {
     "data": {
      "text/plain": [
       "\n",
       "Call:\n",
       "lm(formula = T.H ~ B.H)\n",
       "\n",
       "Residuals:\n",
       "    Min      1Q  Median      3Q     Max \n",
       "-3.9372 -0.5844 -0.0201  0.5641  4.4739 \n",
       "\n",
       "Coefficients:\n",
       "            Estimate Std. Error t value Pr(>|t|)    \n",
       "(Intercept)  0.58542    0.00136   430.4   <2e-16 ***\n",
       "B.H         -0.27052    0.00136  -198.9   <2e-16 ***\n",
       "---\n",
       "Signif. codes:  0 ‘***’ 0.001 ‘**’ 0.01 ‘*’ 0.05 ‘.’ 0.1 ‘ ’ 1\n",
       "\n",
       "Residual standard error: 0.8539 on 500288 degrees of freedom\n",
       "Multiple R-squared:  0.07328,\tAdjusted R-squared:  0.07328 \n",
       "F-statistic: 3.956e+04 on 1 and 500288 DF,  p-value: < 2.2e-16\n"
      ]
     },
     "metadata": {},
     "output_type": "display_data"
    }
   ],
   "source": [
    "#collider bias\n",
    "n=1000000\n",
    "T = rnorm(n)   #talent\n",
    "B = rnorm(n)   #beaty\n",
    "C = T+B + rnorm(n) #congeniality\n",
    "T.H= subset(T, C>0) # condition on C>0\n",
    "B.H= subset(B, C>0) # condition on C>0\n",
    "\n",
    "summary(lm(T~ B))  #regression of T on B\n",
    "summary(lm(T~ B +C)) #regression of T on B and C\n",
    "summary(lm(T.H~ B.H)) #regression of T on B, conditional on C>0."
   ]
  },
  {
   "cell_type": "markdown",
   "metadata": {
    "id": "cknUMwWBbWnV",
    "papermill": {
     "duration": 0.008327,
     "end_time": "2021-01-21T13:24:44.101113",
     "exception": false,
     "start_time": "2021-01-21T13:24:44.092786",
     "status": "completed"
    },
    "tags": []
   },
   "source": [
    "We can also use package Dagitty to illustrate collider bias, also known as M-bias."
   ]
  },
  {
   "cell_type": "code",
   "execution_count": 4,
   "metadata": {
    "_cell_guid": "79c7e3d0-c299-4dcb-8224-4455121ee9b0",
    "_uuid": "d629ff2d2480ee46fbb7e2d37f6b5fab8052498a",
    "colab": {
     "base_uri": "https://localhost:8080/",
     "height": 69
    },
    "execution": {
     "iopub.execute_input": "2021-01-21T13:24:44.122836Z",
     "iopub.status.busy": "2021-01-21T13:24:44.121751Z",
     "iopub.status.idle": "2021-01-21T13:24:44.201798Z",
     "shell.execute_reply": "2021-01-21T13:24:44.200074Z"
    },
    "executionInfo": {
     "elapsed": 19,
     "status": "ok",
     "timestamp": 1658253711736,
     "user": {
      "displayName": "Jhon Kevin Flores Rojas",
      "userId": "10267608749788811245"
     },
     "user_tz": 300
    },
    "id": "1RjyK08VbWnX",
    "outputId": "6b01f939-bd6d-4860-c66e-e6a16d83f9a6",
    "papermill": {
     "duration": 0.09231,
     "end_time": "2021-01-21T13:24:44.201974",
     "exception": false,
     "start_time": "2021-01-21T13:24:44.109664",
     "status": "completed"
    },
    "tags": []
   },
   "outputs": [
    {
     "data": {
      "text/plain": [
       " {}"
      ]
     },
     "metadata": {},
     "output_type": "display_data"
    },
    {
     "data": {
      "text/html": [
       "<style>\n",
       ".dl-inline {width: auto; margin:0; padding: 0}\n",
       ".dl-inline>dt, .dl-inline>dd {float: none; width: auto; display: inline-block}\n",
       ".dl-inline>dt::after {content: \":\\0020\"; padding-right: .5ex}\n",
       ".dl-inline>dt:not(:first-of-type) {padding-left: .5ex}\n",
       "</style><dl class=dl-inline><dt>2.5 %</dt><dd>-0.155247533430404</dd><dt>97.5 %</dt><dd>0.03313395275442</dd></dl>\n"
      ],
      "text/latex": [
       "\\begin{description*}\n",
       "\\item[2.5 \\textbackslash{}\\%] -0.155247533430404\n",
       "\\item[97.5 \\textbackslash{}\\%] 0.03313395275442\n",
       "\\end{description*}\n"
      ],
      "text/markdown": [
       "2.5 %\n",
       ":   -0.15524753343040497.5 %\n",
       ":   0.03313395275442\n",
       "\n"
      ],
      "text/plain": [
       "      2.5 %      97.5 % \n",
       "-0.15524753  0.03313395 "
      ]
     },
     "metadata": {},
     "output_type": "display_data"
    },
    {
     "data": {
      "text/html": [
       "<style>\n",
       ".dl-inline {width: auto; margin:0; padding: 0}\n",
       ".dl-inline>dt, .dl-inline>dd {float: none; width: auto; display: inline-block}\n",
       ".dl-inline>dt::after {content: \":\\0020\"; padding-right: .5ex}\n",
       ".dl-inline>dt:not(:first-of-type) {padding-left: .5ex}\n",
       "</style><dl class=dl-inline><dt>2.5 %</dt><dd>-0.484023065319557</dd><dt>97.5 %</dt><dd>-0.309425068964957</dd></dl>\n"
      ],
      "text/latex": [
       "\\begin{description*}\n",
       "\\item[2.5 \\textbackslash{}\\%] -0.484023065319557\n",
       "\\item[97.5 \\textbackslash{}\\%] -0.309425068964957\n",
       "\\end{description*}\n"
      ],
      "text/markdown": [
       "2.5 %\n",
       ":   -0.48402306531955797.5 %\n",
       ":   -0.309425068964957\n",
       "\n"
      ],
      "text/plain": [
       "     2.5 %     97.5 % \n",
       "-0.4840231 -0.3094251 "
      ]
     },
     "metadata": {},
     "output_type": "display_data"
    }
   ],
   "source": [
    "## If we want to infer causal effec of B on T,\n",
    "## we can apply the command to figure out \n",
    "## variables we should condition on:\n",
    "\n",
    "adjustmentSets( g, \"T\", \"B\" ) \n",
    "\n",
    "## empty set -- we should not condition on the additional\n",
    "## variable C.\n",
    "\n",
    "## Generate data where C = .5T + .5B\n",
    "set.seed( 123); d <- simulateSEM( g, .5 )\n",
    "confint( lm( T ~ B, d ) )[\"B\",] # includes 0\n",
    "confint( lm( T ~ B + C, d ) )[\"B\",] # does not include 0\n"
   ]
  }
 ],
 "metadata": {
  "colab": {
   "collapsed_sections": [],
   "name": "12_r-colliderbias-hollywood.ipynb",
   "provenance": []
  },
  "jupytext": {
   "formats": "ipynb,auto:light"
  },
  "kernelspec": {
   "display_name": "R",
   "language": "R",
   "name": "ir"
  },
  "language_info": {
   "codemirror_mode": "r",
   "file_extension": ".r",
   "mimetype": "text/x-r-source",
   "name": "R",
   "pygments_lexer": "r",
   "version": "4.2.0"
  },
  "papermill": {
   "default_parameters": {},
   "duration": 24.263285,
   "end_time": "2021-01-21T13:24:44.323080",
   "environment_variables": {},
   "exception": null,
   "input_path": "__notebook__.ipynb",
   "output_path": "__notebook__.ipynb",
   "parameters": {},
   "start_time": "2021-01-21T13:24:20.059795",
   "version": "2.2.2"
  }
 },
 "nbformat": 4,
 "nbformat_minor": 0
}