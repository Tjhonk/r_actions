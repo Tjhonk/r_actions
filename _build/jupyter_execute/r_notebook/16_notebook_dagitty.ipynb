{
 "cells": [
  {
   "cell_type": "markdown",
   "metadata": {
    "id": "64xbvrLBeBgQ",
    "papermill": {
     "duration": 0.016127,
     "end_time": "2021-03-23T20:00:44.268199",
     "exception": false,
     "start_time": "2021-03-23T20:00:44.252072",
     "status": "completed"
    },
    "tags": []
   },
   "source": [
    "# Notebook-DAGitty\n"
   ]
  },
  {
   "cell_type": "code",
   "execution_count": 1,
   "metadata": {
    "_execution_state": "idle",
    "_uuid": "051d70d956493feee0c6d64651c6a088724dca2a",
    "colab": {
     "base_uri": "https://localhost:8080/"
    },
    "execution": {
     "iopub.execute_input": "2021-03-23T20:00:44.329173Z",
     "iopub.status.busy": "2021-03-23T20:00:44.327312Z",
     "iopub.status.idle": "2021-03-23T20:01:14.096306Z",
     "shell.execute_reply": "2021-03-23T20:01:14.095132Z"
    },
    "executionInfo": {
     "elapsed": 12913,
     "status": "ok",
     "timestamp": 1658252175125,
     "user": {
      "displayName": "Jhon Kevin Flores Rojas",
      "userId": "10267608749788811245"
     },
     "user_tz": 300
    },
    "id": "r6xj75leeBgY",
    "outputId": "0e192dcc-d441-431e-fa94-222c21527c15",
    "papermill": {
     "duration": 29.813743,
     "end_time": "2021-03-23T20:01:14.096635",
     "exception": false,
     "start_time": "2021-03-23T20:00:44.282892",
     "status": "completed"
    },
    "tags": [],
    "vscode": {
     "languageId": "r"
    }
   },
   "outputs": [
    {
     "name": "stderr",
     "output_type": "stream",
     "text": [
      "Installing package into 'D:/a/_temp/Library'\n",
      "(as 'lib' is unspecified)\n",
      "\n"
     ]
    },
    {
     "name": "stdout",
     "output_type": "stream",
     "text": [
      "package 'dagitty' successfully unpacked and MD5 sums checked\n"
     ]
    },
    {
     "name": "stdout",
     "output_type": "stream",
     "text": [
      "\n",
      "The downloaded binary packages are in\n",
      "\tC:\\Users\\runneradmin\\AppData\\Local\\Temp\\RtmpUpxttS\\downloaded_packages\n"
     ]
    },
    {
     "name": "stderr",
     "output_type": "stream",
     "text": [
      "Installing package into 'D:/a/_temp/Library'\n",
      "(as 'lib' is unspecified)\n",
      "\n"
     ]
    },
    {
     "name": "stdout",
     "output_type": "stream",
     "text": [
      "package 'ggdag' successfully unpacked and MD5 sums checked\n"
     ]
    },
    {
     "name": "stdout",
     "output_type": "stream",
     "text": [
      "\n",
      "The downloaded binary packages are in\n",
      "\tC:\\Users\\runneradmin\\AppData\\Local\\Temp\\RtmpUpxttS\\downloaded_packages\n"
     ]
    },
    {
     "name": "stderr",
     "output_type": "stream",
     "text": [
      "\n",
      "Attaching package: 'ggdag'\n",
      "\n",
      "\n"
     ]
    },
    {
     "name": "stderr",
     "output_type": "stream",
     "text": [
      "The following object is masked from 'package:stats':\n",
      "\n",
      "    filter\n",
      "\n",
      "\n"
     ]
    }
   ],
   "source": [
    "install.packages(\"dagitty\")\n",
    "install.packages(\"ggdag\")\n",
    "library(dagitty)\n",
    "library(ggdag)"
   ]
  },
  {
   "cell_type": "markdown",
   "metadata": {
    "id": "-HwIzXfmeBgm",
    "papermill": {
     "duration": 0.019562,
     "end_time": "2021-03-23T20:01:14.135443",
     "exception": false,
     "start_time": "2021-03-23T20:01:14.115881",
     "status": "completed"
    },
    "tags": []
   },
   "source": [
    "## Graph Generation and Plotting "
   ]
  },
  {
   "cell_type": "markdown",
   "metadata": {
    "id": "6N1qwcbceBgo",
    "papermill": {
     "duration": 0.016935,
     "end_time": "2021-03-23T20:01:14.168961",
     "exception": false,
     "start_time": "2021-03-23T20:01:14.152026",
     "status": "completed"
    },
    "tags": []
   },
   "source": [
    "The following DAG is due to Judea Pearl"
   ]
  },
  {
   "cell_type": "code",
   "execution_count": 2,
   "metadata": {
    "colab": {
     "base_uri": "https://localhost:8080/",
     "height": 97
    },
    "execution": {
     "iopub.execute_input": "2021-03-23T20:01:14.235372Z",
     "iopub.status.busy": "2021-03-23T20:01:14.205802Z",
     "iopub.status.idle": "2021-03-23T20:01:15.272836Z",
     "shell.execute_reply": "2021-03-23T20:01:15.272304Z"
    },
    "executionInfo": {
     "elapsed": 497,
     "status": "error",
     "timestamp": 1658252094673,
     "user": {
      "displayName": "Jhon Kevin Flores Rojas",
      "userId": "10267608749788811245"
     },
     "user_tz": 300
    },
    "id": "WgLcR2OieBgq",
    "outputId": "d06099ca-8a41-44c2-8521-97145616c035",
    "papermill": {
     "duration": 1.087289,
     "end_time": "2021-03-23T20:01:15.272991",
     "exception": false,
     "start_time": "2021-03-23T20:01:14.185702",
     "status": "completed"
    },
    "tags": [],
    "vscode": {
     "languageId": "r"
    }
   },
   "outputs": [
    {
     "data": {
      "image/png": "[encoded data removed]",
      "text/plain": [
       "plot without title"
      ]
     },
     "metadata": {
      "filenames": {
       "image/png": "D:\\a\\r_actions\\r_actions\\_build\\jupyter_execute\\r_notebook\\16_notebook_dagitty_4_0.png"
      },
      "image/png": {
       "height": 420,
       "width": 420
      }
     },
     "output_type": "display_data"
    }
   ],
   "source": [
    "#generate a couple of DAGs and plot them\n",
    "\n",
    "G = dagitty('dag{\n",
    "Z1 [pos=\"-2,-1.5\"]\n",
    "X1 [pos=\"-2,0\"]\n",
    "Z2 [pos=\"1.5,-1.5\"]\n",
    "X3 [pos=\"1.5, 0\"]\n",
    "Y [outcome,pos=\"1.5,1.5\"]\n",
    "D [exposure,pos=\"-2,1.5\"]\n",
    "M [mediator, pos=\"0,1.5\"]\n",
    "X2 [pos=\"0,0\"]\n",
    "Z1 -> X1\n",
    "X1 -> D\n",
    "Z1 -> X2\n",
    "Z2 -> X3\n",
    "X3 -> Y\n",
    "Z2 -> X2\n",
    "D -> Y\n",
    "X2 -> Y\n",
    "X2 -> D\n",
    "M->Y\n",
    "D->M\n",
    "}')\n",
    "\n",
    "\n",
    "ggdag(G)+  theme_dag()"
   ]
  },
  {
   "cell_type": "markdown",
   "metadata": {
    "id": "4DSjpQWReBgt",
    "papermill": {
     "duration": 0.017889,
     "end_time": "2021-03-23T20:01:15.310039",
     "exception": false,
     "start_time": "2021-03-23T20:01:15.292150",
     "status": "completed"
    },
    "tags": []
   },
   "source": [
    "Report Relatives of X2"
   ]
  },
  {
   "cell_type": "code",
   "execution_count": 3,
   "metadata": {
    "execution": {
     "iopub.execute_input": "2021-03-23T20:01:15.351412Z",
     "iopub.status.busy": "2021-03-23T20:01:15.349827Z",
     "iopub.status.idle": "2021-03-23T20:01:15.400709Z",
     "shell.execute_reply": "2021-03-23T20:01:15.399520Z"
    },
    "executionInfo": {
     "elapsed": 8343,
     "status": "aborted",
     "timestamp": 1658251931955,
     "user": {
      "displayName": "Jhon Kevin Flores Rojas",
      "userId": "10267608749788811245"
     },
     "user_tz": 300
    },
    "id": "yLa8D8wkeBgv",
    "papermill": {
     "duration": 0.07305,
     "end_time": "2021-03-23T20:01:15.400861",
     "exception": false,
     "start_time": "2021-03-23T20:01:15.327811",
     "status": "completed"
    },
    "tags": [],
    "vscode": {
     "languageId": "r"
    }
   },
   "outputs": [
    {
     "name": "stdout",
     "output_type": "stream",
     "text": [
      "[1] \"Z1\" \"Z2\"\n"
     ]
    },
    {
     "name": "stdout",
     "output_type": "stream",
     "text": [
      "[1] \"D\" \"Y\"\n"
     ]
    },
    {
     "name": "stdout",
     "output_type": "stream",
     "text": [
      "[1] \"X2\" \"Z2\" \"Z1\"\n"
     ]
    },
    {
     "name": "stdout",
     "output_type": "stream",
     "text": [
      "[1] \"X2\" \"Y\"  \"D\"  \"M\" \n"
     ]
    }
   ],
   "source": [
    "print(parents(G, \"X2\"))\n",
    "print(children(G, \"X2\"))\n",
    "print(ancestors(G, \"X2\"))\n",
    "print(descendants(G, \"X2\"))"
   ]
  },
  {
   "cell_type": "markdown",
   "metadata": {
    "id": "PMnqkZyceBgx",
    "papermill": {
     "duration": 0.019171,
     "end_time": "2021-03-23T20:01:15.439605",
     "exception": false,
     "start_time": "2021-03-23T20:01:15.420434",
     "status": "completed"
    },
    "tags": []
   },
   "source": [
    "Find Paths Between D and Y\n",
    "\n"
   ]
  },
  {
   "cell_type": "code",
   "execution_count": 4,
   "metadata": {
    "execution": {
     "iopub.execute_input": "2021-03-23T20:01:15.485471Z",
     "iopub.status.busy": "2021-03-23T20:01:15.484099Z",
     "iopub.status.idle": "2021-03-23T20:01:15.548283Z",
     "shell.execute_reply": "2021-03-23T20:01:15.547018Z"
    },
    "executionInfo": {
     "elapsed": 8339,
     "status": "aborted",
     "timestamp": 1658251931955,
     "user": {
      "displayName": "Jhon Kevin Flores Rojas",
      "userId": "10267608749788811245"
     },
     "user_tz": 300
    },
    "id": "nCb8HFlpeBgy",
    "papermill": {
     "duration": 0.088653,
     "end_time": "2021-03-23T20:01:15.548445",
     "exception": false,
     "start_time": "2021-03-23T20:01:15.459792",
     "status": "completed"
    },
    "tags": [],
    "vscode": {
     "languageId": "r"
    }
   },
   "outputs": [
    {
     "data": {
      "text/html": [
       "<dl>\n",
       "\t<dt>$paths</dt>\n",
       "\t\t<dd><style>\n",
       ".list-inline {list-style: none; margin:0; padding: 0}\n",
       ".list-inline>li {display: inline-block}\n",
       ".list-inline>li:not(:last-child)::after {content: \"\\00b7\"; padding: 0 .5ex}\n",
       "</style>\n",
       "<ol class=list-inline><li>'D -&gt; M -&gt; Y'</li><li>'D -&gt; Y'</li><li>'D &lt;- X1 &lt;- Z1 -&gt; X2 -&gt; Y'</li><li>'D &lt;- X1 &lt;- Z1 -&gt; X2 &lt;- Z2 -&gt; X3 -&gt; Y'</li><li>'D &lt;- X2 -&gt; Y'</li><li>'D &lt;- X2 &lt;- Z2 -&gt; X3 -&gt; Y'</li></ol>\n",
       "</dd>\n",
       "\t<dt>$open</dt>\n",
       "\t\t<dd><style>\n",
       ".list-inline {list-style: none; margin:0; padding: 0}\n",
       ".list-inline>li {display: inline-block}\n",
       ".list-inline>li:not(:last-child)::after {content: \"\\00b7\"; padding: 0 .5ex}\n",
       "</style>\n",
       "<ol class=list-inline><li>TRUE</li><li>TRUE</li><li>TRUE</li><li>FALSE</li><li>TRUE</li><li>TRUE</li></ol>\n",
       "</dd>\n",
       "</dl>\n"
      ],
      "text/latex": [
       "\\begin{description}\n",
       "\\item[\\$paths] \\begin{enumerate*}\n",
       "\\item 'D -> M -> Y'\n",
       "\\item 'D -> Y'\n",
       "\\item 'D <- X1 <- Z1 -> X2 -> Y'\n",
       "\\item 'D <- X1 <- Z1 -> X2 <- Z2 -> X3 -> Y'\n",
       "\\item 'D <- X2 -> Y'\n",
       "\\item 'D <- X2 <- Z2 -> X3 -> Y'\n",
       "\\end{enumerate*}\n",
       "\n",
       "\\item[\\$open] \\begin{enumerate*}\n",
       "\\item TRUE\n",
       "\\item TRUE\n",
       "\\item TRUE\n",
       "\\item FALSE\n",
       "\\item TRUE\n",
       "\\item TRUE\n",
       "\\end{enumerate*}\n",
       "\n",
       "\\end{description}\n"
      ],
      "text/markdown": [
       "$paths\n",
       ":   1. 'D -&gt; M -&gt; Y'\n",
       "2. 'D -&gt; Y'\n",
       "3. 'D &lt;- X1 &lt;- Z1 -&gt; X2 -&gt; Y'\n",
       "4. 'D &lt;- X1 &lt;- Z1 -&gt; X2 &lt;- Z2 -&gt; X3 -&gt; Y'\n",
       "5. 'D &lt;- X2 -&gt; Y'\n",
       "6. 'D &lt;- X2 &lt;- Z2 -&gt; X3 -&gt; Y'\n",
       "\n",
       "\n",
       "\n",
       "$open\n",
       ":   1. TRUE\n",
       "2. TRUE\n",
       "3. TRUE\n",
       "4. FALSE\n",
       "5. TRUE\n",
       "6. TRUE\n",
       "\n",
       "\n",
       "\n",
       "\n",
       "\n"
      ],
      "text/plain": [
       "$paths\n",
       "[1] \"D -> M -> Y\"                         \n",
       "[2] \"D -> Y\"                              \n",
       "[3] \"D <- X1 <- Z1 -> X2 -> Y\"            \n",
       "[4] \"D <- X1 <- Z1 -> X2 <- Z2 -> X3 -> Y\"\n",
       "[5] \"D <- X2 -> Y\"                        \n",
       "[6] \"D <- X2 <- Z2 -> X3 -> Y\"            \n",
       "\n",
       "$open\n",
       "[1]  TRUE  TRUE  TRUE FALSE  TRUE  TRUE\n"
      ]
     },
     "metadata": {},
     "output_type": "display_data"
    }
   ],
   "source": [
    "paths(G, \"D\", \"Y\")"
   ]
  },
  {
   "cell_type": "markdown",
   "metadata": {
    "id": "XdJtUJA4eBgz",
    "papermill": {
     "duration": 0.020042,
     "end_time": "2021-03-23T20:01:15.590055",
     "exception": false,
     "start_time": "2021-03-23T20:01:15.570013",
     "status": "completed"
    },
    "tags": []
   },
   "source": [
    "List All Testable Implications of the Model"
   ]
  },
  {
   "cell_type": "code",
   "execution_count": 5,
   "metadata": {
    "execution": {
     "iopub.execute_input": "2021-03-23T20:01:15.635907Z",
     "iopub.status.busy": "2021-03-23T20:01:15.634378Z",
     "iopub.status.idle": "2021-03-23T20:01:15.689091Z",
     "shell.execute_reply": "2021-03-23T20:01:15.688484Z"
    },
    "executionInfo": {
     "elapsed": 8336,
     "status": "aborted",
     "timestamp": 1658251931956,
     "user": {
      "displayName": "Jhon Kevin Flores Rojas",
      "userId": "10267608749788811245"
     },
     "user_tz": 300
    },
    "id": "7G2SyV8UeBg1",
    "papermill": {
     "duration": 0.078982,
     "end_time": "2021-03-23T20:01:15.689227",
     "exception": false,
     "start_time": "2021-03-23T20:01:15.610245",
     "status": "completed"
    },
    "tags": [],
    "vscode": {
     "languageId": "r"
    }
   },
   "outputs": [
    {
     "name": "stdout",
     "output_type": "stream",
     "text": [
      "D _||_ X3 | Z2\n",
      "D _||_ X3 | X2, Z1\n",
      "D _||_ X3 | X1, X2\n",
      "D _||_ Z1 | X1, X2\n",
      "D _||_ Z2 | X2, Z1\n",
      "D _||_ Z2 | X1, X2\n",
      "M _||_ X1 | D\n",
      "M _||_ X2 | D\n",
      "M _||_ X3 | Z2\n",
      "M _||_ X3 | X2, Z1\n",
      "M _||_ X3 | X1, X2\n",
      "M _||_ X3 | D\n",
      "M _||_ Z1 | X1, X2\n",
      "M _||_ Z1 | D\n",
      "M _||_ Z2 | X2, Z1\n",
      "M _||_ Z2 | X1, X2\n",
      "M _||_ Z2 | D\n",
      "X1 _||_ X2 | Z1\n",
      "X1 _||_ X3\n",
      "X1 _||_ Y | D, X2, X3\n",
      "X1 _||_ Y | D, X2, Z2\n",
      "X1 _||_ Y | D, X2, Z1\n",
      "X1 _||_ Z2\n",
      "X2 _||_ X3 | Z2\n",
      "X3 _||_ Z1\n",
      "Y _||_ Z1 | X1, X2, Z2\n",
      "Y _||_ Z1 | D, X2, Z2\n",
      "Y _||_ Z1 | X1, X2, X3\n",
      "Y _||_ Z1 | D, X2, X3\n",
      "Y _||_ Z2 | X2, X3, Z1\n",
      "Y _||_ Z2 | X1, X2, X3\n",
      "Y _||_ Z2 | D, X2, X3\n",
      "Z1 _||_ Z2\n"
     ]
    }
   ],
   "source": [
    "print( impliedConditionalIndependencies(G) )"
   ]
  },
  {
   "cell_type": "markdown",
   "metadata": {
    "id": "3rH48c8AeBg3",
    "papermill": {
     "duration": 0.022026,
     "end_time": "2021-03-23T20:01:15.733010",
     "exception": false,
     "start_time": "2021-03-23T20:01:15.710984",
     "status": "completed"
    },
    "tags": []
   },
   "source": [
    "Identification by Backdoor: List minimal adjustment sets to identify causal effecs $D \\to Y$"
   ]
  },
  {
   "cell_type": "code",
   "execution_count": 6,
   "metadata": {
    "execution": {
     "iopub.execute_input": "2021-03-23T20:01:15.783204Z",
     "iopub.status.busy": "2021-03-23T20:01:15.781477Z",
     "iopub.status.idle": "2021-03-23T20:01:15.822672Z",
     "shell.execute_reply": "2021-03-23T20:01:15.820940Z"
    },
    "executionInfo": {
     "elapsed": 8336,
     "status": "aborted",
     "timestamp": 1658251931959,
     "user": {
      "displayName": "Jhon Kevin Flores Rojas",
      "userId": "10267608749788811245"
     },
     "user_tz": 300
    },
    "id": "jzEXxz3JeBg3",
    "papermill": {
     "duration": 0.06772,
     "end_time": "2021-03-23T20:01:15.822837",
     "exception": false,
     "start_time": "2021-03-23T20:01:15.755117",
     "status": "completed"
    },
    "tags": [],
    "vscode": {
     "languageId": "r"
    }
   },
   "outputs": [
    {
     "name": "stdout",
     "output_type": "stream",
     "text": [
      "{ X2, X3 }\n",
      "{ X2, Z2 }\n",
      "{ X2, Z1 }\n",
      "{ X1, X2 }\n"
     ]
    }
   ],
   "source": [
    "print( adjustmentSets( G, \"D\", \"Y\" ) )"
   ]
  },
  {
   "cell_type": "markdown",
   "metadata": {
    "id": "i7SozJ77eBg4",
    "papermill": {
     "duration": 0.021844,
     "end_time": "2021-03-23T20:01:15.866470",
     "exception": false,
     "start_time": "2021-03-23T20:01:15.844626",
     "status": "completed"
    },
    "tags": []
   },
   "source": [
    "Identification via SWIG and D-separation"
   ]
  },
  {
   "cell_type": "code",
   "execution_count": 7,
   "metadata": {
    "execution": {
     "iopub.execute_input": "2021-03-23T20:01:15.915131Z",
     "iopub.status.busy": "2021-03-23T20:01:15.913846Z",
     "iopub.status.idle": "2021-03-23T20:01:16.289213Z",
     "shell.execute_reply": "2021-03-23T20:01:16.288681Z"
    },
    "executionInfo": {
     "elapsed": 8340,
     "status": "aborted",
     "timestamp": 1658251931965,
     "user": {
      "displayName": "Jhon Kevin Flores Rojas",
      "userId": "10267608749788811245"
     },
     "user_tz": 300
    },
    "id": "s01a8ifUeBg5",
    "papermill": {
     "duration": 0.401164,
     "end_time": "2021-03-23T20:01:16.289342",
     "exception": false,
     "start_time": "2021-03-23T20:01:15.888178",
     "status": "completed"
    },
    "tags": [],
    "vscode": {
     "languageId": "r"
    }
   },
   "outputs": [
    {
     "data": {
      "image/png": "[encoded data removed]",
      "text/plain": [
       "plot without title"
      ]
     },
     "metadata": {
      "filenames": {
       "image/png": "D:\\a\\r_actions\\r_actions\\_build\\jupyter_execute\\r_notebook\\16_notebook_dagitty_14_0.png"
      },
      "image/png": {
       "height": 420,
       "width": 420
      }
     },
     "output_type": "display_data"
    }
   ],
   "source": [
    "SWIG = dagitty('dag{\n",
    "Z1 [pos=\"-2,-1.5\"]\n",
    "X1 [pos=\"-2,0\"]\n",
    "Z2 [pos=\"1.5,-1.5\"]\n",
    "X3 [pos=\"1.5, 0\"]\n",
    "Yd [outcome,pos=\"1.5,1.5\"]\n",
    "D [exposure,pos=\"-2,1.5\"]\n",
    "d [pos=\"-1, 1.5\"]\n",
    "Md [mediator, pos=\"0,1.5\"]\n",
    "X2 [pos=\"0,0\"]\n",
    "Z1 -> X1\n",
    "X1 -> D\n",
    "Z1 -> X2\n",
    "Z2 -> X3\n",
    "X3 -> Yd\n",
    "Z2 -> X2\n",
    "X2 -> Yd\n",
    "X2 -> D\n",
    "X3-> Yd\n",
    "Md-> Yd\n",
    "d-> Md\n",
    "}')\n",
    "\n",
    "ggdag(SWIG)+  theme_dag()\n"
   ]
  },
  {
   "cell_type": "markdown",
   "metadata": {
    "id": "eC0OwieveBg6",
    "papermill": {
     "duration": 0.022959,
     "end_time": "2021-03-23T20:01:16.335873",
     "exception": false,
     "start_time": "2021-03-23T20:01:16.312914",
     "status": "completed"
    },
    "tags": []
   },
   "source": [
    "Deduce Conditional Exogeneity or Ignorability by D-separation\n"
   ]
  },
  {
   "cell_type": "code",
   "execution_count": 8,
   "metadata": {
    "execution": {
     "iopub.execute_input": "2021-03-23T20:01:16.387691Z",
     "iopub.status.busy": "2021-03-23T20:01:16.386272Z",
     "iopub.status.idle": "2021-03-23T20:01:16.437150Z",
     "shell.execute_reply": "2021-03-23T20:01:16.435072Z"
    },
    "executionInfo": {
     "elapsed": 8338,
     "status": "aborted",
     "timestamp": 1658251931967,
     "user": {
      "displayName": "Jhon Kevin Flores Rojas",
      "userId": "10267608749788811245"
     },
     "user_tz": 300
    },
    "id": "yBdiK2g2eBg6",
    "papermill": {
     "duration": 0.078242,
     "end_time": "2021-03-23T20:01:16.437314",
     "exception": false,
     "start_time": "2021-03-23T20:01:16.359072",
     "status": "completed"
    },
    "tags": [],
    "vscode": {
     "languageId": "r"
    }
   },
   "outputs": [
    {
     "name": "stdout",
     "output_type": "stream",
     "text": [
      "D _||_ Yd | X2, X3\n",
      "D _||_ Yd | X2, Z2\n",
      "D _||_ Yd | X2, Z1\n",
      "D _||_ Yd | X1, X2\n"
     ]
    }
   ],
   "source": [
    "print( impliedConditionalIndependencies(SWIG)[5:8] )\n"
   ]
  },
  {
   "cell_type": "markdown",
   "metadata": {
    "id": "FZ-epEiqeBg7",
    "papermill": {
     "duration": 0.02359,
     "end_time": "2021-03-23T20:01:16.484480",
     "exception": false,
     "start_time": "2021-03-23T20:01:16.460890",
     "status": "completed"
    },
    "tags": []
   },
   "source": [
    "This coincides with the backdoor criterion for this graph."
   ]
  },
  {
   "cell_type": "markdown",
   "metadata": {
    "id": "PPjvugP_eBg8",
    "papermill": {
     "duration": 0.024341,
     "end_time": "2021-03-23T20:01:16.532418",
     "exception": false,
     "start_time": "2021-03-23T20:01:16.508077",
     "status": "completed"
    },
    "tags": []
   },
   "source": [
    "Print All Average Effects Identifiable by Conditioning"
   ]
  },
  {
   "cell_type": "code",
   "execution_count": 9,
   "metadata": {
    "execution": {
     "iopub.execute_input": "2021-03-23T20:01:16.587126Z",
     "iopub.status.busy": "2021-03-23T20:01:16.585678Z",
     "iopub.status.idle": "2021-03-23T20:01:16.833308Z",
     "shell.execute_reply": "2021-03-23T20:01:16.831929Z"
    },
    "executionInfo": {
     "elapsed": 8334,
     "status": "aborted",
     "timestamp": 1658251931968,
     "user": {
      "displayName": "Jhon Kevin Flores Rojas",
      "userId": "10267608749788811245"
     },
     "user_tz": 300
    },
    "id": "VFaBQ5U8eBg8",
    "papermill": {
     "duration": 0.276963,
     "end_time": "2021-03-23T20:01:16.833583",
     "exception": false,
     "start_time": "2021-03-23T20:01:16.556620",
     "status": "completed"
    },
    "tags": [],
    "vscode": {
     "languageId": "r"
    }
   },
   "outputs": [
    {
     "name": "stdout",
     "output_type": "stream",
     "text": [
      "The effect D->M is identifiable by controlling for:\n",
      " *  {}\n",
      "The effect D->Y is identifiable by controlling for:\n",
      "{ X2, X3 }\n",
      "{ X2, Z2 }\n",
      "{ X2, Z1 }\n",
      "{ X1, X2 }\n",
      "The effect M->Y is identifiable by controlling for:\n",
      "{ D }\n",
      "The effect X1->D is identifiable by controlling for:\n",
      "{ X2 }\n",
      "{ Z1 }\n",
      "The effect X2->D is identifiable by controlling for:\n",
      "{ X1 }\n",
      "{ Z1 }\n",
      "The effect X2->Y is identifiable by controlling for:\n",
      "{ X1, X3 }\n",
      "{ X1, Z2 }\n",
      "{ X3, Z1 }\n",
      "{ Z1, Z2 }\n",
      "The effect X3->Y is identifiable by controlling for:\n",
      "{ D, X2 }\n",
      "{ X1, X2 }\n",
      "{ X2, Z1 }\n",
      "{ Z2 }\n",
      "The effect Z1->X1 is identifiable by controlling for:\n",
      " *  {}\n",
      "The effect Z1->X2 is identifiable by controlling for:\n",
      " *  {}\n",
      "The effect Z2->X2 is identifiable by controlling for:\n",
      " *  {}\n",
      "The effect Z2->X3 is identifiable by controlling for:\n",
      " *  {}\n"
     ]
    }
   ],
   "source": [
    "for( n in names(G) ){\n",
    "    for( m in children(G,n) ){\n",
    "        a <- adjustmentSets( G, n, m )\n",
    "        if( length(a) > 0 ){\n",
    "            cat(\"The effect \",n,\"->\",m,\n",
    "                \" is identifiable by controlling for:\\n\",sep=\"\")\n",
    "            print( a, prefix=\" * \" )\n",
    "        }\n",
    "    }\n",
    "}"
   ]
  },
  {
   "cell_type": "markdown",
   "metadata": {
    "id": "WHvWN-XSeBg8",
    "papermill": {
     "duration": 0.023994,
     "end_time": "2021-03-23T20:01:16.884314",
     "exception": false,
     "start_time": "2021-03-23T20:01:16.860320",
     "status": "completed"
    },
    "tags": []
   },
   "source": [
    "Equivalence Classes"
   ]
  },
  {
   "cell_type": "code",
   "execution_count": 10,
   "metadata": {
    "execution": {
     "iopub.execute_input": "2021-03-23T20:01:16.938151Z",
     "iopub.status.busy": "2021-03-23T20:01:16.936490Z",
     "iopub.status.idle": "2021-03-23T20:01:17.037205Z",
     "shell.execute_reply": "2021-03-23T20:01:17.036039Z"
    },
    "executionInfo": {
     "elapsed": 8329,
     "status": "aborted",
     "timestamp": 1658251931968,
     "user": {
      "displayName": "Jhon Kevin Flores Rojas",
      "userId": "10267608749788811245"
     },
     "user_tz": 300
    },
    "id": "weOlpboKeBg9",
    "papermill": {
     "duration": 0.12902,
     "end_time": "2021-03-23T20:01:17.037348",
     "exception": false,
     "start_time": "2021-03-23T20:01:16.908328",
     "status": "completed"
    },
    "tags": [],
    "vscode": {
     "languageId": "r"
    }
   },
   "outputs": [
    {
     "data": {
      "image/png": "[encoded data removed]",
      "text/plain": [
       "plot without title"
      ]
     },
     "metadata": {
      "filenames": {
       "image/png": "D:\\a\\r_actions\\r_actions\\_build\\jupyter_execute\\r_notebook\\16_notebook_dagitty_21_0.png"
      },
      "image/png": {
       "height": 420,
       "width": 420
      }
     },
     "output_type": "display_data"
    }
   ],
   "source": [
    "P=equivalenceClass(G)\n",
    "plot(P)\n",
    "#equivalentDAGs(G,10)"
   ]
  },
  {
   "cell_type": "markdown",
   "metadata": {
    "id": "wMzzYVrpeBg9",
    "papermill": {
     "duration": 0.025971,
     "end_time": "2021-03-23T20:01:17.089682",
     "exception": false,
     "start_time": "2021-03-23T20:01:17.063711",
     "status": "completed"
    },
    "tags": []
   },
   "source": [
    "Next Consider the elemntary Triangular Model:\n",
    "\n",
    "$$\n",
    "D \\to Y, \\quad X \\to (D,Y).\n",
    "$$\n",
    "\n",
    "This model has not testable implications and is Markov-equivalent to any other DAG difined on names $(X, D, Y)$."
   ]
  },
  {
   "cell_type": "code",
   "execution_count": 11,
   "metadata": {
    "execution": {
     "iopub.execute_input": "2021-03-23T20:01:17.148877Z",
     "iopub.status.busy": "2021-03-23T20:01:17.147109Z",
     "iopub.status.idle": "2021-03-23T20:01:17.651217Z",
     "shell.execute_reply": "2021-03-23T20:01:17.650122Z"
    },
    "executionInfo": {
     "elapsed": 8326,
     "status": "aborted",
     "timestamp": 1658251931969,
     "user": {
      "displayName": "Jhon Kevin Flores Rojas",
      "userId": "10267608749788811245"
     },
     "user_tz": 300
    },
    "id": "xIoZRWg7eBg_",
    "papermill": {
     "duration": 0.534599,
     "end_time": "2021-03-23T20:01:17.651356",
     "exception": false,
     "start_time": "2021-03-23T20:01:17.116757",
     "status": "completed"
    },
    "tags": [],
    "vscode": {
     "languageId": "r"
    }
   },
   "outputs": [
    {
     "data": {
      "image/png": "[encoded data removed]",
      "text/plain": [
       "plot without title"
      ]
     },
     "metadata": {
      "filenames": {
       "image/png": "D:\\a\\r_actions\\r_actions\\_build\\jupyter_execute\\r_notebook\\16_notebook_dagitty_23_0.png"
      },
      "image/png": {
       "height": 420,
       "width": 420
      }
     },
     "output_type": "display_data"
    }
   ],
   "source": [
    "G3<- dagitty('dag{\n",
    "D -> Y\n",
    "X -> D\n",
    "X -> Y\n",
    "}\n",
    "')\n",
    "\n",
    "ggdag(G3)+  theme_dag()\n",
    "\n",
    "print(impliedConditionalIndependencies(G3))\n",
    "\n"
   ]
  },
  {
   "cell_type": "code",
   "execution_count": 12,
   "metadata": {
    "execution": {
     "iopub.execute_input": "2021-03-23T20:01:17.710660Z",
     "iopub.status.busy": "2021-03-23T20:01:17.709587Z",
     "iopub.status.idle": "2021-03-23T20:01:17.838089Z",
     "shell.execute_reply": "2021-03-23T20:01:17.837388Z"
    },
    "executionInfo": {
     "elapsed": 8325,
     "status": "aborted",
     "timestamp": 1658251931971,
     "user": {
      "displayName": "Jhon Kevin Flores Rojas",
      "userId": "10267608749788811245"
     },
     "user_tz": 300
    },
    "id": "Mg5FFyDCeBhA",
    "papermill": {
     "duration": 0.159885,
     "end_time": "2021-03-23T20:01:17.838324",
     "exception": false,
     "start_time": "2021-03-23T20:01:17.678439",
     "status": "completed"
    },
    "tags": [],
    "vscode": {
     "languageId": "r"
    }
   },
   "outputs": [
    {
     "name": "stderr",
     "output_type": "stream",
     "text": [
      "Plot coordinates for graph not supplied! Generating coordinates, see ?coordinates for how to set your own.\n",
      "\n"
     ]
    },
    {
     "data": {
      "text/plain": [
       "[[1]]\n",
       "dag {\n",
       "D\n",
       "X\n",
       "Y\n",
       "D -> Y\n",
       "X -> D\n",
       "X -> Y\n",
       "}\n",
       "\n",
       "[[2]]\n",
       "dag {\n",
       "D\n",
       "X\n",
       "Y\n",
       "D -> X\n",
       "D -> Y\n",
       "X -> Y\n",
       "}\n",
       "\n",
       "[[3]]\n",
       "dag {\n",
       "D\n",
       "X\n",
       "Y\n",
       "D -> X\n",
       "D -> Y\n",
       "Y -> X\n",
       "}\n",
       "\n",
       "[[4]]\n",
       "dag {\n",
       "D\n",
       "X\n",
       "Y\n",
       "X -> D\n",
       "X -> Y\n",
       "Y -> D\n",
       "}\n",
       "\n",
       "[[5]]\n",
       "dag {\n",
       "D\n",
       "X\n",
       "Y\n",
       "X -> D\n",
       "Y -> D\n",
       "Y -> X\n",
       "}\n",
       "\n",
       "[[6]]\n",
       "dag {\n",
       "D\n",
       "X\n",
       "Y\n",
       "D -> X\n",
       "Y -> D\n",
       "Y -> X\n",
       "}\n"
      ]
     },
     "metadata": {},
     "output_type": "display_data"
    },
    {
     "data": {
      "image/png": "[encoded data removed]",
      "text/plain": [
       "plot without title"
      ]
     },
     "metadata": {
      "filenames": {
       "image/png": "D:\\a\\r_actions\\r_actions\\_build\\jupyter_execute\\r_notebook\\16_notebook_dagitty_24_2.png"
      },
      "image/png": {
       "height": 420,
       "width": 420
      }
     },
     "output_type": "display_data"
    }
   ],
   "source": [
    "P=equivalenceClass(G3)\n",
    "plot(P)\n",
    "equivalentDAGs(G3,10)\n",
    "\n"
   ]
  },
  {
   "cell_type": "markdown",
   "metadata": {
    "id": "64imZCl9eBhA",
    "papermill": {
     "duration": 0.029565,
     "end_time": "2021-03-23T20:01:17.897959",
     "exception": false,
     "start_time": "2021-03-23T20:01:17.868394",
     "status": "completed"
    },
    "tags": []
   },
   "source": [
    "## Example of Testing DAG Validity\n",
    "\n",
    "Next we simulate the data from a Linear SEM associated to DAG G, and perform a test of conditional independence restrictions, exploting linearity. \n",
    "\n",
    "\n",
    "There are many other options for nonlinear models and discrete categorical variabales. Type help(localTests). "
   ]
  },
  {
   "cell_type": "code",
   "execution_count": 13,
   "metadata": {
    "execution": {
     "iopub.execute_input": "2021-03-23T20:01:17.962231Z",
     "iopub.status.busy": "2021-03-23T20:01:17.961061Z",
     "iopub.status.idle": "2021-03-23T20:01:18.159190Z",
     "shell.execute_reply": "2021-03-23T20:01:18.156637Z"
    },
    "executionInfo": {
     "elapsed": 8324,
     "status": "aborted",
     "timestamp": 1658251931972,
     "user": {
      "displayName": "Jhon Kevin Flores Rojas",
      "userId": "10267608749788811245"
     },
     "user_tz": 300
    },
    "id": "p9Si-rb8eBhB",
    "papermill": {
     "duration": 0.231975,
     "end_time": "2021-03-23T20:01:18.159373",
     "exception": false,
     "start_time": "2021-03-23T20:01:17.927398",
     "status": "completed"
    },
    "tags": [],
    "vscode": {
     "languageId": "r"
    }
   },
   "outputs": [
    {
     "data": {
      "text/html": [
       "<table class=\"dataframe\">\n",
       "<caption>A data.frame: 6 × 8</caption>\n",
       "<thead>\n",
       "\t<tr><th></th><th scope=col>D</th><th scope=col>M</th><th scope=col>X1</th><th scope=col>X2</th><th scope=col>X3</th><th scope=col>Y</th><th scope=col>Z1</th><th scope=col>Z2</th></tr>\n",
       "\t<tr><th></th><th scope=col>&lt;dbl&gt;</th><th scope=col>&lt;dbl&gt;</th><th scope=col>&lt;dbl&gt;</th><th scope=col>&lt;dbl&gt;</th><th scope=col>&lt;dbl&gt;</th><th scope=col>&lt;dbl&gt;</th><th scope=col>&lt;dbl&gt;</th><th scope=col>&lt;dbl&gt;</th></tr>\n",
       "</thead>\n",
       "<tbody>\n",
       "\t<tr><th scope=row>1</th><td>-0.8474441</td><td>-0.58585206</td><td>-0.7012941</td><td> 0.5498830</td><td> 0.19655958</td><td> 0.9116779</td><td> 0.7263907</td><td>-0.89149285</td></tr>\n",
       "\t<tr><th scope=row>2</th><td>-1.6262148</td><td> 2.00395356</td><td>-1.8377283</td><td>-0.7095460</td><td>-0.50443494</td><td>-0.2215374</td><td>-0.8513481</td><td>-0.02621535</td></tr>\n",
       "\t<tr><th scope=row>3</th><td> 0.1614541</td><td> 1.01051345</td><td>-1.4470186</td><td> 0.3221004</td><td>-0.02075701</td><td>-0.2469239</td><td>-0.8426767</td><td> 0.62002207</td></tr>\n",
       "\t<tr><th scope=row>4</th><td> 2.3009195</td><td>-2.82279254</td><td>-0.3189441</td><td>-1.8295047</td><td>-0.70087536</td><td>-1.5760471</td><td>-0.9636417</td><td> 1.54962139</td></tr>\n",
       "\t<tr><th scope=row>5</th><td> 1.0838933</td><td> 0.06353048</td><td> 0.9142856</td><td>-0.9856389</td><td> 0.55416859</td><td> 0.3526000</td><td>-0.1109774</td><td> 1.63705061</td></tr>\n",
       "\t<tr><th scope=row>6</th><td>-1.7508287</td><td>-0.17593255</td><td>-1.5993489</td><td>-0.1865325</td><td> 0.01467747</td><td> 0.1302770</td><td> 1.5156057</td><td>-1.11707145</td></tr>\n",
       "</tbody>\n",
       "</table>\n"
      ],
      "text/latex": [
       "A data.frame: 6 × 8\n",
       "\\begin{tabular}{r|llllllll}\n",
       "  & D & M & X1 & X2 & X3 & Y & Z1 & Z2\\\\\n",
       "  & <dbl> & <dbl> & <dbl> & <dbl> & <dbl> & <dbl> & <dbl> & <dbl>\\\\\n",
       "\\hline\n",
       "\t1 & -0.8474441 & -0.58585206 & -0.7012941 &  0.5498830 &  0.19655958 &  0.9116779 &  0.7263907 & -0.89149285\\\\\n",
       "\t2 & -1.6262148 &  2.00395356 & -1.8377283 & -0.7095460 & -0.50443494 & -0.2215374 & -0.8513481 & -0.02621535\\\\\n",
       "\t3 &  0.1614541 &  1.01051345 & -1.4470186 &  0.3221004 & -0.02075701 & -0.2469239 & -0.8426767 &  0.62002207\\\\\n",
       "\t4 &  2.3009195 & -2.82279254 & -0.3189441 & -1.8295047 & -0.70087536 & -1.5760471 & -0.9636417 &  1.54962139\\\\\n",
       "\t5 &  1.0838933 &  0.06353048 &  0.9142856 & -0.9856389 &  0.55416859 &  0.3526000 & -0.1109774 &  1.63705061\\\\\n",
       "\t6 & -1.7508287 & -0.17593255 & -1.5993489 & -0.1865325 &  0.01467747 &  0.1302770 &  1.5156057 & -1.11707145\\\\\n",
       "\\end{tabular}\n"
      ],
      "text/markdown": [
       "\n",
       "A data.frame: 6 × 8\n",
       "\n",
       "| <!--/--> | D &lt;dbl&gt; | M &lt;dbl&gt; | X1 &lt;dbl&gt; | X2 &lt;dbl&gt; | X3 &lt;dbl&gt; | Y &lt;dbl&gt; | Z1 &lt;dbl&gt; | Z2 &lt;dbl&gt; |\n",
       "|---|---|---|---|---|---|---|---|---|\n",
       "| 1 | -0.8474441 | -0.58585206 | -0.7012941 |  0.5498830 |  0.19655958 |  0.9116779 |  0.7263907 | -0.89149285 |\n",
       "| 2 | -1.6262148 |  2.00395356 | -1.8377283 | -0.7095460 | -0.50443494 | -0.2215374 | -0.8513481 | -0.02621535 |\n",
       "| 3 |  0.1614541 |  1.01051345 | -1.4470186 |  0.3221004 | -0.02075701 | -0.2469239 | -0.8426767 |  0.62002207 |\n",
       "| 4 |  2.3009195 | -2.82279254 | -0.3189441 | -1.8295047 | -0.70087536 | -1.5760471 | -0.9636417 |  1.54962139 |\n",
       "| 5 |  1.0838933 |  0.06353048 |  0.9142856 | -0.9856389 |  0.55416859 |  0.3526000 | -0.1109774 |  1.63705061 |\n",
       "| 6 | -1.7508287 | -0.17593255 | -1.5993489 | -0.1865325 |  0.01467747 |  0.1302770 |  1.5156057 | -1.11707145 |\n",
       "\n"
      ],
      "text/plain": [
       "  D          M           X1         X2         X3          Y         \n",
       "1 -0.8474441 -0.58585206 -0.7012941  0.5498830  0.19655958  0.9116779\n",
       "2 -1.6262148  2.00395356 -1.8377283 -0.7095460 -0.50443494 -0.2215374\n",
       "3  0.1614541  1.01051345 -1.4470186  0.3221004 -0.02075701 -0.2469239\n",
       "4  2.3009195 -2.82279254 -0.3189441 -1.8295047 -0.70087536 -1.5760471\n",
       "5  1.0838933  0.06353048  0.9142856 -0.9856389  0.55416859  0.3526000\n",
       "6 -1.7508287 -0.17593255 -1.5993489 -0.1865325  0.01467747  0.1302770\n",
       "  Z1         Z2         \n",
       "1  0.7263907 -0.89149285\n",
       "2 -0.8513481 -0.02621535\n",
       "3 -0.8426767  0.62002207\n",
       "4 -0.9636417  1.54962139\n",
       "5 -0.1109774  1.63705061\n",
       "6  1.5156057 -1.11707145"
      ]
     },
     "metadata": {},
     "output_type": "display_data"
    },
    {
     "data": {
      "text/html": [
       "<table class=\"dataframe\">\n",
       "<caption>A data.frame: 33 × 4</caption>\n",
       "<thead>\n",
       "\t<tr><th></th><th scope=col>estimate</th><th scope=col>p.value</th><th scope=col>2.5%</th><th scope=col>97.5%</th></tr>\n",
       "\t<tr><th></th><th scope=col>&lt;dbl&gt;</th><th scope=col>&lt;dbl&gt;</th><th scope=col>&lt;dbl&gt;</th><th scope=col>&lt;dbl&gt;</th></tr>\n",
       "</thead>\n",
       "<tbody>\n",
       "\t<tr><th scope=row>D _||_ X3 | Z2</th><td> 0.035622986</td><td>0.42737161</td><td>-0.052319125</td><td>0.12301869</td></tr>\n",
       "\t<tr><th scope=row>D _||_ X3 | X2, Z1</th><td> 0.016471580</td><td>0.71399002</td><td>-0.071498675</td><td>0.10418826</td></tr>\n",
       "\t<tr><th scope=row>D _||_ X3 | X1, X2</th><td> 0.039926831</td><td>0.37411682</td><td>-0.048108613</td><td>0.12734896</td></tr>\n",
       "\t<tr><th scope=row>D _||_ Z1 | X1, X2</th><td>-0.067806530</td><td>0.13080922</td><td>-0.154757149</td><td>0.02018035</td></tr>\n",
       "\t<tr><th scope=row>D _||_ Z2 | X2, Z1</th><td> 0.021481285</td><td>0.63264882</td><td>-0.066510991</td><td>0.10914297</td></tr>\n",
       "\t<tr><th scope=row>D _||_ Z2 | X1, X2</th><td> 0.010402617</td><td>0.81696370</td><td>-0.077535091</td><td>0.09818014</td></tr>\n",
       "\t<tr><th scope=row>M _||_ X1 | D</th><td> 0.003036436</td><td>0.94608428</td><td>-0.084764936</td><td>0.09079114</td></tr>\n",
       "\t<tr><th scope=row>M _||_ X2 | D</th><td>-0.020310731</td><td>0.65097821</td><td>-0.107897832</td><td>0.06758835</td></tr>\n",
       "\t<tr><th scope=row>M _||_ X3 | Z2</th><td> 0.035998270</td><td>0.42251471</td><td>-0.051944379</td><td>0.12338879</td></tr>\n",
       "\t<tr><th scope=row>M _||_ X3 | X2, Z1</th><td> 0.034793414</td><td>0.43868413</td><td>-0.053236017</td><td>0.12228805</td></tr>\n",
       "\t<tr><th scope=row>M _||_ X3 | X1, X2</th><td> 0.031167443</td><td>0.48789766</td><td>-0.056854949</td><td>0.11871058</td></tr>\n",
       "\t<tr><th scope=row>M _||_ X3 | D</th><td> 0.037606341</td><td>0.40207107</td><td>-0.050338336</td><td>0.12497433</td></tr>\n",
       "\t<tr><th scope=row>M _||_ Z1 | X1, X2</th><td>-0.010507345</td><td>0.81515401</td><td>-0.098283869</td><td>0.07743098</td></tr>\n",
       "\t<tr><th scope=row>M _||_ Z1 | D</th><td>-0.027709489</td><td>0.53705161</td><td>-0.115209116</td><td>0.06021551</td></tr>\n",
       "\t<tr><th scope=row>M _||_ Z2 | X2, Z1</th><td> 0.011402844</td><td>0.79972096</td><td>-0.076540670</td><td>0.09917077</td></tr>\n",
       "\t<tr><th scope=row>M _||_ Z2 | X1, X2</th><td> 0.013380830</td><td>0.76591502</td><td>-0.074573653</td><td>0.10112929</td></tr>\n",
       "\t<tr><th scope=row>M _||_ Z2 | D</th><td> 0.024889342</td><td>0.57928702</td><td>-0.063026909</td><td>0.11242342</td></tr>\n",
       "\t<tr><th scope=row>X1 _||_ X2 | Z1</th><td>-0.043270357</td><td>0.33490621</td><td>-0.130555519</td><td>0.04467784</td></tr>\n",
       "\t<tr><th scope=row>X1 _||_ X3</th><td>-0.030635229</td><td>0.49449301</td><td>-0.118010328</td><td>0.05720909</td></tr>\n",
       "\t<tr><th scope=row>X1 _||_ Y | D, X2, X3</th><td> 0.050645849</td><td>0.25990141</td><td>-0.037476176</td><td>0.13798962</td></tr>\n",
       "\t<tr><th scope=row>X1 _||_ Y | D, X2, Z2</th><td> 0.004868494</td><td>0.91383028</td><td>-0.083122446</td><td>0.09278430</td></tr>\n",
       "\t<tr><th scope=row>X1 _||_ Y | D, X2, Z1</th><td>-0.011695259</td><td>0.79490082</td><td>-0.099548593</td><td>0.07633852</td></tr>\n",
       "\t<tr><th scope=row>X1 _||_ Z2</th><td> 0.023442866</td><td>0.60116966</td><td>-0.064380143</td><td>0.11090659</td></tr>\n",
       "\t<tr><th scope=row>X2 _||_ X3 | Z2</th><td>-0.044212519</td><td>0.32447580</td><td>-0.131483376</td><td>0.04373571</td></tr>\n",
       "\t<tr><th scope=row>X3 _||_ Z1</th><td> 0.014336258</td><td>0.74925094</td><td>-0.073446806</td><td>0.10189948</td></tr>\n",
       "\t<tr><th scope=row>Y _||_ Z1 | X1, X2, Z2</th><td> 0.072416636</td><td>0.10688305</td><td>-0.015638050</td><td>0.15936362</td></tr>\n",
       "\t<tr><th scope=row>Y _||_ Z1 | D, X2, Z2</th><td> 0.062757076</td><td>0.16250945</td><td>-0.025337865</td><td>0.14988990</td></tr>\n",
       "\t<tr><th scope=row>Y _||_ Z1 | X1, X2, X3</th><td> 0.089653462</td><td>0.04571531</td><td> 0.001711880</td><td>0.17623042</td></tr>\n",
       "\t<tr><th scope=row>Y _||_ Z1 | D, X2, X3</th><td> 0.085652185</td><td>0.05634070</td><td>-0.002320376</td><td>0.17231940</td></tr>\n",
       "\t<tr><th scope=row>Y _||_ Z2 | X2, X3, Z1</th><td>-0.037725229</td><td>0.40153484</td><td>-0.125266732</td><td>0.05039710</td></tr>\n",
       "\t<tr><th scope=row>Y _||_ Z2 | X1, X2, X3</th><td>-0.031782983</td><td>0.47978394</td><td>-0.119405898</td><td>0.05632960</td></tr>\n",
       "\t<tr><th scope=row>Y _||_ Z2 | D, X2, X3</th><td>-0.026775802</td><td>0.55166686</td><td>-0.114462634</td><td>0.06132376</td></tr>\n",
       "\t<tr><th scope=row>Z1 _||_ Z2</th><td>-0.061816135</td><td>0.16763062</td><td>-0.148705546</td><td>0.02601547</td></tr>\n",
       "</tbody>\n",
       "</table>\n"
      ],
      "text/latex": [
       "A data.frame: 33 × 4\n",
       "\\begin{tabular}{r|llll}\n",
       "  & estimate & p.value & 2.5\\% & 97.5\\%\\\\\n",
       "  & <dbl> & <dbl> & <dbl> & <dbl>\\\\\n",
       "\\hline\n",
       "\tD \\_\\textbar{}\\textbar{}\\_ X3 \\textbar{} Z2 &  0.035622986 & 0.42737161 & -0.052319125 & 0.12301869\\\\\n",
       "\tD \\_\\textbar{}\\textbar{}\\_ X3 \\textbar{} X2, Z1 &  0.016471580 & 0.71399002 & -0.071498675 & 0.10418826\\\\\n",
       "\tD \\_\\textbar{}\\textbar{}\\_ X3 \\textbar{} X1, X2 &  0.039926831 & 0.37411682 & -0.048108613 & 0.12734896\\\\\n",
       "\tD \\_\\textbar{}\\textbar{}\\_ Z1 \\textbar{} X1, X2 & -0.067806530 & 0.13080922 & -0.154757149 & 0.02018035\\\\\n",
       "\tD \\_\\textbar{}\\textbar{}\\_ Z2 \\textbar{} X2, Z1 &  0.021481285 & 0.63264882 & -0.066510991 & 0.10914297\\\\\n",
       "\tD \\_\\textbar{}\\textbar{}\\_ Z2 \\textbar{} X1, X2 &  0.010402617 & 0.81696370 & -0.077535091 & 0.09818014\\\\\n",
       "\tM \\_\\textbar{}\\textbar{}\\_ X1 \\textbar{} D &  0.003036436 & 0.94608428 & -0.084764936 & 0.09079114\\\\\n",
       "\tM \\_\\textbar{}\\textbar{}\\_ X2 \\textbar{} D & -0.020310731 & 0.65097821 & -0.107897832 & 0.06758835\\\\\n",
       "\tM \\_\\textbar{}\\textbar{}\\_ X3 \\textbar{} Z2 &  0.035998270 & 0.42251471 & -0.051944379 & 0.12338879\\\\\n",
       "\tM \\_\\textbar{}\\textbar{}\\_ X3 \\textbar{} X2, Z1 &  0.034793414 & 0.43868413 & -0.053236017 & 0.12228805\\\\\n",
       "\tM \\_\\textbar{}\\textbar{}\\_ X3 \\textbar{} X1, X2 &  0.031167443 & 0.48789766 & -0.056854949 & 0.11871058\\\\\n",
       "\tM \\_\\textbar{}\\textbar{}\\_ X3 \\textbar{} D &  0.037606341 & 0.40207107 & -0.050338336 & 0.12497433\\\\\n",
       "\tM \\_\\textbar{}\\textbar{}\\_ Z1 \\textbar{} X1, X2 & -0.010507345 & 0.81515401 & -0.098283869 & 0.07743098\\\\\n",
       "\tM \\_\\textbar{}\\textbar{}\\_ Z1 \\textbar{} D & -0.027709489 & 0.53705161 & -0.115209116 & 0.06021551\\\\\n",
       "\tM \\_\\textbar{}\\textbar{}\\_ Z2 \\textbar{} X2, Z1 &  0.011402844 & 0.79972096 & -0.076540670 & 0.09917077\\\\\n",
       "\tM \\_\\textbar{}\\textbar{}\\_ Z2 \\textbar{} X1, X2 &  0.013380830 & 0.76591502 & -0.074573653 & 0.10112929\\\\\n",
       "\tM \\_\\textbar{}\\textbar{}\\_ Z2 \\textbar{} D &  0.024889342 & 0.57928702 & -0.063026909 & 0.11242342\\\\\n",
       "\tX1 \\_\\textbar{}\\textbar{}\\_ X2 \\textbar{} Z1 & -0.043270357 & 0.33490621 & -0.130555519 & 0.04467784\\\\\n",
       "\tX1 \\_\\textbar{}\\textbar{}\\_ X3 & -0.030635229 & 0.49449301 & -0.118010328 & 0.05720909\\\\\n",
       "\tX1 \\_\\textbar{}\\textbar{}\\_ Y \\textbar{} D, X2, X3 &  0.050645849 & 0.25990141 & -0.037476176 & 0.13798962\\\\\n",
       "\tX1 \\_\\textbar{}\\textbar{}\\_ Y \\textbar{} D, X2, Z2 &  0.004868494 & 0.91383028 & -0.083122446 & 0.09278430\\\\\n",
       "\tX1 \\_\\textbar{}\\textbar{}\\_ Y \\textbar{} D, X2, Z1 & -0.011695259 & 0.79490082 & -0.099548593 & 0.07633852\\\\\n",
       "\tX1 \\_\\textbar{}\\textbar{}\\_ Z2 &  0.023442866 & 0.60116966 & -0.064380143 & 0.11090659\\\\\n",
       "\tX2 \\_\\textbar{}\\textbar{}\\_ X3 \\textbar{} Z2 & -0.044212519 & 0.32447580 & -0.131483376 & 0.04373571\\\\\n",
       "\tX3 \\_\\textbar{}\\textbar{}\\_ Z1 &  0.014336258 & 0.74925094 & -0.073446806 & 0.10189948\\\\\n",
       "\tY \\_\\textbar{}\\textbar{}\\_ Z1 \\textbar{} X1, X2, Z2 &  0.072416636 & 0.10688305 & -0.015638050 & 0.15936362\\\\\n",
       "\tY \\_\\textbar{}\\textbar{}\\_ Z1 \\textbar{} D, X2, Z2 &  0.062757076 & 0.16250945 & -0.025337865 & 0.14988990\\\\\n",
       "\tY \\_\\textbar{}\\textbar{}\\_ Z1 \\textbar{} X1, X2, X3 &  0.089653462 & 0.04571531 &  0.001711880 & 0.17623042\\\\\n",
       "\tY \\_\\textbar{}\\textbar{}\\_ Z1 \\textbar{} D, X2, X3 &  0.085652185 & 0.05634070 & -0.002320376 & 0.17231940\\\\\n",
       "\tY \\_\\textbar{}\\textbar{}\\_ Z2 \\textbar{} X2, X3, Z1 & -0.037725229 & 0.40153484 & -0.125266732 & 0.05039710\\\\\n",
       "\tY \\_\\textbar{}\\textbar{}\\_ Z2 \\textbar{} X1, X2, X3 & -0.031782983 & 0.47978394 & -0.119405898 & 0.05632960\\\\\n",
       "\tY \\_\\textbar{}\\textbar{}\\_ Z2 \\textbar{} D, X2, X3 & -0.026775802 & 0.55166686 & -0.114462634 & 0.06132376\\\\\n",
       "\tZ1 \\_\\textbar{}\\textbar{}\\_ Z2 & -0.061816135 & 0.16763062 & -0.148705546 & 0.02601547\\\\\n",
       "\\end{tabular}\n"
      ],
      "text/markdown": [
       "\n",
       "A data.frame: 33 × 4\n",
       "\n",
       "| <!--/--> | estimate &lt;dbl&gt; | p.value &lt;dbl&gt; | 2.5% &lt;dbl&gt; | 97.5% &lt;dbl&gt; |\n",
       "|---|---|---|---|---|\n",
       "| D _||_ X3 | Z2 |  0.035622986 | 0.42737161 | -0.052319125 | 0.12301869 |\n",
       "| D _||_ X3 | X2, Z1 |  0.016471580 | 0.71399002 | -0.071498675 | 0.10418826 |\n",
       "| D _||_ X3 | X1, X2 |  0.039926831 | 0.37411682 | -0.048108613 | 0.12734896 |\n",
       "| D _||_ Z1 | X1, X2 | -0.067806530 | 0.13080922 | -0.154757149 | 0.02018035 |\n",
       "| D _||_ Z2 | X2, Z1 |  0.021481285 | 0.63264882 | -0.066510991 | 0.10914297 |\n",
       "| D _||_ Z2 | X1, X2 |  0.010402617 | 0.81696370 | -0.077535091 | 0.09818014 |\n",
       "| M _||_ X1 | D |  0.003036436 | 0.94608428 | -0.084764936 | 0.09079114 |\n",
       "| M _||_ X2 | D | -0.020310731 | 0.65097821 | -0.107897832 | 0.06758835 |\n",
       "| M _||_ X3 | Z2 |  0.035998270 | 0.42251471 | -0.051944379 | 0.12338879 |\n",
       "| M _||_ X3 | X2, Z1 |  0.034793414 | 0.43868413 | -0.053236017 | 0.12228805 |\n",
       "| M _||_ X3 | X1, X2 |  0.031167443 | 0.48789766 | -0.056854949 | 0.11871058 |\n",
       "| M _||_ X3 | D |  0.037606341 | 0.40207107 | -0.050338336 | 0.12497433 |\n",
       "| M _||_ Z1 | X1, X2 | -0.010507345 | 0.81515401 | -0.098283869 | 0.07743098 |\n",
       "| M _||_ Z1 | D | -0.027709489 | 0.53705161 | -0.115209116 | 0.06021551 |\n",
       "| M _||_ Z2 | X2, Z1 |  0.011402844 | 0.79972096 | -0.076540670 | 0.09917077 |\n",
       "| M _||_ Z2 | X1, X2 |  0.013380830 | 0.76591502 | -0.074573653 | 0.10112929 |\n",
       "| M _||_ Z2 | D |  0.024889342 | 0.57928702 | -0.063026909 | 0.11242342 |\n",
       "| X1 _||_ X2 | Z1 | -0.043270357 | 0.33490621 | -0.130555519 | 0.04467784 |\n",
       "| X1 _||_ X3 | -0.030635229 | 0.49449301 | -0.118010328 | 0.05720909 |\n",
       "| X1 _||_ Y | D, X2, X3 |  0.050645849 | 0.25990141 | -0.037476176 | 0.13798962 |\n",
       "| X1 _||_ Y | D, X2, Z2 |  0.004868494 | 0.91383028 | -0.083122446 | 0.09278430 |\n",
       "| X1 _||_ Y | D, X2, Z1 | -0.011695259 | 0.79490082 | -0.099548593 | 0.07633852 |\n",
       "| X1 _||_ Z2 |  0.023442866 | 0.60116966 | -0.064380143 | 0.11090659 |\n",
       "| X2 _||_ X3 | Z2 | -0.044212519 | 0.32447580 | -0.131483376 | 0.04373571 |\n",
       "| X3 _||_ Z1 |  0.014336258 | 0.74925094 | -0.073446806 | 0.10189948 |\n",
       "| Y _||_ Z1 | X1, X2, Z2 |  0.072416636 | 0.10688305 | -0.015638050 | 0.15936362 |\n",
       "| Y _||_ Z1 | D, X2, Z2 |  0.062757076 | 0.16250945 | -0.025337865 | 0.14988990 |\n",
       "| Y _||_ Z1 | X1, X2, X3 |  0.089653462 | 0.04571531 |  0.001711880 | 0.17623042 |\n",
       "| Y _||_ Z1 | D, X2, X3 |  0.085652185 | 0.05634070 | -0.002320376 | 0.17231940 |\n",
       "| Y _||_ Z2 | X2, X3, Z1 | -0.037725229 | 0.40153484 | -0.125266732 | 0.05039710 |\n",
       "| Y _||_ Z2 | X1, X2, X3 | -0.031782983 | 0.47978394 | -0.119405898 | 0.05632960 |\n",
       "| Y _||_ Z2 | D, X2, X3 | -0.026775802 | 0.55166686 | -0.114462634 | 0.06132376 |\n",
       "| Z1 _||_ Z2 | -0.061816135 | 0.16763062 | -0.148705546 | 0.02601547 |\n",
       "\n"
      ],
      "text/plain": [
       "                       estimate     p.value    2.5%         97.5%     \n",
       "D _||_ X3 | Z2          0.035622986 0.42737161 -0.052319125 0.12301869\n",
       "D _||_ X3 | X2, Z1      0.016471580 0.71399002 -0.071498675 0.10418826\n",
       "D _||_ X3 | X1, X2      0.039926831 0.37411682 -0.048108613 0.12734896\n",
       "D _||_ Z1 | X1, X2     -0.067806530 0.13080922 -0.154757149 0.02018035\n",
       "D _||_ Z2 | X2, Z1      0.021481285 0.63264882 -0.066510991 0.10914297\n",
       "D _||_ Z2 | X1, X2      0.010402617 0.81696370 -0.077535091 0.09818014\n",
       "M _||_ X1 | D           0.003036436 0.94608428 -0.084764936 0.09079114\n",
       "M _||_ X2 | D          -0.020310731 0.65097821 -0.107897832 0.06758835\n",
       "M _||_ X3 | Z2          0.035998270 0.42251471 -0.051944379 0.12338879\n",
       "M _||_ X3 | X2, Z1      0.034793414 0.43868413 -0.053236017 0.12228805\n",
       "M _||_ X3 | X1, X2      0.031167443 0.48789766 -0.056854949 0.11871058\n",
       "M _||_ X3 | D           0.037606341 0.40207107 -0.050338336 0.12497433\n",
       "M _||_ Z1 | X1, X2     -0.010507345 0.81515401 -0.098283869 0.07743098\n",
       "M _||_ Z1 | D          -0.027709489 0.53705161 -0.115209116 0.06021551\n",
       "M _||_ Z2 | X2, Z1      0.011402844 0.79972096 -0.076540670 0.09917077\n",
       "M _||_ Z2 | X1, X2      0.013380830 0.76591502 -0.074573653 0.10112929\n",
       "M _||_ Z2 | D           0.024889342 0.57928702 -0.063026909 0.11242342\n",
       "X1 _||_ X2 | Z1        -0.043270357 0.33490621 -0.130555519 0.04467784\n",
       "X1 _||_ X3             -0.030635229 0.49449301 -0.118010328 0.05720909\n",
       "X1 _||_ Y | D, X2, X3   0.050645849 0.25990141 -0.037476176 0.13798962\n",
       "X1 _||_ Y | D, X2, Z2   0.004868494 0.91383028 -0.083122446 0.09278430\n",
       "X1 _||_ Y | D, X2, Z1  -0.011695259 0.79490082 -0.099548593 0.07633852\n",
       "X1 _||_ Z2              0.023442866 0.60116966 -0.064380143 0.11090659\n",
       "X2 _||_ X3 | Z2        -0.044212519 0.32447580 -0.131483376 0.04373571\n",
       "X3 _||_ Z1              0.014336258 0.74925094 -0.073446806 0.10189948\n",
       "Y _||_ Z1 | X1, X2, Z2  0.072416636 0.10688305 -0.015638050 0.15936362\n",
       "Y _||_ Z1 | D, X2, Z2   0.062757076 0.16250945 -0.025337865 0.14988990\n",
       "Y _||_ Z1 | X1, X2, X3  0.089653462 0.04571531  0.001711880 0.17623042\n",
       "Y _||_ Z1 | D, X2, X3   0.085652185 0.05634070 -0.002320376 0.17231940\n",
       "Y _||_ Z2 | X2, X3, Z1 -0.037725229 0.40153484 -0.125266732 0.05039710\n",
       "Y _||_ Z2 | X1, X2, X3 -0.031782983 0.47978394 -0.119405898 0.05632960\n",
       "Y _||_ Z2 | D, X2, X3  -0.026775802 0.55166686 -0.114462634 0.06132376\n",
       "Z1 _||_ Z2             -0.061816135 0.16763062 -0.148705546 0.02601547"
      ]
     },
     "metadata": {},
     "output_type": "display_data"
    }
   ],
   "source": [
    "set.seed(1)\n",
    "x <- simulateSEM(G)\n",
    "head(x)\n",
    "#cov(x)\n",
    "localTests(G, data = x, type = c(\"cis\"))\n",
    "\n"
   ]
  },
  {
   "cell_type": "markdown",
   "metadata": {
    "id": "clx6dwzWeBhB",
    "papermill": {
     "duration": 0.035006,
     "end_time": "2021-03-23T20:01:18.227478",
     "exception": false,
     "start_time": "2021-03-23T20:01:18.192472",
     "status": "completed"
    },
    "tags": []
   },
   "source": [
    "Next we replaced $D$ by $\\bar D$ generated differently:\n",
    "\n",
    "$$\n",
    "\\bar D= (D + Y)/2\n",
    "$$\n",
    "\n",
    "So basically $\\bar D$ is an average of $D$ and $Y$ generated by $D$.  We then test if the resulting collection of random variables satisifes conditional indepdendence restrictions, exploiting linearity.  We end up rejectiong these restrictions and thefore the validity of this model for the data generated in this way.  This makes sense, because the new data no longer obeys the previous DAG structure.\n",
    "\n"
   ]
  },
  {
   "cell_type": "code",
   "execution_count": 14,
   "metadata": {
    "execution": {
     "iopub.execute_input": "2021-03-23T20:01:18.298690Z",
     "iopub.status.busy": "2021-03-23T20:01:18.296632Z",
     "iopub.status.idle": "2021-03-23T20:01:18.372871Z",
     "shell.execute_reply": "2021-03-23T20:01:18.371545Z"
    },
    "executionInfo": {
     "elapsed": 8322,
     "status": "aborted",
     "timestamp": 1658251931973,
     "user": {
      "displayName": "Jhon Kevin Flores Rojas",
      "userId": "10267608749788811245"
     },
     "user_tz": 300
    },
    "id": "ASHdiyT0eBhB",
    "papermill": {
     "duration": 0.113142,
     "end_time": "2021-03-23T20:01:18.373034",
     "exception": false,
     "start_time": "2021-03-23T20:01:18.259892",
     "status": "completed"
    },
    "tags": [],
    "vscode": {
     "languageId": "r"
    }
   },
   "outputs": [
    {
     "data": {
      "text/html": [
       "<table class=\"dataframe\">\n",
       "<caption>A data.frame: 33 × 4</caption>\n",
       "<thead>\n",
       "\t<tr><th></th><th scope=col>estimate</th><th scope=col>p.value</th><th scope=col>2.5%</th><th scope=col>97.5%</th></tr>\n",
       "\t<tr><th></th><th scope=col>&lt;dbl&gt;</th><th scope=col>&lt;dbl&gt;</th><th scope=col>&lt;dbl&gt;</th><th scope=col>&lt;dbl&gt;</th></tr>\n",
       "</thead>\n",
       "<tbody>\n",
       "\t<tr><th scope=row>D _||_ X3 | Z2</th><td> 0.495232256</td><td>1.157134e-33</td><td> 0.42697450</td><td> 0.56288383</td></tr>\n",
       "\t<tr><th scope=row>D _||_ X3 | X2, Z1</th><td> 0.518071072</td><td>2.604425e-37</td><td> 0.45206603</td><td> 0.58462121</td></tr>\n",
       "\t<tr><th scope=row>D _||_ X3 | X1, X2</th><td> 0.575983100</td><td>2.622904e-48</td><td> 0.51681228</td><td> 0.63998753</td></tr>\n",
       "\t<tr><th scope=row>D _||_ Z1 | X1, X2</th><td>-0.005755708</td><td>8.981032e-01</td><td>-0.09357551</td><td> 0.08215274</td></tr>\n",
       "\t<tr><th scope=row>D _||_ Z2 | X2, Z1</th><td>-0.143108556</td><td>1.346074e-03</td><td>-0.22814881</td><td>-0.05594543</td></tr>\n",
       "\t<tr><th scope=row>D _||_ Z2 | X1, X2</th><td>-0.163192808</td><td>2.487265e-04</td><td>-0.24757363</td><td>-0.07642216</td></tr>\n",
       "\t<tr><th scope=row>M _||_ X1 | D</th><td>-0.129098627</td><td>3.836547e-03</td><td>-0.21447770</td><td>-0.04179376</td></tr>\n",
       "\t<tr><th scope=row>M _||_ X2 | D</th><td> 0.101698217</td><td>2.303920e-02</td><td> 0.01404511</td><td> 0.18781599</td></tr>\n",
       "\t<tr><th scope=row>M _||_ X3 | Z2</th><td> 0.035998270</td><td>4.225147e-01</td><td>-0.05194438</td><td> 0.12338879</td></tr>\n",
       "\t<tr><th scope=row>M _||_ X3 | X2, Z1</th><td> 0.034793414</td><td>4.386841e-01</td><td>-0.05323602</td><td> 0.12228805</td></tr>\n",
       "\t<tr><th scope=row>M _||_ X3 | X1, X2</th><td> 0.031167443</td><td>4.878977e-01</td><td>-0.05685495</td><td> 0.11871058</td></tr>\n",
       "\t<tr><th scope=row>M _||_ X3 | D</th><td> 0.098181473</td><td>2.825899e-02</td><td> 0.01049342</td><td> 0.18438538</td></tr>\n",
       "\t<tr><th scope=row>M _||_ Z1 | X1, X2</th><td>-0.010507345</td><td>8.151540e-01</td><td>-0.09828387</td><td> 0.07743098</td></tr>\n",
       "\t<tr><th scope=row>M _||_ Z1 | D</th><td>-0.020488073</td><td>6.481348e-01</td><td>-0.10807319</td><td> 0.06741174</td></tr>\n",
       "\t<tr><th scope=row>M _||_ Z2 | X2, Z1</th><td> 0.011402844</td><td>7.997210e-01</td><td>-0.07654067</td><td> 0.09917077</td></tr>\n",
       "\t<tr><th scope=row>M _||_ Z2 | X1, X2</th><td> 0.013380830</td><td>7.659150e-01</td><td>-0.07457365</td><td> 0.10112929</td></tr>\n",
       "\t<tr><th scope=row>M _||_ Z2 | D</th><td>-0.060513384</td><td>1.772260e-01</td><td>-0.14751303</td><td> 0.02741070</td></tr>\n",
       "\t<tr><th scope=row>X1 _||_ X2 | Z1</th><td>-0.043270357</td><td>3.349062e-01</td><td>-0.13055552</td><td> 0.04467784</td></tr>\n",
       "\t<tr><th scope=row>X1 _||_ X3</th><td>-0.030635229</td><td>4.944930e-01</td><td>-0.11801033</td><td> 0.05720909</td></tr>\n",
       "\t<tr><th scope=row>X1 _||_ Y | D, X2, X3</th><td>-0.327390476</td><td>4.197819e-14</td><td>-0.40448127</td><td>-0.24659654</td></tr>\n",
       "\t<tr><th scope=row>X1 _||_ Y | D, X2, Z2</th><td>-0.422336837</td><td>1.328412e-23</td><td>-0.49413839</td><td>-0.34763424</td></tr>\n",
       "\t<tr><th scope=row>X1 _||_ Y | D, X2, Z1</th><td>-0.436724867</td><td>2.334230e-25</td><td>-0.50771267</td><td>-0.36314146</td></tr>\n",
       "\t<tr><th scope=row>X1 _||_ Z2</th><td> 0.023442866</td><td>6.011697e-01</td><td>-0.06438014</td><td> 0.11090659</td></tr>\n",
       "\t<tr><th scope=row>X2 _||_ X3 | Z2</th><td>-0.044212519</td><td>3.244758e-01</td><td>-0.13148338</td><td> 0.04373571</td></tr>\n",
       "\t<tr><th scope=row>X3 _||_ Z1</th><td> 0.014336258</td><td>7.492509e-01</td><td>-0.07344681</td><td> 0.10189948</td></tr>\n",
       "\t<tr><th scope=row>Y _||_ Z1 | X1, X2, Z2</th><td> 0.072416636</td><td>1.068831e-01</td><td>-0.01563805</td><td> 0.15936362</td></tr>\n",
       "\t<tr><th scope=row>Y _||_ Z1 | D, X2, Z2</th><td>-0.011415266</td><td>7.997057e-01</td><td>-0.09927132</td><td> 0.07661692</td></tr>\n",
       "\t<tr><th scope=row>Y _||_ Z1 | X1, X2, X3</th><td> 0.089653462</td><td>4.571531e-02</td><td> 0.00171188</td><td> 0.17623042</td></tr>\n",
       "\t<tr><th scope=row>Y _||_ Z1 | D, X2, X3</th><td> 0.022842616</td><td>6.116000e-01</td><td>-0.06524363</td><td> 0.11057664</td></tr>\n",
       "\t<tr><th scope=row>Y _||_ Z2 | X2, X3, Z1</th><td>-0.037725229</td><td>4.015348e-01</td><td>-0.12526673</td><td> 0.05039710</td></tr>\n",
       "\t<tr><th scope=row>Y _||_ Z2 | X1, X2, X3</th><td>-0.031782983</td><td>4.797839e-01</td><td>-0.11940590</td><td> 0.05632960</td></tr>\n",
       "\t<tr><th scope=row>Y _||_ Z2 | D, X2, X3</th><td>-0.040190394</td><td>3.714516e-01</td><td>-0.12769636</td><td> 0.04793415</td></tr>\n",
       "\t<tr><th scope=row>Z1 _||_ Z2</th><td>-0.061816135</td><td>1.676306e-01</td><td>-0.14870555</td><td> 0.02601547</td></tr>\n",
       "</tbody>\n",
       "</table>\n"
      ],
      "text/latex": [
       "A data.frame: 33 × 4\n",
       "\\begin{tabular}{r|llll}\n",
       "  & estimate & p.value & 2.5\\% & 97.5\\%\\\\\n",
       "  & <dbl> & <dbl> & <dbl> & <dbl>\\\\\n",
       "\\hline\n",
       "\tD \\_\\textbar{}\\textbar{}\\_ X3 \\textbar{} Z2 &  0.495232256 & 1.157134e-33 &  0.42697450 &  0.56288383\\\\\n",
       "\tD \\_\\textbar{}\\textbar{}\\_ X3 \\textbar{} X2, Z1 &  0.518071072 & 2.604425e-37 &  0.45206603 &  0.58462121\\\\\n",
       "\tD \\_\\textbar{}\\textbar{}\\_ X3 \\textbar{} X1, X2 &  0.575983100 & 2.622904e-48 &  0.51681228 &  0.63998753\\\\\n",
       "\tD \\_\\textbar{}\\textbar{}\\_ Z1 \\textbar{} X1, X2 & -0.005755708 & 8.981032e-01 & -0.09357551 &  0.08215274\\\\\n",
       "\tD \\_\\textbar{}\\textbar{}\\_ Z2 \\textbar{} X2, Z1 & -0.143108556 & 1.346074e-03 & -0.22814881 & -0.05594543\\\\\n",
       "\tD \\_\\textbar{}\\textbar{}\\_ Z2 \\textbar{} X1, X2 & -0.163192808 & 2.487265e-04 & -0.24757363 & -0.07642216\\\\\n",
       "\tM \\_\\textbar{}\\textbar{}\\_ X1 \\textbar{} D & -0.129098627 & 3.836547e-03 & -0.21447770 & -0.04179376\\\\\n",
       "\tM \\_\\textbar{}\\textbar{}\\_ X2 \\textbar{} D &  0.101698217 & 2.303920e-02 &  0.01404511 &  0.18781599\\\\\n",
       "\tM \\_\\textbar{}\\textbar{}\\_ X3 \\textbar{} Z2 &  0.035998270 & 4.225147e-01 & -0.05194438 &  0.12338879\\\\\n",
       "\tM \\_\\textbar{}\\textbar{}\\_ X3 \\textbar{} X2, Z1 &  0.034793414 & 4.386841e-01 & -0.05323602 &  0.12228805\\\\\n",
       "\tM \\_\\textbar{}\\textbar{}\\_ X3 \\textbar{} X1, X2 &  0.031167443 & 4.878977e-01 & -0.05685495 &  0.11871058\\\\\n",
       "\tM \\_\\textbar{}\\textbar{}\\_ X3 \\textbar{} D &  0.098181473 & 2.825899e-02 &  0.01049342 &  0.18438538\\\\\n",
       "\tM \\_\\textbar{}\\textbar{}\\_ Z1 \\textbar{} X1, X2 & -0.010507345 & 8.151540e-01 & -0.09828387 &  0.07743098\\\\\n",
       "\tM \\_\\textbar{}\\textbar{}\\_ Z1 \\textbar{} D & -0.020488073 & 6.481348e-01 & -0.10807319 &  0.06741174\\\\\n",
       "\tM \\_\\textbar{}\\textbar{}\\_ Z2 \\textbar{} X2, Z1 &  0.011402844 & 7.997210e-01 & -0.07654067 &  0.09917077\\\\\n",
       "\tM \\_\\textbar{}\\textbar{}\\_ Z2 \\textbar{} X1, X2 &  0.013380830 & 7.659150e-01 & -0.07457365 &  0.10112929\\\\\n",
       "\tM \\_\\textbar{}\\textbar{}\\_ Z2 \\textbar{} D & -0.060513384 & 1.772260e-01 & -0.14751303 &  0.02741070\\\\\n",
       "\tX1 \\_\\textbar{}\\textbar{}\\_ X2 \\textbar{} Z1 & -0.043270357 & 3.349062e-01 & -0.13055552 &  0.04467784\\\\\n",
       "\tX1 \\_\\textbar{}\\textbar{}\\_ X3 & -0.030635229 & 4.944930e-01 & -0.11801033 &  0.05720909\\\\\n",
       "\tX1 \\_\\textbar{}\\textbar{}\\_ Y \\textbar{} D, X2, X3 & -0.327390476 & 4.197819e-14 & -0.40448127 & -0.24659654\\\\\n",
       "\tX1 \\_\\textbar{}\\textbar{}\\_ Y \\textbar{} D, X2, Z2 & -0.422336837 & 1.328412e-23 & -0.49413839 & -0.34763424\\\\\n",
       "\tX1 \\_\\textbar{}\\textbar{}\\_ Y \\textbar{} D, X2, Z1 & -0.436724867 & 2.334230e-25 & -0.50771267 & -0.36314146\\\\\n",
       "\tX1 \\_\\textbar{}\\textbar{}\\_ Z2 &  0.023442866 & 6.011697e-01 & -0.06438014 &  0.11090659\\\\\n",
       "\tX2 \\_\\textbar{}\\textbar{}\\_ X3 \\textbar{} Z2 & -0.044212519 & 3.244758e-01 & -0.13148338 &  0.04373571\\\\\n",
       "\tX3 \\_\\textbar{}\\textbar{}\\_ Z1 &  0.014336258 & 7.492509e-01 & -0.07344681 &  0.10189948\\\\\n",
       "\tY \\_\\textbar{}\\textbar{}\\_ Z1 \\textbar{} X1, X2, Z2 &  0.072416636 & 1.068831e-01 & -0.01563805 &  0.15936362\\\\\n",
       "\tY \\_\\textbar{}\\textbar{}\\_ Z1 \\textbar{} D, X2, Z2 & -0.011415266 & 7.997057e-01 & -0.09927132 &  0.07661692\\\\\n",
       "\tY \\_\\textbar{}\\textbar{}\\_ Z1 \\textbar{} X1, X2, X3 &  0.089653462 & 4.571531e-02 &  0.00171188 &  0.17623042\\\\\n",
       "\tY \\_\\textbar{}\\textbar{}\\_ Z1 \\textbar{} D, X2, X3 &  0.022842616 & 6.116000e-01 & -0.06524363 &  0.11057664\\\\\n",
       "\tY \\_\\textbar{}\\textbar{}\\_ Z2 \\textbar{} X2, X3, Z1 & -0.037725229 & 4.015348e-01 & -0.12526673 &  0.05039710\\\\\n",
       "\tY \\_\\textbar{}\\textbar{}\\_ Z2 \\textbar{} X1, X2, X3 & -0.031782983 & 4.797839e-01 & -0.11940590 &  0.05632960\\\\\n",
       "\tY \\_\\textbar{}\\textbar{}\\_ Z2 \\textbar{} D, X2, X3 & -0.040190394 & 3.714516e-01 & -0.12769636 &  0.04793415\\\\\n",
       "\tZ1 \\_\\textbar{}\\textbar{}\\_ Z2 & -0.061816135 & 1.676306e-01 & -0.14870555 &  0.02601547\\\\\n",
       "\\end{tabular}\n"
      ],
      "text/markdown": [
       "\n",
       "A data.frame: 33 × 4\n",
       "\n",
       "| <!--/--> | estimate &lt;dbl&gt; | p.value &lt;dbl&gt; | 2.5% &lt;dbl&gt; | 97.5% &lt;dbl&gt; |\n",
       "|---|---|---|---|---|\n",
       "| D _||_ X3 | Z2 |  0.495232256 | 1.157134e-33 |  0.42697450 |  0.56288383 |\n",
       "| D _||_ X3 | X2, Z1 |  0.518071072 | 2.604425e-37 |  0.45206603 |  0.58462121 |\n",
       "| D _||_ X3 | X1, X2 |  0.575983100 | 2.622904e-48 |  0.51681228 |  0.63998753 |\n",
       "| D _||_ Z1 | X1, X2 | -0.005755708 | 8.981032e-01 | -0.09357551 |  0.08215274 |\n",
       "| D _||_ Z2 | X2, Z1 | -0.143108556 | 1.346074e-03 | -0.22814881 | -0.05594543 |\n",
       "| D _||_ Z2 | X1, X2 | -0.163192808 | 2.487265e-04 | -0.24757363 | -0.07642216 |\n",
       "| M _||_ X1 | D | -0.129098627 | 3.836547e-03 | -0.21447770 | -0.04179376 |\n",
       "| M _||_ X2 | D |  0.101698217 | 2.303920e-02 |  0.01404511 |  0.18781599 |\n",
       "| M _||_ X3 | Z2 |  0.035998270 | 4.225147e-01 | -0.05194438 |  0.12338879 |\n",
       "| M _||_ X3 | X2, Z1 |  0.034793414 | 4.386841e-01 | -0.05323602 |  0.12228805 |\n",
       "| M _||_ X3 | X1, X2 |  0.031167443 | 4.878977e-01 | -0.05685495 |  0.11871058 |\n",
       "| M _||_ X3 | D |  0.098181473 | 2.825899e-02 |  0.01049342 |  0.18438538 |\n",
       "| M _||_ Z1 | X1, X2 | -0.010507345 | 8.151540e-01 | -0.09828387 |  0.07743098 |\n",
       "| M _||_ Z1 | D | -0.020488073 | 6.481348e-01 | -0.10807319 |  0.06741174 |\n",
       "| M _||_ Z2 | X2, Z1 |  0.011402844 | 7.997210e-01 | -0.07654067 |  0.09917077 |\n",
       "| M _||_ Z2 | X1, X2 |  0.013380830 | 7.659150e-01 | -0.07457365 |  0.10112929 |\n",
       "| M _||_ Z2 | D | -0.060513384 | 1.772260e-01 | -0.14751303 |  0.02741070 |\n",
       "| X1 _||_ X2 | Z1 | -0.043270357 | 3.349062e-01 | -0.13055552 |  0.04467784 |\n",
       "| X1 _||_ X3 | -0.030635229 | 4.944930e-01 | -0.11801033 |  0.05720909 |\n",
       "| X1 _||_ Y | D, X2, X3 | -0.327390476 | 4.197819e-14 | -0.40448127 | -0.24659654 |\n",
       "| X1 _||_ Y | D, X2, Z2 | -0.422336837 | 1.328412e-23 | -0.49413839 | -0.34763424 |\n",
       "| X1 _||_ Y | D, X2, Z1 | -0.436724867 | 2.334230e-25 | -0.50771267 | -0.36314146 |\n",
       "| X1 _||_ Z2 |  0.023442866 | 6.011697e-01 | -0.06438014 |  0.11090659 |\n",
       "| X2 _||_ X3 | Z2 | -0.044212519 | 3.244758e-01 | -0.13148338 |  0.04373571 |\n",
       "| X3 _||_ Z1 |  0.014336258 | 7.492509e-01 | -0.07344681 |  0.10189948 |\n",
       "| Y _||_ Z1 | X1, X2, Z2 |  0.072416636 | 1.068831e-01 | -0.01563805 |  0.15936362 |\n",
       "| Y _||_ Z1 | D, X2, Z2 | -0.011415266 | 7.997057e-01 | -0.09927132 |  0.07661692 |\n",
       "| Y _||_ Z1 | X1, X2, X3 |  0.089653462 | 4.571531e-02 |  0.00171188 |  0.17623042 |\n",
       "| Y _||_ Z1 | D, X2, X3 |  0.022842616 | 6.116000e-01 | -0.06524363 |  0.11057664 |\n",
       "| Y _||_ Z2 | X2, X3, Z1 | -0.037725229 | 4.015348e-01 | -0.12526673 |  0.05039710 |\n",
       "| Y _||_ Z2 | X1, X2, X3 | -0.031782983 | 4.797839e-01 | -0.11940590 |  0.05632960 |\n",
       "| Y _||_ Z2 | D, X2, X3 | -0.040190394 | 3.714516e-01 | -0.12769636 |  0.04793415 |\n",
       "| Z1 _||_ Z2 | -0.061816135 | 1.676306e-01 | -0.14870555 |  0.02601547 |\n",
       "\n"
      ],
      "text/plain": [
       "                       estimate     p.value      2.5%        97.5%      \n",
       "D _||_ X3 | Z2          0.495232256 1.157134e-33  0.42697450  0.56288383\n",
       "D _||_ X3 | X2, Z1      0.518071072 2.604425e-37  0.45206603  0.58462121\n",
       "D _||_ X3 | X1, X2      0.575983100 2.622904e-48  0.51681228  0.63998753\n",
       "D _||_ Z1 | X1, X2     -0.005755708 8.981032e-01 -0.09357551  0.08215274\n",
       "D _||_ Z2 | X2, Z1     -0.143108556 1.346074e-03 -0.22814881 -0.05594543\n",
       "D _||_ Z2 | X1, X2     -0.163192808 2.487265e-04 -0.24757363 -0.07642216\n",
       "M _||_ X1 | D          -0.129098627 3.836547e-03 -0.21447770 -0.04179376\n",
       "M _||_ X2 | D           0.101698217 2.303920e-02  0.01404511  0.18781599\n",
       "M _||_ X3 | Z2          0.035998270 4.225147e-01 -0.05194438  0.12338879\n",
       "M _||_ X3 | X2, Z1      0.034793414 4.386841e-01 -0.05323602  0.12228805\n",
       "M _||_ X3 | X1, X2      0.031167443 4.878977e-01 -0.05685495  0.11871058\n",
       "M _||_ X3 | D           0.098181473 2.825899e-02  0.01049342  0.18438538\n",
       "M _||_ Z1 | X1, X2     -0.010507345 8.151540e-01 -0.09828387  0.07743098\n",
       "M _||_ Z1 | D          -0.020488073 6.481348e-01 -0.10807319  0.06741174\n",
       "M _||_ Z2 | X2, Z1      0.011402844 7.997210e-01 -0.07654067  0.09917077\n",
       "M _||_ Z2 | X1, X2      0.013380830 7.659150e-01 -0.07457365  0.10112929\n",
       "M _||_ Z2 | D          -0.060513384 1.772260e-01 -0.14751303  0.02741070\n",
       "X1 _||_ X2 | Z1        -0.043270357 3.349062e-01 -0.13055552  0.04467784\n",
       "X1 _||_ X3             -0.030635229 4.944930e-01 -0.11801033  0.05720909\n",
       "X1 _||_ Y | D, X2, X3  -0.327390476 4.197819e-14 -0.40448127 -0.24659654\n",
       "X1 _||_ Y | D, X2, Z2  -0.422336837 1.328412e-23 -0.49413839 -0.34763424\n",
       "X1 _||_ Y | D, X2, Z1  -0.436724867 2.334230e-25 -0.50771267 -0.36314146\n",
       "X1 _||_ Z2              0.023442866 6.011697e-01 -0.06438014  0.11090659\n",
       "X2 _||_ X3 | Z2        -0.044212519 3.244758e-01 -0.13148338  0.04373571\n",
       "X3 _||_ Z1              0.014336258 7.492509e-01 -0.07344681  0.10189948\n",
       "Y _||_ Z1 | X1, X2, Z2  0.072416636 1.068831e-01 -0.01563805  0.15936362\n",
       "Y _||_ Z1 | D, X2, Z2  -0.011415266 7.997057e-01 -0.09927132  0.07661692\n",
       "Y _||_ Z1 | X1, X2, X3  0.089653462 4.571531e-02  0.00171188  0.17623042\n",
       "Y _||_ Z1 | D, X2, X3   0.022842616 6.116000e-01 -0.06524363  0.11057664\n",
       "Y _||_ Z2 | X2, X3, Z1 -0.037725229 4.015348e-01 -0.12526673  0.05039710\n",
       "Y _||_ Z2 | X1, X2, X3 -0.031782983 4.797839e-01 -0.11940590  0.05632960\n",
       "Y _||_ Z2 | D, X2, X3  -0.040190394 3.714516e-01 -0.12769636  0.04793415\n",
       "Z1 _||_ Z2             -0.061816135 1.676306e-01 -0.14870555  0.02601547"
      ]
     },
     "metadata": {},
     "output_type": "display_data"
    }
   ],
   "source": [
    "x.R = x\n",
    "x.R$D = (x$D+ x$Y)/2\n",
    "\n",
    "localTests(G, data = x.R, type = c(\"cis\"))\n",
    "\n"
   ]
  }
 ],
 "metadata": {
  "colab": {
   "collapsed_sections": [],
   "name": "17_notebook-dagitty.ipynb",
   "provenance": []
  },
  "kernelspec": {
   "display_name": "R",
   "language": "R",
   "name": "ir"
  },
  "language_info": {
   "codemirror_mode": "r",
   "file_extension": ".r",
   "mimetype": "text/x-r-source",
   "name": "R",
   "pygments_lexer": "r",
   "version": "4.2.1"
  },
  "papermill": {
   "default_parameters": {},
   "duration": 37.733589,
   "end_time": "2021-03-23T20:01:18.516130",
   "environment_variables": {},
   "exception": null,
   "input_path": "__notebook__.ipynb",
   "output_path": "__notebook__.ipynb",
   "parameters": {},
   "start_time": "2021-03-23T20:00:40.782541",
   "version": "2.2.2"
  }
 },
 "nbformat": 4,
 "nbformat_minor": 4
}