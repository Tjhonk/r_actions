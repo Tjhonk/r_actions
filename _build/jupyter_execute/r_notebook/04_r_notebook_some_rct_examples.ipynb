{
 "cells": [
  {
   "cell_type": "markdown",
   "id": "ed162e31",
   "metadata": {
    "id": "ed162e31",
    "papermill": {
     "duration": 0.010452,
     "end_time": "2021-07-13T19:07:45.688133",
     "exception": false,
     "start_time": "2021-07-13T19:07:45.677681",
     "status": "completed"
    },
    "tags": []
   },
   "source": [
    "# Some RCT Examples\n",
    "\n",
    "One of the earliest randomized experiments were the Polio vaccination trials conducted by the Public Health Service in 1954.  The question was whether Salk vaccine prevented polio.  Children in the study were randomly assigned either a treatment (polio vaccine shot) or a placebo (saline solution shot), without knowing which one they received. The doctors in the study, making the diagnosis, did not know whether a child received a vaccine or not. In other words, the trial was a double-blind, randomized control trial.  The trial had to be large, because the rate at which Polio occured in the population was 50 per 100,000.  The treatment group saw 33 polio cases per 200,745; the control group saw 115 cases per 201,229. The estimated avearage treatment effect is about\n",
    "\n",
    "$$\n",
    "-40\n",
    "$$\n",
    "\n",
    "with the 95% confidence band (based on approximate normality of the two sample means and their differences):\n",
    "\n",
    "$$[-52, -28].$$\n",
    "\n",
    "As this is an RCT, the confidence band suggests that the Polio vaccine **caused** the reduction in the risk of polio.\n",
    "\n",
    "The interesting thing here is that we don't need the underlying individual data to evaluate the effectivess of the vaccine. This is because the outcomes are Bernoulli random variables, and we have enough information to compute the estimate of ATE as well as the confidence intervals from the group case counts.\n",
    "\n",
    "We also compute the Vaccine Efficacy metric, which refers to the following measure according to the [CDC](https://www.cdc.gov/csels/dsepd/ss1978/lesson3/section6.html):\n",
    "\n",
    "$$\n",
    "VE = \\frac{\\text{Risk for Unvaccinated - Risk for Vaccinated}}{\\text{Risk for Unvaccinated}}.\n",
    "$$\n",
    "\n",
    "It describes the relative reduction in risk caused by vaccination.\n",
    "\n",
    "\n",
    "It is staightforward to get the VE estimate by just plugging-in the numbers, but how do we get the approximate variance estimate? I am too lazy to do calculations for the delta method, so I will just use a simulation (a form of approximate bootstrap) to obtain the confidence intervals.\n",
    "\n"
   ]
  },
  {
   "cell_type": "code",
   "execution_count": 1,
   "id": "3dbdc625",
   "metadata": {
    "_cell_guid": "b1076dfc-b9ad-4769-8c92-a6c4dae69d19",
    "_uuid": "8f2839f25d086af736a60e9eeb907d3b93b6e0e5",
    "colab": {
     "base_uri": "https://localhost:8080/",
     "height": 906
    },
    "execution": {
     "iopub.execute_input": "2021-07-13T19:07:45.716772Z",
     "iopub.status.busy": "2021-07-13T19:07:45.713152Z",
     "iopub.status.idle": "2021-07-13T19:07:46.252997Z",
     "shell.execute_reply": "2021-07-13T19:07:46.253517Z"
    },
    "executionInfo": {
     "elapsed": 21785,
     "status": "ok",
     "timestamp": 1658248086839,
     "user": {
      "displayName": "Jhon Kevin Flores Rojas",
      "userId": "10267608749788811245"
     },
     "user_tz": 300
    },
    "id": "3dbdc625",
    "outputId": "11630271-fdc2-4ccc-eab3-f6091e6893b1",
    "papermill": {
     "duration": 0.556084,
     "end_time": "2021-07-13T19:07:46.253805",
     "exception": false,
     "start_time": "2021-07-13T19:07:45.697721",
     "status": "completed"
    },
    "tags": [],
    "vscode": {
     "languageId": "r"
    }
   },
   "outputs": [
    {
     "name": "stderr",
     "output_type": "stream",
     "text": [
      "Using github PAT from envvar GITHUB_PAT\n",
      "\n"
     ]
    },
    {
     "name": "stderr",
     "output_type": "stream",
     "text": [
      "Skipping install of 'ORCI' from a github remote, the SHA1 (7a946dbc) has not changed since last install.\n",
      "  Use `force = TRUE` to force installation\n",
      "\n"
     ]
    },
    {
     "name": "stdout",
     "output_type": "stream",
     "text": [
      "[1] \"Incidence per 100000 among treated: 16.4388\"\n"
     ]
    },
    {
     "name": "stdout",
     "output_type": "stream",
     "text": [
      "[1] \"Incidence per 100000 among controlled: 57.1488\"\n"
     ]
    },
    {
     "name": "stdout",
     "output_type": "stream",
     "text": [
      "[1] \"Estimated ATE of occurances per 100,000 is -40.7101\"\n"
     ]
    },
    {
     "name": "stdout",
     "output_type": "stream",
     "text": [
      "[1] \"Standard deviation for ATE is 6.0474\"\n"
     ]
    },
    {
     "name": "stdout",
     "output_type": "stream",
     "text": [
      "[1] \"95% confidence interval of ATE is [ -52.563 , -28.8571 ]\"\n"
     ]
    },
    {
     "name": "stdout",
     "output_type": "stream",
     "text": [
      "[1] \"Overall VE is 0.7124\"\n"
     ]
    },
    {
     "name": "stdout",
     "output_type": "stream",
     "text": [
      "[1] \"95% confidence interval of VE is [ 0.5903 , 0.8176 ]\"\n"
     ]
    },
    {
     "data": {
      "image/png": "[encoded data removed]",
      "text/plain": [
       "Plot with title \"Approximate Distribution of VE estimates\""
      ]
     },
     "metadata": {
      "filenames": {
       "image/png": "D:\\a\\r_actions\\r_actions\\_build\\jupyter_execute\\r_notebook\\04_r_notebook_some_rct_examples_1_9.png"
      },
      "image/png": {
       "height": 420,
       "width": 420
      }
     },
     "output_type": "display_data"
    }
   ],
   "source": [
    "# install.packages(\"remotes\", quiet = T)\n",
    "\n",
    "remotes::install_github(\"cran/ORCI\")\n",
    "\n",
    "NV = 200745 # number of vaccinated (treated)\n",
    "NU = 201229 # number of unvaccinated (control)\n",
    "RV= 33/NV  # average outcome for vaccinated\n",
    "RU =115/NU  # average outcome for unvaccinated\n",
    "VE = (RU - RV)/RU; # vaccine efficacy\n",
    "\n",
    "# incidence per 100000 \n",
    "Incidence.RV=RV*100000\n",
    "Incidence.RU=RU*100000\n",
    "\n",
    "print(paste(\"Incidence per 100000 among treated:\", round(Incidence.RV,4)))\n",
    "\n",
    "print(paste(\"Incidence per 100000 among controlled:\", round(Incidence.RU,4)))\n",
    "\n",
    "# treatment effect - estimated reduction in incidence per 100000 people\n",
    "delta.hat = 100000*(RV-RU)\n",
    "\n",
    "print(paste(\"Estimated ATE of occurances per 100,000 is\",  round(delta.hat,4)))\n",
    "\n",
    "# variance, standard deviation and confidence interval of ATE using that outcomes are Bernoulli\n",
    "Var.RV = RV*(1-RV)/NV\n",
    "Var.RU = RU*(1-RU)/NU\n",
    "Var.delta.hat =  100000^2*(Var.RV + Var.RU)\n",
    "Std.delta.hat = sqrt(Var.delta.hat)\n",
    "\n",
    "print(paste(\"Standard deviation for ATE is\", round(Std.delta.hat,4)))\n",
    "\n",
    "CI.delta = c(delta.hat -1.96*sqrt(Var.delta.hat), \n",
    "             delta.hat +1.96*sqrt(Var.delta.hat))\n",
    "\n",
    "print(paste(\"95% confidence interval of ATE is [\", round(CI.delta[1],4), \",\", \n",
    "            round(CI.delta[2],4), \"]\"   ))\n",
    "\n",
    "print(paste(\"Overall VE is\", round(VE,4) ))\n",
    "\n",
    "# we use an approximate bootstrap to find the confidence interval of vaccine efficacy\n",
    "# via Monte Carlo draws\n",
    "set.seed(1)\n",
    "B = 10000 # number of bootstraps\n",
    "RVs = RV  + rnorm(B)*sqrt(Var.RV)\n",
    "RUs = RU  + rnorm(B)*sqrt(Var.RU)\n",
    "VEs= (RUs - RVs)/RUs\n",
    "\n",
    "plot(density(VEs), col=2, main=\"Approximate Distribution of VE estimates\")\n",
    "\n",
    "CI.VE =  quantile(VEs, c(.025, .975)) # use the empirical quantiles from the bootstraps\n",
    "\n",
    "print(paste(\"95% confidence interval of VE is [\", round(CI.VE[1],4), \",\", \n",
    "            round(CI.VE[2],4), \"]\"))"
   ]
  },
  {
   "cell_type": "markdown",
   "id": "c637fe0b",
   "metadata": {
    "id": "c637fe0b",
    "papermill": {
     "duration": 0.0136,
     "end_time": "2021-07-13T19:07:46.281160",
     "exception": false,
     "start_time": "2021-07-13T19:07:46.267560",
     "status": "completed"
    },
    "tags": []
   },
   "source": [
    "## Pfizer/BNTX Covid-19 RCT\n",
    "\n",
    "Here is a link to the FDA [briefing](https://www.fda.gov/media/144245/download) and an interesting [discussion](\n",
    "https://garycornell.com/2020/12/09/statistics-in-the-pfizer-data-how-good-is-the-vaccine/?fbclid=IwAR282lS0Vl3tWmicQDDhIJAQCMO8NIsCXyWbUWwTtPuKcnuJ2v0VWXRDQac), as well as data.\n",
    "\n",
    "Pfizer/BNTX was the first vaccine approved for emergency use to reduce the risk of Covid-19 decease. In studies to assess vaccine efficacy, volunteers were randomly assigned to receive either a treatment (2-dose vaccination) or a placebo, without knowing which they recieved. The doctors making the diagnoses did not know now whether a given volunteer received a vaccination or not. The results of the study are given in the following table.\n",
    "\n",
    "![](https://lh6.googleusercontent.com/oiO6gYom1UZyrOhgpFx2iq8ike979u3805JHiVygP-Efh1Yaz2ttyPcgWKlT1AqHDM4v46th3EPIkOvRLyXA0fNUloPL-mL9eOFmSAzfbNOHyCZSQ0DyzMhcFUtQuZ520R5Qd2lj):\n",
    "\n",
    "Here we see both the overall effects and the effects by age group. The confidence intervals for the overall ATE are tight and suggest high effectiveness of the vaccine. The confidence intervals for the age group 65-75 are much wider due to the relatively small number of people in this group.  We could group 65-75 and >75 groups to evaluate the effectiveness of the vaccine for this broader age group and narrow the width of the confidence band. \n",
    "\n",
    "We use the same approach as that for the Polio example. This gives slightly different results than the FDA result, because the FDA used inversion of exact binomial tests to construct confidence intervals. We use asymptotic approches based on approximate normality, which is more crude, but delivers a rather similar result.\n"
   ]
  },
  {
   "cell_type": "code",
   "execution_count": 2,
   "id": "909dcfc7",
   "metadata": {
    "_cell_guid": "79c7e3d0-c299-4dcb-8224-4455121ee9b0",
    "_uuid": "d629ff2d2480ee46fbb7e2d37f6b5fab8052498a",
    "execution": {
     "iopub.execute_input": "2021-07-13T19:07:46.353985Z",
     "iopub.status.busy": "2021-07-13T19:07:46.313058Z",
     "iopub.status.idle": "2021-07-13T19:07:46.531138Z",
     "shell.execute_reply": "2021-07-13T19:07:46.529905Z"
    },
    "id": "909dcfc7",
    "outputId": "31957319-448e-45bc-f205-7f5a48cad158",
    "papermill": {
     "duration": 0.236645,
     "end_time": "2021-07-13T19:07:46.531317",
     "exception": false,
     "start_time": "2021-07-13T19:07:46.294672",
     "status": "completed"
    },
    "tags": [],
    "vscode": {
     "languageId": "r"
    }
   },
   "outputs": [
    {
     "name": "stdout",
     "output_type": "stream",
     "text": [
      "[1] \"Incidence per 100000 among vaccinated: 45.0789\"\n"
     ]
    },
    {
     "name": "stdout",
     "output_type": "stream",
     "text": [
      "[1] \"Incidence per 100000 among unvaccinated: 837.795\"\n"
     ]
    },
    {
     "name": "stdout",
     "output_type": "stream",
     "text": [
      "[1] \"Estimated ATE of occurances per 100,000 is -792.7161\"\n"
     ]
    },
    {
     "name": "stdout",
     "output_type": "stream",
     "text": [
      "[1] \"Standard deviation for ATE is 65.9102\"\n"
     ]
    },
    {
     "name": "stdout",
     "output_type": "stream",
     "text": [
      "[1] \"95% confidence interval of ATE is [ -921.9 , -663.5322 ]\"\n"
     ]
    },
    {
     "name": "stdout",
     "output_type": "stream",
     "text": [
      "[1] \"Overall VE is 0.9462\"\n"
     ]
    },
    {
     "name": "stdout",
     "output_type": "stream",
     "text": [
      "[1] \"95% confidence interval of VE is [ 0.9086 , 0.9824 ]\"\n"
     ]
    },
    {
     "data": {
      "image/png": "[encoded data removed]",
      "text/plain": [
       "Plot with title \"Approximate Distribution of VE estimates\""
      ]
     },
     "metadata": {
      "filenames": {
       "image/png": "D:\\a\\r_actions\\r_actions\\_build\\jupyter_execute\\r_notebook\\04_r_notebook_some_rct_examples_3_7.png"
      },
      "image/png": {
       "height": 420,
       "width": 420
      }
     },
     "output_type": "display_data"
    }
   ],
   "source": [
    "NV =  19965; # number vaccinated\n",
    "NU =  20172; # number unvaccinated\n",
    "RV = 9/NV; # average outcome for vaccinated\n",
    "RU = 169/NU; # average outcome for unvaccinated\n",
    "VE = (RU - RV)/RU; # vaccine efficacy\n",
    "\n",
    "# incidence per 100000\n",
    "Incidence.RV=RV*100000\n",
    "Incidence.RU=RU*100000\n",
    "\n",
    "print(paste(\"Incidence per 100000 among vaccinated:\", round(Incidence.RV,4)))\n",
    "\n",
    "print(paste(\"Incidence per 100000 among unvaccinated:\", round(Incidence.RU,4)))\n",
    "\n",
    "# treatment effect - estimated reduction in incidence per 100000 people\n",
    "delta.hat = 100000*(RV-RU)\n",
    "      \n",
    "print(paste(\"Estimated ATE of occurances per 100,000 is\",  round(delta.hat,4)))\n",
    "      \n",
    "# variance, standard deviation and confidence interval of ATE using that outcomes are Bernoulli\n",
    "Var.RV = RV*(1-RV)/NV\n",
    "Var.RU = RU*(1-RU)/NU\n",
    "Var.delta.hat =  100000^2*(Var.RV + Var.RU)\n",
    "Std.delta.hat = sqrt(Var.delta.hat)\n",
    "\n",
    "print(paste(\"Standard deviation for ATE is\", round(Std.delta.hat,4)))\n",
    "\n",
    "CI.delta = c(delta.hat -1.96*sqrt(Var.delta.hat), \n",
    "             delta.hat +1.96*sqrt(Var.delta.hat))\n",
    "\n",
    "print(paste(\"95% confidence interval of ATE is [\", round(CI.delta[1],4), \",\", \n",
    "            round(CI.delta[2],4), \"]\"   ))\n",
    "\n",
    "print(paste(\"Overall VE is\", round(VE,4) ))\n",
    "      \n",
    "# we use an approximate bootstrap to find the VE confidence interval\n",
    "# using Monte Carlo draws as before\n",
    "set.seed(1)\n",
    "B = 10000\n",
    "RVs = RV  + rnorm(B)*sqrt(Var.RV)\n",
    "RUs = RU  + rnorm(B)*sqrt(Var.RU)\n",
    "VEs= (RUs - RVs)/RUs\n",
    "\n",
    "plot(density(VEs), col=2, main=\"Approximate Distribution of VE estimates\")\n",
    "\n",
    "CI.VE = quantile(VEs, c(.025, .975))\n",
    "\n",
    "print(paste(\"95% confidence interval of VE is [\", round(CI.VE[1],4), \",\", \n",
    "            round(CI.VE[2],4), \"]\" ))"
   ]
  },
  {
   "cell_type": "markdown",
   "id": "04f34a37",
   "metadata": {
    "id": "04f34a37",
    "papermill": {
     "duration": 0.016733,
     "end_time": "2021-07-13T19:07:46.564973",
     "exception": false,
     "start_time": "2021-07-13T19:07:46.548240",
     "status": "completed"
    },
    "tags": []
   },
   "source": [
    "In the code cell below  we calculate the effectiveness of the vaccine for the two groups that are 65 or older"
   ]
  },
  {
   "cell_type": "code",
   "execution_count": 3,
   "id": "417d8a38",
   "metadata": {
    "execution": {
     "iopub.execute_input": "2021-07-13T19:07:46.605284Z",
     "iopub.status.busy": "2021-07-13T19:07:46.603700Z",
     "iopub.status.idle": "2021-07-13T19:07:46.742371Z",
     "shell.execute_reply": "2021-07-13T19:07:46.740866Z"
    },
    "id": "417d8a38",
    "outputId": "063e272e-9b80-440b-f792-7d0cd833aebe",
    "papermill": {
     "duration": 0.160956,
     "end_time": "2021-07-13T19:07:46.742531",
     "exception": false,
     "start_time": "2021-07-13T19:07:46.581575",
     "status": "completed"
    },
    "tags": [],
    "vscode": {
     "languageId": "r"
    }
   },
   "outputs": [
    {
     "name": "stdout",
     "output_type": "stream",
     "text": [
      "[1] \"Overall VE is 0.9471\"\n"
     ]
    },
    {
     "name": "stdout",
     "output_type": "stream",
     "text": [
      "[1] \"two-sided 95 % confidence interval is [ 0.816044705723917 , 1.0579357468458 ]\"\n"
     ]
    },
    {
     "name": "stdout",
     "output_type": "stream",
     "text": [
      "[1] \"one-sided 95 % confidence interval is [ 0.841513343789695 , 1 ]\"\n"
     ]
    },
    {
     "data": {
      "image/png": "[encoded data removed]",
      "text/plain": [
       "Plot with title \"Approximate Distribution of VE estimates\""
      ]
     },
     "metadata": {
      "filenames": {
       "image/png": "D:\\a\\r_actions\\r_actions\\_build\\jupyter_execute\\r_notebook\\04_r_notebook_some_rct_examples_5_3.png"
      },
      "image/png": {
       "height": 420,
       "width": 420
      }
     },
     "output_type": "display_data"
    }
   ],
   "source": [
    "# Here we calculate the overall effectiveness of the vaccine for the two groups that are 65 or older\n",
    "NV =  3239+805;\n",
    "NU =  3255+812;\n",
    "RV = 1/NV;\n",
    "RU = (14+5)/NU;\n",
    "VE = (RU - RV)/RU;\n",
    "\n",
    "print(paste(\"Overall VE is\", round(VE,4)) )\n",
    "\n",
    "Var.RV = RV*(1-RV)/NV\n",
    "Var.RU = RU*(1-RU)/NU\n",
    "\n",
    "# As before, we use an approximate bootstrap to find the confidence intervals\n",
    "# using Monte Carlo draws\n",
    "\n",
    "set.seed(1)\n",
    "B = 10000\n",
    "    RVs = RV  + rnorm(B)*sqrt(Var.RV)+ 10^(-10)\n",
    "    RUs = RU  + rnorm(B)*sqrt(Var.RU)+ 10^(-10)\n",
    "    VEs= (RUs - RVs)/RUs\n",
    "\n",
    "plot(density(VEs), col=2, main=\"Approximate Distribution of VE estimates\")\n",
    "\n",
    "CI.VE =  quantile(VEs, c(.025, .975))\n",
    "\n",
    "print(paste(\"two-sided 95 % confidence interval is [\", CI.VE[1], \",\", \n",
    "            CI.VE[2], \"]\"   ))\n",
    "\n",
    "OneSidedCI.VE =  quantile(VEs, c(.05))\n",
    "\n",
    "print(paste(\"one-sided 95 % confidence interval is [\", OneSidedCI.VE[1], \",\", \n",
    "            1, \"]\"   ))"
   ]
  },
  {
   "cell_type": "markdown",
   "id": "51280980",
   "metadata": {
    "id": "51280980",
    "papermill": {
     "duration": 0.019808,
     "end_time": "2021-07-13T19:07:46.781586",
     "exception": false,
     "start_time": "2021-07-13T19:07:46.761778",
     "status": "completed"
    },
    "tags": []
   },
   "source": [
    "Let's try the parametric boostrap next, using the fact that the outcome is Bernouli."
   ]
  },
  {
   "cell_type": "code",
   "execution_count": 4,
   "id": "01164488",
   "metadata": {
    "execution": {
     "iopub.execute_input": "2021-07-13T19:07:46.827472Z",
     "iopub.status.busy": "2021-07-13T19:07:46.825722Z",
     "iopub.status.idle": "2021-07-13T19:07:46.996658Z",
     "shell.execute_reply": "2021-07-13T19:07:46.994648Z"
    },
    "id": "01164488",
    "outputId": "53a7d64d-9b60-4a96-f3ce-e292f4d17f6f",
    "papermill": {
     "duration": 0.195583,
     "end_time": "2021-07-13T19:07:46.996832",
     "exception": false,
     "start_time": "2021-07-13T19:07:46.801249",
     "status": "completed"
    },
    "tags": [],
    "vscode": {
     "languageId": "r"
    }
   },
   "outputs": [
    {
     "name": "stdout",
     "output_type": "stream",
     "text": [
      "[1] \"Overall VE is 0.947069082201052\"\n"
     ]
    },
    {
     "name": "stdout",
     "output_type": "stream",
     "text": [
      "[1] \"two-sided 95 % confidence interval is [ 0.8 , 1 ]\"\n"
     ]
    },
    {
     "name": "stdout",
     "output_type": "stream",
     "text": [
      "[1] \"one-sided 95 % confidence interval is [ 0.833333333333333 , 1 ]\"\n"
     ]
    },
    {
     "data": {
      "image/png": "[encoded data removed]",
      "text/plain": [
       "Plot with title \"Approximate Distribution of VE estimates\""
      ]
     },
     "metadata": {
      "filenames": {
       "image/png": "D:\\a\\r_actions\\r_actions\\_build\\jupyter_execute\\r_notebook\\04_r_notebook_some_rct_examples_7_3.png"
      },
      "image/png": {
       "height": 420,
       "width": 420
      }
     },
     "output_type": "display_data"
    }
   ],
   "source": [
    "NV =  3239+805;\n",
    "NU =  3255+812;\n",
    "RV = 1/NV;\n",
    "RU = (14+5)/NU;\n",
    "VE = (RU - RV)/RU;\n",
    "\n",
    "print(paste(\"Overall VE is\", VE) )\n",
    "\n",
    "set.seed(1)\n",
    "B = 10000 #number of simulation draw\n",
    "    RVs = rbinom(100000, size= NV, prob = RV) \n",
    "    RUs = rbinom(100000, size= NU, prob = RU)\n",
    "    VEs= (RUs - RVs)/RUs\n",
    "\n",
    "plot(density(VEs), col=2, main=\"Approximate Distribution of VE estimates\")\n",
    "\n",
    "CI.VE =  quantile(VEs, c(.025, .975))\n",
    "\n",
    "print(paste(\"two-sided 95 % confidence interval is [\", CI.VE[1], \",\", \n",
    "            CI.VE[2], \"]\"   ))\n",
    "\n",
    "OneSidedCI.VE =  quantile(VEs, c(.05))\n",
    "\n",
    "print(paste(\"one-sided 95 % confidence interval is [\", OneSidedCI.VE[1], \",\",  1, \"]\"   ))"
   ]
  },
  {
   "cell_type": "markdown",
   "id": "7ab6c3fd",
   "metadata": {
    "id": "7ab6c3fd",
    "papermill": {
     "duration": 0.021777,
     "end_time": "2021-07-13T19:07:47.040684",
     "exception": false,
     "start_time": "2021-07-13T19:07:47.018907",
     "status": "completed"
    },
    "tags": []
   },
   "source": [
    "## Exact Binomial Test Inversion\n",
    "\n",
    "It is possible to use exact inference by inverting tests based on the exact binomial nature of the outcome variable. Here, we perform the Cornfield Procedure to find the exact confidence interval on the estimate of vaccine efficacy. "
   ]
  },
  {
   "cell_type": "code",
   "execution_count": 5,
   "id": "e5837663",
   "metadata": {
    "colab": {
     "base_uri": "https://localhost:8080/",
     "height": 34
    },
    "executionInfo": {
     "elapsed": 45,
     "status": "ok",
     "timestamp": 1658248115759,
     "user": {
      "displayName": "Jhon Kevin Flores Rojas",
      "userId": "10267608749788811245"
     },
     "user_tz": 300
    },
    "id": "e5837663",
    "outputId": "2fd51d45-75ae-44b6-f405-79e5f8ed0372",
    "papermill": {
     "duration": 15.158133,
     "end_time": "2021-07-13T19:08:02.220498",
     "exception": false,
     "start_time": "2021-07-13T19:07:47.062365",
     "status": "completed"
    },
    "tags": [],
    "vscode": {
     "languageId": "r"
    }
   },
   "outputs": [
    {
     "data": {
      "text/html": [
       "<style>\n",
       ".list-inline {list-style: none; margin:0; padding: 0}\n",
       ".list-inline>li {display: inline-block}\n",
       ".list-inline>li:not(:last-child)::after {content: \"\\00b7\"; padding: 0 .5ex}\n",
       "</style>\n",
       "<ol class=list-inline><li>0.976014372907363</li><li>0.89621865382665</li></ol>\n"
      ],
      "text/latex": [
       "\\begin{enumerate*}\n",
       "\\item 0.976014372907363\n",
       "\\item 0.89621865382665\n",
       "\\end{enumerate*}\n"
      ],
      "text/markdown": [
       "1. 0.976014372907363\n",
       "2. 0.89621865382665\n",
       "\n",
       "\n"
      ],
      "text/plain": [
       "[1] 0.9760144 0.8962187"
      ]
     },
     "metadata": {},
     "output_type": "display_data"
    }
   ],
   "source": [
    "# Exact CI exploiting Bernoulli outcome using the Cornfield Procedure\n",
    "library(ORCI)\n",
    "\n",
    "NV =  19965;\n",
    "NU =  20172;\n",
    "RV = 9/NV;\n",
    "RU = 169/NU;\n",
    "VE = (RU - RV)/RU;\n",
    "\n",
    "1- Cornfieldexact.CI(9, NV, 169, NU, conf = 0.95, interval = c(1e-08, 1e+08))"
   ]
  },
  {
   "cell_type": "markdown",
   "id": "b5aeabda",
   "metadata": {
    "id": "b5aeabda",
    "papermill": {
     "duration": 0.023158,
     "end_time": "2021-07-13T19:08:02.267484",
     "exception": false,
     "start_time": "2021-07-13T19:08:02.244326",
     "status": "completed"
    },
    "tags": []
   },
   "source": [
    "Note that this exactly recovers the result in the FDA table (first row)."
   ]
  },
  {
   "cell_type": "markdown",
   "id": "c47bf6cd",
   "metadata": {
    "id": "c47bf6cd",
    "papermill": {
     "duration": 0.022741,
     "end_time": "2021-07-13T19:08:02.313151",
     "exception": false,
     "start_time": "2021-07-13T19:08:02.290410",
     "status": "completed"
    },
    "tags": []
   },
   "source": [
    "Next we repeat the cornfield procedure to find the exact confidence interval on vaccine effectiveness for the two groups that are 65 or older. Here we see a big discrepancy between various asymptotic approaches and the exact finite-sample inference. This occurs because the binomial counts are too low for central limit theorems to work successfully."
   ]
  },
  {
   "cell_type": "code",
   "execution_count": 6,
   "id": "b9d08dfd",
   "metadata": {
    "colab": {
     "base_uri": "https://localhost:8080/",
     "height": 34
    },
    "executionInfo": {
     "elapsed": 314,
     "status": "ok",
     "timestamp": 1658248119489,
     "user": {
      "displayName": "Jhon Kevin Flores Rojas",
      "userId": "10267608749788811245"
     },
     "user_tz": 300
    },
    "id": "b9d08dfd",
    "outputId": "fcbf20e7-9394-422c-a488-4a0200ea7c87",
    "papermill": {
     "duration": 0.062935,
     "end_time": "2021-07-13T19:08:02.398968",
     "exception": false,
     "start_time": "2021-07-13T19:08:02.336033",
     "status": "completed"
    },
    "tags": [],
    "vscode": {
     "languageId": "r"
    }
   },
   "outputs": [
    {
     "data": {
      "text/html": [
       "<style>\n",
       ".list-inline {list-style: none; margin:0; padding: 0}\n",
       ".list-inline>li {display: inline-block}\n",
       ".list-inline>li:not(:last-child)::after {content: \"\\00b7\"; padding: 0 .5ex}\n",
       "</style>\n",
       "<ol class=list-inline><li>0.998727699165908</li><li>0.66812903165383</li></ol>\n"
      ],
      "text/latex": [
       "\\begin{enumerate*}\n",
       "\\item 0.998727699165908\n",
       "\\item 0.66812903165383\n",
       "\\end{enumerate*}\n"
      ],
      "text/markdown": [
       "1. 0.998727699165908\n",
       "2. 0.66812903165383\n",
       "\n",
       "\n"
      ],
      "text/plain": [
       "[1] 0.9987277 0.6681290"
      ]
     },
     "metadata": {},
     "output_type": "display_data"
    }
   ],
   "source": [
    "# Exact CI exploiting Bernoulli outcome for the two groups that are 65 or older\n",
    "library(ORCI)\n",
    "NV =  3239+805;\n",
    "NU =  3255+812;\n",
    "RV = 1/NV;\n",
    "RU = (14+5)/NU;\n",
    "VE = (RU - RV)/RU;\n",
    "\n",
    "1- Cornfieldexact.CI(1, NV, 19, NU, conf = 0.95, interval = c(1e-08, 1e+08))"
   ]
  }
 ],
 "metadata": {
  "colab": {
   "collapsed_sections": [],
   "name": "04_r-notebook-some-rct-examples.ipynb",
   "provenance": []
  },
  "jupytext": {
   "formats": "ipynb,auto:light"
  },
  "kernelspec": {
   "display_name": "R",
   "language": "R",
   "name": "ir"
  },
  "language_info": {
   "codemirror_mode": "r",
   "file_extension": ".r",
   "mimetype": "text/x-r-source",
   "name": "R",
   "pygments_lexer": "r",
   "version": "4.2.1"
  },
  "papermill": {
   "default_parameters": {},
   "duration": 20.676668,
   "end_time": "2021-07-13T19:08:02.535297",
   "environment_variables": {},
   "exception": null,
   "input_path": "__notebook__.ipynb",
   "output_path": "__notebook__.ipynb",
   "parameters": {},
   "start_time": "2021-07-13T19:07:41.858629",
   "version": "2.3.3"
  }
 },
 "nbformat": 4,
 "nbformat_minor": 5
}