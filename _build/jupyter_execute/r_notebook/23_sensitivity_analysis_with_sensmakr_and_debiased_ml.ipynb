{
 "cells": [
  {
   "cell_type": "markdown",
   "id": "entire-abraham",
   "metadata": {
    "id": "entire-abraham",
    "papermill": {
     "duration": 0.022269,
     "end_time": "2022-05-12T19:46:22.439540",
     "exception": false,
     "start_time": "2022-05-12T19:46:22.417271",
     "status": "completed"
    },
    "tags": []
   },
   "source": [
    "# Sensitivity Analysis with Sensmakr and Debiased ML\n",
    "\n",
    "\n",
    "## Here we experiment with using package \"sensemakr\" in conjunction with debiased ML"
   ]
  },
  {
   "cell_type": "markdown",
   "id": "waiting-times",
   "metadata": {
    "id": "waiting-times",
    "papermill": {
     "duration": 0.022258,
     "end_time": "2022-05-12T19:46:22.483741",
     "exception": false,
     "start_time": "2022-05-12T19:46:22.461483",
     "status": "completed"
    },
    "tags": []
   },
   "source": [
    "References:\n",
    "\n",
    "* Linear Models: Cinelli and Hazlett \n",
    "  https://doi.org/10.1111/rssb.12348\n",
    "* Partially Linear and Nonlinear Models. Chernozhukov, Cinelli, Newey, Sharma, Syrgkanis\n",
    "  https://arxiv.org/pdf/2112.13398.pdf"
   ]
  },
  {
   "cell_type": "markdown",
   "id": "parallel-coupon",
   "metadata": {
    "id": "parallel-coupon",
    "papermill": {
     "duration": 0.021451,
     "end_time": "2022-05-12T19:46:22.616251",
     "exception": false,
     "start_time": "2022-05-12T19:46:22.594800",
     "status": "completed"
    },
    "tags": []
   },
   "source": [
    "We will mimic the partialling out procedure with machine learning tools, and invoke Sensmakr to compute $\\phi^2$ and plot sensitivity results.\n"
   ]
  },
  {
   "cell_type": "code",
   "execution_count": 1,
   "id": "temporal-muscle",
   "metadata": {
    "_execution_state": "idle",
    "_uuid": "051d70d956493feee0c6d64651c6a088724dca2a",
    "colab": {
     "base_uri": "https://localhost:8080/"
    },
    "execution": {
     "iopub.execute_input": "2022-05-12T19:46:22.667180Z",
     "iopub.status.busy": "2022-05-12T19:46:22.664836Z",
     "iopub.status.idle": "2022-05-12T19:46:38.560992Z",
     "shell.execute_reply": "2022-05-12T19:46:38.558827Z"
    },
    "executionInfo": {
     "elapsed": 5993,
     "status": "ok",
     "timestamp": 1658254531483,
     "user": {
      "displayName": "Jhon Kevin Flores Rojas",
      "userId": "10267608749788811245"
     },
     "user_tz": 300
    },
    "id": "temporal-muscle",
    "outputId": "0ac63075-304f-492a-9827-8192b511c533",
    "papermill": {
     "duration": 15.923582,
     "end_time": "2022-05-12T19:46:38.561273",
     "exception": false,
     "start_time": "2022-05-12T19:46:22.637691",
     "status": "completed"
    },
    "tags": [],
    "vscode": {
     "languageId": "r"
    }
   },
   "outputs": [
    {
     "name": "stderr",
     "output_type": "stream",
     "text": [
      "Installing package into 'D:/a/_temp/Library'\n",
      "(as 'lib' is unspecified)\n",
      "\n"
     ]
    },
    {
     "name": "stdout",
     "output_type": "stream",
     "text": [
      "package 'librarian' successfully unpacked and MD5 sums checked\n"
     ]
    },
    {
     "name": "stdout",
     "output_type": "stream",
     "text": [
      "\n",
      "The downloaded binary packages are in\n",
      "\tC:\\Users\\runneradmin\\AppData\\Local\\Temp\\RtmpykhXq3\\downloaded_packages\n"
     ]
    },
    {
     "name": "stderr",
     "output_type": "stream",
     "text": [
      "\n",
      "  These packages will be installed:\n",
      "\n",
      "  'sensemakr'\n",
      "\n",
      "  It may take some time.\n",
      "\n"
     ]
    },
    {
     "name": "stdout",
     "output_type": "stream",
     "text": [
      "package 'sensemakr' successfully unpacked and MD5 sums checked\n"
     ]
    },
    {
     "name": "stdout",
     "output_type": "stream",
     "text": [
      "\n",
      "The downloaded binary packages are in\n",
      "\tC:\\Users\\runneradmin\\AppData\\Local\\Temp\\RtmpykhXq3\\downloaded_packages\n"
     ]
    }
   ],
   "source": [
    "# loads package\n",
    "\n",
    "install.packages(\"librarian\")\n",
    "librarian::shelf(\n",
    "  sensemakr, hdm, lfe, randomForest, zoo\n",
    "  , survival\n",
    ")\n",
    "\n",
    "# loads data\n",
    "data(\"darfur\")\n"
   ]
  },
  {
   "cell_type": "markdown",
   "id": "serial-schema",
   "metadata": {
    "id": "serial-schema",
    "papermill": {
     "duration": 0.023379,
     "end_time": "2022-05-12T19:46:38.610108",
     "exception": false,
     "start_time": "2022-05-12T19:46:38.586729",
     "status": "completed"
    },
    "tags": []
   },
   "source": [
    "Data is described here \n",
    "https://cran.r-project.org/web/packages/sensemakr/vignettes/sensemakr.html\n",
    "\n",
    "The main outcome is attitude towards peace -- the peacefactor.\n",
    "The key variable of interest is whether the responders were directly harmed (directlyharmed).\n",
    "We want to know if being directly harmed in the conflict causes people to support peace-enforcing measures.\n",
    "The measured confounders include female indicator, age, farmer, herder, voted in the past, and household size.\n",
    "There is also a village indicator, which we will treat as fixed effect and partial it out before conducting\n",
    "the analysis. The standard errors will be clustered at the village level."
   ]
  },
  {
   "cell_type": "markdown",
   "id": "biblical-civilization",
   "metadata": {
    "id": "biblical-civilization",
    "papermill": {
     "duration": 0.022672,
     "end_time": "2022-05-12T19:46:38.655555",
     "exception": false,
     "start_time": "2022-05-12T19:46:38.632883",
     "status": "completed"
    },
    "tags": []
   },
   "source": [
    "## Take out village fixed effects and run basic linear analysis"
   ]
  },
  {
   "cell_type": "code",
   "execution_count": 2,
   "id": "indie-genesis",
   "metadata": {
    "colab": {
     "base_uri": "https://localhost:8080/",
     "height": 1000
    },
    "execution": {
     "iopub.execute_input": "2022-05-12T19:46:38.740928Z",
     "iopub.status.busy": "2022-05-12T19:46:38.707448Z",
     "iopub.status.idle": "2022-05-12T19:46:41.507114Z",
     "shell.execute_reply": "2022-05-12T19:46:41.504354Z"
    },
    "executionInfo": {
     "elapsed": 1108,
     "status": "ok",
     "timestamp": 1658254532577,
     "user": {
      "displayName": "Jhon Kevin Flores Rojas",
      "userId": "10267608749788811245"
     },
     "user_tz": 300
    },
    "id": "indie-genesis",
    "outputId": "1f54f8bf-76cd-4dd3-94d0-fd0440fe1772",
    "papermill": {
     "duration": 2.829287,
     "end_time": "2022-05-12T19:46:41.507417",
     "exception": false,
     "start_time": "2022-05-12T19:46:38.678130",
     "status": "completed"
    },
    "tags": [],
    "vscode": {
     "languageId": "r"
    }
   },
   "outputs": [
    {
     "data": {
      "text/plain": [
       "\n",
       "Call:\n",
       "   felm(formula = peacefactorR ~ directlyharmedR + femaleR + ageR +      farmerR + herderR + pastvotedR + hhsizeR | 0 | 0 | village) \n",
       "\n",
       "Residuals:\n",
       "     Min       1Q   Median       3Q      Max \n",
       "-0.67487 -0.14712  0.00000  0.09857  0.90307 \n",
       "\n",
       "Coefficients:\n",
       "                  Estimate Cluster s.e. t value Pr(>|t|)    \n",
       "(Intercept)     -3.681e-18    6.704e-16  -0.005  0.99562    \n",
       "directlyharmedR  9.732e-02    2.382e-02   4.085 4.68e-05 ***\n",
       "femaleR         -2.321e-01    2.444e-02  -9.495  < 2e-16 ***\n",
       "ageR            -2.072e-03    7.441e-04  -2.784  0.00545 ** \n",
       "farmerR         -4.044e-02    2.956e-02  -1.368  0.17156    \n",
       "herderR          1.428e-02    3.650e-02   0.391  0.69569    \n",
       "pastvotedR      -4.802e-02    2.688e-02  -1.787  0.07420 .  \n",
       "hhsizeR          1.230e-03    2.166e-03   0.568  0.57034    \n",
       "---\n",
       "Signif. codes:  0 '***' 0.001 '**' 0.01 '*' 0.05 '.' 0.1 ' ' 1\n",
       "\n",
       "Residual standard error: 0.2437 on 1268 degrees of freedom\n",
       "Multiple R-squared(full model): 0.1542   Adjusted R-squared: 0.1496 \n",
       "Multiple R-squared(proj model): 0.1542   Adjusted R-squared: 0.1496 \n",
       "F-statistic(full model, *iid*):33.03 on 7 and 1268 DF, p-value: < 2.2e-16 \n",
       "F-statistic(proj model): 25.44 on 7 and 485 DF, p-value: < 2.2e-16 \n",
       "\n"
      ]
     },
     "metadata": {},
     "output_type": "display_data"
    },
    {
     "data": {
      "text/plain": [
       "\n",
       "Call:\n",
       "   felm(formula = peacefactorR ~ femaleR + ageR + farmerR + herderR +      pastvotedR + hhsizeR | 0 | 0 | village) \n",
       "\n",
       "Residuals:\n",
       "     Min       1Q   Median       3Q      Max \n",
       "-0.63765 -0.15168  0.00000  0.09859  0.90298 \n",
       "\n",
       "Coefficients:\n",
       "              Estimate Cluster s.e. t value Pr(>|t|)    \n",
       "(Intercept) -2.635e-18    6.584e-16  -0.004  0.99681    \n",
       "femaleR     -2.415e-01    2.536e-02  -9.522  < 2e-16 ***\n",
       "ageR        -2.187e-03    7.453e-04  -2.934  0.00341 ** \n",
       "farmerR     -4.071e-02    2.923e-02  -1.393  0.16390    \n",
       "herderR      2.623e-02    3.968e-02   0.661  0.50871    \n",
       "pastvotedR  -4.414e-02    2.784e-02  -1.585  0.11313    \n",
       "hhsizeR      1.336e-03    2.127e-03   0.628  0.52991    \n",
       "---\n",
       "Signif. codes:  0 '***' 0.001 '**' 0.01 '*' 0.05 '.' 0.1 ' ' 1\n",
       "\n",
       "Residual standard error: 0.2463 on 1269 degrees of freedom\n",
       "Multiple R-squared(full model): 0.1353   Adjusted R-squared: 0.1312 \n",
       "Multiple R-squared(proj model): 0.1353   Adjusted R-squared: 0.1312 \n",
       "F-statistic(full model, *iid*): 33.1 on 6 and 1269 DF, p-value: < 2.2e-16 \n",
       "F-statistic(proj model): 23.07 on 6 and 485 DF, p-value: < 2.2e-16 \n",
       "\n"
      ]
     },
     "metadata": {},
     "output_type": "display_data"
    },
    {
     "data": {
      "text/plain": [
       "\n",
       "Call:\n",
       "   felm(formula = directlyharmedR ~ femaleR + ageR + farmerR + herderR +      pastvotedR + hhsizeR | 0 | 0 | village) \n",
       "\n",
       "Residuals:\n",
       "    Min      1Q  Median      3Q     Max \n",
       "-0.8285 -0.3129  0.0000  0.2630  0.9076 \n",
       "\n",
       "Coefficients:\n",
       "              Estimate Cluster s.e. t value Pr(>|t|)  \n",
       "(Intercept)  1.075e-17    5.196e-16   0.021   0.9835  \n",
       "femaleR     -9.714e-02    5.129e-02  -1.894   0.0585 .\n",
       "ageR        -1.182e-03    1.151e-03  -1.028   0.3044  \n",
       "farmerR     -2.789e-03    4.280e-02  -0.065   0.9481  \n",
       "herderR      1.228e-01    5.064e-02   2.425   0.0155 *\n",
       "pastvotedR   3.991e-02    3.366e-02   1.186   0.2360  \n",
       "hhsizeR      1.093e-03    3.286e-03   0.333   0.7394  \n",
       "---\n",
       "Signif. codes:  0 '***' 0.001 '**' 0.01 '*' 0.05 '.' 0.1 ' ' 1\n",
       "\n",
       "Residual standard error: 0.3744 on 1269 degrees of freedom\n",
       "Multiple R-squared(full model): 0.0179   Adjusted R-squared: 0.01326 \n",
       "Multiple R-squared(proj model): 0.0179   Adjusted R-squared: 0.01326 \n",
       "F-statistic(full model, *iid*):3.856 on 6 and 1269 DF, p-value: 0.0008089 \n",
       "F-statistic(proj model): 3.828 on 6 and 485 DF, p-value: 0.0009698 \n",
       "\n"
      ]
     },
     "metadata": {},
     "output_type": "display_data"
    }
   ],
   "source": [
    "#get rid of village fixed effects\n",
    "\n",
    "attach(darfur)\n",
    "# library(lfe)\n",
    "\n",
    "peacefactorR<- lm(peacefactor~village)$res\n",
    "directlyharmedR<-  lm(directlyharmed~village)$res\n",
    "femaleR<-  lm(female~village)$res\n",
    "ageR<-     lm(age~village)$res\n",
    "farmerR<-  lm(farmer_dar~village)$res\n",
    "herderR<-  lm(herder_dar~village)$res\n",
    "pastvotedR<- lm(pastvoted~village)$res\n",
    "hhsizeR<-   lm(hhsize_darfur~village)$res\n",
    "\n",
    "\n",
    "# Preliminary linear model analysis\n",
    "\n",
    "summary(felm(peacefactorR~ directlyharmedR+ femaleR +\n",
    "                     ageR + farmerR+ herderR + pastvotedR + hhsizeR |0|0|village))\n",
    "\n",
    "# here we are clustering standard errors at the village level\n",
    "\n",
    "\n",
    "summary(felm(peacefactorR~ femaleR +\n",
    "                     ageR + farmerR+ herderR + pastvotedR + hhsizeR |0|0|village))\n",
    "\n",
    "# here we are clustering standard errors at the village level\n",
    "\n",
    "\n",
    "\n",
    "summary(felm(directlyharmedR~ femaleR +\n",
    "                     ageR + farmerR+ herderR + pastvotedR + hhsizeR |0|0|village))\n",
    "\n",
    "# here we are clustering standard errors at the village level\n",
    "\n"
   ]
  },
  {
   "cell_type": "markdown",
   "id": "abstract-timer",
   "metadata": {
    "id": "abstract-timer",
    "papermill": {
     "duration": 0.046962,
     "end_time": "2022-05-12T19:46:41.603084",
     "exception": false,
     "start_time": "2022-05-12T19:46:41.556122",
     "status": "completed"
    },
    "tags": []
   },
   "source": [
    "## We first use Lasso for Partilling Out Controls"
   ]
  },
  {
   "cell_type": "code",
   "execution_count": 3,
   "id": "sexual-cabin",
   "metadata": {
    "colab": {
     "base_uri": "https://localhost:8080/",
     "height": 451
    },
    "execution": {
     "iopub.execute_input": "2022-05-12T19:46:41.661928Z",
     "iopub.status.busy": "2022-05-12T19:46:41.660743Z",
     "iopub.status.idle": "2022-05-12T19:46:41.977072Z",
     "shell.execute_reply": "2022-05-12T19:46:41.974243Z"
    },
    "executionInfo": {
     "elapsed": 30,
     "status": "ok",
     "timestamp": 1658254532581,
     "user": {
      "displayName": "Jhon Kevin Flores Rojas",
      "userId": "10267608749788811245"
     },
     "user_tz": 300
    },
    "id": "sexual-cabin",
    "outputId": "8f64259f-e0e3-423c-cc65-d592ed74c921",
    "papermill": {
     "duration": 0.34928,
     "end_time": "2022-05-12T19:46:41.977356",
     "exception": false,
     "start_time": "2022-05-12T19:46:41.628076",
     "status": "completed"
    },
    "tags": [],
    "vscode": {
     "languageId": "r"
    }
   },
   "outputs": [
    {
     "name": "stdout",
     "output_type": "stream",
     "text": [
      "[1] \"Controls explain the following fraction of variance of Outcome\"\n",
      "[2] \"0.125108054898996\"                                             \n"
     ]
    },
    {
     "name": "stdout",
     "output_type": "stream",
     "text": [
      "[1] \"Controls explain the following fraction of variance of Treatment\"\n",
      "[2] \"0.0119842379295229\"                                              \n"
     ]
    },
    {
     "data": {
      "text/plain": [
       "\n",
       "Call:\n",
       "   felm(formula = resY ~ resD | 0 | 0 | village) \n",
       "\n",
       "Residuals:\n",
       "     Min       1Q   Median       3Q      Max \n",
       "-0.63410 -0.15299  0.00069  0.09305  0.89593 \n",
       "\n",
       "Coefficients:\n",
       "              Estimate Cluster s.e. t value Pr(>|t|)    \n",
       "(Intercept) -1.250e-18    1.594e-04   0.000        1    \n",
       "resD         1.003e-01    2.443e-02   4.108 4.25e-05 ***\n",
       "---\n",
       "Signif. codes:  0 '***' 0.001 '**' 0.01 '*' 0.05 '.' 0.1 ' ' 1\n",
       "\n",
       "Residual standard error: 0.2444 on 1274 degrees of freedom\n",
       "Multiple R-squared(full model): 0.02312   Adjusted R-squared: 0.02235 \n",
       "Multiple R-squared(proj model): 0.02312   Adjusted R-squared: 0.02235 \n",
       "F-statistic(full model, *iid*):30.15 on 1 and 1274 DF, p-value: 4.82e-08 \n",
       "F-statistic(proj model): 16.87 on 1 and 485 DF, p-value: 4.693e-05 \n",
       "\n"
      ]
     },
     "metadata": {},
     "output_type": "display_data"
    }
   ],
   "source": [
    "# library(hdm)\n",
    "\n",
    "\n",
    "resY =  rlasso(peacefactorR ~  (femaleR +\n",
    "                     ageR + farmerR+ herderR + pastvotedR + hhsizeR)^3, post=F)$res\n",
    "\n",
    "resD =  rlasso(directlyharmedR ~  (femaleR +\n",
    "                     ageR + farmerR + herderR + pastvotedR + hhsizeR)^3 , post=F)$res\n",
    "\n",
    "\n",
    "print(c(\"Controls explain the following fraction of variance of Outcome\", 1-var(resY)/var(peacefactorR)))\n",
    "\n",
    "\n",
    "print(c(\"Controls explain the following fraction of variance of Treatment\", 1-var(resD)/var(directlyharmedR)))\n",
    "\n",
    "\n",
    "\n",
    "# library(lfe)\n",
    "\n",
    "\n",
    "dml.darfur.model= felm(resY ~ resD|0|0|village)   # cluster SEs by village\n",
    "\n",
    "summary(dml.darfur.model,robust=T)  #culster SE by village\n",
    "\n",
    "dml.darfur.model= lm(resY ~ resD)  #lineaer model to use as input in sensemakr   \n",
    "\n",
    "\n",
    "\n"
   ]
  },
  {
   "cell_type": "markdown",
   "id": "lined-picking",
   "metadata": {
    "id": "lined-picking",
    "papermill": {
     "duration": 0.025562,
     "end_time": "2022-05-12T19:46:42.042838",
     "exception": false,
     "start_time": "2022-05-12T19:46:42.017276",
     "status": "completed"
    },
    "tags": []
   },
   "source": [
    "## Manual Bias Analysis"
   ]
  },
  {
   "cell_type": "code",
   "execution_count": 4,
   "id": "electronic-horse",
   "metadata": {
    "colab": {
     "base_uri": "https://localhost:8080/",
     "height": 454
    },
    "execution": {
     "iopub.execute_input": "2022-05-12T19:46:42.102083Z",
     "iopub.status.busy": "2022-05-12T19:46:42.100426Z",
     "iopub.status.idle": "2022-05-12T19:46:42.510969Z",
     "shell.execute_reply": "2022-05-12T19:46:42.509938Z"
    },
    "executionInfo": {
     "elapsed": 532,
     "status": "ok",
     "timestamp": 1658254533093,
     "user": {
      "displayName": "Jhon Kevin Flores Rojas",
      "userId": "10267608749788811245"
     },
     "user_tz": 300
    },
    "id": "electronic-horse",
    "outputId": "d5d2a4d5-e4da-4504-9700-4ccfc9508971",
    "papermill": {
     "duration": 0.44142,
     "end_time": "2022-05-12T19:46:42.511139",
     "exception": false,
     "start_time": "2022-05-12T19:46:42.069719",
     "status": "completed"
    },
    "tags": [],
    "vscode": {
     "languageId": "r"
    }
   },
   "outputs": [
    {
     "name": "stdout",
     "output_type": "stream",
     "text": [
      "[1] 0.02622016\n"
     ]
    },
    {
     "data": {
      "image/png": "[encoded data removed]",
      "text/plain": [
       "Plot with title \"Combo of R2 such that |Bias|< \"",
       "Plot with title \"0.0262\""
      ]
     },
     "metadata": {
      "filenames": {
       "image/png": "D:\\a\\r_actions\\r_actions\\_build\\jupyter_execute\\r_notebook\\23_sensitivity_analysis_with_sensmakr_and_debiased_ml_10_1.png"
      },
      "image/png": {
       "height": 420,
       "width": 420
      }
     },
     "output_type": "display_data"
    }
   ],
   "source": [
    "# Main estimate\n",
    "\n",
    "beta = dml.darfur.model$coef[2]\n",
    "\n",
    "# Hypothetical values of partial R2s \n",
    "\n",
    "R2.YC = .16; R2.DC = .01\n",
    "\n",
    "# Elements of the formal\n",
    "\n",
    "kappa<-  (R2.YC * R2.DC)/(1- R2.DC)\n",
    "\n",
    "varianceRatio<- mean(dml.darfur.model$res^2)/mean(resD^2)\n",
    "\n",
    "# Compute square bias \n",
    "\n",
    "BiasSq <-  kappa*varianceRatio\n",
    "\n",
    "# Compute absolute value of the bias\n",
    "\n",
    "print(sqrt(BiasSq))\n",
    "\n",
    "\n",
    "# plotting \n",
    "\n",
    "gridR2.DC<- seq(0,.3, by=.001) \n",
    "\n",
    "gridR2.YC<- kappa*(1 - gridR2.DC)/gridR2.DC\n",
    "\n",
    "gridR2.YC<- ifelse(gridR2.YC> 1, 1, gridR2.YC);\n",
    "\n",
    "\n",
    "\n",
    "plot(gridR2.DC, gridR2.YC, type=\"l\", col=4, xlab=\"Partial R2 of Treatment with Confounder\", \n",
    "     ylab=\"Partial R2 of Outcome with Confounder\",\n",
    "    main= c(\"Combo of R2 such that |Bias|< \", round(sqrt(BiasSq), digits=4))\n",
    ")\n",
    "\n",
    "\n",
    "\n",
    "\n",
    "\n"
   ]
  },
  {
   "cell_type": "markdown",
   "id": "sticky-classroom",
   "metadata": {
    "id": "sticky-classroom",
    "papermill": {
     "duration": 0.028072,
     "end_time": "2022-05-12T19:46:42.569295",
     "exception": false,
     "start_time": "2022-05-12T19:46:42.541223",
     "status": "completed"
    },
    "tags": []
   },
   "source": [
    "## Bias Analysis with Sensemakr"
   ]
  },
  {
   "cell_type": "code",
   "execution_count": 5,
   "id": "premier-society",
   "metadata": {
    "colab": {
     "base_uri": "https://localhost:8080/",
     "height": 909
    },
    "execution": {
     "iopub.execute_input": "2022-05-12T19:46:42.631633Z",
     "iopub.status.busy": "2022-05-12T19:46:42.629488Z",
     "iopub.status.idle": "2022-05-12T19:46:43.214284Z",
     "shell.execute_reply": "2022-05-12T19:46:43.215363Z"
    },
    "executionInfo": {
     "elapsed": 1248,
     "status": "ok",
     "timestamp": 1658254534332,
     "user": {
      "displayName": "Jhon Kevin Flores Rojas",
      "userId": "10267608749788811245"
     },
     "user_tz": 300
    },
    "id": "premier-society",
    "outputId": "a2453807-ed5e-4287-b81f-a8138a5a8fe6",
    "papermill": {
     "duration": 0.618561,
     "end_time": "2022-05-12T19:46:43.215604",
     "exception": false,
     "start_time": "2022-05-12T19:46:42.597043",
     "status": "completed"
    },
    "tags": [],
    "vscode": {
     "languageId": "r"
    }
   },
   "outputs": [
    {
     "name": "stdout",
     "output_type": "stream",
     "text": [
      "Sensitivity Analysis to Unobserved Confounding\n",
      "\n",
      "Model Formula: resY ~ resD\n",
      "\n",
      "Null hypothesis: q = 1 and reduce = TRUE \n",
      "-- This means we are considering biases that reduce the absolute value of the current estimate.\n",
      "-- The null hypothesis deemed problematic is H0:tau = 0 \n",
      "\n",
      "Unadjusted Estimates of 'resD': \n",
      "  Coef. estimate: 0.1003 \n",
      "  Standard Error: 0.0183 \n",
      "  t-value (H0:tau = 0): 5.491 \n",
      "\n",
      "Sensitivity Statistics:\n",
      "  Partial R2 of treatment with outcome: 0.0231 \n",
      "  Robustness Value, q = 1: 0.1425 \n",
      "  Robustness Value, q = 1, alpha = 0.05: 0.0941 \n",
      "\n",
      "Verbal interpretation of sensitivity statistics:\n",
      "\n",
      "-- Partial R2 of the treatment with the outcome: an extreme confounder (orthogonal to the covariates) that explains 100% of the residual variance of the outcome, would need to explain at least 2.31% of the residual variance of the treatment to fully account for the observed estimated effect.\n",
      "\n",
      "-- Robustness Value, q = 1: unobserved confounders (orthogonal to the covariates) that explain more than 14.25% of the residual variance of both the treatment and the outcome are strong enough to bring the point estimate to 0 (a bias of 100% of the original estimate). Conversely, unobserved confounders that do not explain more than 14.25% of the residual variance of both the treatment and the outcome are not strong enough to bring the point estimate to 0.\n",
      "\n",
      "-- Robustness Value, q = 1, alpha = 0.05: unobserved confounders (orthogonal to the covariates) that explain more than 9.41% of the residual variance of both the treatment and the outcome are strong enough to bring the estimate to a range where it is no longer 'statistically different' from 0 (a bias of 100% of the original estimate), at the significance level of alpha = 0.05. Conversely, unobserved confounders that do not explain more than 9.41% of the residual variance of both the treatment and the outcome are not strong enough to bring the estimate to a range where it is no longer 'statistically different' from 0, at the significance level of alpha = 0.05.\n",
      "\n"
     ]
    },
    {
     "data": {
      "image/png": "[encoded data removed]",
      "text/plain": [
       "plot without title"
      ]
     },
     "metadata": {
      "filenames": {
       "image/png": "D:\\a\\r_actions\\r_actions\\_build\\jupyter_execute\\r_notebook\\23_sensitivity_analysis_with_sensmakr_and_debiased_ml_12_1.png"
      },
      "image/png": {
       "height": 420,
       "width": 420
      }
     },
     "output_type": "display_data"
    }
   ],
   "source": [
    " \n",
    "dml.darfur.sensitivity <- sensemakr(model = dml.darfur.model, \n",
    "                                treatment = \"resD\")\n",
    "summary(dml.darfur.sensitivity)\n",
    "\n",
    "plot(dml.darfur.sensitivity, nlevels = 15)\n"
   ]
  },
  {
   "cell_type": "markdown",
   "id": "necessary-monroe",
   "metadata": {
    "id": "necessary-monroe",
    "papermill": {
     "duration": 0.032832,
     "end_time": "2022-05-12T19:46:43.282466",
     "exception": false,
     "start_time": "2022-05-12T19:46:43.249634",
     "status": "completed"
    },
    "tags": []
   },
   "source": [
    "## Next We use Random Forest as ML tool for Partialling Out"
   ]
  },
  {
   "cell_type": "markdown",
   "id": "interstate-wallet",
   "metadata": {
    "id": "interstate-wallet",
    "papermill": {
     "duration": 0.032157,
     "end_time": "2022-05-12T19:46:43.346790",
     "exception": false,
     "start_time": "2022-05-12T19:46:43.314633",
     "status": "completed"
    },
    "tags": []
   },
   "source": [
    "The following code does DML with clsutered standard errors by ClusterID"
   ]
  },
  {
   "cell_type": "code",
   "execution_count": 6,
   "id": "prime-filter",
   "metadata": {
    "execution": {
     "iopub.execute_input": "2022-05-12T19:46:43.419567Z",
     "iopub.status.busy": "2022-05-12T19:46:43.418231Z",
     "iopub.status.idle": "2022-05-12T19:46:43.432986Z",
     "shell.execute_reply": "2022-05-12T19:46:43.432034Z"
    },
    "executionInfo": {
     "elapsed": 47,
     "status": "ok",
     "timestamp": 1658254534347,
     "user": {
      "displayName": "Jhon Kevin Flores Rojas",
      "userId": "10267608749788811245"
     },
     "user_tz": 300
    },
    "id": "prime-filter",
    "papermill": {
     "duration": 0.052926,
     "end_time": "2022-05-12T19:46:43.433155",
     "exception": false,
     "start_time": "2022-05-12T19:46:43.380229",
     "status": "completed"
    },
    "tags": [],
    "vscode": {
     "languageId": "r"
    }
   },
   "outputs": [],
   "source": [
    "DML2.for.PLM <- function(x, d, y, dreg, yreg, nfold=2, clusterID) {\n",
    "  nobs <- nrow(x) #number of observations\n",
    "  foldid <- rep.int(1:nfold,times = ceiling(nobs/nfold))[sample.int(nobs)] #define folds indices\n",
    "  I <- split(1:nobs, foldid)  #split observation indices into folds  \n",
    "  ytil <- dtil <- rep(NA, nobs)\n",
    "  cat(\"fold: \")\n",
    "  for(b in 1:length(I)){\n",
    "    dfit <- dreg(x[-I[[b]],], d[-I[[b]]]) #take a fold out\n",
    "    yfit <- yreg(x[-I[[b]],], y[-I[[b]]]) # take a foldt out\n",
    "    dhat <- predict(dfit, x[I[[b]],], type=\"response\") #predict the left-out fold \n",
    "    yhat <- predict(yfit, x[I[[b]],], type=\"response\") #predict the left-out fold \n",
    "    dtil[I[[b]]] <- (d[I[[b]]] - dhat) #record residual for the left-out fold\n",
    "    ytil[I[[b]]] <- (y[I[[b]]] - yhat) #record residial for the left-out fold\n",
    "    cat(b,\" \")\n",
    "        }\n",
    "  rfit <- felm(ytil ~ dtil |0|0|clusterID)    #get clustered standard errors using felm\n",
    "  rfitSummary<- summary(rfit)\n",
    "  coef.est <-  rfitSummary$coef[2] #extract coefficient\n",
    "  se <- rfitSummary$coef[2,2]  #record robust standard error\n",
    "  cat(sprintf(\"\\ncoef (se) = %g (%g)\\n\", coef.est , se))  #printing output\n",
    "  return( list(coef.est =coef.est , se=se, dtil=dtil, ytil=ytil) ) #save output and residuals \n",
    "}"
   ]
  },
  {
   "cell_type": "code",
   "execution_count": 7,
   "id": "informative-quality",
   "metadata": {
    "colab": {
     "base_uri": "https://localhost:8080/",
     "height": 1000
    },
    "execution": {
     "iopub.execute_input": "2022-05-12T19:46:43.623146Z",
     "iopub.status.busy": "2022-05-12T19:46:43.621552Z",
     "iopub.status.idle": "2022-05-12T19:47:25.376687Z",
     "shell.execute_reply": "2022-05-12T19:47:25.377505Z"
    },
    "executionInfo": {
     "elapsed": 42620,
     "status": "ok",
     "timestamp": 1658254576923,
     "user": {
      "displayName": "Jhon Kevin Flores Rojas",
      "userId": "10267608749788811245"
     },
     "user_tz": 300
    },
    "id": "informative-quality",
    "outputId": "fd3df514-dbcc-49db-fc68-067304809610",
    "papermill": {
     "duration": 41.795853,
     "end_time": "2022-05-12T19:47:25.377871",
     "exception": false,
     "start_time": "2022-05-12T19:46:43.582018",
     "status": "completed"
    },
    "tags": [],
    "vscode": {
     "languageId": "r"
    }
   },
   "outputs": [
    {
     "data": {
      "text/html": [
       "<style>\n",
       ".list-inline {list-style: none; margin:0; padding: 0}\n",
       ".list-inline>li {display: inline-block}\n",
       ".list-inline>li:not(:last-child)::after {content: \"\\00b7\"; padding: 0 .5ex}\n",
       "</style>\n",
       "<ol class=list-inline><li>1276</li><li>7</li></ol>\n"
      ],
      "text/latex": [
       "\\begin{enumerate*}\n",
       "\\item 1276\n",
       "\\item 7\n",
       "\\end{enumerate*}\n"
      ],
      "text/markdown": [
       "1. 1276\n",
       "2. 7\n",
       "\n",
       "\n"
      ],
      "text/plain": [
       "[1] 1276    7"
      ]
     },
     "metadata": {},
     "output_type": "display_data"
    }
   ],
   "source": [
    "\n",
    "x= model.matrix(~  femaleR + ageR + farmerR + herderR + pastvotedR + hhsizeR)\n",
    "\n",
    "dim(x)\n",
    "\n",
    "d= directlyharmedR\n",
    "\n",
    "y = peacefactorR;\n",
    "\n",
    "#DML with Random Forest:\n",
    "dreg <- function(x,d){ randomForest(x, d) } #ML method=Forest \n",
    "yreg <- function(x,y){ randomForest(x, y) } #ML method=Forest\n",
    "set.seed(1)\n",
    "DML2.RF = DML2.for.PLM(x, d, y, dreg, yreg, nfold=10, clusterID=village)\n",
    "\n",
    "\n",
    "resY =  DML2.RF$ytil\n",
    "\n",
    "resD =  DML2.RF$dtil\n",
    "\n",
    "\n",
    "print(c(\"Controls explain the following fraction of variance of Outcome\", max(1-var(resY)/var(peacefactorR),0)))\n",
    "\n",
    "\n",
    "print(c(\"Controls explain the following fraction of variance of Treatment\", max(1-var(resD)/var(directlyharmedR),0)))\n",
    "\n",
    "\n",
    "\n",
    "dml.darfur.model= lm(resY~resD) \n",
    "\n",
    "\n",
    "dml.darfur.sensitivity <- sensemakr(model = dml.darfur.model, \n",
    "                                treatment = \"resD\")\n",
    "summary(dml.darfur.sensitivity)\n",
    "\n",
    "plot(dml.darfur.sensitivity,nlevels = 15)\n",
    "\n"
   ]
  }
 ],
 "metadata": {
  "colab": {
   "collapsed_sections": [],
   "name": "24_sensitivity-analysis-with-sensmakr-and-debiased-ml.ipynb",
   "provenance": []
  },
  "kernelspec": {
   "display_name": "R",
   "language": "R",
   "name": "ir"
  },
  "language_info": {
   "codemirror_mode": "r",
   "file_extension": ".r",
   "mimetype": "text/x-r-source",
   "name": "R",
   "pygments_lexer": "r",
   "version": "4.2.1"
  },
  "papermill": {
   "default_parameters": {},
   "duration": 66.44839,
   "end_time": "2022-05-12T19:47:25.530324",
   "environment_variables": {},
   "exception": null,
   "input_path": "__notebook__.ipynb",
   "output_path": "__notebook__.ipynb",
   "parameters": {},
   "start_time": "2022-05-12T19:46:19.081934",
   "version": "2.3.3"
  }
 },
 "nbformat": 4,
 "nbformat_minor": 5
}