{
 "cells": [
  {
   "cell_type": "markdown",
   "id": "kTTXRNddvvFu",
   "metadata": {
    "id": "kTTXRNddvvFu",
    "papermill": {
     "duration": 0.040767,
     "end_time": "2021-03-24T14:13:51.082088",
     "exception": false,
     "start_time": "2021-03-24T14:13:51.041321",
     "status": "completed"
    },
    "tags": []
   },
   "source": [
    "# DML for ATE and LATE of 401(k) on Wealth"
   ]
  },
  {
   "cell_type": "markdown",
   "id": "ql7TgDszvvFx",
   "metadata": {
    "id": "ql7TgDszvvFx",
    "papermill": {
     "duration": 0.036878,
     "end_time": "2021-03-24T14:13:51.155414",
     "exception": false,
     "start_time": "2021-03-24T14:13:51.118536",
     "status": "completed"
    },
    "tags": []
   },
   "source": [
    "## Impact of 401(k) on  Financial Wealth\n",
    "\n",
    "As a practical illustration of the methods developed in this lecture, we consider estimation of the effect of 401(k) eligibility and participation \n",
    "on accumulated assets. 401(k) plans are pension accounts sponsored by employers. The key problem in determining the effect of participation in 401(k) plans on accumulated assets is saver heterogeneity coupled with the fact that the decision to enroll in a 401(k) is non-random. It is generally recognized that some people have a higher preference for saving than others. It also seems likely that those individuals with high unobserved preference for saving would be most likely to choose to participate in tax-advantaged retirement savings plans and would tend to have otherwise high amounts of accumulated assets. The presence of unobserved savings preferences with these properties then implies that conventional estimates that do not account for saver heterogeneity and endogeneity of participation will be biased upward, tending to overstate the savings effects of 401(k) participation.\n",
    "\n",
    "One can argue that eligibility for enrolling in a 401(k) plan in this data can be taken as exogenous after conditioning on a few observables of which the most important for their argument is income. The basic idea is that, at least around the time 401(k)’s initially became available, people were unlikely to be basing their employment decisions on whether an employer offered a 401(k) but would instead focus on income and other aspects of the job. "
   ]
  },
  {
   "cell_type": "markdown",
   "id": "9nnOqb09vvF0",
   "metadata": {
    "id": "9nnOqb09vvF0",
    "papermill": {
     "duration": 0.036497,
     "end_time": "2021-03-24T14:13:51.229370",
     "exception": false,
     "start_time": "2021-03-24T14:13:51.192873",
     "status": "completed"
    },
    "tags": []
   },
   "source": [
    "### Data\n",
    "\n",
    "The data set can be loaded from the `hdm` package for R by typing\n",
    "\n"
   ]
  },
  {
   "cell_type": "code",
   "execution_count": 1,
   "id": "6mUGs8wYvvF2",
   "metadata": {
    "colab": {
     "base_uri": "https://localhost:8080/",
     "height": 350
    },
    "execution": {
     "iopub.execute_input": "2021-03-24T14:13:51.310176Z",
     "iopub.status.busy": "2021-03-24T14:13:51.307949Z",
     "iopub.status.idle": "2021-03-24T14:13:51.748234Z",
     "shell.execute_reply": "2021-03-24T14:13:51.746925Z"
    },
    "id": "6mUGs8wYvvF2",
    "outputId": "1a042296-6db8-4230-846b-177c4d64fba6",
    "papermill": {
     "duration": 0.481645,
     "end_time": "2021-03-24T14:13:51.748472",
     "exception": false,
     "start_time": "2021-03-24T14:13:51.266827",
     "status": "completed"
    },
    "tags": [],
    "vscode": {
     "languageId": "r"
    }
   },
   "outputs": [
    {
     "name": "stderr",
     "output_type": "stream",
     "text": [
      "Installing package into 'D:/a/_temp/Library'\n",
      "(as 'lib' is unspecified)\n",
      "\n"
     ]
    },
    {
     "name": "stdout",
     "output_type": "stream",
     "text": [
      "package 'librarian' successfully unpacked and MD5 sums checked\n"
     ]
    },
    {
     "name": "stdout",
     "output_type": "stream",
     "text": [
      "\n",
      "The downloaded binary packages are in\n",
      "\tC:\\Users\\runneradmin\\AppData\\Local\\Temp\\RtmpYTx5es\\downloaded_packages\n"
     ]
    },
    {
     "name": "stderr",
     "output_type": "stream",
     "text": [
      "\n",
      "  These packages will be installed:\n",
      "\n",
      "  'ranger'\n",
      "\n",
      "  It may take some time.\n",
      "\n"
     ]
    },
    {
     "name": "stdout",
     "output_type": "stream",
     "text": [
      "package 'ranger' successfully unpacked and MD5 sums checked\n"
     ]
    },
    {
     "name": "stdout",
     "output_type": "stream",
     "text": [
      "\n",
      "The downloaded binary packages are in\n",
      "\tC:\\Users\\runneradmin\\AppData\\Local\\Temp\\RtmpYTx5es\\downloaded_packages\n"
     ]
    },
    {
     "data": {
      "text/html": [
       "<style>\n",
       ".list-inline {list-style: none; margin:0; padding: 0}\n",
       ".list-inline>li {display: inline-block}\n",
       ".list-inline>li:not(:last-child)::after {content: \"\\00b7\"; padding: 0 .5ex}\n",
       "</style>\n",
       "<ol class=list-inline><li>9915</li><li>44</li></ol>\n"
      ],
      "text/latex": [
       "\\begin{enumerate*}\n",
       "\\item 9915\n",
       "\\item 44\n",
       "\\end{enumerate*}\n"
      ],
      "text/markdown": [
       "1. 9915\n",
       "2. 44\n",
       "\n",
       "\n"
      ],
      "text/plain": [
       "[1] 9915   44"
      ]
     },
     "metadata": {},
     "output_type": "display_data"
    }
   ],
   "source": [
    "install.packages(\"librarian\")\n",
    "librarian::shelf(\n",
    "  hdm, ggplot2, \n",
    "  , DoubleML\n",
    "  , mlr3learners\n",
    "  , mlr3\n",
    "  , data.table\n",
    "  , randomForest\n",
    "  , ranger\n",
    "  , xgboost\n",
    ")\n",
    "\n",
    "library(hdm) \n",
    "library(ggplot2)\n",
    "data(pension)\n",
    "data <- pension \n",
    "dim(data)"
   ]
  },
  {
   "cell_type": "code",
   "execution_count": 2,
   "id": "Xj5jzbDRvvF3",
   "metadata": {
    "id": "Xj5jzbDRvvF3",
    "vscode": {
     "languageId": "r"
    }
   },
   "outputs": [],
   "source": [
    "# save(data, file = \"../data/pension.RData\")"
   ]
  },
  {
   "cell_type": "markdown",
   "id": "8P-GMseHvvF4",
   "metadata": {
    "id": "8P-GMseHvvF4",
    "papermill": {
     "duration": 0.036873,
     "end_time": "2021-03-24T14:13:51.825239",
     "exception": false,
     "start_time": "2021-03-24T14:13:51.788366",
     "status": "completed"
    },
    "tags": []
   },
   "source": [
    "See the \"Details\" section on the description of the data set, which can be accessed by \n"
   ]
  },
  {
   "cell_type": "code",
   "execution_count": 3,
   "id": "36OSw55DvvF6",
   "metadata": {
    "execution": {
     "iopub.execute_input": "2021-03-24T14:13:51.935617Z",
     "iopub.status.busy": "2021-03-24T14:13:51.904912Z",
     "iopub.status.idle": "2021-03-24T14:13:52.174424Z",
     "shell.execute_reply": "2021-03-24T14:13:52.173701Z"
    },
    "id": "36OSw55DvvF6",
    "papermill": {
     "duration": 0.311328,
     "end_time": "2021-03-24T14:13:52.174594",
     "exception": false,
     "start_time": "2021-03-24T14:13:51.863266",
     "status": "completed"
    },
    "tags": [],
    "vscode": {
     "languageId": "r"
    }
   },
   "outputs": [],
   "source": [
    "# help(pension)"
   ]
  },
  {
   "cell_type": "markdown",
   "id": "3q-2_hVevvF7",
   "metadata": {
    "id": "3q-2_hVevvF7",
    "papermill": {
     "duration": 0.037509,
     "end_time": "2021-03-24T14:13:52.250583",
     "exception": false,
     "start_time": "2021-03-24T14:13:52.213074",
     "status": "completed"
    },
    "tags": []
   },
   "source": [
    "The data consist of 9,915 observations at the household level drawn from the 1991 Survey of Income and Program Participation (SIPP).  All the variables are referred to 1990. We use net financial assets (*net\\_tfa*) as the outcome variable, $Y$,  in our analysis. The net financial assets are computed as the sum of IRA balances, 401(k) balances, checking accounts, saving bonds, other interest-earning accounts, other interest-earning assets, stocks, and mutual funds less non mortgage debts. "
   ]
  },
  {
   "cell_type": "markdown",
   "id": "gEbjNgg9vvF8",
   "metadata": {
    "id": "gEbjNgg9vvF8",
    "papermill": {
     "duration": 0.038843,
     "end_time": "2021-03-24T14:13:52.327055",
     "exception": false,
     "start_time": "2021-03-24T14:13:52.288212",
     "status": "completed"
    },
    "tags": []
   },
   "source": [
    "Among the $9915$ individuals, $3682$ are eligible to participate in the program. The variable *e401* indicates eligibility and *p401* indicates participation, respectively."
   ]
  },
  {
   "cell_type": "code",
   "execution_count": 4,
   "id": "B6aXqD-7vvF-",
   "metadata": {
    "colab": {
     "base_uri": "https://localhost:8080/",
     "height": 437
    },
    "execution": {
     "iopub.execute_input": "2021-03-24T14:13:52.409601Z",
     "iopub.status.busy": "2021-03-24T14:13:52.408680Z",
     "iopub.status.idle": "2021-03-24T14:13:53.355367Z",
     "shell.execute_reply": "2021-03-24T14:13:53.353884Z"
    },
    "id": "B6aXqD-7vvF-",
    "outputId": "af6c1648-dfc7-4550-8ac6-b669b17d622f",
    "papermill": {
     "duration": 0.991238,
     "end_time": "2021-03-24T14:13:53.355568",
     "exception": false,
     "start_time": "2021-03-24T14:13:52.364330",
     "status": "completed"
    },
    "tags": [],
    "vscode": {
     "languageId": "r"
    }
   },
   "outputs": [
    {
     "data": {
      "image/png": "[encoded data removed]",
      "text/plain": [
       "plot without title"
      ]
     },
     "metadata": {
      "filenames": {
       "image/png": "D:\\a\\r_actions\\r_actions\\_build\\jupyter_execute\\r_notebook\\20_pm5_401k_9_0.png"
      },
      "image/png": {
       "height": 420,
       "width": 420
      }
     },
     "output_type": "display_data"
    }
   ],
   "source": [
    "hist_e401 = ggplot(data, aes(x = e401, fill = factor(e401))) + geom_bar()\n",
    "hist_e401"
   ]
  },
  {
   "cell_type": "markdown",
   "id": "hp6-KPF9vvF_",
   "metadata": {
    "id": "hp6-KPF9vvF_",
    "papermill": {
     "duration": 0.039406,
     "end_time": "2021-03-24T14:13:53.435306",
     "exception": false,
     "start_time": "2021-03-24T14:13:53.395900",
     "status": "completed"
    },
    "tags": []
   },
   "source": [
    "Eligibility is highly associated with financial wealth:"
   ]
  },
  {
   "cell_type": "code",
   "execution_count": 5,
   "id": "rUNzVsajvvGA",
   "metadata": {
    "colab": {
     "base_uri": "https://localhost:8080/",
     "height": 472
    },
    "execution": {
     "iopub.execute_input": "2021-03-24T14:13:53.522787Z",
     "iopub.status.busy": "2021-03-24T14:13:53.520875Z",
     "iopub.status.idle": "2021-03-24T14:13:54.163627Z",
     "shell.execute_reply": "2021-03-24T14:13:54.162037Z"
    },
    "id": "rUNzVsajvvGA",
    "outputId": "069af344-768e-49be-9091-aa55cef5928d",
    "papermill": {
     "duration": 0.688917,
     "end_time": "2021-03-24T14:13:54.163799",
     "exception": false,
     "start_time": "2021-03-24T14:13:53.474882",
     "status": "completed"
    },
    "tags": [],
    "vscode": {
     "languageId": "r"
    }
   },
   "outputs": [
    {
     "name": "stderr",
     "output_type": "stream",
     "text": [
      "Warning message:\n",
      "\"Removed 340 rows containing non-finite values (stat_density).\"\n"
     ]
    },
    {
     "data": {
      "image/png": "[encoded data removed]",
      "text/plain": [
       "plot without title"
      ]
     },
     "metadata": {
      "filenames": {
       "image/png": "D:\\a\\r_actions\\r_actions\\_build\\jupyter_execute\\r_notebook\\20_pm5_401k_11_1.png"
      },
      "image/png": {
       "height": 420,
       "width": 420
      }
     },
     "output_type": "display_data"
    }
   ],
   "source": [
    "dens_net_tfa = ggplot(data, aes(x = net_tfa, color = factor(e401), fill = factor(e401)) ) + \n",
    "                    geom_density() + xlim(c(-20000, 150000)) + \n",
    "                    facet_wrap(.~e401) \n",
    "                    \n",
    "dens_net_tfa"
   ]
  },
  {
   "cell_type": "markdown",
   "id": "fxP4ws11vvGC",
   "metadata": {
    "id": "fxP4ws11vvGC",
    "papermill": {
     "duration": 0.040645,
     "end_time": "2021-03-24T14:13:54.245822",
     "exception": false,
     "start_time": "2021-03-24T14:13:54.205177",
     "status": "completed"
    },
    "tags": []
   },
   "source": [
    "The unconditional APE of e401 is about $19559$:"
   ]
  },
  {
   "cell_type": "code",
   "execution_count": 6,
   "id": "lh6ippL1vvGD",
   "metadata": {
    "colab": {
     "base_uri": "https://localhost:8080/",
     "height": 34
    },
    "execution": {
     "iopub.execute_input": "2021-03-24T14:13:54.332250Z",
     "iopub.status.busy": "2021-03-24T14:13:54.330777Z",
     "iopub.status.idle": "2021-03-24T14:13:54.354476Z",
     "shell.execute_reply": "2021-03-24T14:13:54.352982Z"
    },
    "id": "lh6ippL1vvGD",
    "outputId": "f074138a-e1bc-407d-929a-598fad71462d",
    "papermill": {
     "duration": 0.068689,
     "end_time": "2021-03-24T14:13:54.354643",
     "exception": false,
     "start_time": "2021-03-24T14:13:54.285954",
     "status": "completed"
    },
    "tags": [],
    "vscode": {
     "languageId": "r"
    }
   },
   "outputs": [
    {
     "data": {
      "text/html": [
       "19559"
      ],
      "text/latex": [
       "19559"
      ],
      "text/markdown": [
       "19559"
      ],
      "text/plain": [
       "[1] 19559"
      ]
     },
     "metadata": {},
     "output_type": "display_data"
    }
   ],
   "source": [
    "e1 <- data[data$e401==1,]\n",
    "e0 <- data[data$e401==0,]\n",
    "round(mean(e1$net_tfa)-mean(e0$net_tfa),0)"
   ]
  },
  {
   "cell_type": "markdown",
   "id": "U8jRMiWDvvGE",
   "metadata": {
    "id": "U8jRMiWDvvGE",
    "papermill": {
     "duration": 0.041187,
     "end_time": "2021-03-24T14:13:54.437695",
     "exception": false,
     "start_time": "2021-03-24T14:13:54.396508",
     "status": "completed"
    },
    "tags": []
   },
   "source": [
    "Among the $3682$ individuals that  are eligible, $2594$ decided to participate in the program. The unconditional APE of p401 is about $27372$:"
   ]
  },
  {
   "cell_type": "code",
   "execution_count": 7,
   "id": "yeiz-KZ4vvGE",
   "metadata": {
    "colab": {
     "base_uri": "https://localhost:8080/",
     "height": 34
    },
    "execution": {
     "iopub.execute_input": "2021-03-24T14:13:54.528739Z",
     "iopub.status.busy": "2021-03-24T14:13:54.526722Z",
     "iopub.status.idle": "2021-03-24T14:13:54.557004Z",
     "shell.execute_reply": "2021-03-24T14:13:54.554832Z"
    },
    "id": "yeiz-KZ4vvGE",
    "outputId": "d72eed98-dff5-415b-ebc5-6efdb6145dcf",
    "papermill": {
     "duration": 0.078062,
     "end_time": "2021-03-24T14:13:54.557173",
     "exception": false,
     "start_time": "2021-03-24T14:13:54.479111",
     "status": "completed"
    },
    "tags": [],
    "vscode": {
     "languageId": "r"
    }
   },
   "outputs": [
    {
     "data": {
      "text/html": [
       "27372"
      ],
      "text/latex": [
       "27372"
      ],
      "text/markdown": [
       "27372"
      ],
      "text/plain": [
       "[1] 27372"
      ]
     },
     "metadata": {},
     "output_type": "display_data"
    }
   ],
   "source": [
    "p1 <- data[data$p401==1,]\n",
    "p0 <- data[data$p401==0,]\n",
    "round(mean(p1$net_tfa)-mean(p0$net_tfa),0)"
   ]
  },
  {
   "cell_type": "markdown",
   "id": "Dqrq_39evvGF",
   "metadata": {
    "id": "Dqrq_39evvGF",
    "papermill": {
     "duration": 0.041678,
     "end_time": "2021-03-24T14:13:54.640532",
     "exception": false,
     "start_time": "2021-03-24T14:13:54.598854",
     "status": "completed"
    },
    "tags": []
   },
   "source": [
    "As discussed, these estimates are biased since they do not account for saver heterogeneity and endogeneity of participation."
   ]
  },
  {
   "cell_type": "markdown",
   "id": "nARHorZrvvGH",
   "metadata": {
    "id": "nARHorZrvvGH",
    "papermill": {
     "duration": 0.041283,
     "end_time": "2021-03-24T14:13:54.723664",
     "exception": false,
     "start_time": "2021-03-24T14:13:54.682381",
     "status": "completed"
    },
    "tags": []
   },
   "source": [
    "## Double ML package"
   ]
  },
  {
   "cell_type": "markdown",
   "id": "U-vMqc9QvvGI",
   "metadata": {
    "id": "U-vMqc9QvvGI",
    "papermill": {
     "duration": 0.041034,
     "end_time": "2021-03-24T14:13:54.806271",
     "exception": false,
     "start_time": "2021-03-24T14:13:54.765237",
     "status": "completed"
    },
    "tags": []
   },
   "source": [
    "We are interested in valid estimators of the average treatment effect of `e401` and `p401` on `net_tfa`. To get those estimators, we use the `DoubleML` package that internally builds on mlr3. You find additional information on the package on the package website https://docs.doubleml.org/ and the R documentation page https://docs.doubleml.org/r/stable/. "
   ]
  },
  {
   "cell_type": "code",
   "execution_count": 8,
   "id": "-2Jvjo0uvvGI",
   "metadata": {
    "execution": {
     "iopub.execute_input": "2021-03-24T14:13:54.895058Z",
     "iopub.status.busy": "2021-03-24T14:13:54.893837Z",
     "iopub.status.idle": "2021-03-24T14:16:45.447127Z",
     "shell.execute_reply": "2021-03-24T14:16:45.445798Z"
    },
    "id": "-2Jvjo0uvvGI",
    "papermill": {
     "duration": 170.599415,
     "end_time": "2021-03-24T14:16:45.447305",
     "exception": false,
     "start_time": "2021-03-24T14:13:54.847890",
     "status": "completed"
    },
    "tags": [],
    "vscode": {
     "languageId": "r"
    }
   },
   "outputs": [],
   "source": [
    "# installing Double ML\n",
    "#remotes::install_github(\"DoubleML/doubleml-for-r\",quiet=TRUE)\n",
    "\n",
    "\n",
    "# loading the packages\n",
    "library(DoubleML)\n",
    "library(mlr3learners)\n",
    "library(mlr3)\n",
    "library(data.table)\n",
    "library(randomForest)\n"
   ]
  },
  {
   "cell_type": "markdown",
   "id": "oZxNUE0EvvGJ",
   "metadata": {
    "id": "oZxNUE0EvvGJ",
    "papermill": {
     "duration": 0.045129,
     "end_time": "2021-03-24T14:16:45.537784",
     "exception": false,
     "start_time": "2021-03-24T14:16:45.492655",
     "status": "completed"
    },
    "tags": []
   },
   "source": [
    "As mentioned, in the tutorial we use the meta package `mlr3` to generate predictions with machine learning methods. A comprehensive introduction and description of the `mlr3` package is provided in the [mlr3book](https://mlr3book.mlr-org.com/). A list of all learners that you can use in `mlr3` can be found [here](https://mlr3extralearners.mlr-org.com/articles/learners/list_learners.html). The entry in the columns *mlr3 Package* and *Packages* indicate which packages must be installed/loaded in your R session. "
   ]
  },
  {
   "cell_type": "markdown",
   "id": "wbzixeF7vvGK",
   "metadata": {
    "id": "wbzixeF7vvGK",
    "papermill": {
     "duration": 0.044769,
     "end_time": "2021-03-24T14:16:45.625738",
     "exception": false,
     "start_time": "2021-03-24T14:16:45.580969",
     "status": "completed"
    },
    "tags": []
   },
   "source": [
    "## Estimating the ATE of 401(k) Eligibility on Net Financial Assets"
   ]
  },
  {
   "cell_type": "markdown",
   "id": "GrKLSF7XvvGK",
   "metadata": {
    "id": "GrKLSF7XvvGK",
    "papermill": {
     "duration": 0.043232,
     "end_time": "2021-03-24T14:16:45.711972",
     "exception": false,
     "start_time": "2021-03-24T14:16:45.668740",
     "status": "completed"
    },
    "tags": []
   },
   "source": [
    "We first look at the treatment effect of e401 on net total financial assets. We give estimates of the ATE and ATT that corresponds to the linear model\n",
    "\n",
    "\\begin{equation*}\n",
    "Y = D \\alpha + f(X)'\\beta+ \\epsilon,\n",
    "\\end{equation*}\n",
    "\n",
    "where $f(X)$ includes indicators of marital status, two-earner status, defined benefit pension status, IRA participation status, and home ownership status, and  orthogonal polynomials of degrees 2, 4, 6 and 8 in family size, education, age and  income, respectively. The dimensions of $f(X)$ is 25. \n",
    "\n",
    "In the first step, we report estimates of the average treatment effect (ATE) of 401(k) eligibility on net financial assets both in the partially linear regression (PLR) model and in the interactive regression model (IRM) allowing for heterogeneous treatment effects. \n"
   ]
  },
  {
   "cell_type": "markdown",
   "id": "t2BU-yzavvGL",
   "metadata": {
    "id": "t2BU-yzavvGL"
   },
   "source": [
    "#### Main data"
   ]
  },
  {
   "cell_type": "code",
   "execution_count": 9,
   "id": "qBjodphjvvGM",
   "metadata": {
    "colab": {
     "base_uri": "https://localhost:8080/",
     "height": 34
    },
    "execution": {
     "iopub.execute_input": "2021-03-24T14:16:45.807182Z",
     "iopub.status.busy": "2021-03-24T14:16:45.805836Z",
     "iopub.status.idle": "2021-03-24T14:16:46.084153Z",
     "shell.execute_reply": "2021-03-24T14:16:46.082149Z"
    },
    "id": "qBjodphjvvGM",
    "outputId": "339ab24b-e386-4317-8ce3-ef9ee80df926",
    "papermill": {
     "duration": 0.328447,
     "end_time": "2021-03-24T14:16:46.084312",
     "exception": false,
     "start_time": "2021-03-24T14:16:45.755865",
     "status": "completed"
    },
    "tags": [],
    "vscode": {
     "languageId": "r"
    }
   },
   "outputs": [
    {
     "data": {
      "text/html": [
       "25"
      ],
      "text/latex": [
       "25"
      ],
      "text/markdown": [
       "25"
      ],
      "text/plain": [
       "[1] 25"
      ]
     },
     "metadata": {},
     "output_type": "display_data"
    }
   ],
   "source": [
    "# Constructing the data (as DoubleMLData)\n",
    "formula_flex = \"net_tfa ~ e401 + poly(age, 6, raw=TRUE) + poly(inc, 8, raw=TRUE) + poly(educ, 4, raw=TRUE) + poly(fsize, 2, raw=TRUE) + marr + twoearn + db + pira + hown\"\n",
    "model_flex = as.data.table(model.frame(formula_flex, pension))\n",
    "x_cols = colnames(model_flex)[-c(1,2)]\n",
    "data_ml = DoubleMLData$new(model_flex, y_col = \"net_tfa\", d_cols = \"e401\", x_cols=x_cols)\n",
    "\n",
    "\n",
    "p <- dim(model_flex)[2]-2\n",
    "p\n",
    "\n",
    "# complex model with two-way interactions\n",
    "data_interactions = fetch_401k(polynomial_features = TRUE, instrument = FALSE)\n"
   ]
  },
  {
   "cell_type": "markdown",
   "id": "fUMyCLO6vvGO",
   "metadata": {
    "id": "fUMyCLO6vvGO"
   },
   "source": [
    "#### Auxiliary data"
   ]
  },
  {
   "cell_type": "code",
   "execution_count": 10,
   "id": "arUJT3DYvvGP",
   "metadata": {
    "id": "arUJT3DYvvGP",
    "vscode": {
     "languageId": "r"
    }
   },
   "outputs": [],
   "source": [
    "# Constructing the data (as DoubleMLData)\n",
    "formula_flex = \"net_tfa ~ e401 + poly(age, 6, raw=TRUE) + poly(inc, 6, raw=TRUE) + poly(educ, 4, raw=TRUE) + poly(fsize, 2, raw=TRUE) + marr + twoearn + db + pira + hown\"\n",
    "model_flex = as.data.table(model.frame(formula_flex, pension))\n",
    "x_cols = colnames(model_flex)[-c(1,2)]\n",
    "data_ml_aux = DoubleMLData$new(model_flex, y_col = \"net_tfa\", d_cols = \"e401\", x_cols=x_cols)\n"
   ]
  },
  {
   "cell_type": "markdown",
   "id": "4OKhg9nHvvGQ",
   "metadata": {
    "id": "4OKhg9nHvvGQ",
    "papermill": {
     "duration": 0.047299,
     "end_time": "2021-03-24T14:16:46.176537",
     "exception": false,
     "start_time": "2021-03-24T14:16:46.129238",
     "status": "completed"
    },
    "tags": []
   },
   "source": [
    "## Partially Linear Regression Models (PLR)"
   ]
  },
  {
   "cell_type": "markdown",
   "id": "6gM006bsvvGR",
   "metadata": {
    "id": "6gM006bsvvGR",
    "papermill": {
     "duration": 0.044606,
     "end_time": "2021-03-24T14:16:46.266797",
     "exception": false,
     "start_time": "2021-03-24T14:16:46.222191",
     "status": "completed"
    },
    "tags": []
   },
   "source": [
    "We start using lasso to estimate the function $g_0$ and $m_0$ in the following PLR model:"
   ]
  },
  {
   "cell_type": "markdown",
   "id": "a7mKMqBIvvGS",
   "metadata": {
    "id": "a7mKMqBIvvGS",
    "papermill": {
     "duration": 0.044208,
     "end_time": "2021-03-24T14:16:46.355767",
     "exception": false,
     "start_time": "2021-03-24T14:16:46.311559",
     "status": "completed"
    },
    "tags": []
   },
   "source": [
    "\\begin{eqnarray}\n",
    " &  Y = D\\theta_0 + g_0(X) + \\zeta,  &  E[\\zeta \\mid D,X]= 0,\\\\\n",
    " & D = m_0(X) +  V,   &  E[V \\mid X] = 0.\n",
    "\\end{eqnarray}"
   ]
  },
  {
   "cell_type": "code",
   "execution_count": 11,
   "id": "VukQOKSMvvGT",
   "metadata": {
    "colab": {
     "base_uri": "https://localhost:8080/"
    },
    "execution": {
     "iopub.execute_input": "2021-03-24T14:16:46.455502Z",
     "iopub.status.busy": "2021-03-24T14:16:46.452415Z",
     "iopub.status.idle": "2021-03-24T14:17:09.397729Z",
     "shell.execute_reply": "2021-03-24T14:17:09.396355Z"
    },
    "id": "VukQOKSMvvGT",
    "outputId": "ba41360b-27f1-43bf-bc0c-84bdcf4d41b3",
    "papermill": {
     "duration": 22.997053,
     "end_time": "2021-03-24T14:17:09.397895",
     "exception": false,
     "start_time": "2021-03-24T14:16:46.400842",
     "status": "completed"
    },
    "tags": [],
    "vscode": {
     "languageId": "r"
    }
   },
   "outputs": [
    {
     "name": "stderr",
     "output_type": "stream",
     "text": [
      "Warning message:\n",
      "\"The argument ml_g was renamed to ml_l. Please adapt the argument name accordingly. ml_g is redirected to ml_l.\n",
      "The redirection will be removed in a future version.\"\n"
     ]
    },
    {
     "name": "stdout",
     "output_type": "stream",
     "text": [
      "Estimates and significance testing of the effect of target variables\n",
      "     Estimate. Std. Error t value Pr(>|t|)    \n",
      "e401      8952       1269   7.057  1.7e-12 ***\n",
      "---\n",
      "Signif. codes:  0 '***' 0.001 '**' 0.01 '*' 0.05 '.' 0.1 ' ' 1\n",
      "\n",
      "\n"
     ]
    }
   ],
   "source": [
    "# Estimating the PLR\n",
    "lgr::get_logger(\"mlr3\")$set_threshold(\"warn\") \n",
    "set.seed(123)\n",
    "lasso <- lrn(\"regr.cv_glmnet\",nfolds = 5, s = \"lambda.min\")\n",
    "lasso_class <- lrn(\"classif.cv_glmnet\", nfolds = 5, s = \"lambda.min\")\n",
    "\n",
    "dml_plr <- DoubleMLPLR$new(data_ml_aux, ml_g = lasso, ml_m = lasso_class, n_folds=3)\n",
    "dml_plr$fit(store_predictions=TRUE)\n",
    "dml_plr$summary()\n",
    "lasso_plr <- dml_plr$coef\n",
    "lasso_std_plr <- dml_plr$se"
   ]
  },
  {
   "cell_type": "markdown",
   "id": "rZtH7nvwvvGU",
   "metadata": {
    "id": "rZtH7nvwvvGU",
    "papermill": {
     "duration": 0.04484,
     "end_time": "2021-03-24T14:17:09.488491",
     "exception": false,
     "start_time": "2021-03-24T14:17:09.443651",
     "status": "completed"
    },
    "tags": []
   },
   "source": [
    "Let us check the predictive performance of this model."
   ]
  },
  {
   "cell_type": "code",
   "execution_count": 12,
   "id": "08afBYHkvvGV",
   "metadata": {
    "colab": {
     "base_uri": "https://localhost:8080/",
     "height": 34
    },
    "execution": {
     "iopub.execute_input": "2021-03-24T14:17:09.584202Z",
     "iopub.status.busy": "2021-03-24T14:17:09.582552Z",
     "iopub.status.idle": "2021-03-24T14:17:09.602810Z",
     "shell.execute_reply": "2021-03-24T14:17:09.601315Z"
    },
    "id": "08afBYHkvvGV",
    "outputId": "22cc1b16-d6e1-4e74-a615-d0fd635e422b",
    "papermill": {
     "duration": 0.069669,
     "end_time": "2021-03-24T14:17:09.602972",
     "exception": false,
     "start_time": "2021-03-24T14:17:09.533303",
     "status": "completed"
    },
    "scrolled": true,
    "tags": [],
    "vscode": {
     "languageId": "r"
    }
   },
   "outputs": [
    {
     "data": {
      "text/html": [
       "<style>\n",
       ".list-inline {list-style: none; margin:0; padding: 0}\n",
       ".list-inline>li {display: inline-block}\n",
       ".list-inline>li:not(:last-child)::after {content: \"\\00b7\"; padding: 0 .5ex}\n",
       "</style>\n",
       "<ol class=list-inline><li>'ml_l'</li><li>'ml_m'</li></ol>\n"
      ],
      "text/latex": [
       "\\begin{enumerate*}\n",
       "\\item 'ml\\_l'\n",
       "\\item 'ml\\_m'\n",
       "\\end{enumerate*}\n"
      ],
      "text/markdown": [
       "1. 'ml_l'\n",
       "2. 'ml_m'\n",
       "\n",
       "\n"
      ],
      "text/plain": [
       "[1] \"ml_l\" \"ml_m\""
      ]
     },
     "metadata": {},
     "output_type": "display_data"
    }
   ],
   "source": [
    "dml_plr$params_names()\n",
    "g_hat <- as.matrix(dml_plr$predictions$ml_l) # predictions of g_o\n",
    "m_hat <- as.matrix(dml_plr$predictions$ml_m) # predictions of m_o"
   ]
  },
  {
   "cell_type": "code",
   "execution_count": 13,
   "id": "Ff1jqXVPvvGW",
   "metadata": {
    "colab": {
     "base_uri": "https://localhost:8080/",
     "height": 34
    },
    "execution": {
     "iopub.execute_input": "2021-03-24T14:17:09.703885Z",
     "iopub.status.busy": "2021-03-24T14:17:09.702298Z",
     "iopub.status.idle": "2021-03-24T14:17:09.726073Z",
     "shell.execute_reply": "2021-03-24T14:17:09.724913Z"
    },
    "id": "Ff1jqXVPvvGW",
    "outputId": "fdd5d9d8-197d-492d-f10c-b3f729d9ae51",
    "papermill": {
     "duration": 0.075135,
     "end_time": "2021-03-24T14:17:09.726237",
     "exception": false,
     "start_time": "2021-03-24T14:17:09.651102",
     "status": "completed"
    },
    "tags": [],
    "vscode": {
     "languageId": "r"
    }
   },
   "outputs": [
    {
     "data": {
      "text/html": [
       "53735.7401727581"
      ],
      "text/latex": [
       "53735.7401727581"
      ],
      "text/markdown": [
       "53735.7401727581"
      ],
      "text/plain": [
       "[1] 53735.74"
      ]
     },
     "metadata": {},
     "output_type": "display_data"
    }
   ],
   "source": [
    "# cross-fitted RMSE: outcome\n",
    "y <- as.matrix(pension$net_tfa) # true observations\n",
    "theta <- as.numeric(dml_plr$coef) # estimated regression coefficient\n",
    "d <- as.matrix(pension$e401) \n",
    "predictions_y <- as.matrix(d*theta)+g_hat # predictions for y\n",
    "lasso_y_rmse <- sqrt(mean((y-predictions_y)^2)) \n",
    "lasso_y_rmse"
   ]
  },
  {
   "cell_type": "code",
   "execution_count": 14,
   "id": "uMVrCkKCvvGX",
   "metadata": {
    "colab": {
     "base_uri": "https://localhost:8080/",
     "height": 52
    },
    "execution": {
     "iopub.execute_input": "2021-03-24T14:17:09.825055Z",
     "iopub.status.busy": "2021-03-24T14:17:09.823925Z",
     "iopub.status.idle": "2021-03-24T14:17:09.848399Z",
     "shell.execute_reply": "2021-03-24T14:17:09.847714Z"
    },
    "id": "uMVrCkKCvvGX",
    "outputId": "a34c296e-962a-410c-ceee-3e18dfd6223e",
    "papermill": {
     "duration": 0.075492,
     "end_time": "2021-03-24T14:17:09.848578",
     "exception": false,
     "start_time": "2021-03-24T14:17:09.773086",
     "status": "completed"
    },
    "tags": [],
    "vscode": {
     "languageId": "r"
    }
   },
   "outputs": [
    {
     "data": {
      "text/html": [
       "0.444321259050954"
      ],
      "text/latex": [
       "0.444321259050954"
      ],
      "text/markdown": [
       "0.444321259050954"
      ],
      "text/plain": [
       "[1] 0.4443213"
      ]
     },
     "metadata": {},
     "output_type": "display_data"
    },
    {
     "data": {
      "text/html": [
       "0.31679273827534"
      ],
      "text/latex": [
       "0.31679273827534"
      ],
      "text/markdown": [
       "0.31679273827534"
      ],
      "text/plain": [
       "[1] 0.3167927"
      ]
     },
     "metadata": {},
     "output_type": "display_data"
    }
   ],
   "source": [
    "# cross-fitted RMSE: treatment\n",
    "d <- as.matrix(pension$e401) \n",
    "lasso_d_rmse <- sqrt(mean((d-m_hat)^2)) \n",
    "lasso_d_rmse\n",
    "\n",
    "# cross-fitted ce: treatment\n",
    "mean(ifelse(m_hat > 0.5, 1, 0) != d)"
   ]
  },
  {
   "cell_type": "markdown",
   "id": "z-MFFoBtvvGY",
   "metadata": {
    "id": "z-MFFoBtvvGY",
    "papermill": {
     "duration": 0.048205,
     "end_time": "2021-03-24T14:17:09.946894",
     "exception": false,
     "start_time": "2021-03-24T14:17:09.898689",
     "status": "completed"
    },
    "tags": []
   },
   "source": [
    "Then, we repeat this procedure for various machine learning methods."
   ]
  },
  {
   "cell_type": "code",
   "execution_count": 15,
   "id": "QfgEMKHEvvGa",
   "metadata": {
    "id": "QfgEMKHEvvGa",
    "vscode": {
     "languageId": "r"
    }
   },
   "outputs": [],
   "source": [
    "# install.packages( \"regr.ranger\" )\n",
    "# install.packages( \"classif.ranger\" )"
   ]
  },
  {
   "cell_type": "code",
   "execution_count": 16,
   "id": "kVwweBrivvGb",
   "metadata": {
    "colab": {
     "base_uri": "https://localhost:8080/"
    },
    "id": "kVwweBrivvGb",
    "outputId": "e1281afd-d108-4264-86d5-7b2977ff0c03",
    "vscode": {
     "languageId": "r"
    }
   },
   "outputs": [
    {
     "name": "stderr",
     "output_type": "stream",
     "text": [
      "Warning message:\n",
      "\"The argument ml_g was renamed to ml_l. Please adapt the argument name accordingly. ml_g is redirected to ml_l.\n",
      "The redirection will be removed in a future version.\"\n"
     ]
    }
   ],
   "source": [
    "# Random Forest\n",
    "lgr::get_logger(\"mlr3\")$set_threshold(\"warn\") \n",
    "randomForest <- lrn(\"regr.ranger\")\n",
    "randomForest_class <- lrn(\"classif.ranger\")\n",
    "\n",
    "dml_plr <- DoubleMLPLR$new(data_ml_aux, ml_g = randomForest, ml_m = randomForest_class, n_folds=3)\n",
    "dml_plr$fit(store_predictions=TRUE) # set store_predictions=TRUE to evaluate the model\n",
    "dml_plr$summary()\n",
    "forest_plr <- dml_plr$coef\n",
    "forest_std_plr <- dml_plr$se"
   ]
  },
  {
   "cell_type": "code",
   "execution_count": 17,
   "id": "mClnmEhgvvGc",
   "metadata": {
    "execution": {
     "iopub.execute_input": "2021-03-24T14:17:10.048394Z",
     "iopub.status.busy": "2021-03-24T14:17:10.047089Z",
     "iopub.status.idle": "2021-03-24T14:18:12.647333Z",
     "shell.execute_reply": "2021-03-24T14:18:12.648086Z"
    },
    "id": "mClnmEhgvvGc",
    "papermill": {
     "duration": 62.65345,
     "end_time": "2021-03-24T14:18:12.648324",
     "exception": false,
     "start_time": "2021-03-24T14:17:09.994874",
     "status": "completed"
    },
    "tags": [],
    "vscode": {
     "languageId": "r"
    }
   },
   "outputs": [],
   "source": [
    "# # Random Forest\n",
    "# lgr::get_logger(\"mlr3\")$set_threshold(\"warn\") \n",
    "# randomForest <- lrn(\"regr.ranger\")\n",
    "# randomForest_class <- lrn(\"classif.ranger\")\n",
    "\n",
    "# dml_plr <- DoubleMLPLR$new(data_ml, ml_g = randomForest, ml_m = randomForest_class, n_folds=3)\n",
    "# dml_plr$fit(store_predictions=TRUE) # set store_predictions=TRUE to evaluate the model\n",
    "# dml_plr$summary()\n",
    "# forest_plr <- dml_plr$coef\n",
    "# forest_std_plr <- dml_plr$se"
   ]
  },
  {
   "cell_type": "markdown",
   "id": "8e6J0Fn5vvGc",
   "metadata": {
    "id": "8e6J0Fn5vvGc"
   },
   "source": [
    "### data_ml is an environment [info](http://adv-r.had.co.nz/Environments.html)\n"
   ]
  },
  {
   "cell_type": "markdown",
   "id": "_Rly7XlnvvGd",
   "metadata": {
    "id": "_Rly7XlnvvGd",
    "papermill": {
     "duration": 0.04819,
     "end_time": "2021-03-24T14:18:12.746400",
     "exception": false,
     "start_time": "2021-03-24T14:18:12.698210",
     "status": "completed"
    },
    "tags": []
   },
   "source": [
    "We can compare the accuracy of this model to the model that has been estimated with lasso."
   ]
  },
  {
   "cell_type": "code",
   "execution_count": 18,
   "id": "8lrNJsrUvvGe",
   "metadata": {
    "colab": {
     "base_uri": "https://localhost:8080/",
     "height": 69
    },
    "execution": {
     "iopub.execute_input": "2021-03-24T14:18:12.892094Z",
     "iopub.status.busy": "2021-03-24T14:18:12.890840Z",
     "iopub.status.idle": "2021-03-24T14:18:12.927047Z",
     "shell.execute_reply": "2021-03-24T14:18:12.926116Z"
    },
    "id": "8lrNJsrUvvGe",
    "outputId": "03005d90-7e1b-42be-959b-6d5692877939",
    "papermill": {
     "duration": 0.132718,
     "end_time": "2021-03-24T14:18:12.927195",
     "exception": false,
     "start_time": "2021-03-24T14:18:12.794477",
     "status": "completed"
    },
    "tags": [],
    "vscode": {
     "languageId": "r"
    }
   },
   "outputs": [
    {
     "data": {
      "text/html": [
       "56078.7574444401"
      ],
      "text/latex": [
       "56078.7574444401"
      ],
      "text/markdown": [
       "56078.7574444401"
      ],
      "text/plain": [
       "[1] 56078.76"
      ]
     },
     "metadata": {},
     "output_type": "display_data"
    },
    {
     "data": {
      "text/html": [
       "0.455818650233087"
      ],
      "text/latex": [
       "0.455818650233087"
      ],
      "text/markdown": [
       "0.455818650233087"
      ],
      "text/plain": [
       "[1] 0.4558187"
      ]
     },
     "metadata": {},
     "output_type": "display_data"
    },
    {
     "data": {
      "text/html": [
       "0.332425617750882"
      ],
      "text/latex": [
       "0.332425617750882"
      ],
      "text/markdown": [
       "0.332425617750882"
      ],
      "text/plain": [
       "[1] 0.3324256"
      ]
     },
     "metadata": {},
     "output_type": "display_data"
    }
   ],
   "source": [
    "# Evaluation predictions\n",
    "g_hat <- as.matrix(dml_plr$predictions$ml_l) # predictions of g_o\n",
    "m_hat <- as.matrix(dml_plr$predictions$ml_m) # predictions of m_o\n",
    "theta <- as.numeric(dml_plr$coef) # estimated regression coefficient\n",
    "predictions_y <- as.matrix(d*theta)+g_hat # predictions for y\n",
    "forest_y_rmse <- sqrt(mean((y-predictions_y)^2)) \n",
    "forest_y_rmse\n",
    "\n",
    "# cross-fitted RMSE: treatment\n",
    "forest_d_rmse <- sqrt(mean((d-m_hat)^2)) \n",
    "forest_d_rmse\n",
    "\n",
    "# cross-fitted ce: treatment\n",
    "mean(ifelse(m_hat > 0.5, 1, 0) != d)"
   ]
  },
  {
   "cell_type": "code",
   "execution_count": 19,
   "id": "TPsa9aFXvvGe",
   "metadata": {
    "id": "TPsa9aFXvvGe",
    "vscode": {
     "languageId": "r"
    }
   },
   "outputs": [],
   "source": [
    "library(rpart)"
   ]
  },
  {
   "cell_type": "code",
   "execution_count": 20,
   "id": "GlgjCwljvvGf",
   "metadata": {
    "colab": {
     "base_uri": "https://localhost:8080/",
     "height": 191
    },
    "execution": {
     "iopub.execute_input": "2021-03-24T14:18:13.036160Z",
     "iopub.status.busy": "2021-03-24T14:18:13.034322Z",
     "iopub.status.idle": "2021-03-24T14:18:14.545093Z",
     "shell.execute_reply": "2021-03-24T14:18:14.543310Z"
    },
    "id": "GlgjCwljvvGf",
    "outputId": "594d1e74-f82f-4cd8-aa6b-045507c42ce4",
    "papermill": {
     "duration": 1.567333,
     "end_time": "2021-03-24T14:18:14.545412",
     "exception": false,
     "start_time": "2021-03-24T14:18:12.978079",
     "status": "completed"
    },
    "tags": [],
    "vscode": {
     "languageId": "r"
    }
   },
   "outputs": [
    {
     "name": "stdout",
     "output_type": "stream",
     "text": [
      "Estimates and significance testing of the effect of target variables\n",
      "     Estimate. Std. Error t value Pr(>|t|)    \n",
      "e401      8835       1317   6.708 1.98e-11 ***\n",
      "---\n",
      "Signif. codes:  0 ‘***’ 0.001 ‘**’ 0.01 ‘*’ 0.05 ‘.’ 0.1 ‘ ’ 1\n",
      "\n",
      "\n"
     ]
    },
    {
     "data": {
      "text/html": [
       "56708.5196086904"
      ],
      "text/latex": [
       "56708.5196086904"
      ],
      "text/markdown": [
       "56708.5196086904"
      ],
      "text/plain": [
       "[1] 56708.52"
      ]
     },
     "metadata": {},
     "output_type": "display_data"
    },
    {
     "data": {
      "text/html": [
       "0.455388797440497"
      ],
      "text/latex": [
       "0.455388797440497"
      ],
      "text/markdown": [
       "0.455388797440497"
      ],
      "text/plain": [
       "[1] 0.4553888"
      ]
     },
     "metadata": {},
     "output_type": "display_data"
    },
    {
     "data": {
      "text/html": [
       "0.313666162380232"
      ],
      "text/latex": [
       "0.313666162380232"
      ],
      "text/markdown": [
       "0.313666162380232"
      ],
      "text/plain": [
       "[1] 0.3136662"
      ]
     },
     "metadata": {},
     "output_type": "display_data"
    }
   ],
   "source": [
    "# Trees\n",
    "lgr::get_logger(\"mlr3\")$set_threshold(\"warn\") \n",
    "\n",
    "trees <- lrn(\"regr.rpart\")\n",
    "trees_class <- lrn(\"classif.rpart\")\n",
    "\n",
    "dml_plr <- DoubleMLPLR$new(data_ml_aux, ml_l = trees, ml_m = trees_class, n_folds=3)\n",
    "dml_plr$fit(store_predictions=TRUE)\n",
    "dml_plr$summary()\n",
    "tree_plr <- dml_plr$coef\n",
    "tree_std_plr <- dml_plr$se\n",
    "\n",
    "# Evaluation predictions\n",
    "g_hat <- as.matrix(dml_plr$predictions$ml_l) # predictions of g_o\n",
    "m_hat <- as.matrix(dml_plr$predictions$ml_m) # predictions of m_o\n",
    "theta <- as.numeric(dml_plr$coef) # estimated regression coefficient\n",
    "predictions_y <- as.matrix(d*theta)+g_hat # predictions for y\n",
    "tree_y_rmse <- sqrt(mean((y-predictions_y)^2)) \n",
    "tree_y_rmse\n",
    "\n",
    "# cross-fitted RMSE: treatment\n",
    "tree_d_rmse <- sqrt(mean((d-m_hat)^2)) \n",
    "tree_d_rmse\n",
    "\n",
    "# cross-fitted ce: treatment\n",
    "mean(ifelse(m_hat > 0.5, 1, 0) != d)"
   ]
  },
  {
   "cell_type": "code",
   "execution_count": 21,
   "id": "NajxBQfvvvGf",
   "metadata": {
    "colab": {
     "base_uri": "https://localhost:8080/",
     "height": 191
    },
    "execution": {
     "iopub.execute_input": "2021-03-24T14:18:14.656382Z",
     "iopub.status.busy": "2021-03-24T14:18:14.654430Z",
     "iopub.status.idle": "2021-03-24T14:18:15.603413Z",
     "shell.execute_reply": "2021-03-24T14:18:15.601475Z"
    },
    "id": "NajxBQfvvvGf",
    "outputId": "03064a0e-cfde-4e29-8a31-27a22a32666d",
    "papermill": {
     "duration": 1.005937,
     "end_time": "2021-03-24T14:18:15.603603",
     "exception": false,
     "start_time": "2021-03-24T14:18:14.597666",
     "status": "completed"
    },
    "tags": [],
    "vscode": {
     "languageId": "r"
    }
   },
   "outputs": [
    {
     "name": "stdout",
     "output_type": "stream",
     "text": [
      "Estimates and significance testing of the effect of target variables\n",
      "     Estimate. Std. Error t value Pr(>|t|)    \n",
      "e401      8867       1342   6.606 3.95e-11 ***\n",
      "---\n",
      "Signif. codes:  0 ‘***’ 0.001 ‘**’ 0.01 ‘*’ 0.05 ‘.’ 0.1 ‘ ’ 1\n",
      "\n",
      "\n"
     ]
    },
    {
     "data": {
      "text/html": [
       "59816.1871849508"
      ],
      "text/latex": [
       "59816.1871849508"
      ],
      "text/markdown": [
       "59816.1871849508"
      ],
      "text/plain": [
       "[1] 59816.19"
      ]
     },
     "metadata": {},
     "output_type": "display_data"
    },
    {
     "data": {
      "text/html": [
       "0.472680449674429"
      ],
      "text/latex": [
       "0.472680449674429"
      ],
      "text/markdown": [
       "0.472680449674429"
      ],
      "text/plain": [
       "[1] 0.4726804"
      ]
     },
     "metadata": {},
     "output_type": "display_data"
    },
    {
     "data": {
      "text/html": [
       "0.32375189107413"
      ],
      "text/latex": [
       "0.32375189107413"
      ],
      "text/markdown": [
       "0.32375189107413"
      ],
      "text/plain": [
       "[1] 0.3237519"
      ]
     },
     "metadata": {},
     "output_type": "display_data"
    }
   ],
   "source": [
    "# Boosting\n",
    "lgr::get_logger(\"mlr3\")$set_threshold(\"warn\") \n",
    "boost<- lrn(\"regr.xgboost\",objective=\"reg:squarederror\")\n",
    "boost_class <- lrn(\"classif.xgboost\",objective = \"binary:logistic\",eval_metric =\"logloss\")\n",
    "\n",
    "dml_plr <- DoubleMLPLR$new(data_ml_aux, ml_l = boost, ml_m = boost_class, n_folds=3)\n",
    "dml_plr$fit(store_predictions=TRUE)\n",
    "dml_plr$summary()\n",
    "boost_plr <- dml_plr$coef\n",
    "boost_std_plr <- dml_plr$se\n",
    "\n",
    "# Evaluation predictions\n",
    "g_hat <- as.matrix(dml_plr$predictions$ml_l) # predictions of g_o\n",
    "m_hat <- as.matrix(dml_plr$predictions$ml_m) # predictions of m_o\n",
    "theta <- as.numeric(dml_plr$coef) # estimated regression coefficient\n",
    "predictions_y <- as.matrix(d*theta)+g_hat # predictions for y\n",
    "boost_y_rmse <- sqrt(mean((y-predictions_y)^2)) \n",
    "boost_y_rmse\n",
    "\n",
    "# cross-fitted RMSE: treatment\n",
    "boost_d_rmse <- sqrt(mean((d-m_hat)^2)) \n",
    "boost_d_rmse\n",
    "\n",
    "# cross-fitted ce: treatment\n",
    "mean(ifelse(m_hat > 0.5, 1, 0) != d)"
   ]
  },
  {
   "cell_type": "markdown",
   "id": "O9TskNsPvvGg",
   "metadata": {
    "id": "O9TskNsPvvGg",
    "papermill": {
     "duration": 0.057943,
     "end_time": "2021-03-24T14:18:15.717190",
     "exception": false,
     "start_time": "2021-03-24T14:18:15.659247",
     "status": "completed"
    },
    "tags": []
   },
   "source": [
    "Let's sum up the results:"
   ]
  },
  {
   "cell_type": "code",
   "execution_count": 22,
   "id": "COhDYj9gvvGg",
   "metadata": {
    "colab": {
     "base_uri": "https://localhost:8080/",
     "height": 192
    },
    "execution": {
     "iopub.execute_input": "2021-03-24T14:18:15.867116Z",
     "iopub.status.busy": "2021-03-24T14:18:15.865054Z",
     "iopub.status.idle": "2021-03-24T14:18:15.930491Z",
     "shell.execute_reply": "2021-03-24T14:18:15.928848Z"
    },
    "id": "COhDYj9gvvGg",
    "outputId": "3638134a-61dd-44eb-cc51-dc947a3515d0",
    "papermill": {
     "duration": 0.158103,
     "end_time": "2021-03-24T14:18:15.930645",
     "exception": false,
     "start_time": "2021-03-24T14:18:15.772542",
     "status": "completed"
    },
    "tags": [],
    "vscode": {
     "languageId": "r"
    }
   },
   "outputs": [
    {
     "data": {
      "text/html": [
       "<table class=\"dataframe\">\n",
       "<caption>A matrix: 4 × 4 of type dbl</caption>\n",
       "<thead>\n",
       "\t<tr><th></th><th scope=col>Lasso</th><th scope=col>Random Forest</th><th scope=col>Trees</th><th scope=col>Boosting</th></tr>\n",
       "</thead>\n",
       "<tbody>\n",
       "\t<tr><th scope=row>Estimate</th><td>8.952253e+03</td><td>8.359373e+03</td><td>8.834641e+03</td><td>8.867423e+03</td></tr>\n",
       "\t<tr><th scope=row>Std.Error</th><td>1.268614e+03</td><td>1.266746e+03</td><td>1.317080e+03</td><td>1.342332e+03</td></tr>\n",
       "\t<tr><th scope=row>RMSE Y</th><td>5.373574e+04</td><td>5.607876e+04</td><td>5.670852e+04</td><td>5.981619e+04</td></tr>\n",
       "\t<tr><th scope=row>RMSE D</th><td>4.443213e-01</td><td>4.558187e-01</td><td>4.553888e-01</td><td>4.726804e-01</td></tr>\n",
       "</tbody>\n",
       "</table>\n"
      ],
      "text/latex": [
       "A matrix: 4 × 4 of type dbl\n",
       "\\begin{tabular}{r|llll}\n",
       "  & Lasso & Random Forest & Trees & Boosting\\\\\n",
       "\\hline\n",
       "\tEstimate & 8.952253e+03 & 8.359373e+03 & 8.834641e+03 & 8.867423e+03\\\\\n",
       "\tStd.Error & 1.268614e+03 & 1.266746e+03 & 1.317080e+03 & 1.342332e+03\\\\\n",
       "\tRMSE Y & 5.373574e+04 & 5.607876e+04 & 5.670852e+04 & 5.981619e+04\\\\\n",
       "\tRMSE D & 4.443213e-01 & 4.558187e-01 & 4.553888e-01 & 4.726804e-01\\\\\n",
       "\\end{tabular}\n"
      ],
      "text/markdown": [
       "\n",
       "A matrix: 4 × 4 of type dbl\n",
       "\n",
       "| <!--/--> | Lasso | Random Forest | Trees | Boosting |\n",
       "|---|---|---|---|---|\n",
       "| Estimate | 8.952253e+03 | 8.359373e+03 | 8.834641e+03 | 8.867423e+03 |\n",
       "| Std.Error | 1.268614e+03 | 1.266746e+03 | 1.317080e+03 | 1.342332e+03 |\n",
       "| RMSE Y | 5.373574e+04 | 5.607876e+04 | 5.670852e+04 | 5.981619e+04 |\n",
       "| RMSE D | 4.443213e-01 | 4.558187e-01 | 4.553888e-01 | 4.726804e-01 |\n",
       "\n"
      ],
      "text/plain": [
       "          Lasso        Random Forest Trees        Boosting    \n",
       "Estimate  8.952253e+03 8.359373e+03  8.834641e+03 8.867423e+03\n",
       "Std.Error 1.268614e+03 1.266746e+03  1.317080e+03 1.342332e+03\n",
       "RMSE Y    5.373574e+04 5.607876e+04  5.670852e+04 5.981619e+04\n",
       "RMSE D    4.443213e-01 4.558187e-01  4.553888e-01 4.726804e-01"
      ]
     },
     "metadata": {},
     "output_type": "display_data"
    }
   ],
   "source": [
    "table <- matrix(0, 4, 4)\n",
    "table[1,1:4]   <- c(lasso_plr,forest_plr,tree_plr,boost_plr)\n",
    "table[2,1:4]   <- c(lasso_std_plr,forest_std_plr,tree_std_plr,boost_std_plr)\n",
    "table[3,1:4]   <- c(lasso_y_rmse,forest_y_rmse,tree_y_rmse,boost_y_rmse)\n",
    "table[4,1:4]   <- c(lasso_d_rmse,forest_d_rmse,tree_d_rmse,boost_d_rmse)\n",
    "rownames(table) <- c(\"Estimate\",\"Std.Error\",\"RMSE Y\",\"RMSE D\")\n",
    "colnames(table) <- c(\"Lasso\",\"Random Forest\",\"Trees\",\"Boosting\")\n",
    "table"
   ]
  },
  {
   "cell_type": "markdown",
   "id": "czPcm7a6vvGh",
   "metadata": {
    "id": "czPcm7a6vvGh",
    "papermill": {
     "duration": 0.056641,
     "end_time": "2021-03-24T14:18:16.044675",
     "exception": false,
     "start_time": "2021-03-24T14:18:15.988034",
     "status": "completed"
    },
    "tags": []
   },
   "source": [
    "The best model with lowest RMSE in both equation is the PLR model estimated via lasso. It gives the following estimate:"
   ]
  },
  {
   "cell_type": "markdown",
   "id": "5-VJ_sCYvvGh",
   "metadata": {
    "id": "5-VJ_sCYvvGh",
    "papermill": {
     "duration": 0.056567,
     "end_time": "2021-03-24T14:18:16.296870",
     "exception": false,
     "start_time": "2021-03-24T14:18:16.240303",
     "status": "completed"
    },
    "tags": []
   },
   "source": [
    "## Interactive Regression Model (IRM)"
   ]
  },
  {
   "cell_type": "markdown",
   "id": "ET4eSgi_vvGi",
   "metadata": {
    "id": "ET4eSgi_vvGi",
    "papermill": {
     "duration": 0.057315,
     "end_time": "2021-03-24T14:18:16.410105",
     "exception": false,
     "start_time": "2021-03-24T14:18:16.352790",
     "status": "completed"
    },
    "tags": []
   },
   "source": [
    "Next, we consider estimation of average treatment effects when treatment effects are fully heterogeneous:"
   ]
  },
  {
   "cell_type": "markdown",
   "id": "l20hrw3pvvGi",
   "metadata": {
    "id": "l20hrw3pvvGi",
    "papermill": {
     "duration": 0.05644,
     "end_time": "2021-03-24T14:18:16.525113",
     "exception": false,
     "start_time": "2021-03-24T14:18:16.468673",
     "status": "completed"
    },
    "tags": []
   },
   "source": [
    " \\begin{eqnarray}\\label{eq: HetPL1}\n",
    " & Y  = g_0(D, X) + U,  &  \\quad E[U \\mid X, D]= 0,\\\\\n",
    "  & D  = m_0(X) + V,  & \\quad  E[V\\mid X] = 0.\n",
    "\\end{eqnarray}"
   ]
  },
  {
   "cell_type": "markdown",
   "id": "cfKUsrZCvvGk",
   "metadata": {
    "id": "cfKUsrZCvvGk",
    "papermill": {
     "duration": 0.056073,
     "end_time": "2021-03-24T14:18:16.637385",
     "exception": false,
     "start_time": "2021-03-24T14:18:16.581312",
     "status": "completed"
    },
    "tags": []
   },
   "source": [
    "To reduce the disproportionate impact of extreme propensity score weights in the interactive model\n",
    "we trim the propensity scores which are close to the bounds."
   ]
  },
  {
   "cell_type": "code",
   "execution_count": 23,
   "id": "aCTg8RZkvvGk",
   "metadata": {
    "colab": {
     "base_uri": "https://localhost:8080/",
     "height": 208
    },
    "execution": {
     "iopub.execute_input": "2021-03-24T14:18:16.759482Z",
     "iopub.status.busy": "2021-03-24T14:18:16.758760Z",
     "iopub.status.idle": "2021-03-24T14:18:35.308209Z",
     "shell.execute_reply": "2021-03-24T14:18:35.306089Z"
    },
    "id": "aCTg8RZkvvGk",
    "outputId": "c731356e-91d1-4017-fc75-107d95c9f9bd",
    "papermill": {
     "duration": 18.61409,
     "end_time": "2021-03-24T14:18:35.308502",
     "exception": false,
     "start_time": "2021-03-24T14:18:16.694412",
     "status": "completed"
    },
    "tags": [],
    "vscode": {
     "languageId": "r"
    }
   },
   "outputs": [
    {
     "name": "stdout",
     "output_type": "stream",
     "text": [
      "Estimates and significance testing of the effect of target variables\n",
      "     Estimate. Std. Error t value Pr(>|t|)    \n",
      "e401      7941       1106   7.177 7.15e-13 ***\n",
      "---\n",
      "Signif. codes:  0 ‘***’ 0.001 ‘**’ 0.01 ‘*’ 0.05 ‘.’ 0.1 ‘ ’ 1\n",
      "\n",
      "\n"
     ]
    },
    {
     "data": {
      "text/html": [
       "<style>\n",
       ".list-inline {list-style: none; margin:0; padding: 0}\n",
       ".list-inline>li {display: inline-block}\n",
       ".list-inline>li:not(:last-child)::after {content: \"\\00b7\"; padding: 0 .5ex}\n",
       "</style>\n",
       "<ol class=list-inline><li>'ml_g0'</li><li>'ml_g1'</li><li>'ml_m'</li></ol>\n"
      ],
      "text/latex": [
       "\\begin{enumerate*}\n",
       "\\item 'ml\\_g0'\n",
       "\\item 'ml\\_g1'\n",
       "\\item 'ml\\_m'\n",
       "\\end{enumerate*}\n"
      ],
      "text/markdown": [
       "1. 'ml_g0'\n",
       "2. 'ml_g1'\n",
       "3. 'ml_m'\n",
       "\n",
       "\n"
      ],
      "text/plain": [
       "[1] \"ml_g0\" \"ml_g1\" \"ml_m\" "
      ]
     },
     "metadata": {},
     "output_type": "display_data"
    },
    {
     "data": {
      "text/html": [
       "55439.5089355971"
      ],
      "text/latex": [
       "55439.5089355971"
      ],
      "text/markdown": [
       "55439.5089355971"
      ],
      "text/plain": [
       "[1] 55439.51"
      ]
     },
     "metadata": {},
     "output_type": "display_data"
    },
    {
     "data": {
      "text/html": [
       "0.444057854588759"
      ],
      "text/latex": [
       "0.444057854588759"
      ],
      "text/markdown": [
       "0.444057854588759"
      ],
      "text/plain": [
       "[1] 0.4440579"
      ]
     },
     "metadata": {},
     "output_type": "display_data"
    },
    {
     "data": {
      "text/html": [
       "0.315380736258195"
      ],
      "text/latex": [
       "0.315380736258195"
      ],
      "text/markdown": [
       "0.315380736258195"
      ],
      "text/plain": [
       "[1] 0.3153807"
      ]
     },
     "metadata": {},
     "output_type": "display_data"
    }
   ],
   "source": [
    "set.seed(123)\n",
    "lgr::get_logger(\"mlr3\")$set_threshold(\"warn\") \n",
    "dml_irm = DoubleMLIRM$new(data_ml_aux, ml_g = lasso, \n",
    "                          ml_m = lasso_class, \n",
    "                          trimming_threshold = 0.01, n_folds=3)\n",
    "dml_irm$fit(store_predictions=TRUE)\n",
    "dml_irm$summary()\n",
    "lasso_irm <- dml_irm$coef\n",
    "lasso_std_irm <- dml_irm$se\n",
    "\n",
    "\n",
    "# predictions\n",
    "dml_irm$params_names()\n",
    "g0_hat <- as.matrix(dml_irm$predictions$ml_g0) # predictions of g_0(D=0, X)\n",
    "g1_hat <- as.matrix(dml_irm$predictions$ml_g1) # predictions of g_0(D=1, X)\n",
    "g_hat <- d*g1_hat+(1-d)*g0_hat # predictions of g_0\n",
    "m_hat <- as.matrix(dml_irm$predictions$ml_m) # predictions of m_o\n",
    "\n",
    "\n",
    "# cross-fitted RMSE: outcome\n",
    "y <- as.matrix(pension$net_tfa) # true observations\n",
    "d <- as.matrix(pension$e401) \n",
    "lasso_y_irm <- sqrt(mean((y-g_hat)^2)) \n",
    "lasso_y_irm\n",
    "\n",
    "# cross-fitted RMSE: treatment\n",
    "lasso_d_irm <- sqrt(mean((d-m_hat)^2)) \n",
    "lasso_d_irm\n",
    "\n",
    "# cross-fitted ce: treatment\n",
    "mean(ifelse(m_hat > 0.5, 1, 0) != d)"
   ]
  },
  {
   "cell_type": "code",
   "execution_count": 24,
   "id": "9iplqYJ-vvGl",
   "metadata": {
    "colab": {
     "base_uri": "https://localhost:8080/",
     "height": 191
    },
    "execution": {
     "iopub.execute_input": "2021-03-24T14:18:35.591899Z",
     "iopub.status.busy": "2021-03-24T14:18:35.590001Z",
     "iopub.status.idle": "2021-03-24T14:19:35.420615Z",
     "shell.execute_reply": "2021-03-24T14:19:35.417901Z"
    },
    "id": "9iplqYJ-vvGl",
    "outputId": "2488710a-b941-47a3-fc7e-ca4c3f02186a",
    "papermill": {
     "duration": 59.894412,
     "end_time": "2021-03-24T14:19:35.420832",
     "exception": false,
     "start_time": "2021-03-24T14:18:35.526420",
     "status": "completed"
    },
    "tags": [],
    "vscode": {
     "languageId": "r"
    }
   },
   "outputs": [
    {
     "name": "stdout",
     "output_type": "stream",
     "text": [
      "Estimates and significance testing of the effect of target variables\n",
      "     Estimate. Std. Error t value Pr(>|t|)    \n",
      "e401      7809       1311   5.955  2.6e-09 ***\n",
      "---\n",
      "Signif. codes:  0 ‘***’ 0.001 ‘**’ 0.01 ‘*’ 0.05 ‘.’ 0.1 ‘ ’ 1\n",
      "\n",
      "\n"
     ]
    },
    {
     "data": {
      "text/html": [
       "55502.9533263922"
      ],
      "text/latex": [
       "55502.9533263922"
      ],
      "text/markdown": [
       "55502.9533263922"
      ],
      "text/plain": [
       "[1] 55502.95"
      ]
     },
     "metadata": {},
     "output_type": "display_data"
    },
    {
     "data": {
      "text/html": [
       "0.455986892734011"
      ],
      "text/latex": [
       "0.455986892734011"
      ],
      "text/markdown": [
       "0.455986892734011"
      ],
      "text/plain": [
       "[1] 0.4559869"
      ]
     },
     "metadata": {},
     "output_type": "display_data"
    },
    {
     "data": {
      "text/html": [
       "0.329097327281896"
      ],
      "text/latex": [
       "0.329097327281896"
      ],
      "text/markdown": [
       "0.329097327281896"
      ],
      "text/plain": [
       "[1] 0.3290973"
      ]
     },
     "metadata": {},
     "output_type": "display_data"
    }
   ],
   "source": [
    "##### forest #####\n",
    "\n",
    "dml_irm = DoubleMLIRM$new(data_ml_aux, ml_g = randomForest, \n",
    "                          ml_m = randomForest_class, \n",
    "                          trimming_threshold = 0.01, n_folds=3)\n",
    "dml_irm$fit(store_predictions=TRUE)\n",
    "dml_irm$summary()\n",
    "forest_irm <- dml_irm$coef\n",
    "forest_std_irm <- dml_plr$se\n",
    "\n",
    "# predictions\n",
    "g0_hat <- as.matrix(dml_irm$predictions$ml_g0) # predictions of g_0(D=0, X)\n",
    "g1_hat <- as.matrix(dml_irm$predictions$ml_g1) # predictions of g_0(D=1, X)\n",
    "g_hat <- d*g1_hat+(1-d)*g0_hat # predictions of g_0\n",
    "m_hat <- as.matrix(dml_irm$predictions$ml_m) # predictions of m_o\n",
    "\n",
    "# cross-fitted RMSE: outcome\n",
    "y <- as.matrix(pension$net_tfa) # true observations\n",
    "d <- as.matrix(pension$e401) \n",
    "forest_y_irm <- sqrt(mean((y-g_hat)^2)) \n",
    "forest_y_irm\n",
    "\n",
    "# cross-fitted RMSE: treatment\n",
    "forest_d_irm <- sqrt(mean((d-m_hat)^2)) \n",
    "forest_d_irm\n",
    "\n",
    "# cross-fitted ce: treatment\n",
    "mean(ifelse(m_hat > 0.5, 1, 0) != d)\n"
   ]
  },
  {
   "cell_type": "code",
   "execution_count": 25,
   "id": "5ck90YFmvvGm",
   "metadata": {
    "colab": {
     "base_uri": "https://localhost:8080/",
     "height": 191
    },
    "id": "5ck90YFmvvGm",
    "outputId": "be0c1141-b603-4391-aa9b-ab81ff5cdf84",
    "vscode": {
     "languageId": "r"
    }
   },
   "outputs": [
    {
     "name": "stdout",
     "output_type": "stream",
     "text": [
      "Estimates and significance testing of the effect of target variables\n",
      "     Estimate. Std. Error t value Pr(>|t|)    \n",
      "e401      7477       1187     6.3 2.97e-10 ***\n",
      "---\n",
      "Signif. codes:  0 ‘***’ 0.001 ‘**’ 0.01 ‘*’ 0.05 ‘.’ 0.1 ‘ ’ 1\n",
      "\n",
      "\n"
     ]
    },
    {
     "data": {
      "text/html": [
       "57305.2609648949"
      ],
      "text/latex": [
       "57305.2609648949"
      ],
      "text/markdown": [
       "57305.2609648949"
      ],
      "text/plain": [
       "[1] 57305.26"
      ]
     },
     "metadata": {},
     "output_type": "display_data"
    },
    {
     "data": {
      "text/html": [
       "0.455894013067015"
      ],
      "text/latex": [
       "0.455894013067015"
      ],
      "text/markdown": [
       "0.455894013067015"
      ],
      "text/plain": [
       "[1] 0.455894"
      ]
     },
     "metadata": {},
     "output_type": "display_data"
    },
    {
     "data": {
      "text/html": [
       "0.313565305093293"
      ],
      "text/latex": [
       "0.313565305093293"
      ],
      "text/markdown": [
       "0.313565305093293"
      ],
      "text/plain": [
       "[1] 0.3135653"
      ]
     },
     "metadata": {},
     "output_type": "display_data"
    }
   ],
   "source": [
    "\n",
    "##### trees #####\n",
    "\n",
    "dml_irm <- DoubleMLIRM$new(data_ml_aux, ml_g = trees, ml_m = trees_class, \n",
    "                           trimming_threshold = 0.01, n_folds=3)\n",
    "dml_irm$fit(store_predictions=TRUE)\n",
    "dml_irm$summary()\n",
    "tree_irm <- dml_irm$coef\n",
    "tree_std_irm <- dml_irm$se\n",
    "\n",
    "# predictions\n",
    "g0_hat <- as.matrix(dml_irm$predictions$ml_g0) # predictions of g_0(D=0, X)\n",
    "g1_hat <- as.matrix(dml_irm$predictions$ml_g1) # predictions of g_0(D=1, X)\n",
    "g_hat <- d*g1_hat+(1-d)*g0_hat # predictions of g_0\n",
    "m_hat <- as.matrix(dml_irm$predictions$ml_m) # predictions of m_o\n",
    "\n",
    "# cross-fitted RMSE: outcome\n",
    "y <- as.matrix(pension$net_tfa) # true observations\n",
    "d <- as.matrix(pension$e401) \n",
    "tree_y_irm <- sqrt(mean((y-g_hat)^2)) \n",
    "tree_y_irm\n",
    "\n",
    "# cross-fitted RMSE: treatment\n",
    "tree_d_irm <- sqrt(mean((d-m_hat)^2)) \n",
    "tree_d_irm\n",
    "\n",
    "# cross-fitted ce: treatment\n",
    "mean(ifelse(m_hat > 0.5, 1, 0) != d)"
   ]
  },
  {
   "cell_type": "code",
   "execution_count": 26,
   "id": "jGPOZ-hHvvGn",
   "metadata": {
    "colab": {
     "base_uri": "https://localhost:8080/",
     "height": 191
    },
    "id": "jGPOZ-hHvvGn",
    "outputId": "023e61b1-563c-4c0e-ade5-ed7217032fe3",
    "vscode": {
     "languageId": "r"
    }
   },
   "outputs": [
    {
     "name": "stdout",
     "output_type": "stream",
     "text": [
      "Estimates and significance testing of the effect of target variables\n",
      "     Estimate. Std. Error t value Pr(>|t|)    \n",
      "e401      8353       1228   6.803 1.03e-11 ***\n",
      "---\n",
      "Signif. codes:  0 ‘***’ 0.001 ‘**’ 0.01 ‘*’ 0.05 ‘.’ 0.1 ‘ ’ 1\n",
      "\n",
      "\n"
     ]
    },
    {
     "data": {
      "text/html": [
       "61055.9143568919"
      ],
      "text/latex": [
       "61055.9143568919"
      ],
      "text/markdown": [
       "61055.9143568919"
      ],
      "text/plain": [
       "[1] 61055.91"
      ]
     },
     "metadata": {},
     "output_type": "display_data"
    },
    {
     "data": {
      "text/html": [
       "0.473234647359898"
      ],
      "text/latex": [
       "0.473234647359898"
      ],
      "text/markdown": [
       "0.473234647359898"
      ],
      "text/plain": [
       "[1] 0.4732346"
      ]
     },
     "metadata": {},
     "output_type": "display_data"
    },
    {
     "data": {
      "text/html": [
       "0.323449319213313"
      ],
      "text/latex": [
       "0.323449319213313"
      ],
      "text/markdown": [
       "0.323449319213313"
      ],
      "text/plain": [
       "[1] 0.3234493"
      ]
     },
     "metadata": {},
     "output_type": "display_data"
    }
   ],
   "source": [
    "##### boosting #####\n",
    "\n",
    "dml_irm <- DoubleMLIRM$new(data_ml_aux, ml_g = boost, ml_m = boost_class,\n",
    "                           trimming_threshold = 0.01, n_folds=3)\n",
    "dml_irm$fit(store_predictions=TRUE)\n",
    "dml_irm$summary()\n",
    "boost_irm <- dml_irm$coef\n",
    "boost_std_irm <- dml_irm$se\n",
    "\n",
    "# predictions\n",
    "g0_hat <- as.matrix(dml_irm$predictions$ml_g0) # predictions of g_0(D=0, X)\n",
    "g1_hat <- as.matrix(dml_irm$predictions$ml_g1) # predictions of g_0(D=1, X)\n",
    "g_hat <- d*g1_hat+(1-d)*g0_hat # predictions of g_0\n",
    "m_hat <- as.matrix(dml_irm$predictions$ml_m) # predictions of m_o\n",
    "\n",
    "# cross-fitted RMSE: outcome\n",
    "y <- as.matrix(pension$net_tfa) # true observations\n",
    "d <- as.matrix(pension$e401) \n",
    "boost_y_irm <- sqrt(mean((y-g_hat)^2)) \n",
    "boost_y_irm\n",
    "\n",
    "# cross-fitted RMSE: treatment\n",
    "boost_d_irm <- sqrt(mean((d-m_hat)^2)) \n",
    "boost_d_irm\n",
    "\n",
    "# cross-fitted ce: treatment\n",
    "mean(ifelse(m_hat > 0.5, 1, 0) != d)"
   ]
  },
  {
   "cell_type": "code",
   "execution_count": 27,
   "id": "HF-pbAY2vvGo",
   "metadata": {
    "colab": {
     "base_uri": "https://localhost:8080/",
     "height": 192
    },
    "execution": {
     "iopub.execute_input": "2021-03-24T14:19:35.564530Z",
     "iopub.status.busy": "2021-03-24T14:19:35.563346Z",
     "iopub.status.idle": "2021-03-24T14:19:35.601128Z",
     "shell.execute_reply": "2021-03-24T14:19:35.599153Z"
    },
    "id": "HF-pbAY2vvGo",
    "outputId": "75877196-96ad-484c-94c5-05c9ab1151fd",
    "papermill": {
     "duration": 0.109284,
     "end_time": "2021-03-24T14:19:35.601290",
     "exception": false,
     "start_time": "2021-03-24T14:19:35.492006",
     "status": "completed"
    },
    "tags": [],
    "vscode": {
     "languageId": "r"
    }
   },
   "outputs": [
    {
     "data": {
      "text/html": [
       "<table class=\"dataframe\">\n",
       "<caption>A matrix: 4 × 4 of type dbl</caption>\n",
       "<thead>\n",
       "\t<tr><th></th><th scope=col>Lasso</th><th scope=col>Random Forest</th><th scope=col>Trees</th><th scope=col>Boosting</th></tr>\n",
       "</thead>\n",
       "<tbody>\n",
       "\t<tr><th scope=row>Estimate</th><td>7.941055e+03</td><td>7.808952e+03</td><td> 7477.066528</td><td>8.353329e+03</td></tr>\n",
       "\t<tr><th scope=row>Std.Error</th><td>1.106525e+03</td><td>1.342332e+03</td><td> 1186.745746</td><td>1.227915e+03</td></tr>\n",
       "\t<tr><th scope=row>RMSE Y</th><td>5.543951e+04</td><td>5.550295e+04</td><td>57305.260965</td><td>6.105591e+04</td></tr>\n",
       "\t<tr><th scope=row>RMSE D</th><td>4.440579e-01</td><td>4.559869e-01</td><td>    0.455894</td><td>4.732346e-01</td></tr>\n",
       "</tbody>\n",
       "</table>\n"
      ],
      "text/latex": [
       "A matrix: 4 × 4 of type dbl\n",
       "\\begin{tabular}{r|llll}\n",
       "  & Lasso & Random Forest & Trees & Boosting\\\\\n",
       "\\hline\n",
       "\tEstimate & 7.941055e+03 & 7.808952e+03 &  7477.066528 & 8.353329e+03\\\\\n",
       "\tStd.Error & 1.106525e+03 & 1.342332e+03 &  1186.745746 & 1.227915e+03\\\\\n",
       "\tRMSE Y & 5.543951e+04 & 5.550295e+04 & 57305.260965 & 6.105591e+04\\\\\n",
       "\tRMSE D & 4.440579e-01 & 4.559869e-01 &     0.455894 & 4.732346e-01\\\\\n",
       "\\end{tabular}\n"
      ],
      "text/markdown": [
       "\n",
       "A matrix: 4 × 4 of type dbl\n",
       "\n",
       "| <!--/--> | Lasso | Random Forest | Trees | Boosting |\n",
       "|---|---|---|---|---|\n",
       "| Estimate | 7.941055e+03 | 7.808952e+03 |  7477.066528 | 8.353329e+03 |\n",
       "| Std.Error | 1.106525e+03 | 1.342332e+03 |  1186.745746 | 1.227915e+03 |\n",
       "| RMSE Y | 5.543951e+04 | 5.550295e+04 | 57305.260965 | 6.105591e+04 |\n",
       "| RMSE D | 4.440579e-01 | 4.559869e-01 |     0.455894 | 4.732346e-01 |\n",
       "\n"
      ],
      "text/plain": [
       "          Lasso        Random Forest Trees        Boosting    \n",
       "Estimate  7.941055e+03 7.808952e+03   7477.066528 8.353329e+03\n",
       "Std.Error 1.106525e+03 1.342332e+03   1186.745746 1.227915e+03\n",
       "RMSE Y    5.543951e+04 5.550295e+04  57305.260965 6.105591e+04\n",
       "RMSE D    4.440579e-01 4.559869e-01      0.455894 4.732346e-01"
      ]
     },
     "metadata": {},
     "output_type": "display_data"
    }
   ],
   "source": [
    "table <- matrix(0, 4, 4)\n",
    "table[1,1:4]   <- c(lasso_irm,forest_irm,tree_irm,boost_irm)\n",
    "table[2,1:4]   <- c(lasso_std_irm,forest_std_irm,tree_std_irm,boost_std_irm)\n",
    "table[3,1:4]   <- c(lasso_y_irm,forest_y_irm,tree_y_irm,boost_y_irm)\n",
    "table[4,1:4]   <- c(lasso_d_irm,forest_d_irm,tree_d_irm,boost_d_irm)\n",
    "rownames(table) <- c(\"Estimate\",\"Std.Error\",\"RMSE Y\",\"RMSE D\")\n",
    "colnames(table) <- c(\"Lasso\",\"Random Forest\",\"Trees\",\"Boosting\")\n",
    "table"
   ]
  },
  {
   "cell_type": "markdown",
   "id": "mxyPYhErvvGo",
   "metadata": {
    "id": "mxyPYhErvvGo",
    "papermill": {
     "duration": 0.067113,
     "end_time": "2021-03-24T14:19:35.736036",
     "exception": false,
     "start_time": "2021-03-24T14:19:35.668923",
     "status": "completed"
    },
    "tags": []
   },
   "source": [
    "Here, Random Forest gives the best prediction rule for $g_0$ and Lasso the best prediction rule for $m_0$, respectively. Let us fit the IRM model using the best ML method for each equation to get a final estimate for the treatment effect of eligibility."
   ]
  },
  {
   "cell_type": "code",
   "execution_count": 28,
   "id": "S39EmffIvvGp",
   "metadata": {
    "colab": {
     "base_uri": "https://localhost:8080/"
    },
    "execution": {
     "iopub.execute_input": "2021-03-24T14:19:35.880010Z",
     "iopub.status.busy": "2021-03-24T14:19:35.878579Z",
     "iopub.status.idle": "2021-03-24T14:20:21.421235Z",
     "shell.execute_reply": "2021-03-24T14:20:21.421888Z"
    },
    "id": "S39EmffIvvGp",
    "outputId": "ddfbdac6-d97e-421b-e343-2789688dba22",
    "papermill": {
     "duration": 45.616712,
     "end_time": "2021-03-24T14:20:21.422243",
     "exception": false,
     "start_time": "2021-03-24T14:19:35.805531",
     "status": "completed"
    },
    "tags": [],
    "vscode": {
     "languageId": "r"
    }
   },
   "outputs": [
    {
     "name": "stdout",
     "output_type": "stream",
     "text": [
      "Estimates and significance testing of the effect of target variables\n",
      "     Estimate. Std. Error t value Pr(>|t|)    \n",
      "e401      8286       1118   7.411 1.25e-13 ***\n",
      "---\n",
      "Signif. codes:  0 ‘***’ 0.001 ‘**’ 0.01 ‘*’ 0.05 ‘.’ 0.1 ‘ ’ 1\n",
      "\n",
      "\n"
     ]
    }
   ],
   "source": [
    "set.seed(123)\n",
    "lgr::get_logger(\"mlr3\")$set_threshold(\"warn\") \n",
    "dml_irm = DoubleMLIRM$new(data_ml_aux, ml_g = randomForest, \n",
    "                          ml_m = lasso_class, \n",
    "                          trimming_threshold = 0.01, n_folds=3)\n",
    "dml_irm$fit(store_predictions=TRUE)\n",
    "dml_irm$summary()\n",
    "best_irm <- dml_irm$coef\n",
    "best_std_irm <- dml_irm$se"
   ]
  },
  {
   "cell_type": "markdown",
   "id": "iusmhbUAvvGp",
   "metadata": {
    "id": "iusmhbUAvvGp",
    "papermill": {
     "duration": 0.066697,
     "end_time": "2021-03-24T14:20:21.555921",
     "exception": false,
     "start_time": "2021-03-24T14:20:21.489224",
     "status": "completed"
    },
    "tags": []
   },
   "source": [
    "These estimates that flexibly account for confounding are\n",
    "substantially attenuated relative to the baseline estimate (*19559*) that does not account for confounding. They suggest much smaller causal effects of 401(k) eligiblity on financial asset holdings. "
   ]
  },
  {
   "cell_type": "markdown",
   "id": "Hyuz6LdmvvGq",
   "metadata": {
    "id": "Hyuz6LdmvvGq",
    "papermill": {
     "duration": 0.06665,
     "end_time": "2021-03-24T14:20:21.689265",
     "exception": false,
     "start_time": "2021-03-24T14:20:21.622615",
     "status": "completed"
    },
    "tags": []
   },
   "source": [
    "## Local Average Treatment Effects of 401(k) Participation on Net Financial Assets"
   ]
  },
  {
   "cell_type": "markdown",
   "id": "BycYrVS1vvGq",
   "metadata": {
    "id": "BycYrVS1vvGq",
    "papermill": {
     "duration": 0.067774,
     "end_time": "2021-03-24T14:20:21.824102",
     "exception": false,
     "start_time": "2021-03-24T14:20:21.756328",
     "status": "completed"
    },
    "tags": []
   },
   "source": [
    "## Interactive IV Model (IIVM)"
   ]
  },
  {
   "cell_type": "markdown",
   "id": "y1VIXEPHvvGr",
   "metadata": {
    "id": "y1VIXEPHvvGr",
    "papermill": {
     "duration": 0.066857,
     "end_time": "2021-03-24T14:20:21.957598",
     "exception": false,
     "start_time": "2021-03-24T14:20:21.890741",
     "status": "completed"
    },
    "tags": []
   },
   "source": [
    "Now, we consider estimation of local average treatment effects (LATE) of participation with the binary instrument `e401`. As before, $Y$ denotes the outcome `net_tfa`, and $X$ is the vector of covariates.  Here the structural equation model is:\n",
    "\n",
    "\\begin{eqnarray}\n",
    "& Y = g_0(Z,X) + U, &\\quad E[U\\mid Z,X] = 0,\\\\\n",
    "& D = r_0(Z,X) + V, &\\quad E[V\\mid Z, X] = 0,\\\\\n",
    "& Z = m_0(X) + \\zeta, &\\quad E[\\zeta \\mid X] = 0.\n",
    "\\end{eqnarray}"
   ]
  },
  {
   "cell_type": "code",
   "execution_count": 29,
   "id": "DdXf49N4vvGs",
   "metadata": {
    "execution": {
     "iopub.execute_input": "2021-03-24T14:20:22.099109Z",
     "iopub.status.busy": "2021-03-24T14:20:22.098355Z",
     "iopub.status.idle": "2021-03-24T14:20:22.137978Z",
     "shell.execute_reply": "2021-03-24T14:20:22.136922Z"
    },
    "id": "DdXf49N4vvGs",
    "papermill": {
     "duration": 0.112727,
     "end_time": "2021-03-24T14:20:22.138131",
     "exception": false,
     "start_time": "2021-03-24T14:20:22.025404",
     "status": "completed"
    },
    "tags": [],
    "vscode": {
     "languageId": "r"
    }
   },
   "outputs": [],
   "source": [
    "# # Constructing the data (as DoubleMLData)\n",
    "# formula_flex2 = \"net_tfa ~ p401+ e401 + poly(age, 6, raw=TRUE) + poly(inc, 8, raw=TRUE) + poly(educ, 4, raw=TRUE) + poly(fsize, 2, raw=TRUE) + marr + twoearn + db + pira + hown\"\n",
    "# model_flex2 = as.data.table(model.frame(formula_flex2, data))\n",
    "# x_cols = colnames(model_flex2)[-c(1,2,3)]\n",
    "# data_IV = DoubleMLData$new(model_flex2, y_col = \"net_tfa\", d_cols = \"p401\", z_cols =\"e401\",x_cols=x_cols)"
   ]
  },
  {
   "cell_type": "code",
   "execution_count": 30,
   "id": "qUbiO9cvvvGs",
   "metadata": {
    "id": "qUbiO9cvvvGs",
    "vscode": {
     "languageId": "r"
    }
   },
   "outputs": [],
   "source": [
    "# Constructing the data (as DoubleMLData)\n",
    "formula_flex2 = \"net_tfa ~ p401+ e401 + poly(age, 6, raw=TRUE) + poly(inc, 6, raw=TRUE) + poly(educ, 4, raw=TRUE) + poly(fsize, 2, raw=TRUE) + marr + twoearn + db + pira + hown\"\n",
    "model_flex2 = as.data.table(model.frame(formula_flex2, data))\n",
    "x_cols = colnames(model_flex2)[-c(1,2,3)]\n",
    "data_IV_aux = DoubleMLData$new(model_flex2, y_col = \"net_tfa\", d_cols = \"p401\", z_cols =\"e401\",x_cols=x_cols)"
   ]
  },
  {
   "cell_type": "code",
   "execution_count": 31,
   "id": "JXRMOJtNvvGt",
   "metadata": {
    "colab": {
     "base_uri": "https://localhost:8080/"
    },
    "execution": {
     "iopub.execute_input": "2021-03-24T14:20:22.281232Z",
     "iopub.status.busy": "2021-03-24T14:20:22.279563Z",
     "iopub.status.idle": "2021-03-24T14:20:43.691559Z",
     "shell.execute_reply": "2021-03-24T14:20:43.689836Z"
    },
    "id": "JXRMOJtNvvGt",
    "outputId": "9d7cc417-0661-422c-9793-66950705bf35",
    "papermill": {
     "duration": 21.484394,
     "end_time": "2021-03-24T14:20:43.691771",
     "exception": false,
     "start_time": "2021-03-24T14:20:22.207377",
     "status": "completed"
    },
    "tags": [],
    "vscode": {
     "languageId": "r"
    }
   },
   "outputs": [
    {
     "name": "stdout",
     "output_type": "stream",
     "text": [
      "Estimates and significance testing of the effect of target variables\n",
      "     Estimate. Std. Error t value Pr(>|t|)    \n",
      "p401     11484       1596   7.195 6.25e-13 ***\n",
      "---\n",
      "Signif. codes:  0 ‘***’ 0.001 ‘**’ 0.01 ‘*’ 0.05 ‘.’ 0.1 ‘ ’ 1\n",
      "\n",
      "\n"
     ]
    }
   ],
   "source": [
    "set.seed(123)\n",
    "lgr::get_logger(\"mlr3\")$set_threshold(\"warn\") \n",
    "dml_MLIIVM = DoubleMLIIVM$new(data_IV_aux, ml_g = lasso, \n",
    "                       ml_m = lasso_class, ml_r = lasso_class,n_folds=3, subgroups = list(always_takers = FALSE, \n",
    "                                         never_takers = TRUE))\n",
    "dml_MLIIVM$fit(store_predictions=TRUE)\n",
    "dml_MLIIVM$summary()\n",
    "lasso_MLIIVM <- dml_MLIIVM$coef\n",
    "lasso_std_MLIIVM <- dml_MLIIVM$se"
   ]
  },
  {
   "cell_type": "markdown",
   "id": "bv_xwCmVvvGu",
   "metadata": {
    "id": "bv_xwCmVvvGu",
    "papermill": {
     "duration": 0.069118,
     "end_time": "2021-03-24T14:20:43.830269",
     "exception": false,
     "start_time": "2021-03-24T14:20:43.761151",
     "status": "completed"
    },
    "tags": []
   },
   "source": [
    "The confidence interval for the local average treatment effect of participation is given by"
   ]
  },
  {
   "cell_type": "code",
   "execution_count": 32,
   "id": "1X0LAAX0vvGu",
   "metadata": {
    "colab": {
     "base_uri": "https://localhost:8080/",
     "height": 98
    },
    "execution": {
     "iopub.execute_input": "2021-03-24T14:20:43.973277Z",
     "iopub.status.busy": "2021-03-24T14:20:43.971521Z",
     "iopub.status.idle": "2021-03-24T14:20:43.992998Z",
     "shell.execute_reply": "2021-03-24T14:20:43.991154Z"
    },
    "id": "1X0LAAX0vvGu",
    "outputId": "a3ff9529-7015-4485-a996-fa709920d488",
    "papermill": {
     "duration": 0.093963,
     "end_time": "2021-03-24T14:20:43.993163",
     "exception": false,
     "start_time": "2021-03-24T14:20:43.899200",
     "status": "completed"
    },
    "tags": [],
    "vscode": {
     "languageId": "r"
    }
   },
   "outputs": [
    {
     "data": {
      "text/html": [
       "<table class=\"dataframe\">\n",
       "<caption>A matrix: 1 × 2 of type dbl</caption>\n",
       "<thead>\n",
       "\t<tr><th></th><th scope=col>2.5 %</th><th scope=col>97.5 %</th></tr>\n",
       "</thead>\n",
       "<tbody>\n",
       "\t<tr><th scope=row>p401</th><td>8356.038</td><td>14612.92</td></tr>\n",
       "</tbody>\n",
       "</table>\n"
      ],
      "text/latex": [
       "A matrix: 1 × 2 of type dbl\n",
       "\\begin{tabular}{r|ll}\n",
       "  & 2.5 \\% & 97.5 \\%\\\\\n",
       "\\hline\n",
       "\tp401 & 8356.038 & 14612.92\\\\\n",
       "\\end{tabular}\n"
      ],
      "text/markdown": [
       "\n",
       "A matrix: 1 × 2 of type dbl\n",
       "\n",
       "| <!--/--> | 2.5 % | 97.5 % |\n",
       "|---|---|---|\n",
       "| p401 | 8356.038 | 14612.92 |\n",
       "\n"
      ],
      "text/plain": [
       "     2.5 %    97.5 %  \n",
       "p401 8356.038 14612.92"
      ]
     },
     "metadata": {},
     "output_type": "display_data"
    }
   ],
   "source": [
    "dml_MLIIVM$confint(level = 0.95)"
   ]
  },
  {
   "cell_type": "markdown",
   "id": "o3BMOdBevvGv",
   "metadata": {
    "id": "o3BMOdBevvGv",
    "papermill": {
     "duration": 0.07021,
     "end_time": "2021-03-24T14:20:44.133038",
     "exception": false,
     "start_time": "2021-03-24T14:20:44.062828",
     "status": "completed"
    },
    "tags": []
   },
   "source": [
    "Here we can also check the accuracy of the model:"
   ]
  },
  {
   "cell_type": "code",
   "execution_count": 33,
   "id": "gYMPfR55vvGv",
   "metadata": {
    "colab": {
     "base_uri": "https://localhost:8080/",
     "height": 34
    },
    "execution": {
     "iopub.execute_input": "2021-03-24T14:20:44.280222Z",
     "iopub.status.busy": "2021-03-24T14:20:44.278087Z",
     "iopub.status.idle": "2021-03-24T14:20:44.313718Z",
     "shell.execute_reply": "2021-03-24T14:20:44.311941Z"
    },
    "id": "gYMPfR55vvGv",
    "outputId": "1a769d87-c5ca-4a50-ba78-aa8663d39250",
    "papermill": {
     "duration": 0.109791,
     "end_time": "2021-03-24T14:20:44.313881",
     "exception": false,
     "start_time": "2021-03-24T14:20:44.204090",
     "status": "completed"
    },
    "tags": [],
    "vscode": {
     "languageId": "r"
    }
   },
   "outputs": [
    {
     "data": {
      "text/html": [
       "<style>\n",
       ".list-inline {list-style: none; margin:0; padding: 0}\n",
       ".list-inline>li {display: inline-block}\n",
       ".list-inline>li:not(:last-child)::after {content: \"\\00b7\"; padding: 0 .5ex}\n",
       "</style>\n",
       "<ol class=list-inline><li>'ml_g0'</li><li>'ml_g1'</li><li>'ml_m'</li><li>'ml_r0'</li><li>'ml_r1'</li></ol>\n"
      ],
      "text/latex": [
       "\\begin{enumerate*}\n",
       "\\item 'ml\\_g0'\n",
       "\\item 'ml\\_g1'\n",
       "\\item 'ml\\_m'\n",
       "\\item 'ml\\_r0'\n",
       "\\item 'ml\\_r1'\n",
       "\\end{enumerate*}\n"
      ],
      "text/markdown": [
       "1. 'ml_g0'\n",
       "2. 'ml_g1'\n",
       "3. 'ml_m'\n",
       "4. 'ml_r0'\n",
       "5. 'ml_r1'\n",
       "\n",
       "\n"
      ],
      "text/plain": [
       "[1] \"ml_g0\" \"ml_g1\" \"ml_m\"  \"ml_r0\" \"ml_r1\""
      ]
     },
     "metadata": {},
     "output_type": "display_data"
    }
   ],
   "source": [
    "# variables\n",
    "y <- as.matrix(pension$net_tfa) # true observations\n",
    "d <- as.matrix(pension$p401) \n",
    "z <- as.matrix(pension$e401) \n",
    "\n",
    "# predictions\n",
    "dml_MLIIVM$params_names()\n",
    "g0_hat <- as.matrix(dml_MLIIVM$predictions$ml_g0) # predictions of g_0(z=0, X)\n",
    "g1_hat <- as.matrix(dml_MLIIVM$predictions$ml_g1) # predictions of g_0(z=1, X)\n",
    "g_hat <- z*g1_hat+(1-z)*g0_hat # predictions of g_0\n",
    "r0_hat <- as.matrix(dml_MLIIVM$predictions$ml_r0) # predictions of r_0(z=0, X)\n",
    "r1_hat <- as.matrix(dml_MLIIVM$predictions$ml_r1) # predictions of r_0(z=1, X)\n",
    "r_hat <- z*r1_hat+(1-z)*r0_hat # predictions of r_0\n",
    "m_hat <- as.matrix(dml_MLIIVM$predictions$ml_m) # predictions of m_o"
   ]
  },
  {
   "cell_type": "code",
   "execution_count": 34,
   "id": "tBagDxuwvvGw",
   "metadata": {
    "colab": {
     "base_uri": "https://localhost:8080/",
     "height": 69
    },
    "execution": {
     "iopub.execute_input": "2021-03-24T14:20:44.462740Z",
     "iopub.status.busy": "2021-03-24T14:20:44.460887Z",
     "iopub.status.idle": "2021-03-24T14:20:44.497932Z",
     "shell.execute_reply": "2021-03-24T14:20:44.496180Z"
    },
    "id": "tBagDxuwvvGw",
    "outputId": "7b0708b0-768d-49ca-bed4-33ef0fdad6ea",
    "papermill": {
     "duration": 0.113011,
     "end_time": "2021-03-24T14:20:44.498082",
     "exception": false,
     "start_time": "2021-03-24T14:20:44.385071",
     "status": "completed"
    },
    "tags": [],
    "vscode": {
     "languageId": "r"
    }
   },
   "outputs": [
    {
     "data": {
      "text/html": [
       "55439.5089355971"
      ],
      "text/latex": [
       "55439.5089355971"
      ],
      "text/markdown": [
       "55439.5089355971"
      ],
      "text/plain": [
       "[1] 55439.51"
      ]
     },
     "metadata": {},
     "output_type": "display_data"
    },
    {
     "data": {
      "text/html": [
       "0.273065094547404"
      ],
      "text/latex": [
       "0.273065094547404"
      ],
      "text/markdown": [
       "0.273065094547404"
      ],
      "text/plain": [
       "[1] 0.2730651"
      ]
     },
     "metadata": {},
     "output_type": "display_data"
    },
    {
     "data": {
      "text/html": [
       "0.444057854588759"
      ],
      "text/latex": [
       "0.444057854588759"
      ],
      "text/markdown": [
       "0.444057854588759"
      ],
      "text/plain": [
       "[1] 0.4440579"
      ]
     },
     "metadata": {},
     "output_type": "display_data"
    }
   ],
   "source": [
    "# cross-fitted RMSE: outcome\n",
    "lasso_y_MLIIVM <- sqrt(mean((y-g_hat)^2)) \n",
    "lasso_y_MLIIVM\n",
    "\n",
    "# cross-fitted RMSE: treatment\n",
    "lasso_d_MLIIVM <- sqrt(mean((d-r_hat)^2)) \n",
    "lasso_d_MLIIVM\n",
    "\n",
    "# cross-fitted RMSE: instrument\n",
    "lasso_z_MLIIVM <- sqrt(mean((z-m_hat)^2)) \n",
    "lasso_z_MLIIVM\n"
   ]
  },
  {
   "cell_type": "markdown",
   "id": "Jjkfv23xvvGw",
   "metadata": {
    "id": "Jjkfv23xvvGw",
    "papermill": {
     "duration": 0.070907,
     "end_time": "2021-03-24T14:20:44.640829",
     "exception": false,
     "start_time": "2021-03-24T14:20:44.569922",
     "status": "completed"
    },
    "tags": []
   },
   "source": [
    "Again, we repeat the procedure for the other machine learning methods:"
   ]
  },
  {
   "cell_type": "code",
   "execution_count": 35,
   "id": "MMHpe5qdvvGx",
   "metadata": {
    "colab": {
     "base_uri": "https://localhost:8080/",
     "height": 191
    },
    "id": "MMHpe5qdvvGx",
    "outputId": "a723edb0-117b-4424-f9ce-1b2213c5801b",
    "vscode": {
     "languageId": "r"
    }
   },
   "outputs": [
    {
     "name": "stdout",
     "output_type": "stream",
     "text": [
      "Estimates and significance testing of the effect of target variables\n",
      "     Estimate. Std. Error t value Pr(>|t|)    \n",
      "p401     12386       1861   6.655 2.84e-11 ***\n",
      "---\n",
      "Signif. codes:  0 ‘***’ 0.001 ‘**’ 0.01 ‘*’ 0.05 ‘.’ 0.1 ‘ ’ 1\n",
      "\n",
      "\n"
     ]
    },
    {
     "data": {
      "text/html": [
       "55894.9225672997"
      ],
      "text/latex": [
       "55894.9225672997"
      ],
      "text/markdown": [
       "55894.9225672997"
      ],
      "text/plain": [
       "[1] 55894.92"
      ]
     },
     "metadata": {},
     "output_type": "display_data"
    },
    {
     "data": {
      "text/html": [
       "0.281485008868116"
      ],
      "text/latex": [
       "0.281485008868116"
      ],
      "text/markdown": [
       "0.281485008868116"
      ],
      "text/plain": [
       "[1] 0.281485"
      ]
     },
     "metadata": {},
     "output_type": "display_data"
    },
    {
     "data": {
      "text/html": [
       "0.455820706839991"
      ],
      "text/latex": [
       "0.455820706839991"
      ],
      "text/markdown": [
       "0.455820706839991"
      ],
      "text/plain": [
       "[1] 0.4558207"
      ]
     },
     "metadata": {},
     "output_type": "display_data"
    }
   ],
   "source": [
    "### random forest ###\n",
    "\n",
    "set.seed(123)\n",
    "lgr::get_logger(\"mlr3\")$set_threshold(\"warn\") \n",
    "dml_MLIIVM = DoubleMLIIVM$new(data_IV_aux, ml_g = randomForest, \n",
    "                       ml_m = randomForest_class, ml_r = randomForest_class,n_folds=3, subgroups = list(always_takers = FALSE, \n",
    "                                         never_takers = TRUE))\n",
    "dml_MLIIVM$fit(store_predictions=TRUE)\n",
    "dml_MLIIVM$summary()\n",
    "forest_MLIIVM <- dml_MLIIVM$coef\n",
    "forest_std_MLIIVM <- dml_MLIIVM$se\n",
    "\n",
    "# predictions\n",
    "g0_hat <- as.matrix(dml_MLIIVM$predictions$ml_g0) # predictions of g_0(Z=0, X)\n",
    "g1_hat <- as.matrix(dml_MLIIVM$predictions$ml_g1) # predictions of g_0(Z=1, X)\n",
    "g_hat <- z*g1_hat+(1-z)*g0_hat # predictions of g_0\n",
    "r0_hat <- as.matrix(dml_MLIIVM$predictions$ml_r0) # predictions of r_0(Z=0, X)\n",
    "r1_hat <- as.matrix(dml_MLIIVM$predictions$ml_r1) # predictions of r_0(Z=1, X)\n",
    "r_hat <- z*r1_hat+(1-z)*r0_hat # predictions of r_0\n",
    "m_hat <- as.matrix(dml_MLIIVM$predictions$ml_m) # predictions of m_o\n",
    "\n",
    "# cross-fitted RMSE: outcome\n",
    "forest_y_MLIIVM <- sqrt(mean((y-g_hat)^2)) \n",
    "forest_y_MLIIVM\n",
    "\n",
    "# cross-fitted RMSE: treatment\n",
    "forest_d_MLIIVM <- sqrt(mean((d-r_hat)^2)) \n",
    "forest_d_MLIIVM\n",
    "\n",
    "# cross-fitted RMSE: instrument\n",
    "forest_z_MLIIVM <- sqrt(mean((z-m_hat)^2)) \n",
    "forest_z_MLIIVM\n"
   ]
  },
  {
   "cell_type": "code",
   "execution_count": 36,
   "id": "iESp4tIpvvG3",
   "metadata": {
    "colab": {
     "base_uri": "https://localhost:8080/",
     "height": 191
    },
    "id": "iESp4tIpvvG3",
    "outputId": "ffb211ad-f84a-44ff-eeac-2c81871e108a",
    "vscode": {
     "languageId": "r"
    }
   },
   "outputs": [
    {
     "name": "stdout",
     "output_type": "stream",
     "text": [
      "Estimates and significance testing of the effect of target variables\n",
      "     Estimate. Std. Error t value Pr(>|t|)    \n",
      "p401     11341       1719   6.596 4.23e-11 ***\n",
      "---\n",
      "Signif. codes:  0 ‘***’ 0.001 ‘**’ 0.01 ‘*’ 0.05 ‘.’ 0.1 ‘ ’ 1\n",
      "\n",
      "\n"
     ]
    },
    {
     "data": {
      "text/html": [
       "58138.8671314746"
      ],
      "text/latex": [
       "58138.8671314746"
      ],
      "text/markdown": [
       "58138.8671314746"
      ],
      "text/plain": [
       "[1] 58138.87"
      ]
     },
     "metadata": {},
     "output_type": "display_data"
    },
    {
     "data": {
      "text/html": [
       "0.278065853668596"
      ],
      "text/latex": [
       "0.278065853668596"
      ],
      "text/markdown": [
       "0.278065853668596"
      ],
      "text/plain": [
       "[1] 0.2780659"
      ]
     },
     "metadata": {},
     "output_type": "display_data"
    },
    {
     "data": {
      "text/html": [
       "0.455683602053198"
      ],
      "text/latex": [
       "0.455683602053198"
      ],
      "text/markdown": [
       "0.455683602053198"
      ],
      "text/plain": [
       "[1] 0.4556836"
      ]
     },
     "metadata": {},
     "output_type": "display_data"
    }
   ],
   "source": [
    "### trees ###\n",
    "\n",
    "dml_MLIIVM = DoubleMLIIVM$new(data_IV_aux, ml_g = trees, \n",
    "                       ml_m = trees_class, ml_r = trees_class,n_folds=3, subgroups = list(always_takers = FALSE, \n",
    "                                         never_takers = TRUE))\n",
    "dml_MLIIVM$fit(store_predictions=TRUE)\n",
    "dml_MLIIVM$summary()\n",
    "tree_MLIIVM <- dml_MLIIVM$coef\n",
    "tree_std_MLIIVM <- dml_MLIIVM$se\n",
    "\n",
    "# predictions\n",
    "g0_hat <- as.matrix(dml_MLIIVM$predictions$ml_g0) # predictions of g_0(Z=0, X)\n",
    "g1_hat <- as.matrix(dml_MLIIVM$predictions$ml_g1) # predictions of g_0(Z=1, X)\n",
    "g_hat <- z*g1_hat+(1-z)*g0_hat # predictions of g_0\n",
    "r0_hat <- as.matrix(dml_MLIIVM$predictions$ml_r0) # predictions of r_0(Z=0, X)\n",
    "r1_hat <- as.matrix(dml_MLIIVM$predictions$ml_r1) # predictions of r_0(Z=1, X)\n",
    "r_hat <- z*r1_hat+(1-z)*r0_hat # predictions of r_0\n",
    "m_hat <- as.matrix(dml_MLIIVM$predictions$ml_m) # predictions of m_o\n",
    "\n",
    "# cross-fitted RMSE: outcome\n",
    "tree_y_MLIIVM <- sqrt(mean((y-g_hat)^2)) \n",
    "tree_y_MLIIVM\n",
    "\n",
    "# cross-fitted RMSE: treatment\n",
    "tree_d_MLIIVM <- sqrt(mean((d-r_hat)^2)) \n",
    "tree_d_MLIIVM\n",
    "\n",
    "# cross-fitted RMSE: instrument\n",
    "tree_z_MLIIVM <- sqrt(mean((z-m_hat)^2)) \n",
    "tree_z_MLIIVM\n"
   ]
  },
  {
   "cell_type": "code",
   "execution_count": 37,
   "id": "AFfdffjBvvG3",
   "metadata": {
    "colab": {
     "base_uri": "https://localhost:8080/",
     "height": 191
    },
    "execution": {
     "iopub.execute_input": "2021-03-24T14:20:44.789529Z",
     "iopub.status.busy": "2021-03-24T14:20:44.787575Z",
     "iopub.status.idle": "2021-03-24T14:21:54.825110Z",
     "shell.execute_reply": "2021-03-24T14:21:54.823299Z"
    },
    "id": "AFfdffjBvvG3",
    "outputId": "5d383be2-e200-4a9f-ea32-0d31291d8ab2",
    "papermill": {
     "duration": 70.113632,
     "end_time": "2021-03-24T14:21:54.825289",
     "exception": false,
     "start_time": "2021-03-24T14:20:44.711657",
     "status": "completed"
    },
    "tags": [],
    "vscode": {
     "languageId": "r"
    }
   },
   "outputs": [
    {
     "name": "stdout",
     "output_type": "stream",
     "text": [
      "Estimates and significance testing of the effect of target variables\n",
      "     Estimate. Std. Error t value Pr(>|t|)    \n",
      "p401     12529       1822   6.878 6.08e-12 ***\n",
      "---\n",
      "Signif. codes:  0 ‘***’ 0.001 ‘**’ 0.01 ‘*’ 0.05 ‘.’ 0.1 ‘ ’ 1\n",
      "\n",
      "\n"
     ]
    },
    {
     "data": {
      "text/html": [
       "61377.343221528"
      ],
      "text/latex": [
       "61377.343221528"
      ],
      "text/markdown": [
       "61377.343221528"
      ],
      "text/plain": [
       "[1] 61377.34"
      ]
     },
     "metadata": {},
     "output_type": "display_data"
    },
    {
     "data": {
      "text/html": [
       "0.289797050341825"
      ],
      "text/latex": [
       "0.289797050341825"
      ],
      "text/markdown": [
       "0.289797050341825"
      ],
      "text/plain": [
       "[1] 0.2897971"
      ]
     },
     "metadata": {},
     "output_type": "display_data"
    },
    {
     "data": {
      "text/html": [
       "0.472681479997785"
      ],
      "text/latex": [
       "0.472681479997785"
      ],
      "text/markdown": [
       "0.472681479997785"
      ],
      "text/plain": [
       "[1] 0.4726815"
      ]
     },
     "metadata": {},
     "output_type": "display_data"
    }
   ],
   "source": [
    "\n",
    "\n",
    "### boosting ###\n",
    "dml_MLIIVM = DoubleMLIIVM$new(data_IV_aux, ml_g = boost, \n",
    "                       ml_m = boost_class, ml_r = boost_class,n_folds=3, subgroups = list(always_takers = FALSE, \n",
    "                                         never_takers = TRUE))\n",
    "dml_MLIIVM$fit(store_predictions=TRUE)\n",
    "dml_MLIIVM$summary()\n",
    "boost_MLIIVM <- dml_MLIIVM$coef\n",
    "boost_std_MLIIVM <- dml_MLIIVM$se\n",
    "\n",
    "# predictions\n",
    "g0_hat <- as.matrix(dml_MLIIVM$predictions$ml_g0) # predictions of g_0(Z=0, X)\n",
    "g1_hat <- as.matrix(dml_MLIIVM$predictions$ml_g1) # predictions of g_0(Z=1, X)\n",
    "g_hat <- z*g1_hat+(1-z)*g0_hat # predictions of g_0\n",
    "r0_hat <- as.matrix(dml_MLIIVM$predictions$ml_r0) # predictions of r_0(Z=0, X)\n",
    "r1_hat <- as.matrix(dml_MLIIVM$predictions$ml_r1) # predictions of r_0(Z=1, X)\n",
    "r_hat <- z*r1_hat+(1-z)*r0_hat # predictions of r_0\n",
    "m_hat <- as.matrix(dml_MLIIVM$predictions$ml_m) # predictions of m_o\n",
    "\n",
    "# cross-fitted RMSE: outcome\n",
    "boost_y_MLIIVM <- sqrt(mean((y-g_hat)^2)) \n",
    "boost_y_MLIIVM\n",
    "\n",
    "# cross-fitted RMSE: treatment\n",
    "boost_d_MLIIVM <- sqrt(mean((d-r_hat)^2)) \n",
    "boost_d_MLIIVM\n",
    "\n",
    "# cross-fitted RMSE: instrument\n",
    "boost_z_MLIIVM <- sqrt(mean((z-m_hat)^2)) \n",
    "boost_z_MLIIVM"
   ]
  },
  {
   "cell_type": "code",
   "execution_count": 38,
   "id": "Y1ozwEnkvvG4",
   "metadata": {
    "colab": {
     "base_uri": "https://localhost:8080/",
     "height": 224
    },
    "execution": {
     "iopub.execute_input": "2021-03-24T14:21:54.995245Z",
     "iopub.status.busy": "2021-03-24T14:21:54.993532Z",
     "iopub.status.idle": "2021-03-24T14:21:55.032941Z",
     "shell.execute_reply": "2021-03-24T14:21:55.031530Z"
    },
    "id": "Y1ozwEnkvvG4",
    "outputId": "5d200ac3-be86-4db2-cda1-08cfcb9c4d7c",
    "papermill": {
     "duration": 0.125566,
     "end_time": "2021-03-24T14:21:55.033100",
     "exception": false,
     "start_time": "2021-03-24T14:21:54.907534",
     "status": "completed"
    },
    "tags": [],
    "vscode": {
     "languageId": "r"
    }
   },
   "outputs": [
    {
     "data": {
      "text/html": [
       "<table class=\"dataframe\">\n",
       "<caption>A matrix: 5 × 4 of type dbl</caption>\n",
       "<thead>\n",
       "\t<tr><th></th><th scope=col>Lasso</th><th scope=col>Random Forest</th><th scope=col>Trees</th><th scope=col>Boosting</th></tr>\n",
       "</thead>\n",
       "<tbody>\n",
       "\t<tr><th scope=row>Estimate</th><td>1.148448e+04</td><td>1.238592e+04</td><td>1.134090e+04</td><td>1.252911e+04</td></tr>\n",
       "\t<tr><th scope=row>Std.Error</th><td>1.596173e+03</td><td>1.861187e+03</td><td>1.719411e+03</td><td>1.821686e+03</td></tr>\n",
       "\t<tr><th scope=row>RMSE Y</th><td>5.543951e+04</td><td>5.589492e+04</td><td>5.813887e+04</td><td>6.137734e+04</td></tr>\n",
       "\t<tr><th scope=row>RMSE D</th><td>2.730651e-01</td><td>2.814850e-01</td><td>2.780659e-01</td><td>2.897971e-01</td></tr>\n",
       "\t<tr><th scope=row>RMSE Z</th><td>4.440579e-01</td><td>4.558207e-01</td><td>4.556836e-01</td><td>4.726815e-01</td></tr>\n",
       "</tbody>\n",
       "</table>\n"
      ],
      "text/latex": [
       "A matrix: 5 × 4 of type dbl\n",
       "\\begin{tabular}{r|llll}\n",
       "  & Lasso & Random Forest & Trees & Boosting\\\\\n",
       "\\hline\n",
       "\tEstimate & 1.148448e+04 & 1.238592e+04 & 1.134090e+04 & 1.252911e+04\\\\\n",
       "\tStd.Error & 1.596173e+03 & 1.861187e+03 & 1.719411e+03 & 1.821686e+03\\\\\n",
       "\tRMSE Y & 5.543951e+04 & 5.589492e+04 & 5.813887e+04 & 6.137734e+04\\\\\n",
       "\tRMSE D & 2.730651e-01 & 2.814850e-01 & 2.780659e-01 & 2.897971e-01\\\\\n",
       "\tRMSE Z & 4.440579e-01 & 4.558207e-01 & 4.556836e-01 & 4.726815e-01\\\\\n",
       "\\end{tabular}\n"
      ],
      "text/markdown": [
       "\n",
       "A matrix: 5 × 4 of type dbl\n",
       "\n",
       "| <!--/--> | Lasso | Random Forest | Trees | Boosting |\n",
       "|---|---|---|---|---|\n",
       "| Estimate | 1.148448e+04 | 1.238592e+04 | 1.134090e+04 | 1.252911e+04 |\n",
       "| Std.Error | 1.596173e+03 | 1.861187e+03 | 1.719411e+03 | 1.821686e+03 |\n",
       "| RMSE Y | 5.543951e+04 | 5.589492e+04 | 5.813887e+04 | 6.137734e+04 |\n",
       "| RMSE D | 2.730651e-01 | 2.814850e-01 | 2.780659e-01 | 2.897971e-01 |\n",
       "| RMSE Z | 4.440579e-01 | 4.558207e-01 | 4.556836e-01 | 4.726815e-01 |\n",
       "\n"
      ],
      "text/plain": [
       "          Lasso        Random Forest Trees        Boosting    \n",
       "Estimate  1.148448e+04 1.238592e+04  1.134090e+04 1.252911e+04\n",
       "Std.Error 1.596173e+03 1.861187e+03  1.719411e+03 1.821686e+03\n",
       "RMSE Y    5.543951e+04 5.589492e+04  5.813887e+04 6.137734e+04\n",
       "RMSE D    2.730651e-01 2.814850e-01  2.780659e-01 2.897971e-01\n",
       "RMSE Z    4.440579e-01 4.558207e-01  4.556836e-01 4.726815e-01"
      ]
     },
     "metadata": {},
     "output_type": "display_data"
    }
   ],
   "source": [
    "# library(xtable)\n",
    "table <- matrix(0, 5, 4)\n",
    "table[1,1:4]   <- c(lasso_MLIIVM,forest_MLIIVM,tree_MLIIVM,boost_MLIIVM)\n",
    "table[2,1:4]   <- c(lasso_std_MLIIVM,forest_std_MLIIVM,tree_std_MLIIVM,boost_std_MLIIVM)\n",
    "table[3,1:4]   <- c(lasso_y_MLIIVM,forest_y_MLIIVM,tree_y_MLIIVM,boost_y_MLIIVM)\n",
    "table[4,1:4]   <- c(lasso_d_MLIIVM,forest_d_MLIIVM,tree_d_MLIIVM,boost_d_MLIIVM)\n",
    "table[5,1:4]   <- c(lasso_z_MLIIVM,forest_z_MLIIVM,tree_z_MLIIVM,boost_z_MLIIVM)\n",
    "rownames(table) <- c(\"Estimate\",\"Std.Error\",\"RMSE Y\",\"RMSE D\",\"RMSE Z\")\n",
    "colnames(table) <- c(\"Lasso\",\"Random Forest\",\"Trees\",\"Boosting\")\n",
    "# tab<- xtable(table, digits = 2)\n",
    "table"
   ]
  },
  {
   "cell_type": "markdown",
   "id": "ZYV-_VPxvvG4",
   "metadata": {
    "id": "ZYV-_VPxvvG4",
    "papermill": {
     "duration": 0.078988,
     "end_time": "2021-03-24T14:21:55.191630",
     "exception": false,
     "start_time": "2021-03-24T14:21:55.112642",
     "status": "completed"
    },
    "tags": []
   },
   "source": [
    "We report results based on four ML methods for estimating the nuisance functions used in\n",
    "forming the orthogonal estimating equations. We find again that the estimates of the treatment effect are stable across ML methods. The estimates are highly significant, hence we would reject the hypothesis\n",
    "that the effect of 401(k) participation has no effect on financial health."
   ]
  },
  {
   "cell_type": "markdown",
   "id": "MXIoUkeavvG5",
   "metadata": {
    "id": "MXIoUkeavvG5",
    "papermill": {
     "duration": 0.080777,
     "end_time": "2021-03-24T14:21:55.350975",
     "exception": false,
     "start_time": "2021-03-24T14:21:55.270198",
     "status": "completed"
    },
    "tags": []
   },
   "source": [
    "We might rerun the model using the best ML method for each equation to get a final estimate for the treatment effect of participation:"
   ]
  },
  {
   "cell_type": "code",
   "execution_count": 39,
   "id": "Lz9QvukrvvG5",
   "metadata": {
    "colab": {
     "base_uri": "https://localhost:8080/"
    },
    "execution": {
     "iopub.execute_input": "2021-03-24T14:21:55.516930Z",
     "iopub.status.busy": "2021-03-24T14:21:55.514958Z",
     "iopub.status.idle": "2021-03-24T14:22:43.797152Z",
     "shell.execute_reply": "2021-03-24T14:22:43.797909Z"
    },
    "id": "Lz9QvukrvvG5",
    "outputId": "97a12aa6-c1ee-4322-dcf3-539fc86011f1",
    "papermill": {
     "duration": 48.36793,
     "end_time": "2021-03-24T14:22:43.798156",
     "exception": false,
     "start_time": "2021-03-24T14:21:55.430226",
     "status": "completed"
    },
    "tags": [],
    "vscode": {
     "languageId": "r"
    }
   },
   "outputs": [
    {
     "name": "stdout",
     "output_type": "stream",
     "text": [
      "Estimates and significance testing of the effect of target variables\n",
      "     Estimate. Std. Error t value Pr(>|t|)    \n",
      "p401     11984       1612   7.433 1.06e-13 ***\n",
      "---\n",
      "Signif. codes:  0 ‘***’ 0.001 ‘**’ 0.01 ‘*’ 0.05 ‘.’ 0.1 ‘ ’ 1\n",
      "\n",
      "\n"
     ]
    }
   ],
   "source": [
    "set.seed(123)\n",
    "lgr::get_logger(\"mlr3\")$set_threshold(\"warn\") \n",
    "dml_MLIIVM = DoubleMLIIVM$new(data_IV_aux, ml_g = randomForest, \n",
    "                       ml_m = lasso_class, ml_r = lasso_class,n_folds=3, subgroups = list(always_takers = FALSE, \n",
    "                                         never_takers = TRUE))\n",
    "dml_MLIIVM$fit(store_predictions=TRUE)\n",
    "dml_MLIIVM$summary()\n",
    "best_MLIIVM <- dml_MLIIVM$coef\n",
    "best_std_MLIIVM <- dml_MLIIVM$se"
   ]
  }
 ],
 "metadata": {
  "colab": {
   "collapsed_sections": [],
   "name": "20-pm5-401k-.ipynb",
   "provenance": []
  },
  "hide_input": false,
  "kernelspec": {
   "display_name": "R",
   "language": "R",
   "name": "ir"
  },
  "language_info": {
   "codemirror_mode": "r",
   "file_extension": ".r",
   "mimetype": "text/x-r-source",
   "name": "R",
   "pygments_lexer": "r",
   "version": "4.2.1"
  },
  "papermill": {
   "default_parameters": {},
   "duration": 537.547458,
   "end_time": "2021-03-24T14:22:44.931595",
   "environment_variables": {},
   "exception": null,
   "input_path": "__notebook__.ipynb",
   "output_path": "__notebook__.ipynb",
   "parameters": {},
   "start_time": "2021-03-24T14:13:47.384137",
   "version": "2.3.2"
  }
 },
 "nbformat": 4,
 "nbformat_minor": 5
}