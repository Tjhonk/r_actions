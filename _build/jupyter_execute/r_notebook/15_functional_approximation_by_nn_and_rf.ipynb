{
 "cells": [
  {
   "cell_type": "markdown",
   "id": "elegant-proxy",
   "metadata": {
    "id": "elegant-proxy",
    "papermill": {
     "duration": 0.011489,
     "end_time": "2021-03-30T21:54:42.895419",
     "exception": false,
     "start_time": "2021-03-30T21:54:42.883930",
     "status": "completed"
    },
    "tags": []
   },
   "source": [
    "# Functional Approximation By NN and RF\n",
    "\n",
    "Here we show how the function\n",
    "\n",
    "$$\n",
    "x \\mapsto exp(4 x)\n",
    "$$\n",
    "\n",
    "can be easily approximated by a tree-based methods (Trees, Random Forest) and a neural network (2 Layered Neural Network)"
   ]
  },
  {
   "cell_type": "markdown",
   "id": "widespread-mention",
   "metadata": {
    "id": "widespread-mention",
    "papermill": {
     "duration": 0.009467,
     "end_time": "2021-03-30T21:54:42.915858",
     "exception": false,
     "start_time": "2021-03-30T21:54:42.906391",
     "status": "completed"
    },
    "tags": []
   },
   "source": [
    "## Functional Approximation by a Tree\n"
   ]
  },
  {
   "cell_type": "code",
   "execution_count": 1,
   "id": "registered-correction",
   "metadata": {
    "colab": {
     "base_uri": "https://localhost:8080/",
     "height": 576
    },
    "execution": {
     "iopub.execute_input": "2021-03-30T21:54:42.941913Z",
     "iopub.status.busy": "2021-03-30T21:54:42.939168Z",
     "iopub.status.idle": "2021-03-30T21:54:43.619921Z",
     "shell.execute_reply": "2021-03-30T21:54:43.618545Z"
    },
    "executionInfo": {
     "elapsed": 9763,
     "status": "ok",
     "timestamp": 1658251238754,
     "user": {
      "displayName": "Jhon Kevin Flores Rojas",
      "userId": "10267608749788811245"
     },
     "user_tz": 300
    },
    "id": "registered-correction",
    "outputId": "7274bb30-6855-42e1-e439-859310dac444",
    "papermill": {
     "duration": 0.694812,
     "end_time": "2021-03-30T21:54:43.620078",
     "exception": false,
     "start_time": "2021-03-30T21:54:42.925266",
     "status": "completed"
    },
    "tags": [],
    "vscode": {
     "languageId": "r"
    }
   },
   "outputs": [
    {
     "name": "stdout",
     "output_type": "stream",
     "text": [
      "package 'librarian' successfully unpacked and MD5 sums checked\n"
     ]
    },
    {
     "data": {
      "text/html": [
       "<style>\n",
       ".list-inline {list-style: none; margin:0; padding: 0}\n",
       ".list-inline>li {display: inline-block}\n",
       ".list-inline>li:not(:last-child)::after {content: \"\\00b7\"; padding: 0 .5ex}\n",
       "</style>\n",
       "<ol class=list-inline><li>1000</li><li>1</li></ol>\n"
      ],
      "text/latex": [
       "\\begin{enumerate*}\n",
       "\\item 1000\n",
       "\\item 1\n",
       "\\end{enumerate*}\n"
      ],
      "text/markdown": [
       "1. 1000\n",
       "2. 1\n",
       "\n",
       "\n"
      ],
      "text/plain": [
       "[1] 1000    1"
      ]
     },
     "metadata": {},
     "output_type": "display_data"
    },
    {
     "data": {
      "image/png": "[encoded data removed]",
      "text/plain": [
       "plot without title"
      ]
     },
     "metadata": {
      "filenames": {
       "image/png": "D:\\a\\r_actions\\r_actions\\_build\\jupyter_execute\\r_notebook\\15_functional_approximation_by_nn_and_rf_2_2.png"
      },
      "image/png": {
       "height": 420,
       "width": 420
      }
     },
     "output_type": "display_data"
    }
   ],
   "source": [
    "install.packages(\"librarian\", quiet = T)\n",
    "librarian::shelf(rpart, randomForest, keras, gbm, quiet = T)\n",
    "set.seed(1)\n",
    "X_train <- matrix(runif(1000),1000,1)\n",
    "Y_train <- exp(4*X_train)  #Noiseless case  Y=g(X)\n",
    "dim(X_train)\n",
    "\n",
    "# library(rpart)\n",
    "\n",
    "# shallow tree\n",
    "TreeModel<- rpart(Y_train~X_train, cp=.01)  #cp is penalty level\n",
    "pred.TM<- predict(TreeModel, newx=X_train)\n",
    "plot(X_train, Y_train, type=\"p\", pch=19, xlab=\"z\", ylab=\"g(z)\")\n",
    "points(X_train, pred.TM, col=3, pch=19)"
   ]
  },
  {
   "cell_type": "code",
   "execution_count": 2,
   "id": "banner-sleeve",
   "metadata": {
    "colab": {
     "base_uri": "https://localhost:8080/",
     "height": 454
    },
    "execution": {
     "iopub.execute_input": "2021-03-30T21:54:43.677485Z",
     "iopub.status.busy": "2021-03-30T21:54:43.647907Z",
     "iopub.status.idle": "2021-03-30T21:54:43.926010Z",
     "shell.execute_reply": "2021-03-30T21:54:43.924442Z"
    },
    "executionInfo": {
     "elapsed": 516,
     "status": "ok",
     "timestamp": 1658251239249,
     "user": {
      "displayName": "Jhon Kevin Flores Rojas",
      "userId": "10267608749788811245"
     },
     "user_tz": 300
    },
    "id": "banner-sleeve",
    "outputId": "eba07041-5ae1-4d5c-dec6-1a0acf8bed23",
    "papermill": {
     "duration": 0.294088,
     "end_time": "2021-03-30T21:54:43.926159",
     "exception": false,
     "start_time": "2021-03-30T21:54:43.632071",
     "status": "completed"
    },
    "tags": [],
    "vscode": {
     "languageId": "r"
    }
   },
   "outputs": [
    {
     "data": {
      "text/html": [
       "<style>\n",
       ".list-inline {list-style: none; margin:0; padding: 0}\n",
       ".list-inline>li {display: inline-block}\n",
       ".list-inline>li:not(:last-child)::after {content: \"\\00b7\"; padding: 0 .5ex}\n",
       "</style>\n",
       "<ol class=list-inline><li>1000</li><li>1</li></ol>\n"
      ],
      "text/latex": [
       "\\begin{enumerate*}\n",
       "\\item 1000\n",
       "\\item 1\n",
       "\\end{enumerate*}\n"
      ],
      "text/markdown": [
       "1. 1000\n",
       "2. 1\n",
       "\n",
       "\n"
      ],
      "text/plain": [
       "[1] 1000    1"
      ]
     },
     "metadata": {},
     "output_type": "display_data"
    },
    {
     "data": {
      "image/png": "[encoded data removed]",
      "text/plain": [
       "plot without title"
      ]
     },
     "metadata": {
      "filenames": {
       "image/png": "D:\\a\\r_actions\\r_actions\\_build\\jupyter_execute\\r_notebook\\15_functional_approximation_by_nn_and_rf_3_1.png"
      },
      "image/png": {
       "height": 420,
       "width": 420
      }
     },
     "output_type": "display_data"
    }
   ],
   "source": [
    "set.seed(1)\n",
    "X_train <- matrix(runif(1000),1000,1)\n",
    "Y_train <- exp(4*X_train)  #Noiseless case  Y=g(X)\n",
    "dim(X_train)\n",
    "\n",
    "# library(rpart)\n",
    "\n",
    "TreeModel<- rpart(Y_train~X_train, cp=.0005)  #cp is penalty level\n",
    "pred.TM<- predict(TreeModel, newx=X_train)\n",
    "plot(X_train, Y_train, type=\"p\", pch=19, xlab=\"z\", ylab=\"g(z)\")\n",
    "points(X_train, pred.TM, col=3, pch=19)"
   ]
  },
  {
   "cell_type": "markdown",
   "id": "local-saturn",
   "metadata": {
    "id": "local-saturn",
    "papermill": {
     "duration": 0.013444,
     "end_time": "2021-03-30T21:54:43.953303",
     "exception": false,
     "start_time": "2021-03-30T21:54:43.939859",
     "status": "completed"
    },
    "tags": []
   },
   "source": [
    "## Functional Approximation by RF"
   ]
  },
  {
   "cell_type": "markdown",
   "id": "international-serum",
   "metadata": {
    "id": "international-serum",
    "papermill": {
     "duration": 0.01351,
     "end_time": "2021-03-30T21:54:43.980273",
     "exception": false,
     "start_time": "2021-03-30T21:54:43.966763",
     "status": "completed"
    },
    "tags": []
   },
   "source": [
    "Here we show how the function\n",
    "\n",
    "$$\n",
    "x \\mapsto exp(4 x)\n",
    "$$\n",
    "\n",
    "can be easily approximated by a tree-based method (Random Forest) and a neural network (2 Layered Neural Network)"
   ]
  },
  {
   "cell_type": "code",
   "execution_count": 3,
   "id": "further-siemens",
   "metadata": {
    "colab": {
     "base_uri": "https://localhost:8080/",
     "height": 437
    },
    "execution": {
     "iopub.execute_input": "2021-03-30T21:54:44.013619Z",
     "iopub.status.busy": "2021-03-30T21:54:44.011718Z",
     "iopub.status.idle": "2021-03-30T21:54:45.163793Z",
     "shell.execute_reply": "2021-03-30T21:54:45.162552Z"
    },
    "executionInfo": {
     "elapsed": 1590,
     "status": "ok",
     "timestamp": 1658251240834,
     "user": {
      "displayName": "Jhon Kevin Flores Rojas",
      "userId": "10267608749788811245"
     },
     "user_tz": 300
    },
    "id": "further-siemens",
    "outputId": "2f9164d8-543e-4273-a167-6b809fd8d3cd",
    "papermill": {
     "duration": 1.170101,
     "end_time": "2021-03-30T21:54:45.163992",
     "exception": false,
     "start_time": "2021-03-30T21:54:43.993891",
     "status": "completed"
    },
    "tags": [],
    "vscode": {
     "languageId": "r"
    }
   },
   "outputs": [
    {
     "data": {
      "image/png": "[encoded data removed]",
      "text/plain": [
       "plot without title"
      ]
     },
     "metadata": {
      "filenames": {
       "image/png": "D:\\a\\r_actions\\r_actions\\_build\\jupyter_execute\\r_notebook\\15_functional_approximation_by_nn_and_rf_6_0.png"
      },
      "image/png": {
       "height": 420,
       "width": 420
      }
     },
     "output_type": "display_data"
    }
   ],
   "source": [
    "# library(randomForest)\n",
    "\n",
    "RFmodel<- randomForest(Y_train~X_train)\n",
    "pred.RF<- predict(RFmodel, newdata=X_train)\n",
    "plot(X_train, Y_train, type=\"p\", pch=19, xlab=\"z\", ylab=\"g(z)\")\n",
    "points(X_train, pred.RF, col=4,  pch=19,)\n"
   ]
  },
  {
   "cell_type": "markdown",
   "id": "infrared-belgium",
   "metadata": {
    "id": "infrared-belgium",
    "papermill": {
     "duration": 0.015474,
     "end_time": "2021-03-30T21:54:45.201078",
     "exception": false,
     "start_time": "2021-03-30T21:54:45.185604",
     "status": "completed"
    },
    "tags": []
   },
   "source": [
    "## Boosted Trees"
   ]
  },
  {
   "cell_type": "code",
   "execution_count": 4,
   "id": "naval-twenty",
   "metadata": {
    "colab": {
     "base_uri": "https://localhost:8080/",
     "height": 437
    },
    "execution": {
     "iopub.execute_input": "2021-03-30T21:54:45.239246Z",
     "iopub.status.busy": "2021-03-30T21:54:45.237197Z",
     "iopub.status.idle": "2021-03-30T21:54:46.619565Z",
     "shell.execute_reply": "2021-03-30T21:54:46.617646Z"
    },
    "executionInfo": {
     "elapsed": 32,
     "status": "ok",
     "timestamp": 1658251240836,
     "user": {
      "displayName": "Jhon Kevin Flores Rojas",
      "userId": "10267608749788811245"
     },
     "user_tz": 300
    },
    "id": "naval-twenty",
    "outputId": "546742ca-e217-4210-eb97-38ac02b13ea4",
    "papermill": {
     "duration": 1.40312,
     "end_time": "2021-03-30T21:54:46.619828",
     "exception": false,
     "start_time": "2021-03-30T21:54:45.216708",
     "status": "completed"
    },
    "tags": [],
    "vscode": {
     "languageId": "r"
    }
   },
   "outputs": [
    {
     "data": {
      "image/png": "[encoded data removed]",
      "text/plain": [
       "plot without title"
      ]
     },
     "metadata": {
      "filenames": {
       "image/png": "D:\\a\\r_actions\\r_actions\\_build\\jupyter_execute\\r_notebook\\15_functional_approximation_by_nn_and_rf_8_0.png"
      },
      "image/png": {
       "height": 420,
       "width": 420
      }
     },
     "output_type": "display_data"
    }
   ],
   "source": [
    "# library(gbm)\n",
    "\n",
    "data_train = as.data.frame(cbind(X_train, Y_train))\n",
    "BoostTreemodel<- gbm(Y_train~X_train, distribution= \"gaussian\",  n.trees=100, shrinkage=.01, interaction.depth\n",
    "=4) \n",
    " #shrinkage is \"learning rate\"\n",
    " # n.trees is the number of boosting steps \n",
    "pred.BT<- predict(BoostTreemodel, newdata=data_train, n.trees=100)\n",
    "plot(X_train, Y_train, type=\"p\", pch=19, xlab=\"z\", ylab=\"g(z)\")\n",
    "points(X_train, pred.BT, col=4,  pch=19,)"
   ]
  },
  {
   "cell_type": "code",
   "execution_count": 5,
   "id": "listed-michigan",
   "metadata": {
    "colab": {
     "base_uri": "https://localhost:8080/",
     "height": 437
    },
    "execution": {
     "iopub.execute_input": "2021-03-30T21:54:46.661994Z",
     "iopub.status.busy": "2021-03-30T21:54:46.660721Z",
     "iopub.status.idle": "2021-03-30T21:54:47.050301Z",
     "shell.execute_reply": "2021-03-30T21:54:47.048790Z"
    },
    "executionInfo": {
     "elapsed": 29,
     "status": "ok",
     "timestamp": 1658251240839,
     "user": {
      "displayName": "Jhon Kevin Flores Rojas",
      "userId": "10267608749788811245"
     },
     "user_tz": 300
    },
    "id": "listed-michigan",
    "outputId": "b923f511-083a-4000-91c6-5c5b9afa641d",
    "papermill": {
     "duration": 0.411341,
     "end_time": "2021-03-30T21:54:47.050501",
     "exception": false,
     "start_time": "2021-03-30T21:54:46.639160",
     "status": "completed"
    },
    "tags": [],
    "vscode": {
     "languageId": "r"
    }
   },
   "outputs": [
    {
     "data": {
      "image/png": "[encoded data removed]",
      "text/plain": [
       "plot without title"
      ]
     },
     "metadata": {
      "filenames": {
       "image/png": "D:\\a\\r_actions\\r_actions\\_build\\jupyter_execute\\r_notebook\\15_functional_approximation_by_nn_and_rf_9_0.png"
      },
      "image/png": {
       "height": 420,
       "width": 420
      }
     },
     "output_type": "display_data"
    }
   ],
   "source": [
    "# library(gbm)\n",
    "\n",
    "data_train = as.data.frame(cbind(X_train, Y_train))\n",
    "BoostTreemodel<- gbm(Y_train~X_train, distribution= \"gaussian\",  n.trees=1000, shrinkage=.01, interaction.depth\n",
    "=4) \n",
    " # shrinkage is \"learning rate\"\n",
    " # n.trees is the number of boosting steps \n",
    "pred.BT<- predict(BoostTreemodel, newdata=data_train, n.trees=1000)\n",
    "plot(X_train, Y_train, type=\"p\", pch=19, xlab=\"z\", ylab=\"g(z)\")\n",
    "points(X_train, pred.BT, col=4,  pch=19,)"
   ]
  },
  {
   "cell_type": "markdown",
   "id": "psychological-venice",
   "metadata": {
    "_cell_guid": "b1076dfc-b9ad-4769-8c92-a6c4dae69d19",
    "_uuid": "8f2839f25d086af736a60e9eeb907d3b93b6e0e5",
    "id": "psychological-venice",
    "papermill": {
     "duration": 0.018291,
     "end_time": "2021-03-30T21:54:47.087924",
     "exception": false,
     "start_time": "2021-03-30T21:54:47.069633",
     "status": "completed"
    },
    "tags": []
   },
   "source": [
    "## Same Example with a Neural Network"
   ]
  },
  {
   "cell_type": "code",
   "execution_count": 6,
   "id": "behind-redhead",
   "metadata": {
    "execution": {
     "iopub.execute_input": "2021-03-30T21:54:47.131670Z",
     "iopub.status.busy": "2021-03-30T21:54:47.129684Z",
     "iopub.status.idle": "2021-03-30T21:54:47.301209Z",
     "shell.execute_reply": "2021-03-30T21:54:47.299828Z"
    },
    "executionInfo": {
     "elapsed": 390,
     "status": "ok",
     "timestamp": 1658251241205,
     "user": {
      "displayName": "Jhon Kevin Flores Rojas",
      "userId": "10267608749788811245"
     },
     "user_tz": 300
    },
    "id": "behind-redhead",
    "papermill": {
     "duration": 0.195046,
     "end_time": "2021-03-30T21:54:47.301402",
     "exception": false,
     "start_time": "2021-03-30T21:54:47.106356",
     "status": "completed"
    },
    "tags": [],
    "vscode": {
     "languageId": "r"
    }
   },
   "outputs": [],
   "source": [
    "# library(keras)\n",
    "\n",
    "build_model <- function() {\n",
    "  model <- keras_model_sequential() %>% \n",
    "    layer_dense(units = 200, activation = \"relu\", \n",
    "                input_shape = 1)%>% \n",
    "   layer_dense(units = 20, activation = \"relu\") %>% \n",
    "    layer_dense(units = 1) \n",
    "  \n",
    "  model %>% compile(\n",
    "    optimizer = optimizer_adam(lr = 0.01), \n",
    "    loss = \"mse\", \n",
    "    metrics = c(\"mae\"),\n",
    "  )\n",
    "}\n",
    "\n"
   ]
  },
  {
   "cell_type": "code",
   "execution_count": 7,
   "id": "modified-monitor",
   "metadata": {
    "colab": {
     "base_uri": "https://localhost:8080/"
    },
    "execution": {
     "iopub.execute_input": "2021-03-30T21:54:47.345231Z",
     "iopub.status.busy": "2021-03-30T21:54:47.343797Z",
     "iopub.status.idle": "2021-03-30T21:54:54.919444Z",
     "shell.execute_reply": "2021-03-30T21:54:54.917621Z"
    },
    "executionInfo": {
     "elapsed": 3756,
     "status": "ok",
     "timestamp": 1658251244945,
     "user": {
      "displayName": "Jhon Kevin Flores Rojas",
      "userId": "10267608749788811245"
     },
     "user_tz": 300
    },
    "id": "modified-monitor",
    "outputId": "3a131d22-9b0b-408e-d5ec-9a4482773158",
    "papermill": {
     "duration": 7.599438,
     "end_time": "2021-03-30T21:54:54.919929",
     "exception": false,
     "start_time": "2021-03-30T21:54:47.320491",
     "status": "completed"
    },
    "tags": [],
    "vscode": {
     "languageId": "r"
    }
   },
   "outputs": [
    {
     "name": "stderr",
     "output_type": "stream",
     "text": [
      "Loaded Tensorflow version 2.9.1\n",
      "\n"
     ]
    },
    {
     "name": "stderr",
     "output_type": "stream",
     "text": [
      "Warning message in backcompat_fix_rename_lr_to_learning_rate(...):\n",
      "\"the `lr` argument has been renamed to `learning_rate`.\"\n"
     ]
    },
    {
     "name": "stdout",
     "output_type": "stream",
     "text": [
      "Model: \"sequential\"\n",
      "________________________________________________________________________________\n",
      " Layer (type)                       Output Shape                    Param #     \n",
      "================================================================================\n",
      " dense_2 (Dense)                    (None, 200)                     400         \n",
      " dense_1 (Dense)                    (None, 20)                      4020        \n",
      " dense (Dense)                      (None, 1)                       21          \n",
      "================================================================================\n",
      "Total params: 4,441\n",
      "Trainable params: 4,441\n",
      "Non-trainable params: 0\n",
      "________________________________________________________________________________\n"
     ]
    }
   ],
   "source": [
    "model <- build_model()\n",
    "summary(model)"
   ]
  },
  {
   "cell_type": "code",
   "execution_count": 8,
   "id": "early-savannah",
   "metadata": {
    "colab": {
     "base_uri": "https://localhost:8080/",
     "height": 437
    },
    "execution": {
     "iopub.execute_input": "2021-03-30T21:54:54.965012Z",
     "iopub.status.busy": "2021-03-30T21:54:54.962962Z",
     "iopub.status.idle": "2021-03-30T21:54:56.310629Z",
     "shell.execute_reply": "2021-03-30T21:54:56.309191Z"
    },
    "executionInfo": {
     "elapsed": 1808,
     "status": "ok",
     "timestamp": 1658251246747,
     "user": {
      "displayName": "Jhon Kevin Flores Rojas",
      "userId": "10267608749788811245"
     },
     "user_tz": 300
    },
    "id": "early-savannah",
    "outputId": "87ae2897-e1c1-45ee-9530-036e02fd259a",
    "papermill": {
     "duration": 1.37161,
     "end_time": "2021-03-30T21:54:56.310872",
     "exception": false,
     "start_time": "2021-03-30T21:54:54.939262",
     "status": "completed"
    },
    "tags": [],
    "vscode": {
     "languageId": "r"
    }
   },
   "outputs": [
    {
     "data": {
      "image/png": "[encoded data removed]",
      "text/plain": [
       "plot without title"
      ]
     },
     "metadata": {
      "filenames": {
       "image/png": "D:\\a\\r_actions\\r_actions\\_build\\jupyter_execute\\r_notebook\\15_functional_approximation_by_nn_and_rf_13_0.png"
      },
      "image/png": {
       "height": 420,
       "width": 420
      }
     },
     "output_type": "display_data"
    }
   ],
   "source": [
    "num_epochs <- 1\n",
    "model %>% fit(X_train, Y_train,\n",
    "                    epochs = num_epochs, batch_size = 10, verbose = 0)\n",
    "pred.NN <- model %>% predict(X_train)\n",
    "plot(X_train, Y_train, type=\"p\", pch=19, xlab=\"z\", ylab=\"g(z)\")\n",
    "points(X_train, pred.NN, col=4,  pch=19,)\n",
    "\n"
   ]
  },
  {
   "cell_type": "code",
   "execution_count": 9,
   "id": "answering-ready",
   "metadata": {
    "colab": {
     "base_uri": "https://localhost:8080/",
     "height": 437
    },
    "execution": {
     "iopub.execute_input": "2021-03-30T21:54:56.357681Z",
     "iopub.status.busy": "2021-03-30T21:54:56.356263Z",
     "iopub.status.idle": "2021-03-30T21:55:10.197483Z",
     "shell.execute_reply": "2021-03-30T21:55:10.196420Z"
    },
    "executionInfo": {
     "elapsed": 15002,
     "status": "ok",
     "timestamp": 1658251261746,
     "user": {
      "displayName": "Jhon Kevin Flores Rojas",
      "userId": "10267608749788811245"
     },
     "user_tz": 300
    },
    "id": "answering-ready",
    "outputId": "058b7aff-7c54-4813-a930-9e8ce798e8a0",
    "papermill": {
     "duration": 13.865941,
     "end_time": "2021-03-30T21:55:10.197721",
     "exception": false,
     "start_time": "2021-03-30T21:54:56.331780",
     "status": "completed"
    },
    "tags": [],
    "vscode": {
     "languageId": "r"
    }
   },
   "outputs": [
    {
     "data": {
      "image/png": "[encoded data removed]",
      "text/plain": [
       "plot without title"
      ]
     },
     "metadata": {
      "filenames": {
       "image/png": "D:\\a\\r_actions\\r_actions\\_build\\jupyter_execute\\r_notebook\\15_functional_approximation_by_nn_and_rf_14_0.png"
      },
      "image/png": {
       "height": 420,
       "width": 420
      }
     },
     "output_type": "display_data"
    }
   ],
   "source": [
    "num_epochs <- 100\n",
    "model %>% fit(X_train, Y_train,\n",
    "                    epochs = num_epochs, batch_size = 10, verbose = 0)\n",
    "pred.NN <- model %>% predict(X_train)\n",
    "plot(X_train, Y_train, type=\"p\", pch=19, xlab=\"z\", ylab=\"g(z)\")\n",
    "points(X_train, pred.NN, col=4,  pch=19,)\n",
    "\n",
    "\n"
   ]
  }
 ],
 "metadata": {
  "colab": {
   "collapsed_sections": [],
   "name": "16_functional-approximation-by-nn-and-rf.ipynb",
   "provenance": []
  },
  "kernelspec": {
   "display_name": "R",
   "language": "R",
   "name": "ir"
  },
  "language_info": {
   "codemirror_mode": "r",
   "file_extension": ".r",
   "mimetype": "text/x-r-source",
   "name": "R",
   "pygments_lexer": "r",
   "version": "4.2.1"
  },
  "papermill": {
   "default_parameters": {},
   "duration": 30.682213,
   "end_time": "2021-03-30T21:55:10.531019",
   "environment_variables": {},
   "exception": null,
   "input_path": "__notebook__.ipynb",
   "output_path": "__notebook__.ipynb",
   "parameters": {},
   "start_time": "2021-03-30T21:54:39.848806",
   "version": "2.3.2"
  }
 },
 "nbformat": 4,
 "nbformat_minor": 5
}