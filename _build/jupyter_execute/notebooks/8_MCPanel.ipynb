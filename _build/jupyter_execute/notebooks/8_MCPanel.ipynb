{
 "cells": [
  {
   "cell_type": "markdown",
   "metadata": {
    "cell_id": "9dd50ba6a09449b6b9007df9ee1da081",
    "deepnote_app_coordinates": {
     "h": 5,
     "w": 12,
     "x": 0,
     "y": 1
    },
    "deepnote_cell_height": 1040.86669921875,
    "deepnote_cell_type": "markdown",
    "tags": []
   },
   "source": [
    "# Matrix completion Methods for Causal Panel Data Models\n",
    "\n",
    "If you want to measure the causal effect of a treatment, a counterfactual (untreated), you must **reconstruct** the untreated state of the world. Where $Y_{NT}$ is the matrix of potential results, and $W_{NT}$ where the index $W_{it} = 1$ indicates that the observation was exposed to treatment and $W_{it} = 0$ in other cases. If we separate the potential outcomes into 2 matrices, one receiving treatment $Y(1)$ and the other receiving no treatment $Y(0)$, then the treatment effect represented by $\\tau$ can be measured.\n",
    "\n",
    "$$\n",
    "\\tau =\n",
    "\\frac{\n",
    "    \\sum_{i, t} W_{it} \\left(Y_{it} (1) - Y_{it} (0)\\right)\n",
    "}{\n",
    "    \\sum_{it} W_{it}\n",
    "}\n",
    "$$\n",
    "\n",
    "Given that we already have the observations of the results with treatment $Y(1)$, the indices that represent the observations will be in the set $\\mathscr O$, then it would be necessary to **reconstruct** the observations of the results without treatment $Y( 0)$ and the indices that will represent the missing values ​​will be in the set $\\mathscr M$, so the problem is now a [Matrix Completion Problem](https://en.wikipedia.org/wiki/Matrix_completion).\n",
    "\n",
    "To address this problem, Professor Athey proposes a list of data imputation methods.\n",
    "\n",
    "- Horizontal regression\n",
    "- Vertical Regression\n",
    "- Fixed Effects and Factor Models\n",
    "- Matrix completing nuclear norm\n"
   ]
  },
  {
   "cell_type": "markdown",
   "metadata": {
    "cell_id": "50980a448d5a4804b9c17145d5ffebb3",
    "deepnote_app_coordinates": {
     "h": 5,
     "w": 12,
     "x": 0,
     "y": 7
    },
    "deepnote_cell_height": 46,
    "deepnote_cell_type": "markdown",
    "tags": []
   },
   "source": []
  },
  {
   "cell_type": "markdown",
   "metadata": {
    "cell_id": "983fe31bc4ef4a1390e52b1410445e38",
    "deepnote_app_coordinates": {
     "h": 5,
     "w": 12,
     "x": 0,
     "y": 13
    },
    "deepnote_cell_height": 922.38330078125,
    "deepnote_cell_type": "markdown",
    "tags": []
   },
   "source": [
    "## Methods of imputation\n",
    "\n",
    "### Horizontal regression (Conditional independence)\n",
    "\n",
    "It focuses mainly on the **Thin** data structure, that is, the number of rows is greater than the number of columns ($N\\gg T$), in this case, the observations are always observed for $t< T$.\n",
    "\n",
    "The data imputation method is based on having a regression model for $T - 1$ moments and using the regression to predict the missing result for $T$.\n",
    "\n",
    "$$\n",
    "Y_{iT} = \\beta_0 + \\sum_{t=1}^{T-1} \\beta_t Y_{it} + \\varepsilon_i\n",
    "$$\n",
    "\n",
    "Prediction for $N_t$ treated units:\n",
    "\n",
    "$$\n",
    "\\hat Y_{iT} = \\hat \\beta_0 \\sum_{s = 1}^{T-1} \\hat \\beta_s Y_{is}\n",
    "$$\n",
    "\n",
    "where:\n",
    "\n",
    "$$\n",
    "\\hat \\beta = \\arg\\underset{\\beta}\\min \\sum _{i:(i, T) \\in \\mathscr O} \n",
    "\\left(\n",
    "Y_{it} - \\beta_0 - \\sum_{s = 1} ^{T-1} \\beta_s Y_{is}\n",
    "\\right)^2\n",
    "$$\n",
    "\n",
    "If $N$ large relative to $T_0$ use regularized regression (lasso, ridge, elastic net).\n",
    "\n",
    "This method focuses on a pattern in the time path of the result of $Y_{it}$, specifically between the relationship between $Y_{iT}$ and the lagged $Y_{it}$ for $t = 1, \\dots, T-1$, and the pattern is assumed to repeat for the missing observations.\n",
    "\n"
   ]
  },
  {
   "cell_type": "markdown",
   "metadata": {
    "cell_id": "e91f7de8e0a04600b818231d181b6d7d",
    "deepnote_app_coordinates": {
     "h": 5,
     "w": 12,
     "x": 0,
     "y": 19
    },
    "deepnote_cell_height": 667.4666748046875,
    "deepnote_cell_type": "markdown",
    "tags": []
   },
   "source": [
    "### Vertical Regression (Synthetic Control)\n",
    "\n",
    "Se centra en una estructura de datos **Fat**, es decir que el numero de columnas son mayores que el numero de filas ($N\\ll T$). El metodo de control sintetico de Abadie-Diamond-Hainmueller puede interpretarse como una regression de los resultados de las unidades tratadas antes de tratamiento de las unidades de control en los mismos periodos. \n",
    "\n",
    "Prediction for $T - T_0$ treated periods:\n",
    "\n",
    "$$\n",
    "\\hat Y_{NT} = \\hat \\gamma_0 + \\sum_{i = 1} ^{N-1} \\hat \\gamma_i Y_{it} \n",
    "$$\n",
    "\n",
    "where:\n",
    "\n",
    "$$\n",
    "\\hat \\gamma = \\arg\\underset{\\gamma}\\min \\sum _{t:(N, t) \\in \\mathscr O} \n",
    "\\left(\n",
    "Y_{Nt} - \\gamma_0 - \\sum_{i = 1} ^{N-1} \\gamma_s Y_{is}\n",
    "\\right)^2\n",
    "$$\n",
    "\n",
    "If $T$ large relative to $N_c$ use regularized regression (lasso, ridge, elastic net).\n",
    "\n",
    "Este metodo se enfoca en un patron entre las unidades en el momento $t$ en que se observan todos los resultados, y supone que este patron continua hasta $T$"
   ]
  },
  {
   "cell_type": "markdown",
   "metadata": {
    "cell_id": "8bc8677dd42b4851b32ee3a1ab1a8d80",
    "deepnote_app_coordinates": {
     "h": 5,
     "w": 12,
     "x": 0,
     "y": 25
    },
    "deepnote_cell_height": 722.5999755859375,
    "deepnote_cell_type": "markdown",
    "tags": []
   },
   "source": [
    "### Fixed Effects and Factor Models\n",
    "\n",
    "Como se vio las regresiones horizontales y verticales se centran en un solo pator,  la seccion transversal o series de tiempo, estos enfoques ignoran patrones alternativos que pueden ayudar a imputar valores faltantes. Una alternativa es un modelo que permita la explotacion de patrones estables a lo largo de tiempo como patrones estables entre unidades.\n",
    "\n",
    "Esos metodos tienen una larga historia en la literatura de datos de panel.\n",
    "\n",
    "Differences-in-Differences\n",
    "\n",
    "$$\n",
    "Y_{it} = \\gamma_i + \\delta_t + \\epsilon _{it}\n",
    "$$\n",
    "\n",
    "$$\n",
    "\\hat Y_{NT} = \\hat \\delta _N + \\hat \\gamma _t\n",
    "$$\n",
    "\n",
    "Generalized Fixed Effects (Interactive Fixed Effects, Factor Models):\n",
    "\n",
    "$$\n",
    "Y_{it} = \\sum_{r=1}^R \\gamma_{ir} \\delta_{tr} + \\epsilon_{it} \\quad \\text{or} \\quad \n",
    "\\mathbf{Y} = \\mathbf U \\mathbf V^\\mathrm T + \\mathbf{\\varepsilon}\n",
    "$$\n",
    "\n",
    "\n",
    "\n",
    "Estimate $\\delta$ and $\\gamma$ by least squares and use to impute missing values.\n",
    "\n",
    "$$\n",
    "\\hat Y _{NT} = \\sum_{r=1}^R \\hat \\delta_{Nr} \\hat \\gamma_{rT}\n",
    "$$"
   ]
  },
  {
   "cell_type": "markdown",
   "metadata": {
    "cell_id": "c7c81634ae2d46d68abc6ee2c6e96d2d",
    "deepnote_app_coordinates": {
     "h": 5,
     "w": 12,
     "x": 0,
     "y": 31
    },
    "deepnote_cell_height": 1330.683349609375,
    "deepnote_cell_type": "markdown",
    "tags": []
   },
   "source": [
    "### Nuclear Norm Minimization Estimator\n",
    "\n",
    "This regularization-based method has good imputation properties for prediction error; it also \"nests\" the 2 works of literature of \"Conditional Independence\" and \"synthetic control\".\n",
    " \n",
    "In the absence of covariates, the NxT matrix of the full results matrix is modeled as\n",
    " \n",
    "$$\n",
    "Y = L^* + \\epsilon\n",
    "\\quad \\text where \\quad\n",
    "E[\\epsilon|L^*] = 0\n",
    "$$\n",
    " \n",
    "the $\\epsilon_{it}$ can be considered as a measurement error.\n",
    " \n",
    "More general case, with unit-specific P-component covariate $X_i$, time-specific Q-component covariate $Z_t$, and unit-item-specific covariate $V_{it}$.\n",
    " \n",
    "$$\n",
    "Y_{it} = L_{it} + \\sum_{p=1}^P\\sum_{q=1}^Q X_{ip} H_{pq}Z_{qt} + \\gamma_i + \\delta_i + V_{it}\\beta + \\varepsilon_{it}\n",
    "$$\n",
    " \n",
    "Do not necessarily need the fixed effects $\\gamma_i$ and $\\delta_t$,these can be subsumed into $\\mathbf{L}$\n",
    "\n",
    "\n",
    "#### Algorithm \n",
    "\n",
    "Given any $N\\text x T$ matriz A, define the two $Nx T$ matrices $\\mathbf P_ {\\mathscr O} (\\mathbf A)$ and $\\mathbf{P^{\\perp}_{\\mathscr{O}}(A)}$ with typical elements:\n",
    "\n",
    "$$\n",
    "\\begin{aligned}\n",
    "\\mathbf{P_{\\mathscr{O}}(A)} =\n",
    "\\begin{cases}\n",
    "A_{it}& \\text{if } (i,t) \\in \\mathscr{O}\\\\  \n",
    "0 & \\text{if } (i,t) \\notin \\mathscr{O}   \n",
    "\\end{cases}, &&\n",
    "\\mathbf{P^{\\perp}_{\\mathscr{O}}(A)} =\n",
    "\\begin{cases}\n",
    "0 & \\text{if } (i,t) \\in \\mathscr{O}\\\\    \n",
    "A_{it}& \\text{if } (i,t) \\notin \\mathscr{O}\n",
    "\\end{cases}\n",
    "\\end{aligned}\n",
    "$$\n",
    "\n",
    "Let $\\mathbf A = \\mathbf S \\Sigma \\mathbf R^T$ be the Singular Value Decomposition for $\\mathbf A$ with $\\sigma_1(\\mathbf A), \\dots, \\sigma_{min(N, T)}(\\mathbf A)$, denoting the singular values.\n",
    "\n",
    "Then define the matrix shrinkage operator \n",
    "\n",
    "$$\n",
    "\\text{shrink}_{\\lambda}(\\mathbf{A}) = \\mathbf{S \\tilde{\\Sigma} R}^{\\text{T}}\n",
    "$$\n",
    "\n",
    "where $\\tilde{\\Sigma}$ is equal to $\\Sigma$ with the $i$-th singular value $\\sigma_i(\\mathbf A)$ replaced by $max(\\sigma(\\mathbf A) - \\lambda, 0)$ \n",
    "\n",
    "The algorithm proceeds as follows\n",
    "\n",
    "- Start with the initial choice $\\mathbf L_1(\\lambda) = \\mathbf P _{\\mathscr O} (\\mathbf Y)$, with zeros for the missing values\n",
    "- Then for $k = 1, 2, \\dots$, define,\n",
    "\n",
    "$$\n",
    "\\mathbf L _{k+1} (\\lambda) = \\text {shink}_\\lambda\\{\n",
    "    \\mathbf P _\\mathscr O (\\mathbf Y) + \\mathbf{P^{\\perp}_{\\mathscr{O}}(L_k(\\lambda))}\n",
    "    \\}\n",
    "$$\n",
    "\n",
    "until the sequence $\\{\\mathbf L _k (\\lambda)\\}_{k\\geq 1}$ converges.\n",
    "\n",
    "- The limiting matrix $\\mathbf L^*$ is our estimator for the regularization parameter $\\lambda$, denoted by $\\hat  L (\\lambda, \\mathscr O)$.\n",
    "\n",
    "\n"
   ]
  },
  {
   "cell_type": "markdown",
   "metadata": {
    "cell_id": "ae4ba1bb94424ba98547f9531d74e5a8",
    "deepnote_app_coordinates": {
     "h": 5,
     "w": 12,
     "x": 0,
     "y": 37
    },
    "deepnote_cell_height": 396.6000061035156,
    "deepnote_cell_type": "markdown",
    "tags": []
   },
   "source": [
    "\n",
    "## Using R\n",
    "\n",
    "### Prerequisites\n",
    "\n",
    "- Install [Rtoools](https://cran.r-project.org/bin/windows/Rtools/)\n",
    "    - `R version >= 4.2` : `Rtoools 4.2`\n",
    "    - `R version < 4.2` : `Rtools 4.0`\n",
    "- Add Rtools to Path\n",
    "    - Default: `C:\\rtools42`\n",
    "- Install `MCPanel`\n",
    "    - `install.packages(\"remotes\")`\n",
    "    - `remotes::install_github(\"susanathey/mcpanel\", dependencies = T)`"
   ]
  },
  {
   "cell_type": "markdown",
   "metadata": {
    "cell_id": "30a984ecd9f74543a56870ed00cbfeb0",
    "deepnote_app_coordinates": {
     "h": 5,
     "w": 12,
     "x": 0,
     "y": 43
    },
    "deepnote_cell_height": 62,
    "deepnote_cell_type": "markdown",
    "tags": []
   },
   "source": [
    "### Libraries R"
   ]
  },
  {
   "cell_type": "code",
   "execution_count": 1,
   "metadata": {
    "cell_id": "5b444a905c47442690ed9402bcd33e36",
    "deepnote_app_coordinates": {
     "h": 5,
     "w": 12,
     "x": 0,
     "y": 49
    },
    "deepnote_cell_height": 261,
    "deepnote_cell_type": "code",
    "deepnote_to_be_reexecuted": false,
    "execution_millis": 1934,
    "execution_start": 1658953610367,
    "source_hash": "7128b5a6",
    "tags": [],
    "vscode": {
     "languageId": "r"
    }
   },
   "outputs": [
    {
     "name": "stderr",
     "output_type": "stream",
     "text": [
      "\n",
      "  These packages will be installed:\n",
      "\n",
      "  'pracma'\n",
      "\n",
      "  It may take some time.\n",
      "\n"
     ]
    }
   ],
   "source": [
    "# install.packages(\"librarian\")\n",
    "# remotes::install_github(\"susanathey/mcpanel\", dependencies = T)\n",
    "librarian::shelf(\n",
    "    MCPanel\n",
    "    , dplyr\n",
    "    , purrr\n",
    "    , latex2exp\n",
    "    , glmnet\n",
    "    , ggplot2\n",
    "    , pracma\n",
    ")"
   ]
  },
  {
   "cell_type": "markdown",
   "metadata": {
    "cell_id": "755f009637ce415e9a84b4de3213ad46",
    "deepnote_app_coordinates": {
     "h": 5,
     "w": 12,
     "x": 0,
     "y": 55
    },
    "deepnote_cell_height": 380.8666687011719,
    "deepnote_cell_type": "markdown",
    "tags": []
   },
   "source": [
    "## Example: California\n",
    "\n",
    "### Data\n",
    "\n",
    "We use the control units from the California smoking data studied in Abadie et al. (2010) with $N = 38$, $T= 31$. Note that in the original data set there are 39 units but one of them (state of California) is treated which will be removed in this section since the untreated values for that unit are not available. We then artificially designate some units and time periods to be treated, and compare predicted values for those unit/time-periods to the actual values.\n",
    "\n"
   ]
  },
  {
   "cell_type": "code",
   "execution_count": 2,
   "metadata": {
    "cell_id": "fb32d79fbb97437194cb1eb03de2f688",
    "deepnote_app_coordinates": {
     "h": 5,
     "w": 12,
     "x": 0,
     "y": 61
    },
    "deepnote_cell_height": 153,
    "deepnote_cell_type": "code",
    "deepnote_to_be_reexecuted": false,
    "execution_millis": 681,
    "execution_start": 1658953612344,
    "source_hash": "bde4a007",
    "tags": [],
    "vscode": {
     "languageId": "r"
    }
   },
   "outputs": [],
   "source": [
    "rm(list = ls())\n",
    "\n",
    "treat <- t(read.csv(\"https://raw.githubusercontent.com/susanathey/MCPanel/master/tests/examples_from_paper/california/smok_treatment.csv\", header = F))\n",
    "Y <- t(read.csv(\"https://github.com/susanathey/MCPanel/raw/master/tests/examples_from_paper/california/smok_outcome.csv\", header = F))\n"
   ]
  },
  {
   "cell_type": "code",
   "execution_count": 3,
   "metadata": {
    "cell_id": "031ee732218a42e69d97a45e8da88f94",
    "deepnote_app_coordinates": {
     "h": 5,
     "w": 12,
     "x": 0,
     "y": 67
    },
    "deepnote_cell_height": 351,
    "deepnote_cell_type": "code",
    "deepnote_to_be_reexecuted": false,
    "execution_millis": 22,
    "execution_start": 1658953613035,
    "source_hash": "6711c638",
    "tags": [],
    "vscode": {
     "languageId": "r"
    }
   },
   "outputs": [],
   "source": [
    "## First row (treated unit)\n",
    "CA_y <- Y[1,]\n",
    "\n",
    "## Working with the rest of matrix\n",
    "treat <- treat[-1,]\n",
    "Y <- Y[-1,]\n",
    "\n",
    "\n",
    "## Setting up the configuration\n",
    "N <- nrow(treat)\n",
    "Tr <- ncol(treat)\n",
    "number_T0 = 5\n",
    "T0 <- ceiling(Tr*((1:number_T0)*2-1)/(2*number_T0))\n",
    "N_t <- 35\n",
    "num_runs <- 10\n",
    "is_simul <- 0 ## Whether to simulate Simultaneus Adoption or Staggered Adoption"
   ]
  },
  {
   "cell_type": "code",
   "execution_count": 4,
   "metadata": {
    "cell_id": "b2088bc942a841a190c7bf25a3df5aa9",
    "deepnote_app_coordinates": {
     "h": 5,
     "w": 12,
     "x": 0,
     "y": 73
    },
    "deepnote_cell_height": 189,
    "deepnote_cell_type": "code",
    "deepnote_to_be_reexecuted": false,
    "execution_millis": 16,
    "execution_start": 1658953613064,
    "source_hash": "f24ec9bd",
    "tags": [],
    "vscode": {
     "languageId": "r"
    }
   },
   "outputs": [],
   "source": [
    "## Matrices for saving RMSE values\n",
    "\n",
    "MCPanel_RMSE_test <- matrix(0L,num_runs,length(T0))\n",
    "EN_RMSE_test <- matrix(0L,num_runs,length(T0))\n",
    "ENT_RMSE_test <- matrix(0L,num_runs,length(T0))\n",
    "DID_RMSE_test <- matrix(0L,num_runs,length(T0))\n",
    "ADH_RMSE_test <- matrix(0L,num_runs,length(T0))"
   ]
  },
  {
   "cell_type": "markdown",
   "metadata": {
    "cell_id": "0d68d62a727241e7910bd7f584dd88d3",
    "deepnote_app_coordinates": {
     "h": 5,
     "w": 12,
     "x": 0,
     "y": 79
    },
    "deepnote_cell_type": "text-cell-h3",
    "formattedRanges": [],
    "is_collapsed": false,
    "tags": []
   },
   "source": [
    "### Methods"
   ]
  },
  {
   "cell_type": "markdown",
   "metadata": {
    "cell_id": "46c1428da9404e64a6a1340a54aba800",
    "deepnote_app_coordinates": {
     "h": 7,
     "w": 12,
     "x": 0,
     "y": 187
    },
    "deepnote_cell_height": 286.933349609375,
    "deepnote_cell_type": "markdown",
    "tags": []
   },
   "source": [
    "We consider two settings for the treatment adoption:\n",
    "\n",
    "- Case 1: Simultaneous adoption where randomly selected Nt units adopt the treatment in period $T0 + 1$, and the remaining units never adopt the treatment.\n",
    "- Case 2: Staggered adoption where randomly Nt units adopt the treatment in some period after period $T$, with the actual adoption date varying randomly among these units."
   ]
  },
  {
   "cell_type": "code",
   "execution_count": 5,
   "metadata": {
    "cell_id": "039beb01ffd943cfb32251af5e473fb9",
    "deepnote_app_coordinates": {
     "h": 5,
     "w": 12,
     "x": 0,
     "y": 85
    },
    "deepnote_app_is_output_hidden": false,
    "deepnote_cell_height": 1871,
    "deepnote_cell_type": "code",
    "deepnote_to_be_reexecuted": false,
    "execution_millis": 234428,
    "execution_start": 1658953613085,
    "is_output_hidden": false,
    "source_hash": "74dcdc29",
    "tags": [],
    "vscode": {
     "languageId": "r"
    }
   },
   "outputs": [
    {
     "name": "stdout",
     "output_type": "stream",
     "text": [
      "[1] \"Run number 1 started\"\n",
      "[1] \"Running MC-NMN\"\n"
     ]
    },
    {
     "name": "stderr",
     "output_type": "stream",
     "text": [
      "Warning message:\n",
      "“Option grouped=FALSE enforced in cv.glmnet, since < 3 observations per fold”\n"
     ]
    },
    {
     "name": "stderr",
     "output_type": "stream",
     "text": [
      "Warning message:\n",
      "“Option grouped=FALSE enforced in cv.glmnet, since < 3 observations per fold”\n"
     ]
    },
    {
     "name": "stderr",
     "output_type": "stream",
     "text": [
      "Warning message:\n",
      "“Option grouped=FALSE enforced in cv.glmnet, since < 3 observations per fold”\n"
     ]
    },
    {
     "name": "stderr",
     "output_type": "stream",
     "text": [
      "Warning message:\n",
      "“Option grouped=FALSE enforced in cv.glmnet, since < 3 observations per fold”\n"
     ]
    },
    {
     "name": "stderr",
     "output_type": "stream",
     "text": [
      "Warning message:\n",
      "“Option grouped=FALSE enforced in cv.glmnet, since < 3 observations per fold”\n"
     ]
    },
    {
     "name": "stderr",
     "output_type": "stream",
     "text": [
      "Warning message:\n",
      "“Option grouped=FALSE enforced in cv.glmnet, since < 3 observations per fold”\n"
     ]
    },
    {
     "name": "stderr",
     "output_type": "stream",
     "text": [
      "Warning message:\n",
      "“Option grouped=FALSE enforced in cv.glmnet, since < 3 observations per fold”\n"
     ]
    },
    {
     "name": "stderr",
     "output_type": "stream",
     "text": [
      "Warning message:\n",
      "“Option grouped=FALSE enforced in cv.glmnet, since < 3 observations per fold”\n"
     ]
    },
    {
     "name": "stderr",
     "output_type": "stream",
     "text": [
      "Warning message:\n",
      "“Option grouped=FALSE enforced in cv.glmnet, since < 3 observations per fold”\n"
     ]
    },
    {
     "name": "stderr",
     "output_type": "stream",
     "text": [
      "Warning message:\n",
      "“Option grouped=FALSE enforced in cv.glmnet, since < 3 observations per fold”\n"
     ]
    },
    {
     "name": "stderr",
     "output_type": "stream",
     "text": [
      "Warning message:\n",
      "“Option grouped=FALSE enforced in cv.glmnet, since < 3 observations per fold”\n"
     ]
    },
    {
     "name": "stderr",
     "output_type": "stream",
     "text": [
      "Warning message:\n",
      "“Option grouped=FALSE enforced in cv.glmnet, since < 3 observations per fold”\n"
     ]
    },
    {
     "name": "stderr",
     "output_type": "stream",
     "text": [
      "Warning message:\n",
      "“Option grouped=FALSE enforced in cv.glmnet, since < 3 observations per fold”\n"
     ]
    },
    {
     "name": "stderr",
     "output_type": "stream",
     "text": [
      "Warning message:\n",
      "“Option grouped=FALSE enforced in cv.glmnet, since < 3 observations per fold”\n"
     ]
    },
    {
     "name": "stderr",
     "output_type": "stream",
     "text": [
      "Warning message:\n",
      "“Option grouped=FALSE enforced in cv.glmnet, since < 3 observations per fold”\n"
     ]
    },
    {
     "name": "stderr",
     "output_type": "stream",
     "text": [
      "Warning message:\n",
      "“Option grouped=FALSE enforced in cv.glmnet, since < 3 observations per fold”\n"
     ]
    },
    {
     "name": "stderr",
     "output_type": "stream",
     "text": [
      "Warning message:\n",
      "“Option grouped=FALSE enforced in cv.glmnet, since < 3 observations per fold”\n"
     ]
    },
    {
     "name": "stderr",
     "output_type": "stream",
     "text": [
      "Warning message:\n",
      "“Option grouped=FALSE enforced in cv.glmnet, since < 3 observations per fold”\n"
     ]
    },
    {
     "name": "stderr",
     "output_type": "stream",
     "text": [
      "Warning message:\n",
      "“Option grouped=FALSE enforced in cv.glmnet, since < 3 observations per fold”\n"
     ]
    },
    {
     "name": "stderr",
     "output_type": "stream",
     "text": [
      "Warning message:\n",
      "“Option grouped=FALSE enforced in cv.glmnet, since < 3 observations per fold”\n"
     ]
    },
    {
     "name": "stderr",
     "output_type": "stream",
     "text": [
      "Warning message:\n",
      "“Option grouped=FALSE enforced in cv.glmnet, since < 3 observations per fold”\n"
     ]
    },
    {
     "name": "stdout",
     "output_type": "stream",
     "text": [
      "[1] \"Running MC-NMN\"\n"
     ]
    },
    {
     "name": "stderr",
     "output_type": "stream",
     "text": [
      "Warning message:\n",
      "“Option grouped=FALSE enforced in cv.glmnet, since < 3 observations per fold”\n"
     ]
    },
    {
     "name": "stderr",
     "output_type": "stream",
     "text": [
      "Warning message:\n",
      "“Option grouped=FALSE enforced in cv.glmnet, since < 3 observations per fold”\n"
     ]
    },
    {
     "name": "stderr",
     "output_type": "stream",
     "text": [
      "Warning message:\n",
      "“Option grouped=FALSE enforced in cv.glmnet, since < 3 observations per fold”\n"
     ]
    },
    {
     "name": "stderr",
     "output_type": "stream",
     "text": [
      "Warning message:\n",
      "“Option grouped=FALSE enforced in cv.glmnet, since < 3 observations per fold”\n"
     ]
    },
    {
     "name": "stderr",
     "output_type": "stream",
     "text": [
      "Warning message:\n",
      "“Option grouped=FALSE enforced in cv.glmnet, since < 3 observations per fold”\n"
     ]
    },
    {
     "name": "stderr",
     "output_type": "stream",
     "text": [
      "Warning message:\n",
      "“Option grouped=FALSE enforced in cv.glmnet, since < 3 observations per fold”\n"
     ]
    },
    {
     "name": "stderr",
     "output_type": "stream",
     "text": [
      "Warning message:\n",
      "“Option grouped=FALSE enforced in cv.glmnet, since < 3 observations per fold”\n"
     ]
    },
    {
     "name": "stderr",
     "output_type": "stream",
     "text": [
      "Warning message:\n",
      "“Option grouped=FALSE enforced in cv.glmnet, since < 3 observations per fold”\n"
     ]
    },
    {
     "name": "stderr",
     "output_type": "stream",
     "text": [
      "Warning message:\n",
      "“Option grouped=FALSE enforced in cv.glmnet, since < 3 observations per fold”\n"
     ]
    },
    {
     "name": "stderr",
     "output_type": "stream",
     "text": [
      "Warning message:\n",
      "“Option grouped=FALSE enforced in cv.glmnet, since < 3 observations per fold”\n"
     ]
    },
    {
     "name": "stderr",
     "output_type": "stream",
     "text": [
      "Warning message:\n",
      "“Option grouped=FALSE enforced in cv.glmnet, since < 3 observations per fold”\n"
     ]
    },
    {
     "name": "stderr",
     "output_type": "stream",
     "text": [
      "Warning message:\n",
      "“Option grouped=FALSE enforced in cv.glmnet, since < 3 observations per fold”\n"
     ]
    },
    {
     "name": "stderr",
     "output_type": "stream",
     "text": [
      "Warning message:\n",
      "“Option grouped=FALSE enforced in cv.glmnet, since < 3 observations per fold”\n"
     ]
    },
    {
     "name": "stderr",
     "output_type": "stream",
     "text": [
      "Warning message:\n",
      "“Option grouped=FALSE enforced in cv.glmnet, since < 3 observations per fold”\n"
     ]
    },
    {
     "name": "stderr",
     "output_type": "stream",
     "text": [
      "Warning message:\n",
      "“Option grouped=FALSE enforced in cv.glmnet, since < 3 observations per fold”\n"
     ]
    },
    {
     "name": "stdout",
     "output_type": "stream",
     "text": [
      "[1] \"Running MC-NMN\"\n"
     ]
    },
    {
     "name": "stderr",
     "output_type": "stream",
     "text": [
      "Warning message:\n",
      "“Option grouped=FALSE enforced in cv.glmnet, since < 3 observations per fold”\n"
     ]
    },
    {
     "name": "stderr",
     "output_type": "stream",
     "text": [
      "Warning message:\n",
      "“Option grouped=FALSE enforced in cv.glmnet, since < 3 observations per fold”\n"
     ]
    },
    {
     "name": "stderr",
     "output_type": "stream",
     "text": [
      "Warning message:\n",
      "“Option grouped=FALSE enforced in cv.glmnet, since < 3 observations per fold”\n"
     ]
    },
    {
     "name": "stderr",
     "output_type": "stream",
     "text": [
      "Warning message:\n",
      "“Option grouped=FALSE enforced in cv.glmnet, since < 3 observations per fold”\n"
     ]
    },
    {
     "name": "stderr",
     "output_type": "stream",
     "text": [
      "Warning message:\n",
      "“Option grouped=FALSE enforced in cv.glmnet, since < 3 observations per fold”\n"
     ]
    },
    {
     "name": "stdout",
     "output_type": "stream",
     "text": [
      "[1] \"Running MC-NMN\"\n"
     ]
    },
    {
     "name": "stderr",
     "output_type": "stream",
     "text": [
      "Warning message:\n",
      "“Option grouped=FALSE enforced in cv.glmnet, since < 3 observations per fold”\n"
     ]
    },
    {
     "name": "stderr",
     "output_type": "stream",
     "text": [
      "Warning message:\n",
      "“Option grouped=FALSE enforced in cv.glmnet, since < 3 observations per fold”\n"
     ]
    },
    {
     "name": "stderr",
     "output_type": "stream",
     "text": [
      "Warning message:\n",
      "“Option grouped=FALSE enforced in cv.glmnet, since < 3 observations per fold”\n"
     ]
    },
    {
     "name": "stdout",
     "output_type": "stream",
     "text": [
      "[1] \"Running MC-NMN\"\n"
     ]
    },
    {
     "name": "stderr",
     "output_type": "stream",
     "text": [
      "Warning message:\n",
      "“Option grouped=FALSE enforced in cv.glmnet, since < 3 observations per fold”\n"
     ]
    },
    {
     "name": "stdout",
     "output_type": "stream",
     "text": [
      "[1] \"Run number 2 started\"\n",
      "[1] \"Running MC-NMN\"\n"
     ]
    },
    {
     "name": "stderr",
     "output_type": "stream",
     "text": [
      "Warning message:\n",
      "“Option grouped=FALSE enforced in cv.glmnet, since < 3 observations per fold”\n"
     ]
    },
    {
     "name": "stderr",
     "output_type": "stream",
     "text": [
      "Warning message:\n",
      "“Option grouped=FALSE enforced in cv.glmnet, since < 3 observations per fold”\n"
     ]
    },
    {
     "name": "stderr",
     "output_type": "stream",
     "text": [
      "Warning message:\n",
      "“Option grouped=FALSE enforced in cv.glmnet, since < 3 observations per fold”\n"
     ]
    },
    {
     "name": "stderr",
     "output_type": "stream",
     "text": [
      "Warning message:\n",
      "“Option grouped=FALSE enforced in cv.glmnet, since < 3 observations per fold”\n"
     ]
    },
    {
     "name": "stderr",
     "output_type": "stream",
     "text": [
      "Warning message:\n",
      "“Option grouped=FALSE enforced in cv.glmnet, since < 3 observations per fold”\n"
     ]
    },
    {
     "name": "stderr",
     "output_type": "stream",
     "text": [
      "Warning message:\n",
      "“Option grouped=FALSE enforced in cv.glmnet, since < 3 observations per fold”\n"
     ]
    },
    {
     "name": "stderr",
     "output_type": "stream",
     "text": [
      "Warning message:\n",
      "“Option grouped=FALSE enforced in cv.glmnet, since < 3 observations per fold”\n"
     ]
    },
    {
     "name": "stderr",
     "output_type": "stream",
     "text": [
      "Warning message:\n",
      "“Option grouped=FALSE enforced in cv.glmnet, since < 3 observations per fold”\n"
     ]
    },
    {
     "name": "stderr",
     "output_type": "stream",
     "text": [
      "Warning message:\n",
      "“Option grouped=FALSE enforced in cv.glmnet, since < 3 observations per fold”\n"
     ]
    },
    {
     "name": "stderr",
     "output_type": "stream",
     "text": [
      "Warning message:\n",
      "“Option grouped=FALSE enforced in cv.glmnet, since < 3 observations per fold”\n"
     ]
    },
    {
     "name": "stderr",
     "output_type": "stream",
     "text": [
      "Warning message:\n",
      "“Option grouped=FALSE enforced in cv.glmnet, since < 3 observations per fold”\n"
     ]
    },
    {
     "name": "stderr",
     "output_type": "stream",
     "text": [
      "Warning message:\n",
      "“Option grouped=FALSE enforced in cv.glmnet, since < 3 observations per fold”\n"
     ]
    },
    {
     "name": "stderr",
     "output_type": "stream",
     "text": [
      "Warning message:\n",
      "“Option grouped=FALSE enforced in cv.glmnet, since < 3 observations per fold”\n"
     ]
    },
    {
     "name": "stderr",
     "output_type": "stream",
     "text": [
      "Warning message:\n",
      "“Option grouped=FALSE enforced in cv.glmnet, since < 3 observations per fold”\n"
     ]
    },
    {
     "name": "stderr",
     "output_type": "stream",
     "text": [
      "Warning message:\n",
      "“Option grouped=FALSE enforced in cv.glmnet, since < 3 observations per fold”\n"
     ]
    },
    {
     "name": "stderr",
     "output_type": "stream",
     "text": [
      "Warning message:\n",
      "“Option grouped=FALSE enforced in cv.glmnet, since < 3 observations per fold”\n"
     ]
    },
    {
     "name": "stderr",
     "output_type": "stream",
     "text": [
      "Warning message:\n",
      "“Option grouped=FALSE enforced in cv.glmnet, since < 3 observations per fold”\n"
     ]
    },
    {
     "name": "stderr",
     "output_type": "stream",
     "text": [
      "Warning message:\n",
      "“Option grouped=FALSE enforced in cv.glmnet, since < 3 observations per fold”\n"
     ]
    },
    {
     "name": "stderr",
     "output_type": "stream",
     "text": [
      "Warning message:\n",
      "“Option grouped=FALSE enforced in cv.glmnet, since < 3 observations per fold”\n"
     ]
    },
    {
     "name": "stderr",
     "output_type": "stream",
     "text": [
      "Warning message:\n",
      "“Option grouped=FALSE enforced in cv.glmnet, since < 3 observations per fold”\n"
     ]
    },
    {
     "name": "stderr",
     "output_type": "stream",
     "text": [
      "Warning message:\n",
      "“Option grouped=FALSE enforced in cv.glmnet, since < 3 observations per fold”\n"
     ]
    },
    {
     "name": "stdout",
     "output_type": "stream",
     "text": [
      "[1] \"Running MC-NMN\"\n"
     ]
    },
    {
     "name": "stderr",
     "output_type": "stream",
     "text": [
      "Warning message:\n",
      "“Option grouped=FALSE enforced in cv.glmnet, since < 3 observations per fold”\n"
     ]
    },
    {
     "name": "stderr",
     "output_type": "stream",
     "text": [
      "Warning message:\n",
      "“Option grouped=FALSE enforced in cv.glmnet, since < 3 observations per fold”\n"
     ]
    },
    {
     "name": "stderr",
     "output_type": "stream",
     "text": [
      "Warning message:\n",
      "“Option grouped=FALSE enforced in cv.glmnet, since < 3 observations per fold”\n"
     ]
    },
    {
     "name": "stderr",
     "output_type": "stream",
     "text": [
      "Warning message:\n",
      "“Option grouped=FALSE enforced in cv.glmnet, since < 3 observations per fold”\n"
     ]
    },
    {
     "name": "stderr",
     "output_type": "stream",
     "text": [
      "Warning message:\n",
      "“Option grouped=FALSE enforced in cv.glmnet, since < 3 observations per fold”\n"
     ]
    },
    {
     "name": "stderr",
     "output_type": "stream",
     "text": [
      "Warning message:\n",
      "“Option grouped=FALSE enforced in cv.glmnet, since < 3 observations per fold”\n"
     ]
    },
    {
     "name": "stderr",
     "output_type": "stream",
     "text": [
      "Warning message:\n",
      "“Option grouped=FALSE enforced in cv.glmnet, since < 3 observations per fold”\n"
     ]
    },
    {
     "name": "stderr",
     "output_type": "stream",
     "text": [
      "Warning message:\n",
      "“Option grouped=FALSE enforced in cv.glmnet, since < 3 observations per fold”\n"
     ]
    },
    {
     "name": "stderr",
     "output_type": "stream",
     "text": [
      "Warning message:\n",
      "“Option grouped=FALSE enforced in cv.glmnet, since < 3 observations per fold”\n"
     ]
    },
    {
     "name": "stderr",
     "output_type": "stream",
     "text": [
      "Warning message:\n",
      "“Option grouped=FALSE enforced in cv.glmnet, since < 3 observations per fold”\n"
     ]
    },
    {
     "name": "stderr",
     "output_type": "stream",
     "text": [
      "Warning message:\n",
      "“Option grouped=FALSE enforced in cv.glmnet, since < 3 observations per fold”\n"
     ]
    },
    {
     "name": "stderr",
     "output_type": "stream",
     "text": [
      "Warning message:\n",
      "“Option grouped=FALSE enforced in cv.glmnet, since < 3 observations per fold”\n"
     ]
    },
    {
     "name": "stderr",
     "output_type": "stream",
     "text": [
      "Warning message:\n",
      "“Option grouped=FALSE enforced in cv.glmnet, since < 3 observations per fold”\n"
     ]
    },
    {
     "name": "stderr",
     "output_type": "stream",
     "text": [
      "Warning message:\n",
      "“Option grouped=FALSE enforced in cv.glmnet, since < 3 observations per fold”\n"
     ]
    },
    {
     "name": "stderr",
     "output_type": "stream",
     "text": [
      "Warning message:\n",
      "“Option grouped=FALSE enforced in cv.glmnet, since < 3 observations per fold”\n"
     ]
    },
    {
     "name": "stdout",
     "output_type": "stream",
     "text": [
      "[1] \"Running MC-NMN\"\n"
     ]
    },
    {
     "name": "stderr",
     "output_type": "stream",
     "text": [
      "Warning message:\n",
      "“Option grouped=FALSE enforced in cv.glmnet, since < 3 observations per fold”\n"
     ]
    },
    {
     "name": "stderr",
     "output_type": "stream",
     "text": [
      "Warning message:\n",
      "“Option grouped=FALSE enforced in cv.glmnet, since < 3 observations per fold”\n"
     ]
    },
    {
     "name": "stderr",
     "output_type": "stream",
     "text": [
      "Warning message:\n",
      "“Option grouped=FALSE enforced in cv.glmnet, since < 3 observations per fold”\n"
     ]
    },
    {
     "name": "stderr",
     "output_type": "stream",
     "text": [
      "Warning message:\n",
      "“Option grouped=FALSE enforced in cv.glmnet, since < 3 observations per fold”\n"
     ]
    },
    {
     "name": "stderr",
     "output_type": "stream",
     "text": [
      "Warning message:\n",
      "“Option grouped=FALSE enforced in cv.glmnet, since < 3 observations per fold”\n"
     ]
    },
    {
     "name": "stdout",
     "output_type": "stream",
     "text": [
      "[1] \"Running MC-NMN\"\n"
     ]
    },
    {
     "name": "stderr",
     "output_type": "stream",
     "text": [
      "Warning message:\n",
      "“Option grouped=FALSE enforced in cv.glmnet, since < 3 observations per fold”\n"
     ]
    },
    {
     "name": "stderr",
     "output_type": "stream",
     "text": [
      "Warning message:\n",
      "“Option grouped=FALSE enforced in cv.glmnet, since < 3 observations per fold”\n"
     ]
    },
    {
     "name": "stderr",
     "output_type": "stream",
     "text": [
      "Warning message:\n",
      "“Option grouped=FALSE enforced in cv.glmnet, since < 3 observations per fold”\n"
     ]
    },
    {
     "name": "stdout",
     "output_type": "stream",
     "text": [
      "[1] \"Running MC-NMN\"\n"
     ]
    },
    {
     "name": "stderr",
     "output_type": "stream",
     "text": [
      "Warning message:\n",
      "“Option grouped=FALSE enforced in cv.glmnet, since < 3 observations per fold”\n"
     ]
    },
    {
     "name": "stdout",
     "output_type": "stream",
     "text": [
      "[1] \"Run number 3 started\"\n",
      "[1] \"Running MC-NMN\"\n"
     ]
    },
    {
     "name": "stderr",
     "output_type": "stream",
     "text": [
      "Warning message:\n",
      "“Option grouped=FALSE enforced in cv.glmnet, since < 3 observations per fold”\n"
     ]
    },
    {
     "name": "stderr",
     "output_type": "stream",
     "text": [
      "Warning message:\n",
      "“Option grouped=FALSE enforced in cv.glmnet, since < 3 observations per fold”\n"
     ]
    },
    {
     "name": "stderr",
     "output_type": "stream",
     "text": [
      "Warning message:\n",
      "“Option grouped=FALSE enforced in cv.glmnet, since < 3 observations per fold”\n"
     ]
    },
    {
     "name": "stderr",
     "output_type": "stream",
     "text": [
      "Warning message:\n",
      "“Option grouped=FALSE enforced in cv.glmnet, since < 3 observations per fold”\n"
     ]
    },
    {
     "name": "stderr",
     "output_type": "stream",
     "text": [
      "Warning message:\n",
      "“Option grouped=FALSE enforced in cv.glmnet, since < 3 observations per fold”\n"
     ]
    },
    {
     "name": "stderr",
     "output_type": "stream",
     "text": [
      "Warning message:\n",
      "“Option grouped=FALSE enforced in cv.glmnet, since < 3 observations per fold”\n"
     ]
    },
    {
     "name": "stderr",
     "output_type": "stream",
     "text": [
      "Warning message:\n",
      "“Option grouped=FALSE enforced in cv.glmnet, since < 3 observations per fold”\n"
     ]
    },
    {
     "name": "stderr",
     "output_type": "stream",
     "text": [
      "Warning message:\n",
      "“Option grouped=FALSE enforced in cv.glmnet, since < 3 observations per fold”\n"
     ]
    },
    {
     "name": "stderr",
     "output_type": "stream",
     "text": [
      "Warning message:\n",
      "“Option grouped=FALSE enforced in cv.glmnet, since < 3 observations per fold”\n"
     ]
    },
    {
     "name": "stderr",
     "output_type": "stream",
     "text": [
      "Warning message:\n",
      "“Option grouped=FALSE enforced in cv.glmnet, since < 3 observations per fold”\n"
     ]
    },
    {
     "name": "stderr",
     "output_type": "stream",
     "text": [
      "Warning message:\n",
      "“Option grouped=FALSE enforced in cv.glmnet, since < 3 observations per fold”\n"
     ]
    },
    {
     "name": "stderr",
     "output_type": "stream",
     "text": [
      "Warning message:\n",
      "“Option grouped=FALSE enforced in cv.glmnet, since < 3 observations per fold”\n"
     ]
    },
    {
     "name": "stderr",
     "output_type": "stream",
     "text": [
      "Warning message:\n",
      "“Option grouped=FALSE enforced in cv.glmnet, since < 3 observations per fold”\n"
     ]
    },
    {
     "name": "stderr",
     "output_type": "stream",
     "text": [
      "Warning message:\n",
      "“Option grouped=FALSE enforced in cv.glmnet, since < 3 observations per fold”\n"
     ]
    },
    {
     "name": "stderr",
     "output_type": "stream",
     "text": [
      "Warning message:\n",
      "“Option grouped=FALSE enforced in cv.glmnet, since < 3 observations per fold”\n"
     ]
    },
    {
     "name": "stderr",
     "output_type": "stream",
     "text": [
      "Warning message:\n",
      "“Option grouped=FALSE enforced in cv.glmnet, since < 3 observations per fold”\n"
     ]
    },
    {
     "name": "stderr",
     "output_type": "stream",
     "text": [
      "Warning message:\n",
      "“Option grouped=FALSE enforced in cv.glmnet, since < 3 observations per fold”\n"
     ]
    },
    {
     "name": "stderr",
     "output_type": "stream",
     "text": [
      "Warning message:\n",
      "“Option grouped=FALSE enforced in cv.glmnet, since < 3 observations per fold”\n"
     ]
    },
    {
     "name": "stderr",
     "output_type": "stream",
     "text": [
      "Warning message:\n",
      "“Option grouped=FALSE enforced in cv.glmnet, since < 3 observations per fold”\n"
     ]
    },
    {
     "name": "stderr",
     "output_type": "stream",
     "text": [
      "Warning message:\n",
      "“Option grouped=FALSE enforced in cv.glmnet, since < 3 observations per fold”\n"
     ]
    },
    {
     "name": "stderr",
     "output_type": "stream",
     "text": [
      "Warning message:\n",
      "“Option grouped=FALSE enforced in cv.glmnet, since < 3 observations per fold”\n"
     ]
    },
    {
     "name": "stdout",
     "output_type": "stream",
     "text": [
      "[1] \"Running MC-NMN\"\n"
     ]
    },
    {
     "name": "stderr",
     "output_type": "stream",
     "text": [
      "Warning message:\n",
      "“Option grouped=FALSE enforced in cv.glmnet, since < 3 observations per fold”\n"
     ]
    },
    {
     "name": "stderr",
     "output_type": "stream",
     "text": [
      "Warning message:\n",
      "“Option grouped=FALSE enforced in cv.glmnet, since < 3 observations per fold”\n"
     ]
    },
    {
     "name": "stderr",
     "output_type": "stream",
     "text": [
      "Warning message:\n",
      "“Option grouped=FALSE enforced in cv.glmnet, since < 3 observations per fold”\n"
     ]
    },
    {
     "name": "stderr",
     "output_type": "stream",
     "text": [
      "Warning message:\n",
      "“Option grouped=FALSE enforced in cv.glmnet, since < 3 observations per fold”\n"
     ]
    },
    {
     "name": "stderr",
     "output_type": "stream",
     "text": [
      "Warning message:\n",
      "“Option grouped=FALSE enforced in cv.glmnet, since < 3 observations per fold”\n"
     ]
    },
    {
     "name": "stderr",
     "output_type": "stream",
     "text": [
      "Warning message:\n",
      "“Option grouped=FALSE enforced in cv.glmnet, since < 3 observations per fold”\n"
     ]
    },
    {
     "name": "stderr",
     "output_type": "stream",
     "text": [
      "Warning message:\n",
      "“Option grouped=FALSE enforced in cv.glmnet, since < 3 observations per fold”\n"
     ]
    },
    {
     "name": "stderr",
     "output_type": "stream",
     "text": [
      "Warning message:\n",
      "“Option grouped=FALSE enforced in cv.glmnet, since < 3 observations per fold”\n"
     ]
    },
    {
     "name": "stderr",
     "output_type": "stream",
     "text": [
      "Warning message:\n",
      "“Option grouped=FALSE enforced in cv.glmnet, since < 3 observations per fold”\n"
     ]
    },
    {
     "name": "stderr",
     "output_type": "stream",
     "text": [
      "Warning message:\n",
      "“Option grouped=FALSE enforced in cv.glmnet, since < 3 observations per fold”\n"
     ]
    },
    {
     "name": "stderr",
     "output_type": "stream",
     "text": [
      "Warning message:\n",
      "“Option grouped=FALSE enforced in cv.glmnet, since < 3 observations per fold”\n"
     ]
    },
    {
     "name": "stderr",
     "output_type": "stream",
     "text": [
      "Warning message:\n",
      "“Option grouped=FALSE enforced in cv.glmnet, since < 3 observations per fold”\n"
     ]
    },
    {
     "name": "stderr",
     "output_type": "stream",
     "text": [
      "Warning message:\n",
      "“Option grouped=FALSE enforced in cv.glmnet, since < 3 observations per fold”\n"
     ]
    },
    {
     "name": "stderr",
     "output_type": "stream",
     "text": [
      "Warning message:\n",
      "“Option grouped=FALSE enforced in cv.glmnet, since < 3 observations per fold”\n"
     ]
    },
    {
     "name": "stderr",
     "output_type": "stream",
     "text": [
      "Warning message:\n",
      "“Option grouped=FALSE enforced in cv.glmnet, since < 3 observations per fold”\n"
     ]
    },
    {
     "name": "stdout",
     "output_type": "stream",
     "text": [
      "[1] \"Running MC-NMN\"\n"
     ]
    },
    {
     "name": "stderr",
     "output_type": "stream",
     "text": [
      "Warning message:\n",
      "“Option grouped=FALSE enforced in cv.glmnet, since < 3 observations per fold”\n"
     ]
    },
    {
     "name": "stderr",
     "output_type": "stream",
     "text": [
      "Warning message:\n",
      "“Option grouped=FALSE enforced in cv.glmnet, since < 3 observations per fold”\n"
     ]
    },
    {
     "name": "stderr",
     "output_type": "stream",
     "text": [
      "Warning message:\n",
      "“Option grouped=FALSE enforced in cv.glmnet, since < 3 observations per fold”\n"
     ]
    },
    {
     "name": "stderr",
     "output_type": "stream",
     "text": [
      "Warning message:\n",
      "“Option grouped=FALSE enforced in cv.glmnet, since < 3 observations per fold”\n"
     ]
    },
    {
     "name": "stderr",
     "output_type": "stream",
     "text": [
      "Warning message:\n",
      "“Option grouped=FALSE enforced in cv.glmnet, since < 3 observations per fold”\n"
     ]
    },
    {
     "name": "stdout",
     "output_type": "stream",
     "text": [
      "[1] \"Running MC-NMN\"\n"
     ]
    },
    {
     "name": "stderr",
     "output_type": "stream",
     "text": [
      "Warning message:\n",
      "“Option grouped=FALSE enforced in cv.glmnet, since < 3 observations per fold”\n"
     ]
    },
    {
     "name": "stderr",
     "output_type": "stream",
     "text": [
      "Warning message:\n",
      "“Option grouped=FALSE enforced in cv.glmnet, since < 3 observations per fold”\n"
     ]
    },
    {
     "name": "stderr",
     "output_type": "stream",
     "text": [
      "Warning message:\n",
      "“Option grouped=FALSE enforced in cv.glmnet, since < 3 observations per fold”\n"
     ]
    },
    {
     "name": "stdout",
     "output_type": "stream",
     "text": [
      "[1] \"Running MC-NMN\"\n"
     ]
    },
    {
     "name": "stderr",
     "output_type": "stream",
     "text": [
      "Warning message:\n",
      "“Option grouped=FALSE enforced in cv.glmnet, since < 3 observations per fold”\n"
     ]
    },
    {
     "name": "stdout",
     "output_type": "stream",
     "text": [
      "[1] \"Run number 4 started\"\n",
      "[1] \"Running MC-NMN\"\n"
     ]
    },
    {
     "name": "stderr",
     "output_type": "stream",
     "text": [
      "Warning message:\n",
      "“Option grouped=FALSE enforced in cv.glmnet, since < 3 observations per fold”\n"
     ]
    },
    {
     "name": "stderr",
     "output_type": "stream",
     "text": [
      "Warning message:\n",
      "“Option grouped=FALSE enforced in cv.glmnet, since < 3 observations per fold”\n"
     ]
    },
    {
     "name": "stderr",
     "output_type": "stream",
     "text": [
      "Warning message:\n",
      "“Option grouped=FALSE enforced in cv.glmnet, since < 3 observations per fold”\n"
     ]
    },
    {
     "name": "stderr",
     "output_type": "stream",
     "text": [
      "Warning message:\n",
      "“Option grouped=FALSE enforced in cv.glmnet, since < 3 observations per fold”\n"
     ]
    },
    {
     "name": "stderr",
     "output_type": "stream",
     "text": [
      "Warning message:\n",
      "“Option grouped=FALSE enforced in cv.glmnet, since < 3 observations per fold”\n"
     ]
    },
    {
     "name": "stderr",
     "output_type": "stream",
     "text": [
      "Warning message:\n",
      "“Option grouped=FALSE enforced in cv.glmnet, since < 3 observations per fold”\n"
     ]
    },
    {
     "name": "stderr",
     "output_type": "stream",
     "text": [
      "Warning message:\n",
      "“Option grouped=FALSE enforced in cv.glmnet, since < 3 observations per fold”\n"
     ]
    },
    {
     "name": "stderr",
     "output_type": "stream",
     "text": [
      "Warning message:\n",
      "“Option grouped=FALSE enforced in cv.glmnet, since < 3 observations per fold”\n"
     ]
    },
    {
     "name": "stderr",
     "output_type": "stream",
     "text": [
      "Warning message:\n",
      "“Option grouped=FALSE enforced in cv.glmnet, since < 3 observations per fold”\n"
     ]
    },
    {
     "name": "stderr",
     "output_type": "stream",
     "text": [
      "Warning message:\n",
      "“Option grouped=FALSE enforced in cv.glmnet, since < 3 observations per fold”\n"
     ]
    },
    {
     "name": "stderr",
     "output_type": "stream",
     "text": [
      "Warning message:\n",
      "“Option grouped=FALSE enforced in cv.glmnet, since < 3 observations per fold”\n"
     ]
    },
    {
     "name": "stderr",
     "output_type": "stream",
     "text": [
      "Warning message:\n",
      "“Option grouped=FALSE enforced in cv.glmnet, since < 3 observations per fold”\n"
     ]
    },
    {
     "name": "stderr",
     "output_type": "stream",
     "text": [
      "Warning message:\n",
      "“Option grouped=FALSE enforced in cv.glmnet, since < 3 observations per fold”\n"
     ]
    },
    {
     "name": "stderr",
     "output_type": "stream",
     "text": [
      "Warning message:\n",
      "“Option grouped=FALSE enforced in cv.glmnet, since < 3 observations per fold”\n"
     ]
    },
    {
     "name": "stderr",
     "output_type": "stream",
     "text": [
      "Warning message:\n",
      "“Option grouped=FALSE enforced in cv.glmnet, since < 3 observations per fold”\n"
     ]
    },
    {
     "name": "stderr",
     "output_type": "stream",
     "text": [
      "Warning message:\n",
      "“Option grouped=FALSE enforced in cv.glmnet, since < 3 observations per fold”\n"
     ]
    },
    {
     "name": "stderr",
     "output_type": "stream",
     "text": [
      "Warning message:\n",
      "“Option grouped=FALSE enforced in cv.glmnet, since < 3 observations per fold”\n"
     ]
    },
    {
     "name": "stderr",
     "output_type": "stream",
     "text": [
      "Warning message:\n",
      "“Option grouped=FALSE enforced in cv.glmnet, since < 3 observations per fold”\n"
     ]
    },
    {
     "name": "stderr",
     "output_type": "stream",
     "text": [
      "Warning message:\n",
      "“Option grouped=FALSE enforced in cv.glmnet, since < 3 observations per fold”\n"
     ]
    },
    {
     "name": "stderr",
     "output_type": "stream",
     "text": [
      "Warning message:\n",
      "“Option grouped=FALSE enforced in cv.glmnet, since < 3 observations per fold”\n"
     ]
    },
    {
     "name": "stderr",
     "output_type": "stream",
     "text": [
      "Warning message:\n",
      "“Option grouped=FALSE enforced in cv.glmnet, since < 3 observations per fold”\n"
     ]
    },
    {
     "name": "stdout",
     "output_type": "stream",
     "text": [
      "[1] \"Running MC-NMN\"\n"
     ]
    },
    {
     "name": "stderr",
     "output_type": "stream",
     "text": [
      "Warning message:\n",
      "“Option grouped=FALSE enforced in cv.glmnet, since < 3 observations per fold”\n"
     ]
    },
    {
     "name": "stderr",
     "output_type": "stream",
     "text": [
      "Warning message:\n",
      "“Option grouped=FALSE enforced in cv.glmnet, since < 3 observations per fold”\n"
     ]
    },
    {
     "name": "stderr",
     "output_type": "stream",
     "text": [
      "Warning message:\n",
      "“Option grouped=FALSE enforced in cv.glmnet, since < 3 observations per fold”\n"
     ]
    },
    {
     "name": "stderr",
     "output_type": "stream",
     "text": [
      "Warning message:\n",
      "“Option grouped=FALSE enforced in cv.glmnet, since < 3 observations per fold”\n"
     ]
    },
    {
     "name": "stderr",
     "output_type": "stream",
     "text": [
      "Warning message:\n",
      "“Option grouped=FALSE enforced in cv.glmnet, since < 3 observations per fold”\n"
     ]
    },
    {
     "name": "stderr",
     "output_type": "stream",
     "text": [
      "Warning message:\n",
      "“Option grouped=FALSE enforced in cv.glmnet, since < 3 observations per fold”\n"
     ]
    },
    {
     "name": "stderr",
     "output_type": "stream",
     "text": [
      "Warning message:\n",
      "“Option grouped=FALSE enforced in cv.glmnet, since < 3 observations per fold”\n"
     ]
    },
    {
     "name": "stderr",
     "output_type": "stream",
     "text": [
      "Warning message:\n",
      "“Option grouped=FALSE enforced in cv.glmnet, since < 3 observations per fold”\n"
     ]
    },
    {
     "name": "stderr",
     "output_type": "stream",
     "text": [
      "Warning message:\n",
      "“Option grouped=FALSE enforced in cv.glmnet, since < 3 observations per fold”\n"
     ]
    },
    {
     "name": "stderr",
     "output_type": "stream",
     "text": [
      "Warning message:\n",
      "“Option grouped=FALSE enforced in cv.glmnet, since < 3 observations per fold”\n"
     ]
    },
    {
     "name": "stderr",
     "output_type": "stream",
     "text": [
      "Warning message:\n",
      "“Option grouped=FALSE enforced in cv.glmnet, since < 3 observations per fold”\n"
     ]
    },
    {
     "name": "stderr",
     "output_type": "stream",
     "text": [
      "Warning message:\n",
      "“Option grouped=FALSE enforced in cv.glmnet, since < 3 observations per fold”\n"
     ]
    },
    {
     "name": "stderr",
     "output_type": "stream",
     "text": [
      "Warning message:\n",
      "“Option grouped=FALSE enforced in cv.glmnet, since < 3 observations per fold”\n"
     ]
    },
    {
     "name": "stderr",
     "output_type": "stream",
     "text": [
      "Warning message:\n",
      "“Option grouped=FALSE enforced in cv.glmnet, since < 3 observations per fold”\n"
     ]
    },
    {
     "name": "stderr",
     "output_type": "stream",
     "text": [
      "Warning message:\n",
      "“Option grouped=FALSE enforced in cv.glmnet, since < 3 observations per fold”\n"
     ]
    },
    {
     "name": "stdout",
     "output_type": "stream",
     "text": [
      "[1] \"Running MC-NMN\"\n"
     ]
    },
    {
     "name": "stderr",
     "output_type": "stream",
     "text": [
      "Warning message:\n",
      "“Option grouped=FALSE enforced in cv.glmnet, since < 3 observations per fold”\n"
     ]
    },
    {
     "name": "stderr",
     "output_type": "stream",
     "text": [
      "Warning message:\n",
      "“Option grouped=FALSE enforced in cv.glmnet, since < 3 observations per fold”\n"
     ]
    },
    {
     "name": "stderr",
     "output_type": "stream",
     "text": [
      "Warning message:\n",
      "“Option grouped=FALSE enforced in cv.glmnet, since < 3 observations per fold”\n"
     ]
    },
    {
     "name": "stderr",
     "output_type": "stream",
     "text": [
      "Warning message:\n",
      "“Option grouped=FALSE enforced in cv.glmnet, since < 3 observations per fold”\n"
     ]
    },
    {
     "name": "stderr",
     "output_type": "stream",
     "text": [
      "Warning message:\n",
      "“Option grouped=FALSE enforced in cv.glmnet, since < 3 observations per fold”\n"
     ]
    },
    {
     "name": "stdout",
     "output_type": "stream",
     "text": [
      "[1] \"Running MC-NMN\"\n"
     ]
    },
    {
     "name": "stderr",
     "output_type": "stream",
     "text": [
      "Warning message:\n",
      "“Option grouped=FALSE enforced in cv.glmnet, since < 3 observations per fold”\n"
     ]
    },
    {
     "name": "stderr",
     "output_type": "stream",
     "text": [
      "Warning message:\n",
      "“Option grouped=FALSE enforced in cv.glmnet, since < 3 observations per fold”\n"
     ]
    },
    {
     "name": "stderr",
     "output_type": "stream",
     "text": [
      "Warning message:\n",
      "“Option grouped=FALSE enforced in cv.glmnet, since < 3 observations per fold”\n"
     ]
    },
    {
     "name": "stdout",
     "output_type": "stream",
     "text": [
      "[1] \"Running MC-NMN\"\n"
     ]
    },
    {
     "name": "stderr",
     "output_type": "stream",
     "text": [
      "Warning message:\n",
      "“Option grouped=FALSE enforced in cv.glmnet, since < 3 observations per fold”\n"
     ]
    },
    {
     "name": "stdout",
     "output_type": "stream",
     "text": [
      "[1] \"Run number 5 started\"\n",
      "[1] \"Running MC-NMN\"\n"
     ]
    },
    {
     "name": "stderr",
     "output_type": "stream",
     "text": [
      "Warning message:\n",
      "“Option grouped=FALSE enforced in cv.glmnet, since < 3 observations per fold”\n"
     ]
    },
    {
     "name": "stderr",
     "output_type": "stream",
     "text": [
      "Warning message:\n",
      "“Option grouped=FALSE enforced in cv.glmnet, since < 3 observations per fold”\n"
     ]
    },
    {
     "name": "stderr",
     "output_type": "stream",
     "text": [
      "Warning message:\n",
      "“Option grouped=FALSE enforced in cv.glmnet, since < 3 observations per fold”\n"
     ]
    },
    {
     "name": "stderr",
     "output_type": "stream",
     "text": [
      "Warning message:\n",
      "“Option grouped=FALSE enforced in cv.glmnet, since < 3 observations per fold”\n"
     ]
    },
    {
     "name": "stderr",
     "output_type": "stream",
     "text": [
      "Warning message:\n",
      "“Option grouped=FALSE enforced in cv.glmnet, since < 3 observations per fold”\n"
     ]
    },
    {
     "name": "stderr",
     "output_type": "stream",
     "text": [
      "Warning message:\n",
      "“Option grouped=FALSE enforced in cv.glmnet, since < 3 observations per fold”\n"
     ]
    },
    {
     "name": "stderr",
     "output_type": "stream",
     "text": [
      "Warning message:\n",
      "“Option grouped=FALSE enforced in cv.glmnet, since < 3 observations per fold”\n"
     ]
    },
    {
     "name": "stderr",
     "output_type": "stream",
     "text": [
      "Warning message:\n",
      "“Option grouped=FALSE enforced in cv.glmnet, since < 3 observations per fold”\n"
     ]
    },
    {
     "name": "stderr",
     "output_type": "stream",
     "text": [
      "Warning message:\n",
      "“Option grouped=FALSE enforced in cv.glmnet, since < 3 observations per fold”\n"
     ]
    },
    {
     "name": "stderr",
     "output_type": "stream",
     "text": [
      "Warning message:\n",
      "“Option grouped=FALSE enforced in cv.glmnet, since < 3 observations per fold”\n"
     ]
    },
    {
     "name": "stderr",
     "output_type": "stream",
     "text": [
      "Warning message:\n",
      "“Option grouped=FALSE enforced in cv.glmnet, since < 3 observations per fold”\n"
     ]
    },
    {
     "name": "stderr",
     "output_type": "stream",
     "text": [
      "Warning message:\n",
      "“Option grouped=FALSE enforced in cv.glmnet, since < 3 observations per fold”\n"
     ]
    },
    {
     "name": "stderr",
     "output_type": "stream",
     "text": [
      "Warning message:\n",
      "“Option grouped=FALSE enforced in cv.glmnet, since < 3 observations per fold”\n"
     ]
    },
    {
     "name": "stderr",
     "output_type": "stream",
     "text": [
      "Warning message:\n",
      "“Option grouped=FALSE enforced in cv.glmnet, since < 3 observations per fold”\n"
     ]
    },
    {
     "name": "stderr",
     "output_type": "stream",
     "text": [
      "Warning message:\n",
      "“Option grouped=FALSE enforced in cv.glmnet, since < 3 observations per fold”\n"
     ]
    },
    {
     "name": "stderr",
     "output_type": "stream",
     "text": [
      "Warning message:\n",
      "“Option grouped=FALSE enforced in cv.glmnet, since < 3 observations per fold”\n"
     ]
    },
    {
     "name": "stderr",
     "output_type": "stream",
     "text": [
      "Warning message:\n",
      "“Option grouped=FALSE enforced in cv.glmnet, since < 3 observations per fold”\n"
     ]
    },
    {
     "name": "stderr",
     "output_type": "stream",
     "text": [
      "Warning message:\n",
      "“Option grouped=FALSE enforced in cv.glmnet, since < 3 observations per fold”\n"
     ]
    },
    {
     "name": "stderr",
     "output_type": "stream",
     "text": [
      "Warning message:\n",
      "“Option grouped=FALSE enforced in cv.glmnet, since < 3 observations per fold”\n"
     ]
    },
    {
     "name": "stderr",
     "output_type": "stream",
     "text": [
      "Warning message:\n",
      "“Option grouped=FALSE enforced in cv.glmnet, since < 3 observations per fold”\n"
     ]
    },
    {
     "name": "stderr",
     "output_type": "stream",
     "text": [
      "Warning message:\n",
      "“Option grouped=FALSE enforced in cv.glmnet, since < 3 observations per fold”\n"
     ]
    },
    {
     "name": "stdout",
     "output_type": "stream",
     "text": [
      "[1] \"Running MC-NMN\"\n"
     ]
    },
    {
     "name": "stderr",
     "output_type": "stream",
     "text": [
      "Warning message:\n",
      "“Option grouped=FALSE enforced in cv.glmnet, since < 3 observations per fold”\n"
     ]
    },
    {
     "name": "stderr",
     "output_type": "stream",
     "text": [
      "Warning message:\n",
      "“Option grouped=FALSE enforced in cv.glmnet, since < 3 observations per fold”\n"
     ]
    },
    {
     "name": "stderr",
     "output_type": "stream",
     "text": [
      "Warning message:\n",
      "“Option grouped=FALSE enforced in cv.glmnet, since < 3 observations per fold”\n"
     ]
    },
    {
     "name": "stderr",
     "output_type": "stream",
     "text": [
      "Warning message:\n",
      "“Option grouped=FALSE enforced in cv.glmnet, since < 3 observations per fold”\n"
     ]
    },
    {
     "name": "stderr",
     "output_type": "stream",
     "text": [
      "Warning message:\n",
      "“Option grouped=FALSE enforced in cv.glmnet, since < 3 observations per fold”\n"
     ]
    },
    {
     "name": "stderr",
     "output_type": "stream",
     "text": [
      "Warning message:\n",
      "“Option grouped=FALSE enforced in cv.glmnet, since < 3 observations per fold”\n"
     ]
    },
    {
     "name": "stderr",
     "output_type": "stream",
     "text": [
      "Warning message:\n",
      "“Option grouped=FALSE enforced in cv.glmnet, since < 3 observations per fold”\n"
     ]
    },
    {
     "name": "stderr",
     "output_type": "stream",
     "text": [
      "Warning message:\n",
      "“Option grouped=FALSE enforced in cv.glmnet, since < 3 observations per fold”\n"
     ]
    },
    {
     "name": "stderr",
     "output_type": "stream",
     "text": [
      "Warning message:\n",
      "“Option grouped=FALSE enforced in cv.glmnet, since < 3 observations per fold”\n"
     ]
    },
    {
     "name": "stderr",
     "output_type": "stream",
     "text": [
      "Warning message:\n",
      "“Option grouped=FALSE enforced in cv.glmnet, since < 3 observations per fold”\n"
     ]
    },
    {
     "name": "stderr",
     "output_type": "stream",
     "text": [
      "Warning message:\n",
      "“Option grouped=FALSE enforced in cv.glmnet, since < 3 observations per fold”\n"
     ]
    },
    {
     "name": "stderr",
     "output_type": "stream",
     "text": [
      "Warning message:\n",
      "“Option grouped=FALSE enforced in cv.glmnet, since < 3 observations per fold”\n"
     ]
    },
    {
     "name": "stderr",
     "output_type": "stream",
     "text": [
      "Warning message:\n",
      "“Option grouped=FALSE enforced in cv.glmnet, since < 3 observations per fold”\n"
     ]
    },
    {
     "name": "stderr",
     "output_type": "stream",
     "text": [
      "Warning message:\n",
      "“Option grouped=FALSE enforced in cv.glmnet, since < 3 observations per fold”\n"
     ]
    },
    {
     "name": "stderr",
     "output_type": "stream",
     "text": [
      "Warning message:\n",
      "“Option grouped=FALSE enforced in cv.glmnet, since < 3 observations per fold”\n"
     ]
    },
    {
     "name": "stdout",
     "output_type": "stream",
     "text": [
      "[1] \"Running MC-NMN\"\n"
     ]
    },
    {
     "name": "stderr",
     "output_type": "stream",
     "text": [
      "Warning message:\n",
      "“Option grouped=FALSE enforced in cv.glmnet, since < 3 observations per fold”\n"
     ]
    },
    {
     "name": "stderr",
     "output_type": "stream",
     "text": [
      "Warning message:\n",
      "“Option grouped=FALSE enforced in cv.glmnet, since < 3 observations per fold”\n"
     ]
    },
    {
     "name": "stderr",
     "output_type": "stream",
     "text": [
      "Warning message:\n",
      "“Option grouped=FALSE enforced in cv.glmnet, since < 3 observations per fold”\n"
     ]
    },
    {
     "name": "stderr",
     "output_type": "stream",
     "text": [
      "Warning message:\n",
      "“Option grouped=FALSE enforced in cv.glmnet, since < 3 observations per fold”\n"
     ]
    },
    {
     "name": "stderr",
     "output_type": "stream",
     "text": [
      "Warning message:\n",
      "“Option grouped=FALSE enforced in cv.glmnet, since < 3 observations per fold”\n"
     ]
    },
    {
     "name": "stdout",
     "output_type": "stream",
     "text": [
      "[1] \"Running MC-NMN\"\n"
     ]
    },
    {
     "name": "stderr",
     "output_type": "stream",
     "text": [
      "Warning message:\n",
      "“Option grouped=FALSE enforced in cv.glmnet, since < 3 observations per fold”\n"
     ]
    },
    {
     "name": "stderr",
     "output_type": "stream",
     "text": [
      "Warning message:\n",
      "“Option grouped=FALSE enforced in cv.glmnet, since < 3 observations per fold”\n"
     ]
    },
    {
     "name": "stderr",
     "output_type": "stream",
     "text": [
      "Warning message:\n",
      "“Option grouped=FALSE enforced in cv.glmnet, since < 3 observations per fold”\n"
     ]
    },
    {
     "name": "stdout",
     "output_type": "stream",
     "text": [
      "[1] \"Running MC-NMN\"\n"
     ]
    },
    {
     "name": "stderr",
     "output_type": "stream",
     "text": [
      "Warning message:\n",
      "“Option grouped=FALSE enforced in cv.glmnet, since < 3 observations per fold”\n"
     ]
    },
    {
     "name": "stdout",
     "output_type": "stream",
     "text": [
      "[1] \"Run number 6 started\"\n",
      "[1] \"Running MC-NMN\"\n"
     ]
    },
    {
     "name": "stderr",
     "output_type": "stream",
     "text": [
      "Warning message:\n",
      "“Option grouped=FALSE enforced in cv.glmnet, since < 3 observations per fold”\n"
     ]
    },
    {
     "name": "stderr",
     "output_type": "stream",
     "text": [
      "Warning message:\n",
      "“Option grouped=FALSE enforced in cv.glmnet, since < 3 observations per fold”\n"
     ]
    },
    {
     "name": "stderr",
     "output_type": "stream",
     "text": [
      "Warning message:\n",
      "“Option grouped=FALSE enforced in cv.glmnet, since < 3 observations per fold”\n"
     ]
    },
    {
     "name": "stderr",
     "output_type": "stream",
     "text": [
      "Warning message:\n",
      "“Option grouped=FALSE enforced in cv.glmnet, since < 3 observations per fold”\n"
     ]
    },
    {
     "name": "stderr",
     "output_type": "stream",
     "text": [
      "Warning message:\n",
      "“Option grouped=FALSE enforced in cv.glmnet, since < 3 observations per fold”\n"
     ]
    },
    {
     "name": "stderr",
     "output_type": "stream",
     "text": [
      "Warning message:\n",
      "“Option grouped=FALSE enforced in cv.glmnet, since < 3 observations per fold”\n"
     ]
    },
    {
     "name": "stderr",
     "output_type": "stream",
     "text": [
      "Warning message:\n",
      "“Option grouped=FALSE enforced in cv.glmnet, since < 3 observations per fold”\n"
     ]
    },
    {
     "name": "stderr",
     "output_type": "stream",
     "text": [
      "Warning message:\n",
      "“Option grouped=FALSE enforced in cv.glmnet, since < 3 observations per fold”\n"
     ]
    },
    {
     "name": "stderr",
     "output_type": "stream",
     "text": [
      "Warning message:\n",
      "“Option grouped=FALSE enforced in cv.glmnet, since < 3 observations per fold”\n"
     ]
    },
    {
     "name": "stderr",
     "output_type": "stream",
     "text": [
      "Warning message:\n",
      "“Option grouped=FALSE enforced in cv.glmnet, since < 3 observations per fold”\n"
     ]
    },
    {
     "name": "stderr",
     "output_type": "stream",
     "text": [
      "Warning message:\n",
      "“Option grouped=FALSE enforced in cv.glmnet, since < 3 observations per fold”\n"
     ]
    },
    {
     "name": "stderr",
     "output_type": "stream",
     "text": [
      "Warning message:\n",
      "“Option grouped=FALSE enforced in cv.glmnet, since < 3 observations per fold”\n"
     ]
    },
    {
     "name": "stderr",
     "output_type": "stream",
     "text": [
      "Warning message:\n",
      "“Option grouped=FALSE enforced in cv.glmnet, since < 3 observations per fold”\n"
     ]
    },
    {
     "name": "stderr",
     "output_type": "stream",
     "text": [
      "Warning message:\n",
      "“Option grouped=FALSE enforced in cv.glmnet, since < 3 observations per fold”\n"
     ]
    },
    {
     "name": "stderr",
     "output_type": "stream",
     "text": [
      "Warning message:\n",
      "“Option grouped=FALSE enforced in cv.glmnet, since < 3 observations per fold”\n"
     ]
    },
    {
     "name": "stderr",
     "output_type": "stream",
     "text": [
      "Warning message:\n",
      "“Option grouped=FALSE enforced in cv.glmnet, since < 3 observations per fold”\n"
     ]
    },
    {
     "name": "stderr",
     "output_type": "stream",
     "text": [
      "Warning message:\n",
      "“Option grouped=FALSE enforced in cv.glmnet, since < 3 observations per fold”\n"
     ]
    },
    {
     "name": "stderr",
     "output_type": "stream",
     "text": [
      "Warning message:\n",
      "“Option grouped=FALSE enforced in cv.glmnet, since < 3 observations per fold”\n"
     ]
    },
    {
     "name": "stderr",
     "output_type": "stream",
     "text": [
      "Warning message:\n",
      "“Option grouped=FALSE enforced in cv.glmnet, since < 3 observations per fold”\n"
     ]
    },
    {
     "name": "stderr",
     "output_type": "stream",
     "text": [
      "Warning message:\n",
      "“Option grouped=FALSE enforced in cv.glmnet, since < 3 observations per fold”\n"
     ]
    },
    {
     "name": "stderr",
     "output_type": "stream",
     "text": [
      "Warning message:\n",
      "“Option grouped=FALSE enforced in cv.glmnet, since < 3 observations per fold”\n"
     ]
    },
    {
     "name": "stdout",
     "output_type": "stream",
     "text": [
      "[1] \"Running MC-NMN\"\n"
     ]
    },
    {
     "name": "stderr",
     "output_type": "stream",
     "text": [
      "Warning message:\n",
      "“Option grouped=FALSE enforced in cv.glmnet, since < 3 observations per fold”\n"
     ]
    },
    {
     "name": "stderr",
     "output_type": "stream",
     "text": [
      "Warning message:\n",
      "“Option grouped=FALSE enforced in cv.glmnet, since < 3 observations per fold”\n"
     ]
    },
    {
     "name": "stderr",
     "output_type": "stream",
     "text": [
      "Warning message:\n",
      "“Option grouped=FALSE enforced in cv.glmnet, since < 3 observations per fold”\n"
     ]
    },
    {
     "name": "stderr",
     "output_type": "stream",
     "text": [
      "Warning message:\n",
      "“Option grouped=FALSE enforced in cv.glmnet, since < 3 observations per fold”\n"
     ]
    },
    {
     "name": "stderr",
     "output_type": "stream",
     "text": [
      "Warning message:\n",
      "“Option grouped=FALSE enforced in cv.glmnet, since < 3 observations per fold”\n"
     ]
    },
    {
     "name": "stderr",
     "output_type": "stream",
     "text": [
      "Warning message:\n",
      "“Option grouped=FALSE enforced in cv.glmnet, since < 3 observations per fold”\n"
     ]
    },
    {
     "name": "stderr",
     "output_type": "stream",
     "text": [
      "Warning message:\n",
      "“Option grouped=FALSE enforced in cv.glmnet, since < 3 observations per fold”\n"
     ]
    },
    {
     "name": "stderr",
     "output_type": "stream",
     "text": [
      "Warning message:\n",
      "“Option grouped=FALSE enforced in cv.glmnet, since < 3 observations per fold”\n"
     ]
    },
    {
     "name": "stderr",
     "output_type": "stream",
     "text": [
      "Warning message:\n",
      "“Option grouped=FALSE enforced in cv.glmnet, since < 3 observations per fold”\n"
     ]
    },
    {
     "name": "stderr",
     "output_type": "stream",
     "text": [
      "Warning message:\n",
      "“Option grouped=FALSE enforced in cv.glmnet, since < 3 observations per fold”\n"
     ]
    },
    {
     "name": "stderr",
     "output_type": "stream",
     "text": [
      "Warning message:\n",
      "“Option grouped=FALSE enforced in cv.glmnet, since < 3 observations per fold”\n"
     ]
    },
    {
     "name": "stderr",
     "output_type": "stream",
     "text": [
      "Warning message:\n",
      "“Option grouped=FALSE enforced in cv.glmnet, since < 3 observations per fold”\n"
     ]
    },
    {
     "name": "stderr",
     "output_type": "stream",
     "text": [
      "Warning message:\n",
      "“Option grouped=FALSE enforced in cv.glmnet, since < 3 observations per fold”\n"
     ]
    },
    {
     "name": "stderr",
     "output_type": "stream",
     "text": [
      "Warning message:\n",
      "“Option grouped=FALSE enforced in cv.glmnet, since < 3 observations per fold”\n"
     ]
    },
    {
     "name": "stderr",
     "output_type": "stream",
     "text": [
      "Warning message:\n",
      "“Option grouped=FALSE enforced in cv.glmnet, since < 3 observations per fold”\n"
     ]
    },
    {
     "name": "stdout",
     "output_type": "stream",
     "text": [
      "[1] \"Running MC-NMN\"\n"
     ]
    },
    {
     "name": "stderr",
     "output_type": "stream",
     "text": [
      "Warning message:\n",
      "“Option grouped=FALSE enforced in cv.glmnet, since < 3 observations per fold”\n"
     ]
    },
    {
     "name": "stderr",
     "output_type": "stream",
     "text": [
      "Warning message:\n",
      "“Option grouped=FALSE enforced in cv.glmnet, since < 3 observations per fold”\n"
     ]
    },
    {
     "name": "stderr",
     "output_type": "stream",
     "text": [
      "Warning message:\n",
      "“Option grouped=FALSE enforced in cv.glmnet, since < 3 observations per fold”\n"
     ]
    },
    {
     "name": "stderr",
     "output_type": "stream",
     "text": [
      "Warning message:\n",
      "“Option grouped=FALSE enforced in cv.glmnet, since < 3 observations per fold”\n"
     ]
    },
    {
     "name": "stderr",
     "output_type": "stream",
     "text": [
      "Warning message:\n",
      "“Option grouped=FALSE enforced in cv.glmnet, since < 3 observations per fold”\n"
     ]
    },
    {
     "name": "stdout",
     "output_type": "stream",
     "text": [
      "[1] \"Running MC-NMN\"\n"
     ]
    },
    {
     "name": "stderr",
     "output_type": "stream",
     "text": [
      "Warning message:\n",
      "“Option grouped=FALSE enforced in cv.glmnet, since < 3 observations per fold”\n"
     ]
    },
    {
     "name": "stderr",
     "output_type": "stream",
     "text": [
      "Warning message:\n",
      "“Option grouped=FALSE enforced in cv.glmnet, since < 3 observations per fold”\n"
     ]
    },
    {
     "name": "stderr",
     "output_type": "stream",
     "text": [
      "Warning message:\n",
      "“Option grouped=FALSE enforced in cv.glmnet, since < 3 observations per fold”\n"
     ]
    },
    {
     "name": "stdout",
     "output_type": "stream",
     "text": [
      "[1] \"Running MC-NMN\"\n"
     ]
    },
    {
     "name": "stderr",
     "output_type": "stream",
     "text": [
      "Warning message:\n",
      "“Option grouped=FALSE enforced in cv.glmnet, since < 3 observations per fold”\n"
     ]
    },
    {
     "name": "stdout",
     "output_type": "stream",
     "text": [
      "[1] \"Run number 7 started\"\n",
      "[1] \"Running MC-NMN\"\n"
     ]
    },
    {
     "name": "stderr",
     "output_type": "stream",
     "text": [
      "Warning message:\n",
      "“Option grouped=FALSE enforced in cv.glmnet, since < 3 observations per fold”\n"
     ]
    },
    {
     "name": "stderr",
     "output_type": "stream",
     "text": [
      "Warning message:\n",
      "“Option grouped=FALSE enforced in cv.glmnet, since < 3 observations per fold”\n"
     ]
    },
    {
     "name": "stderr",
     "output_type": "stream",
     "text": [
      "Warning message:\n",
      "“Option grouped=FALSE enforced in cv.glmnet, since < 3 observations per fold”\n"
     ]
    },
    {
     "name": "stderr",
     "output_type": "stream",
     "text": [
      "Warning message:\n",
      "“Option grouped=FALSE enforced in cv.glmnet, since < 3 observations per fold”\n"
     ]
    },
    {
     "name": "stderr",
     "output_type": "stream",
     "text": [
      "Warning message:\n",
      "“Option grouped=FALSE enforced in cv.glmnet, since < 3 observations per fold”\n"
     ]
    },
    {
     "name": "stderr",
     "output_type": "stream",
     "text": [
      "Warning message:\n",
      "“Option grouped=FALSE enforced in cv.glmnet, since < 3 observations per fold”\n"
     ]
    },
    {
     "name": "stderr",
     "output_type": "stream",
     "text": [
      "Warning message:\n",
      "“Option grouped=FALSE enforced in cv.glmnet, since < 3 observations per fold”\n"
     ]
    },
    {
     "name": "stderr",
     "output_type": "stream",
     "text": [
      "Warning message:\n",
      "“Option grouped=FALSE enforced in cv.glmnet, since < 3 observations per fold”\n"
     ]
    },
    {
     "name": "stderr",
     "output_type": "stream",
     "text": [
      "Warning message:\n",
      "“Option grouped=FALSE enforced in cv.glmnet, since < 3 observations per fold”\n"
     ]
    },
    {
     "name": "stderr",
     "output_type": "stream",
     "text": [
      "Warning message:\n",
      "“Option grouped=FALSE enforced in cv.glmnet, since < 3 observations per fold”\n"
     ]
    },
    {
     "name": "stderr",
     "output_type": "stream",
     "text": [
      "Warning message:\n",
      "“Option grouped=FALSE enforced in cv.glmnet, since < 3 observations per fold”\n"
     ]
    },
    {
     "name": "stderr",
     "output_type": "stream",
     "text": [
      "Warning message:\n",
      "“Option grouped=FALSE enforced in cv.glmnet, since < 3 observations per fold”\n"
     ]
    },
    {
     "name": "stderr",
     "output_type": "stream",
     "text": [
      "Warning message:\n",
      "“Option grouped=FALSE enforced in cv.glmnet, since < 3 observations per fold”\n"
     ]
    },
    {
     "name": "stderr",
     "output_type": "stream",
     "text": [
      "Warning message:\n",
      "“Option grouped=FALSE enforced in cv.glmnet, since < 3 observations per fold”\n"
     ]
    },
    {
     "name": "stderr",
     "output_type": "stream",
     "text": [
      "Warning message:\n",
      "“Option grouped=FALSE enforced in cv.glmnet, since < 3 observations per fold”\n"
     ]
    },
    {
     "name": "stderr",
     "output_type": "stream",
     "text": [
      "Warning message:\n",
      "“Option grouped=FALSE enforced in cv.glmnet, since < 3 observations per fold”\n"
     ]
    },
    {
     "name": "stderr",
     "output_type": "stream",
     "text": [
      "Warning message:\n",
      "“Option grouped=FALSE enforced in cv.glmnet, since < 3 observations per fold”\n"
     ]
    },
    {
     "name": "stderr",
     "output_type": "stream",
     "text": [
      "Warning message:\n",
      "“Option grouped=FALSE enforced in cv.glmnet, since < 3 observations per fold”\n"
     ]
    },
    {
     "name": "stderr",
     "output_type": "stream",
     "text": [
      "Warning message:\n",
      "“Option grouped=FALSE enforced in cv.glmnet, since < 3 observations per fold”\n"
     ]
    },
    {
     "name": "stderr",
     "output_type": "stream",
     "text": [
      "Warning message:\n",
      "“Option grouped=FALSE enforced in cv.glmnet, since < 3 observations per fold”\n"
     ]
    },
    {
     "name": "stderr",
     "output_type": "stream",
     "text": [
      "Warning message:\n",
      "“Option grouped=FALSE enforced in cv.glmnet, since < 3 observations per fold”\n"
     ]
    },
    {
     "name": "stdout",
     "output_type": "stream",
     "text": [
      "[1] \"Running MC-NMN\"\n"
     ]
    },
    {
     "name": "stderr",
     "output_type": "stream",
     "text": [
      "Warning message:\n",
      "“Option grouped=FALSE enforced in cv.glmnet, since < 3 observations per fold”\n"
     ]
    },
    {
     "name": "stderr",
     "output_type": "stream",
     "text": [
      "Warning message:\n",
      "“Option grouped=FALSE enforced in cv.glmnet, since < 3 observations per fold”\n"
     ]
    },
    {
     "name": "stderr",
     "output_type": "stream",
     "text": [
      "Warning message:\n",
      "“Option grouped=FALSE enforced in cv.glmnet, since < 3 observations per fold”\n"
     ]
    },
    {
     "name": "stderr",
     "output_type": "stream",
     "text": [
      "Warning message:\n",
      "“Option grouped=FALSE enforced in cv.glmnet, since < 3 observations per fold”\n"
     ]
    },
    {
     "name": "stderr",
     "output_type": "stream",
     "text": [
      "Warning message:\n",
      "“Option grouped=FALSE enforced in cv.glmnet, since < 3 observations per fold”\n"
     ]
    },
    {
     "name": "stderr",
     "output_type": "stream",
     "text": [
      "Warning message:\n",
      "“Option grouped=FALSE enforced in cv.glmnet, since < 3 observations per fold”\n"
     ]
    },
    {
     "name": "stderr",
     "output_type": "stream",
     "text": [
      "Warning message:\n",
      "“Option grouped=FALSE enforced in cv.glmnet, since < 3 observations per fold”\n"
     ]
    },
    {
     "name": "stderr",
     "output_type": "stream",
     "text": [
      "Warning message:\n",
      "“Option grouped=FALSE enforced in cv.glmnet, since < 3 observations per fold”\n"
     ]
    },
    {
     "name": "stderr",
     "output_type": "stream",
     "text": [
      "Warning message:\n",
      "“Option grouped=FALSE enforced in cv.glmnet, since < 3 observations per fold”\n"
     ]
    },
    {
     "name": "stderr",
     "output_type": "stream",
     "text": [
      "Warning message:\n",
      "“Option grouped=FALSE enforced in cv.glmnet, since < 3 observations per fold”\n"
     ]
    },
    {
     "name": "stderr",
     "output_type": "stream",
     "text": [
      "Warning message:\n",
      "“Option grouped=FALSE enforced in cv.glmnet, since < 3 observations per fold”\n"
     ]
    },
    {
     "name": "stderr",
     "output_type": "stream",
     "text": [
      "Warning message:\n",
      "“Option grouped=FALSE enforced in cv.glmnet, since < 3 observations per fold”\n"
     ]
    },
    {
     "name": "stderr",
     "output_type": "stream",
     "text": [
      "Warning message:\n",
      "“Option grouped=FALSE enforced in cv.glmnet, since < 3 observations per fold”\n"
     ]
    },
    {
     "name": "stderr",
     "output_type": "stream",
     "text": [
      "Warning message:\n",
      "“Option grouped=FALSE enforced in cv.glmnet, since < 3 observations per fold”\n"
     ]
    },
    {
     "name": "stderr",
     "output_type": "stream",
     "text": [
      "Warning message:\n",
      "“Option grouped=FALSE enforced in cv.glmnet, since < 3 observations per fold”\n"
     ]
    },
    {
     "name": "stdout",
     "output_type": "stream",
     "text": [
      "[1] \"Running MC-NMN\"\n"
     ]
    },
    {
     "name": "stderr",
     "output_type": "stream",
     "text": [
      "Warning message:\n",
      "“Option grouped=FALSE enforced in cv.glmnet, since < 3 observations per fold”\n"
     ]
    },
    {
     "name": "stderr",
     "output_type": "stream",
     "text": [
      "Warning message:\n",
      "“Option grouped=FALSE enforced in cv.glmnet, since < 3 observations per fold”\n"
     ]
    },
    {
     "name": "stderr",
     "output_type": "stream",
     "text": [
      "Warning message:\n",
      "“Option grouped=FALSE enforced in cv.glmnet, since < 3 observations per fold”\n"
     ]
    },
    {
     "name": "stderr",
     "output_type": "stream",
     "text": [
      "Warning message:\n",
      "“Option grouped=FALSE enforced in cv.glmnet, since < 3 observations per fold”\n"
     ]
    },
    {
     "name": "stderr",
     "output_type": "stream",
     "text": [
      "Warning message:\n",
      "“Option grouped=FALSE enforced in cv.glmnet, since < 3 observations per fold”\n"
     ]
    },
    {
     "name": "stdout",
     "output_type": "stream",
     "text": [
      "[1] \"Running MC-NMN\"\n"
     ]
    },
    {
     "name": "stderr",
     "output_type": "stream",
     "text": [
      "Warning message:\n",
      "“Option grouped=FALSE enforced in cv.glmnet, since < 3 observations per fold”\n"
     ]
    },
    {
     "name": "stderr",
     "output_type": "stream",
     "text": [
      "Warning message:\n",
      "“Option grouped=FALSE enforced in cv.glmnet, since < 3 observations per fold”\n"
     ]
    },
    {
     "name": "stderr",
     "output_type": "stream",
     "text": [
      "Warning message:\n",
      "“Option grouped=FALSE enforced in cv.glmnet, since < 3 observations per fold”\n"
     ]
    },
    {
     "name": "stdout",
     "output_type": "stream",
     "text": [
      "[1] \"Running MC-NMN\"\n"
     ]
    },
    {
     "name": "stderr",
     "output_type": "stream",
     "text": [
      "Warning message:\n",
      "“Option grouped=FALSE enforced in cv.glmnet, since < 3 observations per fold”\n"
     ]
    },
    {
     "name": "stdout",
     "output_type": "stream",
     "text": [
      "[1] \"Run number 8 started\"\n",
      "[1] \"Running MC-NMN\"\n"
     ]
    },
    {
     "name": "stderr",
     "output_type": "stream",
     "text": [
      "Warning message:\n",
      "“Option grouped=FALSE enforced in cv.glmnet, since < 3 observations per fold”\n"
     ]
    },
    {
     "name": "stderr",
     "output_type": "stream",
     "text": [
      "Warning message:\n",
      "“Option grouped=FALSE enforced in cv.glmnet, since < 3 observations per fold”\n"
     ]
    },
    {
     "name": "stderr",
     "output_type": "stream",
     "text": [
      "Warning message:\n",
      "“Option grouped=FALSE enforced in cv.glmnet, since < 3 observations per fold”\n"
     ]
    },
    {
     "name": "stderr",
     "output_type": "stream",
     "text": [
      "Warning message:\n",
      "“Option grouped=FALSE enforced in cv.glmnet, since < 3 observations per fold”\n"
     ]
    },
    {
     "name": "stderr",
     "output_type": "stream",
     "text": [
      "Warning message:\n",
      "“Option grouped=FALSE enforced in cv.glmnet, since < 3 observations per fold”\n"
     ]
    },
    {
     "name": "stderr",
     "output_type": "stream",
     "text": [
      "Warning message:\n",
      "“Option grouped=FALSE enforced in cv.glmnet, since < 3 observations per fold”\n"
     ]
    },
    {
     "name": "stderr",
     "output_type": "stream",
     "text": [
      "Warning message:\n",
      "“Option grouped=FALSE enforced in cv.glmnet, since < 3 observations per fold”\n"
     ]
    },
    {
     "name": "stderr",
     "output_type": "stream",
     "text": [
      "Warning message:\n",
      "“Option grouped=FALSE enforced in cv.glmnet, since < 3 observations per fold”\n"
     ]
    },
    {
     "name": "stderr",
     "output_type": "stream",
     "text": [
      "Warning message:\n",
      "“Option grouped=FALSE enforced in cv.glmnet, since < 3 observations per fold”\n"
     ]
    },
    {
     "name": "stderr",
     "output_type": "stream",
     "text": [
      "Warning message:\n",
      "“Option grouped=FALSE enforced in cv.glmnet, since < 3 observations per fold”\n"
     ]
    },
    {
     "name": "stderr",
     "output_type": "stream",
     "text": [
      "Warning message:\n",
      "“Option grouped=FALSE enforced in cv.glmnet, since < 3 observations per fold”\n"
     ]
    },
    {
     "name": "stderr",
     "output_type": "stream",
     "text": [
      "Warning message:\n",
      "“Option grouped=FALSE enforced in cv.glmnet, since < 3 observations per fold”\n"
     ]
    },
    {
     "name": "stderr",
     "output_type": "stream",
     "text": [
      "Warning message:\n",
      "“Option grouped=FALSE enforced in cv.glmnet, since < 3 observations per fold”\n"
     ]
    },
    {
     "name": "stderr",
     "output_type": "stream",
     "text": [
      "Warning message:\n",
      "“Option grouped=FALSE enforced in cv.glmnet, since < 3 observations per fold”\n"
     ]
    },
    {
     "name": "stderr",
     "output_type": "stream",
     "text": [
      "Warning message:\n",
      "“Option grouped=FALSE enforced in cv.glmnet, since < 3 observations per fold”\n"
     ]
    },
    {
     "name": "stderr",
     "output_type": "stream",
     "text": [
      "Warning message:\n",
      "“Option grouped=FALSE enforced in cv.glmnet, since < 3 observations per fold”\n"
     ]
    },
    {
     "name": "stderr",
     "output_type": "stream",
     "text": [
      "Warning message:\n",
      "“Option grouped=FALSE enforced in cv.glmnet, since < 3 observations per fold”\n"
     ]
    },
    {
     "name": "stderr",
     "output_type": "stream",
     "text": [
      "Warning message:\n",
      "“Option grouped=FALSE enforced in cv.glmnet, since < 3 observations per fold”\n"
     ]
    },
    {
     "name": "stderr",
     "output_type": "stream",
     "text": [
      "Warning message:\n",
      "“Option grouped=FALSE enforced in cv.glmnet, since < 3 observations per fold”\n"
     ]
    },
    {
     "name": "stderr",
     "output_type": "stream",
     "text": [
      "Warning message:\n",
      "“Option grouped=FALSE enforced in cv.glmnet, since < 3 observations per fold”\n"
     ]
    },
    {
     "name": "stderr",
     "output_type": "stream",
     "text": [
      "Warning message:\n",
      "“Option grouped=FALSE enforced in cv.glmnet, since < 3 observations per fold”\n"
     ]
    },
    {
     "name": "stdout",
     "output_type": "stream",
     "text": [
      "[1] \"Running MC-NMN\"\n"
     ]
    },
    {
     "name": "stderr",
     "output_type": "stream",
     "text": [
      "Warning message:\n",
      "“Option grouped=FALSE enforced in cv.glmnet, since < 3 observations per fold”\n"
     ]
    },
    {
     "name": "stderr",
     "output_type": "stream",
     "text": [
      "Warning message:\n",
      "“Option grouped=FALSE enforced in cv.glmnet, since < 3 observations per fold”\n"
     ]
    },
    {
     "name": "stderr",
     "output_type": "stream",
     "text": [
      "Warning message:\n",
      "“Option grouped=FALSE enforced in cv.glmnet, since < 3 observations per fold”\n"
     ]
    },
    {
     "name": "stderr",
     "output_type": "stream",
     "text": [
      "Warning message:\n",
      "“Option grouped=FALSE enforced in cv.glmnet, since < 3 observations per fold”\n"
     ]
    },
    {
     "name": "stderr",
     "output_type": "stream",
     "text": [
      "Warning message:\n",
      "“Option grouped=FALSE enforced in cv.glmnet, since < 3 observations per fold”\n"
     ]
    },
    {
     "name": "stderr",
     "output_type": "stream",
     "text": [
      "Warning message:\n",
      "“Option grouped=FALSE enforced in cv.glmnet, since < 3 observations per fold”\n"
     ]
    },
    {
     "name": "stderr",
     "output_type": "stream",
     "text": [
      "Warning message:\n",
      "“Option grouped=FALSE enforced in cv.glmnet, since < 3 observations per fold”\n"
     ]
    },
    {
     "name": "stderr",
     "output_type": "stream",
     "text": [
      "Warning message:\n",
      "“Option grouped=FALSE enforced in cv.glmnet, since < 3 observations per fold”\n"
     ]
    },
    {
     "name": "stderr",
     "output_type": "stream",
     "text": [
      "Warning message:\n",
      "“Option grouped=FALSE enforced in cv.glmnet, since < 3 observations per fold”\n"
     ]
    },
    {
     "name": "stderr",
     "output_type": "stream",
     "text": [
      "Warning message:\n",
      "“Option grouped=FALSE enforced in cv.glmnet, since < 3 observations per fold”\n"
     ]
    },
    {
     "name": "stderr",
     "output_type": "stream",
     "text": [
      "Warning message:\n",
      "“Option grouped=FALSE enforced in cv.glmnet, since < 3 observations per fold”\n"
     ]
    },
    {
     "name": "stderr",
     "output_type": "stream",
     "text": [
      "Warning message:\n",
      "“Option grouped=FALSE enforced in cv.glmnet, since < 3 observations per fold”\n"
     ]
    },
    {
     "name": "stderr",
     "output_type": "stream",
     "text": [
      "Warning message:\n",
      "“Option grouped=FALSE enforced in cv.glmnet, since < 3 observations per fold”\n"
     ]
    },
    {
     "name": "stderr",
     "output_type": "stream",
     "text": [
      "Warning message:\n",
      "“Option grouped=FALSE enforced in cv.glmnet, since < 3 observations per fold”\n"
     ]
    },
    {
     "name": "stderr",
     "output_type": "stream",
     "text": [
      "Warning message:\n",
      "“Option grouped=FALSE enforced in cv.glmnet, since < 3 observations per fold”\n"
     ]
    },
    {
     "name": "stdout",
     "output_type": "stream",
     "text": [
      "[1] \"Running MC-NMN\"\n"
     ]
    },
    {
     "name": "stderr",
     "output_type": "stream",
     "text": [
      "Warning message:\n",
      "“Option grouped=FALSE enforced in cv.glmnet, since < 3 observations per fold”\n"
     ]
    },
    {
     "name": "stderr",
     "output_type": "stream",
     "text": [
      "Warning message:\n",
      "“Option grouped=FALSE enforced in cv.glmnet, since < 3 observations per fold”\n"
     ]
    },
    {
     "name": "stderr",
     "output_type": "stream",
     "text": [
      "Warning message:\n",
      "“Option grouped=FALSE enforced in cv.glmnet, since < 3 observations per fold”\n"
     ]
    },
    {
     "name": "stderr",
     "output_type": "stream",
     "text": [
      "Warning message:\n",
      "“Option grouped=FALSE enforced in cv.glmnet, since < 3 observations per fold”\n"
     ]
    },
    {
     "name": "stderr",
     "output_type": "stream",
     "text": [
      "Warning message:\n",
      "“Option grouped=FALSE enforced in cv.glmnet, since < 3 observations per fold”\n"
     ]
    },
    {
     "name": "stdout",
     "output_type": "stream",
     "text": [
      "[1] \"Running MC-NMN\"\n"
     ]
    },
    {
     "name": "stderr",
     "output_type": "stream",
     "text": [
      "Warning message:\n",
      "“Option grouped=FALSE enforced in cv.glmnet, since < 3 observations per fold”\n"
     ]
    },
    {
     "name": "stderr",
     "output_type": "stream",
     "text": [
      "Warning message:\n",
      "“Option grouped=FALSE enforced in cv.glmnet, since < 3 observations per fold”\n"
     ]
    },
    {
     "name": "stderr",
     "output_type": "stream",
     "text": [
      "Warning message:\n",
      "“Option grouped=FALSE enforced in cv.glmnet, since < 3 observations per fold”\n"
     ]
    },
    {
     "name": "stdout",
     "output_type": "stream",
     "text": [
      "[1] \"Running MC-NMN\"\n"
     ]
    },
    {
     "name": "stderr",
     "output_type": "stream",
     "text": [
      "Warning message:\n",
      "“Option grouped=FALSE enforced in cv.glmnet, since < 3 observations per fold”\n"
     ]
    },
    {
     "name": "stdout",
     "output_type": "stream",
     "text": [
      "[1] \"Run number 9 started\"\n",
      "[1] \"Running MC-NMN\"\n"
     ]
    },
    {
     "name": "stderr",
     "output_type": "stream",
     "text": [
      "Warning message:\n",
      "“Option grouped=FALSE enforced in cv.glmnet, since < 3 observations per fold”\n"
     ]
    },
    {
     "name": "stderr",
     "output_type": "stream",
     "text": [
      "Warning message:\n",
      "“Option grouped=FALSE enforced in cv.glmnet, since < 3 observations per fold”\n"
     ]
    },
    {
     "name": "stderr",
     "output_type": "stream",
     "text": [
      "Warning message:\n",
      "“Option grouped=FALSE enforced in cv.glmnet, since < 3 observations per fold”\n"
     ]
    },
    {
     "name": "stderr",
     "output_type": "stream",
     "text": [
      "Warning message:\n",
      "“Option grouped=FALSE enforced in cv.glmnet, since < 3 observations per fold”\n"
     ]
    },
    {
     "name": "stderr",
     "output_type": "stream",
     "text": [
      "Warning message:\n",
      "“Option grouped=FALSE enforced in cv.glmnet, since < 3 observations per fold”\n"
     ]
    },
    {
     "name": "stderr",
     "output_type": "stream",
     "text": [
      "Warning message:\n",
      "“Option grouped=FALSE enforced in cv.glmnet, since < 3 observations per fold”\n"
     ]
    },
    {
     "name": "stderr",
     "output_type": "stream",
     "text": [
      "Warning message:\n",
      "“Option grouped=FALSE enforced in cv.glmnet, since < 3 observations per fold”\n"
     ]
    },
    {
     "name": "stderr",
     "output_type": "stream",
     "text": [
      "Warning message:\n",
      "“Option grouped=FALSE enforced in cv.glmnet, since < 3 observations per fold”\n"
     ]
    },
    {
     "name": "stderr",
     "output_type": "stream",
     "text": [
      "Warning message:\n",
      "“Option grouped=FALSE enforced in cv.glmnet, since < 3 observations per fold”\n"
     ]
    },
    {
     "name": "stderr",
     "output_type": "stream",
     "text": [
      "Warning message:\n",
      "“Option grouped=FALSE enforced in cv.glmnet, since < 3 observations per fold”\n"
     ]
    },
    {
     "name": "stderr",
     "output_type": "stream",
     "text": [
      "Warning message:\n",
      "“Option grouped=FALSE enforced in cv.glmnet, since < 3 observations per fold”\n"
     ]
    },
    {
     "name": "stderr",
     "output_type": "stream",
     "text": [
      "Warning message:\n",
      "“Option grouped=FALSE enforced in cv.glmnet, since < 3 observations per fold”\n"
     ]
    },
    {
     "name": "stderr",
     "output_type": "stream",
     "text": [
      "Warning message:\n",
      "“Option grouped=FALSE enforced in cv.glmnet, since < 3 observations per fold”\n"
     ]
    },
    {
     "name": "stderr",
     "output_type": "stream",
     "text": [
      "Warning message:\n",
      "“Option grouped=FALSE enforced in cv.glmnet, since < 3 observations per fold”\n"
     ]
    },
    {
     "name": "stderr",
     "output_type": "stream",
     "text": [
      "Warning message:\n",
      "“Option grouped=FALSE enforced in cv.glmnet, since < 3 observations per fold”\n"
     ]
    },
    {
     "name": "stderr",
     "output_type": "stream",
     "text": [
      "Warning message:\n",
      "“Option grouped=FALSE enforced in cv.glmnet, since < 3 observations per fold”\n"
     ]
    },
    {
     "name": "stderr",
     "output_type": "stream",
     "text": [
      "Warning message:\n",
      "“Option grouped=FALSE enforced in cv.glmnet, since < 3 observations per fold”\n"
     ]
    },
    {
     "name": "stderr",
     "output_type": "stream",
     "text": [
      "Warning message:\n",
      "“Option grouped=FALSE enforced in cv.glmnet, since < 3 observations per fold”\n"
     ]
    },
    {
     "name": "stderr",
     "output_type": "stream",
     "text": [
      "Warning message:\n",
      "“Option grouped=FALSE enforced in cv.glmnet, since < 3 observations per fold”\n"
     ]
    },
    {
     "name": "stderr",
     "output_type": "stream",
     "text": [
      "Warning message:\n",
      "“Option grouped=FALSE enforced in cv.glmnet, since < 3 observations per fold”\n"
     ]
    },
    {
     "name": "stderr",
     "output_type": "stream",
     "text": [
      "Warning message:\n",
      "“Option grouped=FALSE enforced in cv.glmnet, since < 3 observations per fold”\n"
     ]
    },
    {
     "name": "stdout",
     "output_type": "stream",
     "text": [
      "[1] \"Running MC-NMN\"\n"
     ]
    },
    {
     "name": "stderr",
     "output_type": "stream",
     "text": [
      "Warning message:\n",
      "“Option grouped=FALSE enforced in cv.glmnet, since < 3 observations per fold”\n"
     ]
    },
    {
     "name": "stderr",
     "output_type": "stream",
     "text": [
      "Warning message:\n",
      "“Option grouped=FALSE enforced in cv.glmnet, since < 3 observations per fold”\n"
     ]
    },
    {
     "name": "stderr",
     "output_type": "stream",
     "text": [
      "Warning message:\n",
      "“Option grouped=FALSE enforced in cv.glmnet, since < 3 observations per fold”\n"
     ]
    },
    {
     "name": "stderr",
     "output_type": "stream",
     "text": [
      "Warning message:\n",
      "“Option grouped=FALSE enforced in cv.glmnet, since < 3 observations per fold”\n"
     ]
    },
    {
     "name": "stderr",
     "output_type": "stream",
     "text": [
      "Warning message:\n",
      "“Option grouped=FALSE enforced in cv.glmnet, since < 3 observations per fold”\n"
     ]
    },
    {
     "name": "stderr",
     "output_type": "stream",
     "text": [
      "Warning message:\n",
      "“Option grouped=FALSE enforced in cv.glmnet, since < 3 observations per fold”\n"
     ]
    },
    {
     "name": "stderr",
     "output_type": "stream",
     "text": [
      "Warning message:\n",
      "“Option grouped=FALSE enforced in cv.glmnet, since < 3 observations per fold”\n"
     ]
    },
    {
     "name": "stderr",
     "output_type": "stream",
     "text": [
      "Warning message:\n",
      "“Option grouped=FALSE enforced in cv.glmnet, since < 3 observations per fold”\n"
     ]
    },
    {
     "name": "stderr",
     "output_type": "stream",
     "text": [
      "Warning message:\n",
      "“Option grouped=FALSE enforced in cv.glmnet, since < 3 observations per fold”\n"
     ]
    },
    {
     "name": "stderr",
     "output_type": "stream",
     "text": [
      "Warning message:\n",
      "“Option grouped=FALSE enforced in cv.glmnet, since < 3 observations per fold”\n"
     ]
    },
    {
     "name": "stderr",
     "output_type": "stream",
     "text": [
      "Warning message:\n",
      "“Option grouped=FALSE enforced in cv.glmnet, since < 3 observations per fold”\n"
     ]
    },
    {
     "name": "stderr",
     "output_type": "stream",
     "text": [
      "Warning message:\n",
      "“Option grouped=FALSE enforced in cv.glmnet, since < 3 observations per fold”\n"
     ]
    },
    {
     "name": "stderr",
     "output_type": "stream",
     "text": [
      "Warning message:\n",
      "“Option grouped=FALSE enforced in cv.glmnet, since < 3 observations per fold”\n"
     ]
    },
    {
     "name": "stderr",
     "output_type": "stream",
     "text": [
      "Warning message:\n",
      "“Option grouped=FALSE enforced in cv.glmnet, since < 3 observations per fold”\n"
     ]
    },
    {
     "name": "stderr",
     "output_type": "stream",
     "text": [
      "Warning message:\n",
      "“Option grouped=FALSE enforced in cv.glmnet, since < 3 observations per fold”\n"
     ]
    },
    {
     "name": "stdout",
     "output_type": "stream",
     "text": [
      "[1] \"Running MC-NMN\"\n"
     ]
    },
    {
     "name": "stderr",
     "output_type": "stream",
     "text": [
      "Warning message:\n",
      "“Option grouped=FALSE enforced in cv.glmnet, since < 3 observations per fold”\n"
     ]
    },
    {
     "name": "stderr",
     "output_type": "stream",
     "text": [
      "Warning message:\n",
      "“Option grouped=FALSE enforced in cv.glmnet, since < 3 observations per fold”\n"
     ]
    },
    {
     "name": "stderr",
     "output_type": "stream",
     "text": [
      "Warning message:\n",
      "“Option grouped=FALSE enforced in cv.glmnet, since < 3 observations per fold”\n"
     ]
    },
    {
     "name": "stderr",
     "output_type": "stream",
     "text": [
      "Warning message:\n",
      "“Option grouped=FALSE enforced in cv.glmnet, since < 3 observations per fold”\n"
     ]
    },
    {
     "name": "stderr",
     "output_type": "stream",
     "text": [
      "Warning message:\n",
      "“Option grouped=FALSE enforced in cv.glmnet, since < 3 observations per fold”\n"
     ]
    },
    {
     "name": "stdout",
     "output_type": "stream",
     "text": [
      "[1] \"Running MC-NMN\"\n"
     ]
    },
    {
     "name": "stderr",
     "output_type": "stream",
     "text": [
      "Warning message:\n",
      "“Option grouped=FALSE enforced in cv.glmnet, since < 3 observations per fold”\n"
     ]
    },
    {
     "name": "stderr",
     "output_type": "stream",
     "text": [
      "Warning message:\n",
      "“Option grouped=FALSE enforced in cv.glmnet, since < 3 observations per fold”\n"
     ]
    },
    {
     "name": "stderr",
     "output_type": "stream",
     "text": [
      "Warning message:\n",
      "“Option grouped=FALSE enforced in cv.glmnet, since < 3 observations per fold”\n"
     ]
    },
    {
     "name": "stdout",
     "output_type": "stream",
     "text": [
      "[1] \"Running MC-NMN\"\n"
     ]
    },
    {
     "name": "stderr",
     "output_type": "stream",
     "text": [
      "Warning message:\n",
      "“Option grouped=FALSE enforced in cv.glmnet, since < 3 observations per fold”\n"
     ]
    },
    {
     "name": "stdout",
     "output_type": "stream",
     "text": [
      "[1] \"Run number 10 started\"\n",
      "[1] \"Running MC-NMN\"\n"
     ]
    },
    {
     "name": "stderr",
     "output_type": "stream",
     "text": [
      "Warning message:\n",
      "“Option grouped=FALSE enforced in cv.glmnet, since < 3 observations per fold”\n"
     ]
    },
    {
     "name": "stderr",
     "output_type": "stream",
     "text": [
      "Warning message:\n",
      "“Option grouped=FALSE enforced in cv.glmnet, since < 3 observations per fold”\n"
     ]
    },
    {
     "name": "stderr",
     "output_type": "stream",
     "text": [
      "Warning message:\n",
      "“Option grouped=FALSE enforced in cv.glmnet, since < 3 observations per fold”\n"
     ]
    },
    {
     "name": "stderr",
     "output_type": "stream",
     "text": [
      "Warning message:\n",
      "“Option grouped=FALSE enforced in cv.glmnet, since < 3 observations per fold”\n"
     ]
    },
    {
     "name": "stderr",
     "output_type": "stream",
     "text": [
      "Warning message:\n",
      "“Option grouped=FALSE enforced in cv.glmnet, since < 3 observations per fold”\n"
     ]
    },
    {
     "name": "stderr",
     "output_type": "stream",
     "text": [
      "Warning message:\n",
      "“Option grouped=FALSE enforced in cv.glmnet, since < 3 observations per fold”\n"
     ]
    },
    {
     "name": "stderr",
     "output_type": "stream",
     "text": [
      "Warning message:\n",
      "“Option grouped=FALSE enforced in cv.glmnet, since < 3 observations per fold”\n"
     ]
    },
    {
     "name": "stderr",
     "output_type": "stream",
     "text": [
      "Warning message:\n",
      "“Option grouped=FALSE enforced in cv.glmnet, since < 3 observations per fold”\n"
     ]
    },
    {
     "name": "stderr",
     "output_type": "stream",
     "text": [
      "Warning message:\n",
      "“Option grouped=FALSE enforced in cv.glmnet, since < 3 observations per fold”\n"
     ]
    },
    {
     "name": "stderr",
     "output_type": "stream",
     "text": [
      "Warning message:\n",
      "“Option grouped=FALSE enforced in cv.glmnet, since < 3 observations per fold”\n"
     ]
    },
    {
     "name": "stderr",
     "output_type": "stream",
     "text": [
      "Warning message:\n",
      "“Option grouped=FALSE enforced in cv.glmnet, since < 3 observations per fold”\n"
     ]
    },
    {
     "name": "stderr",
     "output_type": "stream",
     "text": [
      "Warning message:\n",
      "“Option grouped=FALSE enforced in cv.glmnet, since < 3 observations per fold”\n"
     ]
    },
    {
     "name": "stderr",
     "output_type": "stream",
     "text": [
      "Warning message:\n",
      "“Option grouped=FALSE enforced in cv.glmnet, since < 3 observations per fold”\n"
     ]
    },
    {
     "name": "stderr",
     "output_type": "stream",
     "text": [
      "Warning message:\n",
      "“Option grouped=FALSE enforced in cv.glmnet, since < 3 observations per fold”\n"
     ]
    },
    {
     "name": "stderr",
     "output_type": "stream",
     "text": [
      "Warning message:\n",
      "“Option grouped=FALSE enforced in cv.glmnet, since < 3 observations per fold”\n"
     ]
    },
    {
     "name": "stderr",
     "output_type": "stream",
     "text": [
      "Warning message:\n",
      "“Option grouped=FALSE enforced in cv.glmnet, since < 3 observations per fold”\n"
     ]
    },
    {
     "name": "stderr",
     "output_type": "stream",
     "text": [
      "Warning message:\n",
      "“Option grouped=FALSE enforced in cv.glmnet, since < 3 observations per fold”\n"
     ]
    },
    {
     "name": "stderr",
     "output_type": "stream",
     "text": [
      "Warning message:\n",
      "“Option grouped=FALSE enforced in cv.glmnet, since < 3 observations per fold”\n"
     ]
    },
    {
     "name": "stderr",
     "output_type": "stream",
     "text": [
      "Warning message:\n",
      "“Option grouped=FALSE enforced in cv.glmnet, since < 3 observations per fold”\n"
     ]
    },
    {
     "name": "stderr",
     "output_type": "stream",
     "text": [
      "Warning message:\n",
      "“Option grouped=FALSE enforced in cv.glmnet, since < 3 observations per fold”\n"
     ]
    },
    {
     "name": "stderr",
     "output_type": "stream",
     "text": [
      "Warning message:\n",
      "“Option grouped=FALSE enforced in cv.glmnet, since < 3 observations per fold”\n"
     ]
    },
    {
     "name": "stdout",
     "output_type": "stream",
     "text": [
      "[1] \"Running MC-NMN\"\n"
     ]
    },
    {
     "name": "stderr",
     "output_type": "stream",
     "text": [
      "Warning message:\n",
      "“Option grouped=FALSE enforced in cv.glmnet, since < 3 observations per fold”\n"
     ]
    },
    {
     "name": "stderr",
     "output_type": "stream",
     "text": [
      "Warning message:\n",
      "“Option grouped=FALSE enforced in cv.glmnet, since < 3 observations per fold”\n"
     ]
    },
    {
     "name": "stderr",
     "output_type": "stream",
     "text": [
      "Warning message:\n",
      "“Option grouped=FALSE enforced in cv.glmnet, since < 3 observations per fold”\n"
     ]
    },
    {
     "name": "stderr",
     "output_type": "stream",
     "text": [
      "Warning message:\n",
      "“Option grouped=FALSE enforced in cv.glmnet, since < 3 observations per fold”\n"
     ]
    },
    {
     "name": "stderr",
     "output_type": "stream",
     "text": [
      "Warning message:\n",
      "“Option grouped=FALSE enforced in cv.glmnet, since < 3 observations per fold”\n"
     ]
    },
    {
     "name": "stderr",
     "output_type": "stream",
     "text": [
      "Warning message:\n",
      "“Option grouped=FALSE enforced in cv.glmnet, since < 3 observations per fold”\n"
     ]
    },
    {
     "name": "stderr",
     "output_type": "stream",
     "text": [
      "Warning message:\n",
      "“Option grouped=FALSE enforced in cv.glmnet, since < 3 observations per fold”\n"
     ]
    },
    {
     "name": "stderr",
     "output_type": "stream",
     "text": [
      "Warning message:\n",
      "“Option grouped=FALSE enforced in cv.glmnet, since < 3 observations per fold”\n"
     ]
    },
    {
     "name": "stderr",
     "output_type": "stream",
     "text": [
      "Warning message:\n",
      "“Option grouped=FALSE enforced in cv.glmnet, since < 3 observations per fold”\n"
     ]
    },
    {
     "name": "stderr",
     "output_type": "stream",
     "text": [
      "Warning message:\n",
      "“Option grouped=FALSE enforced in cv.glmnet, since < 3 observations per fold”\n"
     ]
    },
    {
     "name": "stderr",
     "output_type": "stream",
     "text": [
      "Warning message:\n",
      "“Option grouped=FALSE enforced in cv.glmnet, since < 3 observations per fold”\n"
     ]
    },
    {
     "name": "stderr",
     "output_type": "stream",
     "text": [
      "Warning message:\n",
      "“Option grouped=FALSE enforced in cv.glmnet, since < 3 observations per fold”\n"
     ]
    },
    {
     "name": "stderr",
     "output_type": "stream",
     "text": [
      "Warning message:\n",
      "“Option grouped=FALSE enforced in cv.glmnet, since < 3 observations per fold”\n"
     ]
    },
    {
     "name": "stderr",
     "output_type": "stream",
     "text": [
      "Warning message:\n",
      "“Option grouped=FALSE enforced in cv.glmnet, since < 3 observations per fold”\n"
     ]
    },
    {
     "name": "stderr",
     "output_type": "stream",
     "text": [
      "Warning message:\n",
      "“Option grouped=FALSE enforced in cv.glmnet, since < 3 observations per fold”\n"
     ]
    },
    {
     "name": "stdout",
     "output_type": "stream",
     "text": [
      "[1] \"Running MC-NMN\"\n"
     ]
    },
    {
     "name": "stderr",
     "output_type": "stream",
     "text": [
      "Warning message:\n",
      "“Option grouped=FALSE enforced in cv.glmnet, since < 3 observations per fold”\n"
     ]
    },
    {
     "name": "stderr",
     "output_type": "stream",
     "text": [
      "Warning message:\n",
      "“Option grouped=FALSE enforced in cv.glmnet, since < 3 observations per fold”\n"
     ]
    },
    {
     "name": "stderr",
     "output_type": "stream",
     "text": [
      "Warning message:\n",
      "“Option grouped=FALSE enforced in cv.glmnet, since < 3 observations per fold”\n"
     ]
    },
    {
     "name": "stderr",
     "output_type": "stream",
     "text": [
      "Warning message:\n",
      "“Option grouped=FALSE enforced in cv.glmnet, since < 3 observations per fold”\n"
     ]
    },
    {
     "name": "stderr",
     "output_type": "stream",
     "text": [
      "Warning message:\n",
      "“Option grouped=FALSE enforced in cv.glmnet, since < 3 observations per fold”\n"
     ]
    },
    {
     "name": "stdout",
     "output_type": "stream",
     "text": [
      "[1] \"Running MC-NMN\"\n"
     ]
    },
    {
     "name": "stderr",
     "output_type": "stream",
     "text": [
      "Warning message:\n",
      "“Option grouped=FALSE enforced in cv.glmnet, since < 3 observations per fold”\n"
     ]
    },
    {
     "name": "stderr",
     "output_type": "stream",
     "text": [
      "Warning message:\n",
      "“Option grouped=FALSE enforced in cv.glmnet, since < 3 observations per fold”\n"
     ]
    },
    {
     "name": "stderr",
     "output_type": "stream",
     "text": [
      "Warning message:\n",
      "“Option grouped=FALSE enforced in cv.glmnet, since < 3 observations per fold”\n"
     ]
    },
    {
     "name": "stdout",
     "output_type": "stream",
     "text": [
      "[1] \"Running MC-NMN\"\n"
     ]
    },
    {
     "name": "stderr",
     "output_type": "stream",
     "text": [
      "Warning message:\n",
      "“Option grouped=FALSE enforced in cv.glmnet, since < 3 observations per fold”\n"
     ]
    }
   ],
   "source": [
    "## Run different methods\n",
    "\n",
    "for(i in c(1:num_runs)){\n",
    "  print(paste0(paste0(\"Run number \", i),\" started\"))\n",
    "  ## Fix the treated units in the whole run for a better comparison\n",
    "  treat_indices <- sample(1:N, N_t)\n",
    "  for (j in c(1:length(T0))){\n",
    "    treat_mat <- matrix(1L, N, Tr);\n",
    "    t0 <- T0[j]\n",
    "    ## TReatment adoption\n",
    "    ### Simultaneuous (simul_adapt) or Staggered adoption (stag_adapt)\n",
    "    if(is_simul == 1){\n",
    "      treat_mat <- simul_adapt(Y, N_t, t0, treat_indices)\n",
    "    }\n",
    "    else{\n",
    "      treat_mat <- stag_adapt(Y, N_t, t0, treat_indices)\n",
    "    }\n",
    "    Y_obs <- Y * treat_mat\n",
    "\n",
    "    ## ------\n",
    "    ## MC-NNM (Matrix completion with Nuclear Norm Minimization)\n",
    "    ## ------\n",
    "    print(\"Running MC-NMN\")\n",
    "    est_model_MCPanel <- mcnnm_cv(Y_obs, treat_mat, to_estimate_u = 1, to_estimate_v = 1)\n",
    "    est_model_MCPanel$Mhat <- est_model_MCPanel$L + replicate(Tr,est_model_MCPanel$u) + t(replicate(N,est_model_MCPanel$v))\n",
    "    est_model_MCPanel$msk_err <- (est_model_MCPanel$Mhat - Y)*(1-treat_mat)\n",
    "    est_model_MCPanel$test_RMSE <- sqrt((1/sum(1-treat_mat)) * sum(est_model_MCPanel$msk_err^2))\n",
    "    MCPanel_RMSE_test[i,j] <- est_model_MCPanel$test_RMSE\n",
    "\n",
    "    ## -----\n",
    "    ## EN : It does Not cross validate on alpha (only on lambda) and keep alpha = 1 (LASSO).\n",
    "    ##      Change num_alpha to a larger number, if you are willing to wait a little longer.\n",
    "    ## -----\n",
    "\n",
    "    est_model_EN <- en_mp_rows(Y_obs, treat_mat, num_alpha = 1)\n",
    "    est_model_EN_msk_err <- (est_model_EN - Y)*(1-treat_mat)\n",
    "    est_model_EN_test_RMSE <- sqrt((1/sum(1-treat_mat)) * sum(est_model_EN_msk_err^2))\n",
    "    EN_RMSE_test[i,j] <- est_model_EN_test_RMSE\n",
    "\n",
    "    ## -----\n",
    "    ## EN_T : It does Not cross validate on alpha (only on lambda) and keep alpha = 1 (LASSO).\n",
    "    ##        Change num_alpha to a larger number, if you are willing to wait a little longer.\n",
    "    ## -----\n",
    "    est_model_ENT <- t(en_mp_rows(t(Y_obs), t(treat_mat), num_alpha = 1))\n",
    "    est_model_ENT_msk_err <- (est_model_ENT - Y)*(1-treat_mat)\n",
    "    est_model_ENT_test_RMSE <- sqrt((1/sum(1-treat_mat)) * sum(est_model_ENT_msk_err^2))\n",
    "    ENT_RMSE_test[i,j] <- est_model_ENT_test_RMSE\n",
    "\n",
    "    ## -----\n",
    "    ## DID (Difference in differences)\n",
    "    ## -----\n",
    "\n",
    "    est_model_DID <- DID(Y_obs, treat_mat)\n",
    "    est_model_DID_msk_err <- (est_model_DID - Y)*(1-treat_mat)\n",
    "    est_model_DID_test_RMSE <- sqrt((1/sum(1-treat_mat)) * sum(est_model_DID_msk_err^2))\n",
    "    DID_RMSE_test[i,j] <- est_model_DID_test_RMSE\n",
    "\n",
    "    ## -----\n",
    "    ## ADH (Sintetic Control)\n",
    "    ## -----\n",
    "    est_model_ADH <- adh_mp_rows(Y_obs, treat_mat)\n",
    "    est_model_ADH_msk_err <- (est_model_ADH - Y)*(1-treat_mat)\n",
    "    est_model_ADH_test_RMSE <- sqrt((1/sum(1-treat_mat)) * sum(est_model_ADH_msk_err^2))\n",
    "    ADH_RMSE_test[i,j] <- est_model_ADH_test_RMSE\n",
    "  }\n",
    "}"
   ]
  },
  {
   "cell_type": "code",
   "execution_count": 6,
   "metadata": {
    "cell_id": "4b16772cd2494aca98d771309ed70449",
    "deepnote_app_coordinates": {
     "h": 5,
     "w": 12,
     "x": 0,
     "y": 0
    },
    "deepnote_cell_height": 432,
    "deepnote_cell_type": "code",
    "deepnote_output_heights": [
     335
    ],
    "deepnote_to_be_reexecuted": false,
    "execution_millis": 21,
    "execution_start": 1658953847515,
    "source_hash": "9c596d8f",
    "tags": [],
    "vscode": {
     "languageId": "r"
    }
   },
   "outputs": [
    {
     "data": {
      "text/html": [
       "<table class=\"dataframe\">\n",
       "<caption>A matrix: 10 × 5 of type dbl</caption>\n",
       "<tbody>\n",
       "\t<tr><td>25.65256</td><td>26.75189</td><td>26.84266</td><td>27.44595</td><td>27.19682</td></tr>\n",
       "\t<tr><td>28.73028</td><td>28.86979</td><td>29.01813</td><td>30.74099</td><td>20.39803</td></tr>\n",
       "\t<tr><td>23.56667</td><td>22.92074</td><td>20.29382</td><td>18.11251</td><td>17.40875</td></tr>\n",
       "\t<tr><td>20.81505</td><td>17.81988</td><td>14.70975</td><td>16.37362</td><td>16.14893</td></tr>\n",
       "\t<tr><td>25.41258</td><td>25.77789</td><td>27.29617</td><td>30.29262</td><td>31.65299</td></tr>\n",
       "\t<tr><td>19.48560</td><td>19.22607</td><td>18.56505</td><td>18.04708</td><td>15.71403</td></tr>\n",
       "\t<tr><td>26.38109</td><td>23.87477</td><td>25.83639</td><td>27.34089</td><td>27.88500</td></tr>\n",
       "\t<tr><td>13.93895</td><td>13.97567</td><td>13.83072</td><td>12.73521</td><td>11.51400</td></tr>\n",
       "\t<tr><td>29.02738</td><td>28.99087</td><td>28.48082</td><td>27.96026</td><td>30.13885</td></tr>\n",
       "\t<tr><td>16.83610</td><td>17.53950</td><td>17.24789</td><td>16.65028</td><td>14.50945</td></tr>\n",
       "</tbody>\n",
       "</table>\n"
      ],
      "text/latex": [
       "A matrix: 10 × 5 of type dbl\n",
       "\\begin{tabular}{lllll}\n",
       "\t 25.65256 & 26.75189 & 26.84266 & 27.44595 & 27.19682\\\\\n",
       "\t 28.73028 & 28.86979 & 29.01813 & 30.74099 & 20.39803\\\\\n",
       "\t 23.56667 & 22.92074 & 20.29382 & 18.11251 & 17.40875\\\\\n",
       "\t 20.81505 & 17.81988 & 14.70975 & 16.37362 & 16.14893\\\\\n",
       "\t 25.41258 & 25.77789 & 27.29617 & 30.29262 & 31.65299\\\\\n",
       "\t 19.48560 & 19.22607 & 18.56505 & 18.04708 & 15.71403\\\\\n",
       "\t 26.38109 & 23.87477 & 25.83639 & 27.34089 & 27.88500\\\\\n",
       "\t 13.93895 & 13.97567 & 13.83072 & 12.73521 & 11.51400\\\\\n",
       "\t 29.02738 & 28.99087 & 28.48082 & 27.96026 & 30.13885\\\\\n",
       "\t 16.83610 & 17.53950 & 17.24789 & 16.65028 & 14.50945\\\\\n",
       "\\end{tabular}\n"
      ],
      "text/markdown": [
       "\n",
       "A matrix: 10 × 5 of type dbl\n",
       "\n",
       "| 25.65256 | 26.75189 | 26.84266 | 27.44595 | 27.19682 |\n",
       "| 28.73028 | 28.86979 | 29.01813 | 30.74099 | 20.39803 |\n",
       "| 23.56667 | 22.92074 | 20.29382 | 18.11251 | 17.40875 |\n",
       "| 20.81505 | 17.81988 | 14.70975 | 16.37362 | 16.14893 |\n",
       "| 25.41258 | 25.77789 | 27.29617 | 30.29262 | 31.65299 |\n",
       "| 19.48560 | 19.22607 | 18.56505 | 18.04708 | 15.71403 |\n",
       "| 26.38109 | 23.87477 | 25.83639 | 27.34089 | 27.88500 |\n",
       "| 13.93895 | 13.97567 | 13.83072 | 12.73521 | 11.51400 |\n",
       "| 29.02738 | 28.99087 | 28.48082 | 27.96026 | 30.13885 |\n",
       "| 16.83610 | 17.53950 | 17.24789 | 16.65028 | 14.50945 |\n",
       "\n"
      ],
      "text/plain": [
       "      [,1]     [,2]     [,3]     [,4]     [,5]    \n",
       " [1,] 25.65256 26.75189 26.84266 27.44595 27.19682\n",
       " [2,] 28.73028 28.86979 29.01813 30.74099 20.39803\n",
       " [3,] 23.56667 22.92074 20.29382 18.11251 17.40875\n",
       " [4,] 20.81505 17.81988 14.70975 16.37362 16.14893\n",
       " [5,] 25.41258 25.77789 27.29617 30.29262 31.65299\n",
       " [6,] 19.48560 19.22607 18.56505 18.04708 15.71403\n",
       " [7,] 26.38109 23.87477 25.83639 27.34089 27.88500\n",
       " [8,] 13.93895 13.97567 13.83072 12.73521 11.51400\n",
       " [9,] 29.02738 28.99087 28.48082 27.96026 30.13885\n",
       "[10,] 16.83610 17.53950 17.24789 16.65028 14.50945"
      ]
     },
     "metadata": {},
     "output_type": "display_data"
    }
   ],
   "source": [
    "ADH_RMSE_test"
   ]
  },
  {
   "cell_type": "code",
   "execution_count": 7,
   "metadata": {
    "cell_id": "6f221d67e58a405a8603afa4db3baa8d",
    "deepnote_app_coordinates": {
     "h": 5,
     "w": 12,
     "x": 0,
     "y": 91
    },
    "deepnote_cell_height": 333,
    "deepnote_cell_type": "code",
    "deepnote_to_be_reexecuted": false,
    "execution_millis": 30,
    "execution_start": 1658953847542,
    "source_hash": "3b4977a4",
    "tags": [],
    "vscode": {
     "languageId": "r"
    }
   },
   "outputs": [],
   "source": [
    "## Computing means and standard errors\n",
    "MCPanel_avg_RMSE <- apply(MCPanel_RMSE_test,2,mean)\n",
    "MCPanel_std_error <- apply(MCPanel_RMSE_test,2,sd)/sqrt(num_runs)\n",
    "\n",
    "EN_avg_RMSE <- apply(EN_RMSE_test,2,mean)\n",
    "EN_std_error <- apply(EN_RMSE_test,2,sd)/sqrt(num_runs)\n",
    "\n",
    "ENT_avg_RMSE <- apply(ENT_RMSE_test,2,mean)\n",
    "ENT_std_error <- apply(ENT_RMSE_test,2,sd)/sqrt(num_runs)\n",
    "\n",
    "DID_avg_RMSE <- apply(DID_RMSE_test,2,mean)\n",
    "DID_std_error <- apply(DID_RMSE_test,2,sd)/sqrt(num_runs)\n",
    "\n",
    "ADH_avg_RMSE <- apply(ADH_RMSE_test,2,mean)\n",
    "ADH_std_error <- apply(ADH_RMSE_test,2,sd)/sqrt(num_runs)"
   ]
  },
  {
   "cell_type": "markdown",
   "metadata": {
    "cell_id": "a6437f07c0714ec0b3c38fde03aed093",
    "deepnote_app_coordinates": {
     "h": 5,
     "w": 12,
     "x": 0,
     "y": 97
    },
    "deepnote_cell_type": "text-cell-h3",
    "formattedRanges": [],
    "is_collapsed": false,
    "tags": []
   },
   "source": [
    "### Plot"
   ]
  },
  {
   "cell_type": "code",
   "execution_count": 8,
   "metadata": {
    "cell_id": "6b6d633f9b574c9187e191b75f19d627",
    "deepnote_app_coordinates": {
     "h": 5,
     "w": 12,
     "x": 0,
     "y": 103
    },
    "deepnote_cell_height": 513,
    "deepnote_cell_type": "code",
    "deepnote_to_be_reexecuted": false,
    "execution_millis": 18,
    "execution_start": 1658953847579,
    "source_hash": "67569235",
    "tags": [],
    "vscode": {
     "languageId": "r"
    }
   },
   "outputs": [],
   "source": [
    "df1 <-\n",
    "    structure(\n",
    "      list(\n",
    "      y =  c(DID_avg_RMSE, EN_avg_RMSE, ENT_avg_RMSE, MCPanel_avg_RMSE, ADH_avg_RMSE),\n",
    "      lb = c(DID_avg_RMSE - 1.96*DID_std_error, EN_avg_RMSE - 1.96*EN_std_error,\n",
    "             ENT_avg_RMSE - 1.96*ENT_std_error, MCPanel_avg_RMSE - 1.96*MCPanel_std_error,\n",
    "             ADH_avg_RMSE - 1.96*ADH_std_error),\n",
    "      ub = c(DID_avg_RMSE + 1.96*DID_std_error, EN_avg_RMSE + 1.96*EN_std_error,\n",
    "             ENT_avg_RMSE + 1.96*ENT_std_error, MCPanel_avg_RMSE + 1.96*MCPanel_std_error,\n",
    "             ADH_avg_RMSE + 1.96*ADH_std_error),\n",
    "      x = c(T0/Tr, T0/Tr ,T0/Tr, T0/Tr, T0/Tr),\n",
    "      Method = c(replicate(length(T0),\"DID\"), replicate(length(T0),\"EN\"),\n",
    "                 replicate(length(T0),\"EN-T\"), replicate(length(T0),\"MC-NNM\"),\n",
    "                 replicate(length(T0),\"SC-ADH\")),\n",
    "      Marker = c(replicate(length(T0),1), replicate(length(T0),2),\n",
    "                 replicate(length(T0),3), replicate(length(T0),4),\n",
    "                 replicate(length(T0),5))\n",
    "\n",
    "    ),\n",
    "    .Names = c(\"y\", \"lb\", \"ub\", \"x\", \"Method\", \"Marker\"),\n",
    "    row.names = c(NA,-25L),\n",
    "    class = \"data.frame\"\n",
    "  )\n",
    "\n",
    "Marker = c(1,2,3,4,5)"
   ]
  },
  {
   "cell_type": "markdown",
   "metadata": {
    "cell_id": "c1b2ff3945504b62a8041f22a3671172",
    "deepnote_app_coordinates": {
     "h": 7,
     "w": 12,
     "x": 0,
     "y": 195
    },
    "deepnote_cell_height": 143.39999389648438,
    "deepnote_cell_type": "markdown",
    "tags": []
   },
   "source": [
    "In each case, the average RMSE, for different ratios $T_0/T$, is reported. For clarity of the figures, for each $T_0/T$, while all 95% sampling intervals of various methods are calculated using the same ratio $T_0/T$"
   ]
  },
  {
   "cell_type": "code",
   "execution_count": 9,
   "metadata": {
    "cell_id": "1464a674d088498aa56a5293effe6899",
    "deepnote_app_coordinates": {
     "h": 5,
     "w": 12,
     "x": 0,
     "y": 109
    },
    "deepnote_cell_height": 1068,
    "deepnote_cell_type": "code",
    "deepnote_output_heights": [
     611
    ],
    "deepnote_to_be_reexecuted": false,
    "execution_millis": 529,
    "execution_start": 1658953847603,
    "source_hash": "4cfafdec",
    "tags": [],
    "vscode": {
     "languageId": "r"
    }
   },
   "outputs": [
    {
     "data": {
      "image/png": "[encoded data removed]",
      "text/plain": [
       "plot without title"
      ]
     },
     "metadata": {
      "filenames": {
       "image/png": "/home/runner/work/r_actions/r_actions/_build/jupyter_execute/notebooks/8_MCPanel_21_0.png"
      },
      "image/png": {
       "height": 420,
       "width": 420
      }
     },
     "output_type": "display_data"
    }
   ],
   "source": [
    "p = ggplot(data = df1, aes(x, y, color = Method, shape = Marker)) +\n",
    "  geom_point(size = 2, position=position_dodge(width=0.1)) +\n",
    "  geom_errorbar(\n",
    "    aes(ymin = lb, ymax = ub),\n",
    "    width = 0.1,\n",
    "    linetype = \"solid\",\n",
    "    position=position_dodge(width=0.1)) +\n",
    "  scale_shape_identity() +\n",
    "  guides(color = guide_legend(override.aes = list(shape = Marker))) +\n",
    "  theme_bw() +\n",
    "  xlab(TeX('$T_0/T$')) +\n",
    "  ylab(\"Average RMSE\") +\n",
    "  coord_cartesian(ylim=c(5, 50)) +\n",
    "  theme(\n",
    "    axis.title=element_text(family=\"Times\", size=14)\n",
    "    , axis.text=element_text(family=\"Times\", size=12) \n",
    "    , legend.text=element_text(family=\"Times\", size = 12)\n",
    "    , legend.title=element_text(family=\"Times\", size = 12)\n",
    "    , legend.position = c(.8, .8)\n",
    "  )\n",
    "p"
   ]
  },
  {
   "cell_type": "markdown",
   "metadata": {
    "cell_id": "634c6e9270e04f9a99e48baf48f3c2a6",
    "deepnote_app_coordinates": {
     "h": 5,
     "w": 12,
     "x": 0,
     "y": 121
    },
    "deepnote_cell_height": 201.1999969482422,
    "deepnote_cell_type": "markdown",
    "tags": []
   },
   "source": [
    "## Example: Stock\n",
    "\n",
    "### Data\n",
    "\n",
    "In the next illustration we use a financial data set – daily returns for 2453 stocks over 10 years (3082 days)"
   ]
  },
  {
   "cell_type": "code",
   "execution_count": 10,
   "metadata": {
    "cell_id": "2ecc8d4754c34f02950a51de5c3b1b92",
    "deepnote_app_coordinates": {
     "h": 5,
     "w": 12,
     "x": 0,
     "y": 127
    },
    "deepnote_cell_height": 135,
    "deepnote_cell_type": "code",
    "deepnote_to_be_reexecuted": false,
    "execution_millis": 11730,
    "execution_start": 1658953848174,
    "source_hash": "488b1907",
    "tags": [],
    "vscode": {
     "languageId": "r"
    }
   },
   "outputs": [],
   "source": [
    "# Reading data\n",
    "rm(list=ls())\n",
    "\n",
    "Y <- t(read.csv(\"https://raw.githubusercontent.com/susanathey/MCPanel/master/tests/examples_from_paper/stock/returns_no_missing.csv\", header = F))"
   ]
  },
  {
   "cell_type": "code",
   "execution_count": 11,
   "metadata": {
    "cell_id": "727163cb172c4c829120aac8495d11e6",
    "deepnote_app_coordinates": {
     "h": 5,
     "w": 12,
     "x": 0,
     "y": 133
    },
    "deepnote_cell_height": 261,
    "deepnote_cell_type": "code",
    "deepnote_to_be_reexecuted": false,
    "execution_millis": 1,
    "execution_start": 1658953859947,
    "source_hash": "4ff11ce3",
    "tags": [],
    "vscode": {
     "languageId": "r"
    }
   },
   "outputs": [],
   "source": [
    "## Setting up the configuration\n",
    "Nbig <- nrow(Y)\n",
    "Tbig <- ncol(Y)\n",
    "N <- 70\n",
    "T <- 70\n",
    "number_T0 = 2\n",
    "T0 <- ceiling(T*((1:number_T0)*2-1)/(2*number_T0))\n",
    "N_t <- ceiling(N/2)\n",
    "num_runs <- 5\n",
    "is_simul <- 0 ## Whether to simulate Simultaneus Adoption or Staggered Adoption\n",
    "to_save <- 0"
   ]
  },
  {
   "cell_type": "code",
   "execution_count": 12,
   "metadata": {
    "cell_id": "62f581c6ddbc49d98789632d50bce64c",
    "deepnote_app_coordinates": {
     "h": 5,
     "w": 12,
     "x": 0,
     "y": 139
    },
    "deepnote_cell_height": 189,
    "deepnote_cell_type": "code",
    "deepnote_to_be_reexecuted": false,
    "execution_millis": 4,
    "execution_start": 1658953859948,
    "source_hash": "f24ec9bd",
    "tags": [],
    "vscode": {
     "languageId": "r"
    }
   },
   "outputs": [],
   "source": [
    "## Matrices for saving RMSE values\n",
    "\n",
    "MCPanel_RMSE_test <- matrix(0L,num_runs,length(T0))\n",
    "EN_RMSE_test <- matrix(0L,num_runs,length(T0))\n",
    "ENT_RMSE_test <- matrix(0L,num_runs,length(T0))\n",
    "DID_RMSE_test <- matrix(0L,num_runs,length(T0))\n",
    "ADH_RMSE_test <- matrix(0L,num_runs,length(T0))"
   ]
  },
  {
   "cell_type": "markdown",
   "metadata": {
    "cell_id": "2c121ed340ce425f97ee8465ad5918f9",
    "deepnote_app_coordinates": {
     "h": 5,
     "w": 12,
     "x": 0,
     "y": 181
    },
    "deepnote_cell_height": 62,
    "deepnote_cell_type": "markdown",
    "tags": []
   },
   "source": [
    "### Methods"
   ]
  },
  {
   "cell_type": "code",
   "execution_count": 13,
   "metadata": {
    "cell_id": "455582c9045f4aaeb1495dd6df0b9893",
    "deepnote_app_coordinates": {
     "h": 5,
     "w": 12,
     "x": 0,
     "y": 145
    },
    "deepnote_cell_height": 1943,
    "deepnote_cell_type": "code",
    "deepnote_to_be_reexecuted": false,
    "execution_millis": 283164,
    "execution_start": 1658953859958,
    "source_hash": "5b751d6d",
    "tags": [],
    "vscode": {
     "languageId": "r"
    }
   },
   "outputs": [
    {
     "name": "stdout",
     "output_type": "stream",
     "text": [
      "[1] \"Run number 1 started\"\n",
      "[1] \"MCNNM Started\"\n",
      "[1] \"EN Started\"\n",
      "[1] \"EN-T Started\"\n",
      "[1] \"DID Started\"\n",
      "[1] \"ADH Started\"\n",
      "[1] \"MCNNM Started\"\n",
      "[1] \"EN Started\"\n",
      "[1] \"EN-T Started\"\n",
      "[1] \"DID Started\"\n",
      "[1] \"ADH Started\"\n",
      "[1] \"Run number 2 started\"\n",
      "[1] \"MCNNM Started\"\n",
      "[1] \"EN Started\"\n",
      "[1] \"EN-T Started\"\n",
      "[1] \"DID Started\"\n",
      "[1] \"ADH Started\"\n",
      "[1] \"MCNNM Started\"\n",
      "[1] \"EN Started\"\n",
      "[1] \"EN-T Started\"\n",
      "[1] \"DID Started\"\n",
      "[1] \"ADH Started\"\n",
      "[1] \"Run number 3 started\"\n",
      "[1] \"MCNNM Started\"\n",
      "[1] \"EN Started\"\n",
      "[1] \"EN-T Started\"\n",
      "[1] \"DID Started\"\n",
      "[1] \"ADH Started\"\n",
      "[1] \"MCNNM Started\"\n",
      "[1] \"EN Started\"\n",
      "[1] \"EN-T Started\"\n",
      "[1] \"DID Started\"\n",
      "[1] \"ADH Started\"\n",
      "[1] \"Run number 4 started\"\n",
      "[1] \"MCNNM Started\"\n",
      "[1] \"EN Started\"\n",
      "[1] \"EN-T Started\"\n",
      "[1] \"DID Started\"\n",
      "[1] \"ADH Started\"\n",
      "[1] \"MCNNM Started\"\n",
      "[1] \"EN Started\"\n",
      "[1] \"EN-T Started\"\n",
      "[1] \"DID Started\"\n",
      "[1] \"ADH Started\"\n",
      "[1] \"Run number 5 started\"\n",
      "[1] \"MCNNM Started\"\n",
      "[1] \"EN Started\"\n",
      "[1] \"EN-T Started\"\n",
      "[1] \"DID Started\"\n",
      "[1] \"ADH Started\"\n",
      "[1] \"MCNNM Started\"\n",
      "[1] \"EN Started\"\n",
      "[1] \"EN-T Started\"\n",
      "[1] \"DID Started\"\n",
      "[1] \"ADH Started\"\n"
     ]
    }
   ],
   "source": [
    "## Run different methods\n",
    "\n",
    "for(i in c(1:num_runs)){\n",
    "  print(paste0(paste0(\"Run number \", i),\" started\"))\n",
    "  ## Fix the treated units in the whole run for a better comparison\n",
    "  all_indices <- sample(1:Nbig, N)\n",
    "  treat_indices <- sample(1:N, N_t)\n",
    "  Y_sub <- Y[all_indices,1:T]\n",
    "  for (j in c(1:length(T0))){\n",
    "    treat_mat <- matrix(1L, N, T);\n",
    "    t0 <- T0[j]\n",
    "    ## Simultaneuous (simul_adapt) or Staggered adoption (stag_adapt)\n",
    "    if(is_simul == 1){\n",
    "      treat_mat <- simul_adapt(Y_sub, N_t, t0, treat_indices)\n",
    "    }\n",
    "    else{\n",
    "      treat_mat <- stag_adapt(Y_sub, N_t, t0, treat_indices)\n",
    "    }\n",
    "    Y_obs <- Y_sub * treat_mat\n",
    "\n",
    "    ## ------\n",
    "    ## MC-NNM\n",
    "    ## ------\n",
    "    print(\"MCNNM Started\")\n",
    "    est_model_MCPanel <- mcnnm_cv(Y_obs, treat_mat, to_estimate_u = 1, to_estimate_v = 1) ## If N<<T it is better to only estimate u, if T<<<N it is better to only estimate v.\n",
    "    est_model_MCPanel$Mhat <- est_model_MCPanel$L + replicate(T,est_model_MCPanel$u) + t(replicate(N,est_model_MCPanel$v))\n",
    "    est_model_MCPanel$msk_err <- (est_model_MCPanel$Mhat - Y_sub)*(1-treat_mat)\n",
    "    est_model_MCPanel$test_RMSE <- sqrt((1/sum(1-treat_mat)) * sum(est_model_MCPanel$msk_err^2))\n",
    "    MCPanel_RMSE_test[i,j] <- est_model_MCPanel$test_RMSE\n",
    "\n",
    "    ## -----\n",
    "    ## EN : It does Not cross validate on alpha (only on lambda) and keep alpha = 1 (LASSO).\n",
    "    ##      Change num_alpha to a larger number, if you are willing to wait a little longer.\n",
    "    ## -----\n",
    "    print(\"EN Started\")\n",
    "    est_model_EN <- en_mp_rows(Y_obs, treat_mat, num_alpha = 1)\n",
    "    est_model_EN_msk_err <- (est_model_EN - Y_sub)*(1-treat_mat)\n",
    "    est_model_EN_test_RMSE <- sqrt((1/sum(1-treat_mat)) * sum(est_model_EN_msk_err^2))\n",
    "    EN_RMSE_test[i,j] <- est_model_EN_test_RMSE\n",
    "\n",
    "    ## -----\n",
    "    ## EN_T : It does Not cross validate on alpha (only on lambda) and keep alpha = 1 (LASSO).\n",
    "    ##        Change num_alpha to a larger number, if you are willing to wait a little longer.\n",
    "    ## -----\n",
    "    print(\"EN-T Started\")\n",
    "    est_model_ENT <- t(en_mp_rows(t(Y_obs), t(treat_mat), num_alpha = 1))\n",
    "    est_model_ENT_msk_err <- (est_model_ENT - Y_sub)*(1-treat_mat)\n",
    "    est_model_ENT_test_RMSE <- sqrt((1/sum(1-treat_mat)) * sum(est_model_ENT_msk_err^2))\n",
    "    ENT_RMSE_test[i,j] <- est_model_ENT_test_RMSE\n",
    "\n",
    "    ## -----\n",
    "    ## DID\n",
    "    ## -----\n",
    "    print(\"DID Started\")\n",
    "    est_model_DID <- DID(Y_obs, treat_mat)\n",
    "    est_model_DID_msk_err <- (est_model_DID - Y_sub)*(1-treat_mat)\n",
    "    est_model_DID_test_RMSE <- sqrt((1/sum(1-treat_mat)) * sum(est_model_DID_msk_err^2))\n",
    "    DID_RMSE_test[i,j] <- est_model_DID_test_RMSE\n",
    "\n",
    "    ## -----\n",
    "    ## ADH\n",
    "    ## -----\n",
    "    print(\"ADH Started\")\n",
    "    est_model_ADH <- adh_mp_rows(Y_obs, treat_mat)\n",
    "    est_model_ADH_msk_err <- (est_model_ADH - Y_sub)*(1-treat_mat)\n",
    "    est_model_ADH_test_RMSE <- sqrt((1/sum(1-treat_mat)) * sum(est_model_ADH_msk_err^2))\n",
    "    ADH_RMSE_test[i,j] <- est_model_ADH_test_RMSE\n",
    "  }\n",
    "}\n"
   ]
  },
  {
   "cell_type": "code",
   "execution_count": 14,
   "metadata": {
    "cell_id": "12c90cf2ce3b40db97265fa7059bbdbd",
    "deepnote_app_coordinates": {
     "h": 5,
     "w": 12,
     "x": 0,
     "y": 151
    },
    "deepnote_cell_height": 333,
    "deepnote_cell_type": "code",
    "deepnote_to_be_reexecuted": false,
    "execution_millis": 0,
    "execution_start": 1658954142636,
    "source_hash": "3b4977a4",
    "tags": [],
    "vscode": {
     "languageId": "r"
    }
   },
   "outputs": [],
   "source": [
    "## Computing means and standard errors\n",
    "MCPanel_avg_RMSE <- apply(MCPanel_RMSE_test,2,mean)\n",
    "MCPanel_std_error <- apply(MCPanel_RMSE_test,2,sd)/sqrt(num_runs)\n",
    "\n",
    "EN_avg_RMSE <- apply(EN_RMSE_test,2,mean)\n",
    "EN_std_error <- apply(EN_RMSE_test,2,sd)/sqrt(num_runs)\n",
    "\n",
    "ENT_avg_RMSE <- apply(ENT_RMSE_test,2,mean)\n",
    "ENT_std_error <- apply(ENT_RMSE_test,2,sd)/sqrt(num_runs)\n",
    "\n",
    "DID_avg_RMSE <- apply(DID_RMSE_test,2,mean)\n",
    "DID_std_error <- apply(DID_RMSE_test,2,sd)/sqrt(num_runs)\n",
    "\n",
    "ADH_avg_RMSE <- apply(ADH_RMSE_test,2,mean)\n",
    "ADH_std_error <- apply(ADH_RMSE_test,2,sd)/sqrt(num_runs)"
   ]
  },
  {
   "cell_type": "markdown",
   "metadata": {
    "cell_id": "881cee2d1eda4accac7d41d15294c439",
    "deepnote_app_coordinates": {
     "h": 5,
     "w": 12,
     "x": 0,
     "y": 157
    },
    "deepnote_cell_type": "text-cell-h3",
    "formattedRanges": [],
    "is_collapsed": false,
    "tags": []
   },
   "source": [
    "### Plot"
   ]
  },
  {
   "cell_type": "code",
   "execution_count": 15,
   "metadata": {
    "cell_id": "2708854d06d143dea1fd674b1396596a",
    "deepnote_app_coordinates": {
     "h": 5,
     "w": 12,
     "x": 0,
     "y": 163
    },
    "deepnote_cell_height": 531,
    "deepnote_cell_type": "code",
    "deepnote_to_be_reexecuted": false,
    "execution_millis": 26,
    "execution_start": 1658954142637,
    "source_hash": "c8afdb92",
    "tags": [],
    "vscode": {
     "languageId": "r"
    }
   },
   "outputs": [],
   "source": [
    "df1 <-\n",
    "  structure(\n",
    "    list(\n",
    "      y =  c(DID_avg_RMSE, EN_avg_RMSE, ENT_avg_RMSE, MCPanel_avg_RMSE, ADH_avg_RMSE),\n",
    "      lb = c(DID_avg_RMSE - 1.96*DID_std_error, EN_avg_RMSE - 1.96*EN_std_error,\n",
    "             ENT_avg_RMSE - 1.96*ENT_std_error, MCPanel_avg_RMSE - 1.96*MCPanel_std_error,\n",
    "             ADH_avg_RMSE - 1.96*ADH_std_error),\n",
    "      ub = c(DID_avg_RMSE + 1.96*DID_std_error, EN_avg_RMSE + 1.96*EN_std_error,\n",
    "             ENT_avg_RMSE + 1.96*ENT_std_error, MCPanel_avg_RMSE + 1.96*MCPanel_std_error,\n",
    "             ADH_avg_RMSE + 1.96*ADH_std_error),\n",
    "      x = c(T0/T, T0/T ,T0/T, T0/T, T0/T),\n",
    "      Method = c(replicate(length(T0),\"DID\"), replicate(length(T0),\"EN\"),\n",
    "                 replicate(length(T0),\"EN-T\"), replicate(length(T0),\"MC-NNM\"),\n",
    "                 replicate(length(T0),\"SC-ADH\")),\n",
    "      Marker = c(replicate(length(T0),1), replicate(length(T0),2),\n",
    "                 replicate(length(T0),3), replicate(length(T0),4),\n",
    "                 replicate(length(T0),5))\n",
    "\n",
    "    ),\n",
    "    .Names = c(\"y\", \"lb\", \"ub\", \"x\", \"Method\", \"Marker\"),\n",
    "    row.names = c(NA,-10L),\n",
    "    class = \"data.frame\"\n",
    "  )\n",
    "\n",
    "Marker = c(1,2,3,4,5)\n"
   ]
  },
  {
   "cell_type": "markdown",
   "metadata": {
    "cell_id": "880098fe4b7242938fe90bef8467ec22",
    "deepnote_app_coordinates": {
     "h": 3,
     "w": 12,
     "x": 0,
     "y": 203
    },
    "deepnote_cell_height": 143.39999389648438,
    "deepnote_cell_type": "markdown",
    "tags": []
   },
   "source": [
    "In each case, the average RMSE, for different ratios $T_0/T$, is reported. For clarity of the figures, for each $T_0/T$, while all 95% sampling intervals of various methods are calculated using the same ratio $T_0/T$."
   ]
  },
  {
   "cell_type": "code",
   "execution_count": 16,
   "metadata": {
    "cell_id": "01c0454a97594ee9a87cc7e76d477ef2",
    "deepnote_app_coordinates": {
     "h": 5,
     "w": 12,
     "x": 0,
     "y": 169
    },
    "deepnote_cell_height": 1104,
    "deepnote_cell_type": "code",
    "deepnote_output_heights": [
     611
    ],
    "deepnote_to_be_reexecuted": false,
    "execution_millis": 621,
    "execution_start": 1658954142669,
    "source_hash": "60534f37",
    "tags": [],
    "vscode": {
     "languageId": "r"
    }
   },
   "outputs": [
    {
     "data": {
      "image/png": "[encoded data removed]",
      "text/plain": [
       "plot without title"
      ]
     },
     "metadata": {
      "filenames": {
       "image/png": "/home/runner/work/r_actions/r_actions/_build/jupyter_execute/notebooks/8_MCPanel_32_0.png"
      },
      "image/png": {
       "height": 420,
       "width": 420
      }
     },
     "output_type": "display_data"
    }
   ],
   "source": [
    "\n",
    "p = ggplot(data = df1, aes(x, y, color = Method, shape=Marker)) +\n",
    "  geom_point(size = 2, position=position_dodge(width=0.1)) +\n",
    "  geom_errorbar(\n",
    "    aes(ymin = lb, ymax = ub),\n",
    "    width = 0.1,\n",
    "    linetype = \"solid\",\n",
    "    position=position_dodge(width=0.1)) +\n",
    "  scale_shape_identity() +\n",
    "  guides(color = guide_legend(override.aes = list(shape = Marker))) +\n",
    "  theme_bw() +\n",
    "  xlab(TeX('$T_0/T$')) +\n",
    "  ylab(\"Average RMSE\") +\n",
    "  coord_cartesian(ylim=c(0.02, 0.035)) +\n",
    "  theme(\n",
    "      axis.title=element_text(family=\"Times\", size=14)\n",
    "      , axis.text=element_text(family=\"Times\", size=12)\n",
    "      , legend.text=element_text(family=\"Times\", size = 12)\n",
    "      , legend.title=element_text(family=\"Times\", size = 12)\n",
    "      , legend.position = c(.85, .85)\n",
    "      \n",
    "  )\n",
    "p"
   ]
  }
 ],
 "metadata": {
  "deepnote": {},
  "deepnote_app_layout": "article",
  "deepnote_execution_queue": [],
  "deepnote_notebook_id": "bbca012b-aad4-4aee-bc16-b3e33a320ba7",
  "kernelspec": {
   "display_name": "R",
   "language": "R",
   "name": "ir"
  },
  "language_info": {
   "codemirror_mode": "r",
   "file_extension": ".r",
   "mimetype": "text/x-r-source",
   "name": "R",
   "pygments_lexer": "r",
   "version": "4.2.1"
  },
  "vscode": {
   "interpreter": {
    "hash": "9650cb4e16cdd4a8e8e2d128bf38d875813998db22a3c986335f89e0cb4d7bb2"
   }
  }
 },
 "nbformat": 4,
 "nbformat_minor": 2
}