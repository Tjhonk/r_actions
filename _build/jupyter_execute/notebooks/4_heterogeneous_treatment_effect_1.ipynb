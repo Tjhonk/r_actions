{
 "cells": [
  {
   "cell_type": "code",
   "execution_count": 1,
   "id": "45c125c0",
   "metadata": {
    "tags": [
     "remove_input"
    ],
    "warning": false
   },
   "outputs": [],
   "source": [
    "# Deleting all current variables\n",
    "rm(list=ls())\n",
    "\n",
    "# Ensuring consistent random values in the bookdown version (this can be ignored).\n",
    "set.seed(2, kind = \"Mersenne-Twister\", normal.kind = \"Inversion\", sample.kind = \"Rejection\")\n",
    "\n",
    "# 'Bookdown' publishing fails unless I add this explicitly. I don't know why.\n",
    "library(reshape2)"
   ]
  },
  {
   "cell_type": "markdown",
   "id": "1d6ca661",
   "metadata": {},
   "source": [
    "# HTE I: Binary treatment"
   ]
  },
  {
   "cell_type": "markdown",
   "id": "7ff61d1c",
   "metadata": {},
   "source": [
    "Source RMD file: [link](https://docs.google.com/uc?export=download&id=1FSUi4WLfYYKnvWsNWypiQORhkqf5IlFP)\n",
    "\n",
    "In the previous chapter, we learned how to estimate the effect of a binary treatment averaged over the entire population. However, the average may obscure important details about how different individuals react to the treatment. In this chapter, we will learn how to estimate the **conditional average treatment effect (CATE)**,\n",
    "\\begin{equation} \\label{eq:cate} \\tag{4.1}\n",
    "  \\tau(x) := \\mathbf{E}[Y_i(1) - Y_i(0) | X_i = x],\n",
    "\\end{equation}\n",
    "which is a \"localized\" version of the average treatment effect conditional on a vector of observable characteristics. \n",
    "\n",
    "It's often the case that \\eqref{eq:cate} is too general to be immediately useful, especially when the observable covariates are high-dimensional. It can be hard to estimate reliably without making strong modeling assumptions, and hard to summarize in a useful manner after estimation. In such situations, we will instead try to estimate treatment effect averages for simpler groups\n",
    "\\begin{equation} \\label{eq:cate-g} \\tag{4.2}\n",
    "  \\mathbf{E}[Y_i(1) - Y_i(0) | G_i = g],\n",
    "\\end{equation}\n",
    "where $G_i$ indexes subgroups of interest. Below you'll learn how to estimate and test hypotheses about pre-defined subgroups, and also how to discover subgroups of interest from the data. In this tutorial, you will learn how to use estimates of \\eqref{eq:cate} to suggest relevant subgroups $G_i$ (and in the next chapters you will find out other uses of \\eqref{eq:cate} in policy learning and evaluation).\n",
    "\n",
    "We'll continue using the abridged version of the General Social Survey (GSS) [(Smith, 2016)](https://gss.norc.org/Documents/reports/project-reports/GSSProject%20report32.pdf) dataset that was introduced in the previous chapter. In this dataset, individuals were sent to treatment or control with equal probability, so we are in a randomized setting. However, many of the techniques and code shown below should also work in an observational setting provided that unconfoundedness and overlap are satisfied (these assumptions were defined in the previous chapter)."
   ]
  },
  {
   "cell_type": "markdown",
   "id": "8c85a614",
   "metadata": {},
   "source": [
    "As with other chapters in this tutorial, the code below should still work by replacing the next snippet of code with a different dataset, provided that you update the key variables `treatment`, `outcome`, and `covariates` below. Also, please make sure to read the comments as they may be subtle differences depending on whether your dataset was created in a randomized or observational setting."
   ]
  },
  {
   "cell_type": "code",
   "execution_count": 2,
   "id": "b87f260d",
   "metadata": {
    "message": false,
    "warning": false
   },
   "outputs": [
    {
     "name": "stderr",
     "output_type": "stream",
     "text": [
      "Loading required package: rpart\n",
      "\n"
     ]
    },
    {
     "name": "stderr",
     "output_type": "stream",
     "text": [
      "Loading required package: rpart.plot\n",
      "\n"
     ]
    },
    {
     "name": "stderr",
     "output_type": "stream",
     "text": [
      "Warning message:\n",
      "\"package 'rpart.plot' was built under R version 4.2.1\"\n"
     ]
    },
    {
     "name": "stderr",
     "output_type": "stream",
     "text": [
      "Loading required package: data.table\n",
      "\n"
     ]
    },
    {
     "name": "stderr",
     "output_type": "stream",
     "text": [
      "Warning message:\n",
      "\"package 'data.table' was built under R version 4.2.1\"\n"
     ]
    },
    {
     "name": "stderr",
     "output_type": "stream",
     "text": [
      "\n",
      "Attaching package: 'data.table'\n",
      "\n",
      "\n"
     ]
    },
    {
     "name": "stderr",
     "output_type": "stream",
     "text": [
      "The following objects are masked from 'package:reshape2':\n",
      "\n",
      "    dcast, melt\n",
      "\n",
      "\n"
     ]
    }
   ],
   "source": [
    "# The causalTree package is not in CRAN, the most common R repository.\n",
    "# To install it, uncomment the next lines as appropriate.\n",
    "# install.packages(\"devtools\")  # if you don't have this installed yet.\n",
    "# devtools::install_github('susanathey/causalTree') \n",
    "library(causalTree)"
   ]
  },
  {
   "cell_type": "code",
   "execution_count": 3,
   "id": "900657a8",
   "metadata": {
    "message": false,
    "warning": false
   },
   "outputs": [
    {
     "name": "stderr",
     "output_type": "stream",
     "text": [
      "Warning message:\n",
      "\"package 'grf' was built under R version 4.2.1\"\n"
     ]
    },
    {
     "name": "stderr",
     "output_type": "stream",
     "text": [
      "Loading required package: Matrix\n",
      "\n"
     ]
    },
    {
     "name": "stderr",
     "output_type": "stream",
     "text": [
      "Loaded glmnet 4.1-4\n",
      "\n"
     ]
    },
    {
     "name": "stderr",
     "output_type": "stream",
     "text": [
      "Loading required package: zoo\n",
      "\n"
     ]
    },
    {
     "name": "stderr",
     "output_type": "stream",
     "text": [
      "\n",
      "Attaching package: 'zoo'\n",
      "\n",
      "\n"
     ]
    },
    {
     "name": "stderr",
     "output_type": "stream",
     "text": [
      "The following objects are masked from 'package:base':\n",
      "\n",
      "    as.Date, as.Date.numeric\n",
      "\n",
      "\n"
     ]
    }
   ],
   "source": [
    "# use e.g., install.packages(\"grf\") to install any of the following packages.\n",
    "library(grf)\n",
    "library(rpart)\n",
    "library(glmnet)\n",
    "library(splines)\n",
    "library(lmtest)\n",
    "library(sandwich)\n",
    "library(ggplot2)\n",
    "library(MASS)"
   ]
  },
  {
   "cell_type": "markdown",
   "id": "ff281e01",
   "metadata": {},
   "source": [
    "As with other chapters in this tutorial, the code below should still work by replacing the next snippet of code with a different dataset, provided that you update the key variables `treatment`, `outcome`, and `covariates` below. Also, please make sure to read the comments as they may be subtle differences depending on whether your dataset was created in a randomized or observational setting."
   ]
  },
  {
   "cell_type": "code",
   "execution_count": 4,
   "id": "467d2459",
   "metadata": {
    "message": false,
    "warning": false
   },
   "outputs": [],
   "source": [
    "# Read in data\n",
    "data <- read.csv(\"https://docs.google.com/uc?id=1kSxrVci_EUcSr_Lg1JKk1l7Xd5I9zfRC&export=download\")\n",
    "n <- nrow(data)\n",
    "\n",
    "# Treatment: does the the gov't spend too much on \"welfare\" (1) or \"assistance to the poor\" (0)\n",
    "treatment <- \"w\"\n",
    "\n",
    "# Outcome: 1 for 'yes', 0 for 'no'\n",
    "outcome <- \"y\"\n",
    "\n",
    "# Additional covariates\n",
    "covariates <- c(\"age\", \"polviews\", \"income\", \"educ\", \"marital\", \"sex\")"
   ]
  },
  {
   "cell_type": "markdown",
   "id": "ec2bae9e",
   "metadata": {},
   "source": [
    "## Pre-specified hypotheses"
   ]
  },
  {
   "cell_type": "markdown",
   "id": "80c0146e",
   "metadata": {},
   "source": [
    "We will begin by learning how to test pre-specified null hypotheses of the form\n",
    "\\begin{equation} \\label{eq:hte-hyp} \\tag{4.3}\n",
    "  H_{0}: \\mathbf{E}[Y(1) - Y(0) | G_i = 1] = \\mathbf{E}[Y(1) - Y(0) | G_i = 0].\n",
    "\\end{equation}\n",
    "\n",
    "That is, that the treatment effect is the same regardless of membership to some group\n",
    "$G_i$. Importantly, for now we’ll assume that the group $G_i$ was **pre-specified** -- it was decided _before_ looking at the data.\n",
    "\n",
    "In a randomized setting, if the both the treatment  $W_i$ and group membership $G_i$ are binary, we can write\n",
    "\\begin{equation} \\label{eq:linear} \\tag{4.4}\n",
    "  \\mathbf{E}[Y_i(W_i)|G_i] = \\mathbf{E}[Y_i|W_i, G_i] = \\beta_0 + \\beta_w W_i + \\beta_g G_i + \\beta_{wg} W_i G_i\n",
    "\\end{equation}\n",
    "\n",
    "<font size=1>\n",
    "When $W_i$ and $G_i$ are binary, this decomposition is true without loss of generality. Why?\n",
    "</font>\n",
    "\n",
    "This allows us to write the average effects of $W_i$ and $G_i$ on $Y_i$ as\n",
    "\\begin{equation}  \\label{eq:decomp} \\tag{4.5}\n",
    "  \\begin{aligned} \n",
    "    \\mathbf{E}[Y(1) | G_i=1] &= \\beta_0 + \\beta_w W_i + \\beta_g G_i + \\beta_{wg} W_i G_i, \\\\\n",
    "    \\mathbf{E}[Y(1) | G_i=0] &= \\beta_0 + \\beta_w W_i,  \\\\\n",
    "    \\mathbf{E}[Y(0) | G_i=1] &= \\beta_0 + \\beta_g G_i,  \\\\\n",
    "    \\mathbf{E}[Y(0) | G_i=0] &= \\beta_0.\n",
    "  \\end{aligned}\n",
    "\\end{equation}\n",
    "\n",
    "Rewriting the null hypothesis \\eqref{eq:hte-hyp} in terms of the decomposition \\eqref{eq:decomp}, we see that it boils down to a test about the coefficient in the interaction: $\\beta_{xw} = 0$. Here’s an example that tests whether the treatment effect is the same for \"conservative\" (`polviews` < 4) and \"liberal\" (`polviews` $\\geq$ 4) individuals."
   ]
  },
  {
   "cell_type": "code",
   "execution_count": 5,
   "id": "fb2cca4d",
   "metadata": {
    "lines_to_next_cell": 0
   },
   "outputs": [
    {
     "data": {
      "text/plain": [
       "\n",
       "t test of coefficients:\n",
       "\n",
       "                     Estimate Std. Error t value  Pr(>|t|)    \n",
       "(Intercept)         0.4836473  0.0050842  95.127 < 2.2e-16 ***\n",
       "w                  -0.3789182  0.0058604 -64.657 < 2.2e-16 ***\n",
       "conservativeTRUE   -0.1590214  0.0092479 -17.195 < 2.2e-16 ***\n",
       "w:conservativeTRUE  0.1160034  0.0103710  11.185 < 2.2e-16 ***\n",
       "---\n",
       "Signif. codes:  0 '***' 0.001 '**' 0.01 '*' 0.05 '.' 0.1 ' ' 1\n"
      ]
     },
     "metadata": {},
     "output_type": "display_data"
    }
   ],
   "source": [
    "# Only valid in randomized settings\n",
    "\n",
    "# Suppose this his group was defined prior to collecting the data\n",
    "data$conservative <- factor(data$polviews < 4)  # a binary group\n",
    "group <- 'conservative'\n",
    "\n",
    "# Recall from last chapter -- this is equivalent to running a t-test\n",
    "fmla <- formula(paste(outcome, ' ~ ', treatment, '*', group))\n",
    "ols <- lm(fmla, data=data)\n",
    "coeftest(ols, vcov=vcovHC(ols, type='HC2'))"
   ]
  },
  {
   "cell_type": "markdown",
   "id": "688f14d9",
   "metadata": {},
   "source": [
    "<font size=1>\n",
    "Interpret the results above. The coefficient $\\beta_{xw}$ is denoted by `w:conservativeTRUE`. Can we detect a difference in treatment effect for conservative vs liberal individuals? For whom is the effect larger?\n",
    "</font>\n",
    "\n",
    "Sometimes there are many subgroups, leading to multiple hypotheses such as\n",
    "\\begin{equation} \\label{eq:mult-hyp} \\tag{4.6}\n",
    "H_0: \\mathbf{E}[Y(1) - Y(0) \\ | \\  G_i = 1] = \\mathbf{E}[Y(1) - Y(0) \\ | \\  G_i = g]\n",
    "\\qquad\n",
    "\\text{for many values of }g.\n",
    "\\end{equation}\n",
    "\n",
    "In that case, we need to correct for the fact that we are testing for multiple hypotheses, or we will end up with many false positives. The **Bonferroni correction** [(wiki)](https://en.wikipedia.org/wiki/Bonferroni_correction) is a common method for dealing with multiple hypothesis testing, though it is often too conservative to be useful. It is available via the function `p.adjust` from base `R`. The next snippet of code tests whether the treatment effect at each level of `polviews` is different from the treatment effect from `polviews` equals one."
   ]
  },
  {
   "cell_type": "code",
   "execution_count": 6,
   "id": "fbfb61c2",
   "metadata": {},
   "outputs": [],
   "source": [
    "# Only valid in randomized setting.\n",
    "\n",
    "# Example: these groups must be defined prior to collecting the data.\n",
    "group <- 'polviews'\n",
    "\n",
    "# Linear regression.\n",
    "fmla <- formula(paste(outcome, ' ~ ', treatment, '*', 'factor(', group, ')'))\n",
    "ols <- lm(fmla, data=data)\n",
    "ols.res <- coeftest(ols, vcov=vcovHC(ols, type='HC2'))\n",
    "\n",
    "# Retrieve the interaction coefficients\n",
    "interact <- which(sapply(names(coef(ols)), function(x) grepl(\"w:\", x)))"
   ]
  },
  {
   "cell_type": "code",
   "execution_count": 7,
   "id": "22f6857e",
   "metadata": {},
   "outputs": [
    {
     "data": {
      "text/html": [
       "<table class=\"dataframe\">\n",
       "<caption>A data.frame: 6 × 4</caption>\n",
       "<thead>\n",
       "\t<tr><th></th><th scope=col>estimate</th><th scope=col>std.err</th><th scope=col>unadj.p.value</th><th scope=col>adj.p.value</th></tr>\n",
       "\t<tr><th></th><th scope=col>&lt;dbl&gt;</th><th scope=col>&lt;dbl&gt;</th><th scope=col>&lt;dbl&gt;</th><th scope=col>&lt;dbl&gt;</th></tr>\n",
       "</thead>\n",
       "<tbody>\n",
       "\t<tr><th scope=row>w:factor(polviews)2</th><td>-0.02424199</td><td>0.02733714</td><td>3.752056e-01</td><td>1.000000e+00</td></tr>\n",
       "\t<tr><th scope=row>w:factor(polviews)3</th><td>-0.05962335</td><td>0.02735735</td><td>2.930808e-02</td><td>1.758485e-01</td></tr>\n",
       "\t<tr><th scope=row>w:factor(polviews)4</th><td>-0.13461439</td><td>0.02534022</td><td>1.090684e-07</td><td>6.544105e-07</td></tr>\n",
       "\t<tr><th scope=row>w:factor(polviews)5</th><td>-0.16491540</td><td>0.02713505</td><td>1.235505e-09</td><td>7.413027e-09</td></tr>\n",
       "\t<tr><th scope=row>w:factor(polviews)6</th><td>-0.18007875</td><td>0.02751422</td><td>6.052625e-11</td><td>3.631575e-10</td></tr>\n",
       "\t<tr><th scope=row>w:factor(polviews)7</th><td>-0.18618443</td><td>0.03870554</td><td>1.514861e-06</td><td>9.089164e-06</td></tr>\n",
       "</tbody>\n",
       "</table>\n"
      ],
      "text/latex": [
       "A data.frame: 6 × 4\n",
       "\\begin{tabular}{r|llll}\n",
       "  & estimate & std.err & unadj.p.value & adj.p.value\\\\\n",
       "  & <dbl> & <dbl> & <dbl> & <dbl>\\\\\n",
       "\\hline\n",
       "\tw:factor(polviews)2 & -0.02424199 & 0.02733714 & 3.752056e-01 & 1.000000e+00\\\\\n",
       "\tw:factor(polviews)3 & -0.05962335 & 0.02735735 & 2.930808e-02 & 1.758485e-01\\\\\n",
       "\tw:factor(polviews)4 & -0.13461439 & 0.02534022 & 1.090684e-07 & 6.544105e-07\\\\\n",
       "\tw:factor(polviews)5 & -0.16491540 & 0.02713505 & 1.235505e-09 & 7.413027e-09\\\\\n",
       "\tw:factor(polviews)6 & -0.18007875 & 0.02751422 & 6.052625e-11 & 3.631575e-10\\\\\n",
       "\tw:factor(polviews)7 & -0.18618443 & 0.03870554 & 1.514861e-06 & 9.089164e-06\\\\\n",
       "\\end{tabular}\n"
      ],
      "text/markdown": [
       "\n",
       "A data.frame: 6 × 4\n",
       "\n",
       "| <!--/--> | estimate &lt;dbl&gt; | std.err &lt;dbl&gt; | unadj.p.value &lt;dbl&gt; | adj.p.value &lt;dbl&gt; |\n",
       "|---|---|---|---|---|\n",
       "| w:factor(polviews)2 | -0.02424199 | 0.02733714 | 3.752056e-01 | 1.000000e+00 |\n",
       "| w:factor(polviews)3 | -0.05962335 | 0.02735735 | 2.930808e-02 | 1.758485e-01 |\n",
       "| w:factor(polviews)4 | -0.13461439 | 0.02534022 | 1.090684e-07 | 6.544105e-07 |\n",
       "| w:factor(polviews)5 | -0.16491540 | 0.02713505 | 1.235505e-09 | 7.413027e-09 |\n",
       "| w:factor(polviews)6 | -0.18007875 | 0.02751422 | 6.052625e-11 | 3.631575e-10 |\n",
       "| w:factor(polviews)7 | -0.18618443 | 0.03870554 | 1.514861e-06 | 9.089164e-06 |\n",
       "\n"
      ],
      "text/plain": [
       "                    estimate    std.err    unadj.p.value adj.p.value \n",
       "w:factor(polviews)2 -0.02424199 0.02733714 3.752056e-01  1.000000e+00\n",
       "w:factor(polviews)3 -0.05962335 0.02735735 2.930808e-02  1.758485e-01\n",
       "w:factor(polviews)4 -0.13461439 0.02534022 1.090684e-07  6.544105e-07\n",
       "w:factor(polviews)5 -0.16491540 0.02713505 1.235505e-09  7.413027e-09\n",
       "w:factor(polviews)6 -0.18007875 0.02751422 6.052625e-11  3.631575e-10\n",
       "w:factor(polviews)7 -0.18618443 0.03870554 1.514861e-06  9.089164e-06"
      ]
     },
     "metadata": {},
     "output_type": "display_data"
    }
   ],
   "source": [
    "# Retrieve unadjusted p-values and \n",
    "unadj.p.value <- ols.res[interact, 4]\n",
    "adj.p.value <- p.adjust(unadj.p.value, method='bonferroni')\n",
    "\n",
    "data.frame(estimate=coef(ols)[interact], std.err=ols.res[interact,2], unadj.p.value, adj.p.value)"
   ]
  },
  {
   "cell_type": "markdown",
   "id": "096ef328",
   "metadata": {},
   "source": [
    "Another option is to use the **Romano-Wolf** correction, based on [Romano and Wolf (2005, Econometrica)](https://www.ssc.wisc.edu/~bhansen/718/RomanoWolf2005.pdf). This bootstrap-based procedure takes into account the underlying dependence structure of the test statistics in a way that improves power. The Romano-Wolf procedure is correct under minimal assumptions, and should be favored over Bonferroni in general."
   ]
  },
  {
   "cell_type": "code",
   "execution_count": 8,
   "id": "e9fc2a4e",
   "metadata": {},
   "outputs": [],
   "source": [
    "# Auxiliary function to computes adjusted p-values \n",
    "# following the Romano-Wolf method.\n",
    "# For a reference, see http://ftp.iza.org/dp12845.pdf page 8\n",
    "#  t.orig: vector of t-statistics from original model\n",
    "#  t.boot: matrix of t-statistics from bootstrapped models\n",
    "romano_wolf_correction <- function(t.orig, t.boot) {\n",
    "  abs.t.orig <- abs(t.orig)\n",
    "  abs.t.boot <- abs(t.boot)\n",
    "  abs.t.sorted <- sort(abs.t.orig, decreasing = TRUE)\n",
    "\n",
    "  max.order <- order(abs.t.orig, decreasing = TRUE)\n",
    "  rev.order <- order(max.order)\n",
    "\n",
    "  M <- nrow(t.boot)\n",
    "  S <- ncol(t.boot)\n",
    "\n",
    "  p.adj <- rep(0, S)\n",
    "  p.adj[1] <- mean(apply(abs.t.boot, 1, max) > abs.t.sorted[1])\n",
    "  for (s in seq(2, S)) {\n",
    "    cur.index <- max.order[s:S]\n",
    "    p.init <- mean(apply(abs.t.boot[, cur.index, drop=FALSE], 1, max) > abs.t.sorted[s])\n",
    "    p.adj[s] <- max(p.init, p.adj[s-1])\n",
    "  }\n",
    "  p.adj[rev.order]\n",
    "}\n",
    "\n",
    "# Computes adjusted p-values for linear regression (lm) models.\n",
    "#    model: object of lm class (i.e., a linear reg model)\n",
    "#    indices: vector of integers for the coefficients that will be tested\n",
    "#    cov.type: type of standard error (to be passed to sandwich::vcovHC)\n",
    "#    num.boot: number of null bootstrap samples. Increase to stabilize across runs.\n",
    "# Note: results are probabilitistic and may change slightly at every run. \n",
    "#\n",
    "# Adapted from the p_adjust from from the hdm package, written by Philipp Bach.\n",
    "# https://github.com/PhilippBach/hdm_prev/blob/master/R/p_adjust.R\n",
    "summary_rw_lm <- function(model, indices=NULL, cov.type=\"HC2\", num.boot=10000) {\n",
    "\n",
    "  if (is.null(indices)) {\n",
    "    indices <- 1:nrow(coef(summary(model)))\n",
    "  }\n",
    "  # Grab the original t values.\n",
    "  summary <- coef(summary(model))[indices,,drop=FALSE]\n",
    "  t.orig <- summary[, \"t value\"]\n",
    "\n",
    "  # Null resampling.\n",
    "  # This is a trick to speed up bootstrapping linear models.\n",
    "  # Here, we don't really need to re-fit linear regressions, which would be a bit slow.\n",
    "  # We know that betahat ~ N(beta, Sigma), and we have an estimate Sigmahat.\n",
    "  # So we can approximate \"null t-values\" by\n",
    "  #  - Draw beta.boot ~ N(0, Sigma-hat) --- note the 0 here, this is what makes it a *null* t-value.\n",
    "  #  - Compute t.boot = beta.boot / sqrt(diag(Sigma.hat))\n",
    "  Sigma.hat <- vcovHC(model, type=cov.type)[indices, indices]\n",
    "  se.orig <- sqrt(diag(Sigma.hat))\n",
    "  num.coef <- length(se.orig)\n",
    "  beta.boot <- mvrnorm(n=num.boot, mu=rep(0, num.coef), Sigma=Sigma.hat)\n",
    "  t.boot <- sweep(beta.boot, 2, se.orig, \"/\")\n",
    "  p.adj <- romano_wolf_correction(t.orig, t.boot)\n",
    "\n",
    "  result <- cbind(summary[,c(1,2,4),drop=F], p.adj)\n",
    "  colnames(result) <- c('Estimate', 'Std. Error', 'Orig. p-value', 'Adj. p-value')\n",
    "  result\n",
    "}"
   ]
  },
  {
   "cell_type": "code",
   "execution_count": 9,
   "id": "7cc6a3cd",
   "metadata": {},
   "outputs": [
    {
     "data": {
      "text/html": [
       "<table class=\"dataframe\">\n",
       "<caption>A matrix: 6 × 4 of type dbl</caption>\n",
       "<thead>\n",
       "\t<tr><th></th><th scope=col>Estimate</th><th scope=col>Std. Error</th><th scope=col>Orig. p-value</th><th scope=col>Adj. p-value</th></tr>\n",
       "</thead>\n",
       "<tbody>\n",
       "\t<tr><th scope=row>w:factor(polviews)2</th><td>-0.02424199</td><td>0.03034779</td><td>4.244098e-01</td><td>0.4271</td></tr>\n",
       "\t<tr><th scope=row>w:factor(polviews)3</th><td>-0.05962335</td><td>0.03015010</td><td>4.798896e-02</td><td>0.0768</td></tr>\n",
       "\t<tr><th scope=row>w:factor(polviews)4</th><td>-0.13461439</td><td>0.02822807</td><td>1.862258e-06</td><td>0.0000</td></tr>\n",
       "\t<tr><th scope=row>w:factor(polviews)5</th><td>-0.16491540</td><td>0.02957511</td><td>2.481093e-08</td><td>0.0000</td></tr>\n",
       "\t<tr><th scope=row>w:factor(polviews)6</th><td>-0.18007875</td><td>0.02966030</td><td>1.284150e-09</td><td>0.0000</td></tr>\n",
       "\t<tr><th scope=row>w:factor(polviews)7</th><td>-0.18618443</td><td>0.03790379</td><td>9.063658e-07</td><td>0.0000</td></tr>\n",
       "</tbody>\n",
       "</table>\n"
      ],
      "text/latex": [
       "A matrix: 6 × 4 of type dbl\n",
       "\\begin{tabular}{r|llll}\n",
       "  & Estimate & Std. Error & Orig. p-value & Adj. p-value\\\\\n",
       "\\hline\n",
       "\tw:factor(polviews)2 & -0.02424199 & 0.03034779 & 4.244098e-01 & 0.4271\\\\\n",
       "\tw:factor(polviews)3 & -0.05962335 & 0.03015010 & 4.798896e-02 & 0.0768\\\\\n",
       "\tw:factor(polviews)4 & -0.13461439 & 0.02822807 & 1.862258e-06 & 0.0000\\\\\n",
       "\tw:factor(polviews)5 & -0.16491540 & 0.02957511 & 2.481093e-08 & 0.0000\\\\\n",
       "\tw:factor(polviews)6 & -0.18007875 & 0.02966030 & 1.284150e-09 & 0.0000\\\\\n",
       "\tw:factor(polviews)7 & -0.18618443 & 0.03790379 & 9.063658e-07 & 0.0000\\\\\n",
       "\\end{tabular}\n"
      ],
      "text/markdown": [
       "\n",
       "A matrix: 6 × 4 of type dbl\n",
       "\n",
       "| <!--/--> | Estimate | Std. Error | Orig. p-value | Adj. p-value |\n",
       "|---|---|---|---|---|\n",
       "| w:factor(polviews)2 | -0.02424199 | 0.03034779 | 4.244098e-01 | 0.4271 |\n",
       "| w:factor(polviews)3 | -0.05962335 | 0.03015010 | 4.798896e-02 | 0.0768 |\n",
       "| w:factor(polviews)4 | -0.13461439 | 0.02822807 | 1.862258e-06 | 0.0000 |\n",
       "| w:factor(polviews)5 | -0.16491540 | 0.02957511 | 2.481093e-08 | 0.0000 |\n",
       "| w:factor(polviews)6 | -0.18007875 | 0.02966030 | 1.284150e-09 | 0.0000 |\n",
       "| w:factor(polviews)7 | -0.18618443 | 0.03790379 | 9.063658e-07 | 0.0000 |\n",
       "\n"
      ],
      "text/plain": [
       "                    Estimate    Std. Error Orig. p-value Adj. p-value\n",
       "w:factor(polviews)2 -0.02424199 0.03034779 4.244098e-01  0.4271      \n",
       "w:factor(polviews)3 -0.05962335 0.03015010 4.798896e-02  0.0768      \n",
       "w:factor(polviews)4 -0.13461439 0.02822807 1.862258e-06  0.0000      \n",
       "w:factor(polviews)5 -0.16491540 0.02957511 2.481093e-08  0.0000      \n",
       "w:factor(polviews)6 -0.18007875 0.02966030 1.284150e-09  0.0000      \n",
       "w:factor(polviews)7 -0.18618443 0.03790379 9.063658e-07  0.0000      "
      ]
     },
     "metadata": {},
     "output_type": "display_data"
    }
   ],
   "source": [
    "# This linear regression is only valid in a randomized setting.\n",
    "fmla <- formula(paste(outcome, ' ~ ', treatment, '*', 'factor(', group, ')'))\n",
    "ols <- lm(fmla, data=data)\n",
    "interact <- which(sapply(names(coef(ols)), function(x) grepl(paste0(treatment, \":\"), x)))\n",
    "\n",
    "# Applying the romano-wolf correction.\n",
    "summary_rw_lm(ols, indices=interact)"
   ]
  },
  {
   "cell_type": "markdown",
   "id": "0bf1c4d9",
   "metadata": {
    "lines_to_next_cell": 0
   },
   "source": [
    "<font size=1>\n",
    "Compare the adjusted p-values under Romano-Wolf with those obtained via Bonferroni above.\n",
    "</font>\n",
    "\n",
    "The Bonferroni and Romano-Wolf methods control the **familywise error rate (FWER)**, which is the (asymptotic) probability of rejecting even one true null hypothesis. In other words, for a significance level $\\alpha$, they guarantee that with probability $1 - \\alpha$ we will make zero false discoveries. However, when the number of hypotheses being tested is very large, this criterion may be so stringent that it prevents us from being able to detect real effects. Instead, there exist alternative procedures that control the (asymptotic) **false discovery rate (FDR)**, defined as the expected proportion of true null hypotheses rejected among all hypotheses rejected. One such procedure is the Benjamini-Hochberg procedure, which is available in base R via `p.adjust(..., method=\"BH\")`. For what remains we'll stick with FWER control, but keep in mind that FDR control can also useful in exploratory analyses or settings in which there's a very large number of hypotheses under consideration.\n",
    "\n",
    "As in the previous chapter, when working with observational data under unconfoundedness and overlap, one can use AIPW scores  $\\hat{\\Gamma}_i$ in place of the raw outcomes  $Y_i$. In the next snippet, we construct AIPW scores using the `causal_forest` function from the `grf` package."
   ]
  },
  {
   "cell_type": "code",
   "execution_count": 10,
   "id": "c1cbed9a",
   "metadata": {},
   "outputs": [
    {
     "data": {
      "text/html": [
       "<table class=\"dataframe\">\n",
       "<caption>A matrix: 6 × 4 of type dbl</caption>\n",
       "<thead>\n",
       "\t<tr><th></th><th scope=col>Estimate</th><th scope=col>Std. Error</th><th scope=col>Orig. p-value</th><th scope=col>Adj. p-value</th></tr>\n",
       "</thead>\n",
       "<tbody>\n",
       "\t<tr><th scope=row>factor(polviews)2</th><td>-0.02761031</td><td>0.03212677</td><td>3.901174e-01</td><td>0.3927</td></tr>\n",
       "\t<tr><th scope=row>factor(polviews)3</th><td>-0.07255320</td><td>0.03192271</td><td>2.304700e-02</td><td>0.0352</td></tr>\n",
       "\t<tr><th scope=row>factor(polviews)4</th><td>-0.14045255</td><td>0.02990102</td><td>2.649104e-06</td><td>0.0000</td></tr>\n",
       "\t<tr><th scope=row>factor(polviews)5</th><td>-0.17737233</td><td>0.03132357</td><td>1.505363e-08</td><td>0.0000</td></tr>\n",
       "\t<tr><th scope=row>factor(polviews)6</th><td>-0.18170284</td><td>0.03141367</td><td>7.361667e-09</td><td>0.0000</td></tr>\n",
       "\t<tr><th scope=row>factor(polviews)7</th><td>-0.20143316</td><td>0.04011025</td><td>5.144634e-07</td><td>0.0000</td></tr>\n",
       "</tbody>\n",
       "</table>\n"
      ],
      "text/latex": [
       "A matrix: 6 × 4 of type dbl\n",
       "\\begin{tabular}{r|llll}\n",
       "  & Estimate & Std. Error & Orig. p-value & Adj. p-value\\\\\n",
       "\\hline\n",
       "\tfactor(polviews)2 & -0.02761031 & 0.03212677 & 3.901174e-01 & 0.3927\\\\\n",
       "\tfactor(polviews)3 & -0.07255320 & 0.03192271 & 2.304700e-02 & 0.0352\\\\\n",
       "\tfactor(polviews)4 & -0.14045255 & 0.02990102 & 2.649104e-06 & 0.0000\\\\\n",
       "\tfactor(polviews)5 & -0.17737233 & 0.03132357 & 1.505363e-08 & 0.0000\\\\\n",
       "\tfactor(polviews)6 & -0.18170284 & 0.03141367 & 7.361667e-09 & 0.0000\\\\\n",
       "\tfactor(polviews)7 & -0.20143316 & 0.04011025 & 5.144634e-07 & 0.0000\\\\\n",
       "\\end{tabular}\n"
      ],
      "text/markdown": [
       "\n",
       "A matrix: 6 × 4 of type dbl\n",
       "\n",
       "| <!--/--> | Estimate | Std. Error | Orig. p-value | Adj. p-value |\n",
       "|---|---|---|---|---|\n",
       "| factor(polviews)2 | -0.02761031 | 0.03212677 | 3.901174e-01 | 0.3927 |\n",
       "| factor(polviews)3 | -0.07255320 | 0.03192271 | 2.304700e-02 | 0.0352 |\n",
       "| factor(polviews)4 | -0.14045255 | 0.02990102 | 2.649104e-06 | 0.0000 |\n",
       "| factor(polviews)5 | -0.17737233 | 0.03132357 | 1.505363e-08 | 0.0000 |\n",
       "| factor(polviews)6 | -0.18170284 | 0.03141367 | 7.361667e-09 | 0.0000 |\n",
       "| factor(polviews)7 | -0.20143316 | 0.04011025 | 5.144634e-07 | 0.0000 |\n",
       "\n"
      ],
      "text/plain": [
       "                  Estimate    Std. Error Orig. p-value Adj. p-value\n",
       "factor(polviews)2 -0.02761031 0.03212677 3.901174e-01  0.3927      \n",
       "factor(polviews)3 -0.07255320 0.03192271 2.304700e-02  0.0352      \n",
       "factor(polviews)4 -0.14045255 0.02990102 2.649104e-06  0.0000      \n",
       "factor(polviews)5 -0.17737233 0.03132357 1.505363e-08  0.0000      \n",
       "factor(polviews)6 -0.18170284 0.03141367 7.361667e-09  0.0000      \n",
       "factor(polviews)7 -0.20143316 0.04011025 5.144634e-07  0.0000      "
      ]
     },
     "metadata": {},
     "output_type": "display_data"
    }
   ],
   "source": [
    "# Valid in randomized settings and observational settings with unconfoundedness+overlap.\n",
    "\n",
    "# Preparing data to fit a causal forest\n",
    "fmla <- formula(paste0(\"~ 0 +\", paste0(covariates, collapse=\"+\")))\n",
    "XX <- model.matrix(fmla, data)\n",
    "W <- data[,treatment]\n",
    "Y <- data[,outcome]\n",
    "\n",
    "# Comment or uncomment as appropriate.\n",
    "# Randomized setting with known and fixed probabilities (here: 0.5).\n",
    "forest.tau <- causal_forest(XX, Y, W, W.hat=.5) \n",
    "# Observational setting with unconf + overlap, unknown assignment probs.\n",
    "forest.tau <- causal_forest(XX, Y, W) \n",
    "\n",
    "# Get forest predictions. \n",
    "tau.hat <- predict(forest.tau)$predictions \n",
    "m.hat <- forest.tau$Y.hat  # E[Y|X] estimates\n",
    "e.hat <- forest.tau$W.hat  # e(X) := E[W|X] estimates (or known quantity)\n",
    "tau.hat <- forest.tau$predictions  # tau(X) estimates\n",
    "  \n",
    "# Predicting mu.hat(X[i], 1) and mu.hat(X[i], 0) for obs in held-out sample\n",
    "# Note: to understand this, read equations 6-8 in this vignette\n",
    "# https://grf-labs.github.io/grf/articles/muhats.html\n",
    "mu.hat.0 <- m.hat - e.hat * tau.hat        # E[Y|X,W=0] = E[Y|X] - e(X)*tau(X)\n",
    "mu.hat.1 <- m.hat + (1 - e.hat) * tau.hat  # E[Y|X,W=1] = E[Y|X] + (1 - e(X))*tau(X)\n",
    "\n",
    "# Compute AIPW scores\n",
    "aipw.scores <- tau.hat + W / e.hat * (Y -  mu.hat.1) - (1 - W) / (1 - e.hat) * (Y -  mu.hat.0)\n",
    "\n",
    "# Estimate average treatment effect conditional on group membership\n",
    "fmla <- formula(paste0('aipw.scores ~ factor(', group, ')'))\n",
    "ols <- lm(fmla, data=transform(data, aipw.scores=aipw.scores))\n",
    "ols.res <- coeftest(ols, vcov = vcovHC(ols, \"HC2\"))\n",
    "indices <- which(names(coef(ols.res)) != '(Intercept)')\n",
    "summary_rw_lm(ols, indices=indices)"
   ]
  },
  {
   "cell_type": "markdown",
   "id": "d8533f77",
   "metadata": {},
   "source": [
    "One can also construct AIPW scores using any other nonparametric method. Here's how to do it by fitting flexible generalized linear models `glmnet` and `splines`. "
   ]
  },
  {
   "cell_type": "code",
   "execution_count": 11,
   "id": "d6020315",
   "metadata": {
    "lines_to_next_cell": 2
   },
   "outputs": [
    {
     "data": {
      "text/html": [
       "<table class=\"dataframe\">\n",
       "<caption>A matrix: 6 × 4 of type dbl</caption>\n",
       "<thead>\n",
       "\t<tr><th></th><th scope=col>Estimate</th><th scope=col>Std. Error</th><th scope=col>Orig. p-value</th><th scope=col>Adj. p-value</th></tr>\n",
       "</thead>\n",
       "<tbody>\n",
       "\t<tr><th scope=row>factor(polviews)2</th><td>-0.02431188</td><td>0.03025159</td><td>4.216022e-01</td><td>0.4196</td></tr>\n",
       "\t<tr><th scope=row>factor(polviews)3</th><td>-0.06078026</td><td>0.03005945</td><td>4.318542e-02</td><td>0.0716</td></tr>\n",
       "\t<tr><th scope=row>factor(polviews)4</th><td>-0.13363032</td><td>0.02815576</td><td>2.083662e-06</td><td>0.0000</td></tr>\n",
       "\t<tr><th scope=row>factor(polviews)5</th><td>-0.16498404</td><td>0.02949527</td><td>2.244685e-08</td><td>0.0000</td></tr>\n",
       "\t<tr><th scope=row>factor(polviews)6</th><td>-0.17926620</td><td>0.02958012</td><td>1.375097e-09</td><td>0.0000</td></tr>\n",
       "\t<tr><th scope=row>factor(polviews)7</th><td>-0.18695392</td><td>0.03776909</td><td>7.466598e-07</td><td>0.0000</td></tr>\n",
       "</tbody>\n",
       "</table>\n"
      ],
      "text/latex": [
       "A matrix: 6 × 4 of type dbl\n",
       "\\begin{tabular}{r|llll}\n",
       "  & Estimate & Std. Error & Orig. p-value & Adj. p-value\\\\\n",
       "\\hline\n",
       "\tfactor(polviews)2 & -0.02431188 & 0.03025159 & 4.216022e-01 & 0.4196\\\\\n",
       "\tfactor(polviews)3 & -0.06078026 & 0.03005945 & 4.318542e-02 & 0.0716\\\\\n",
       "\tfactor(polviews)4 & -0.13363032 & 0.02815576 & 2.083662e-06 & 0.0000\\\\\n",
       "\tfactor(polviews)5 & -0.16498404 & 0.02949527 & 2.244685e-08 & 0.0000\\\\\n",
       "\tfactor(polviews)6 & -0.17926620 & 0.02958012 & 1.375097e-09 & 0.0000\\\\\n",
       "\tfactor(polviews)7 & -0.18695392 & 0.03776909 & 7.466598e-07 & 0.0000\\\\\n",
       "\\end{tabular}\n"
      ],
      "text/markdown": [
       "\n",
       "A matrix: 6 × 4 of type dbl\n",
       "\n",
       "| <!--/--> | Estimate | Std. Error | Orig. p-value | Adj. p-value |\n",
       "|---|---|---|---|---|\n",
       "| factor(polviews)2 | -0.02431188 | 0.03025159 | 4.216022e-01 | 0.4196 |\n",
       "| factor(polviews)3 | -0.06078026 | 0.03005945 | 4.318542e-02 | 0.0716 |\n",
       "| factor(polviews)4 | -0.13363032 | 0.02815576 | 2.083662e-06 | 0.0000 |\n",
       "| factor(polviews)5 | -0.16498404 | 0.02949527 | 2.244685e-08 | 0.0000 |\n",
       "| factor(polviews)6 | -0.17926620 | 0.02958012 | 1.375097e-09 | 0.0000 |\n",
       "| factor(polviews)7 | -0.18695392 | 0.03776909 | 7.466598e-07 | 0.0000 |\n",
       "\n"
      ],
      "text/plain": [
       "                  Estimate    Std. Error Orig. p-value Adj. p-value\n",
       "factor(polviews)2 -0.02431188 0.03025159 4.216022e-01  0.4196      \n",
       "factor(polviews)3 -0.06078026 0.03005945 4.318542e-02  0.0716      \n",
       "factor(polviews)4 -0.13363032 0.02815576 2.083662e-06  0.0000      \n",
       "factor(polviews)5 -0.16498404 0.02949527 2.244685e-08  0.0000      \n",
       "factor(polviews)6 -0.17926620 0.02958012 1.375097e-09  0.0000      \n",
       "factor(polviews)7 -0.18695392 0.03776909 7.466598e-07  0.0000      "
      ]
     },
     "metadata": {},
     "output_type": "display_data"
    }
   ],
   "source": [
    "# Valid randomized data and observational data with unconfoundedness+overlap.\n",
    "# Note: read the comments below carefully. \n",
    "# In randomized settings, do not estimate forest.e and e.hat; use known assignment probs.\n",
    "fmla.xw <- formula(paste0(\"~\", paste0(\"bs(\", covariates, \", df=3, degree=3) *\", treatment, collapse=\"+\")))\n",
    "fmla.x <- formula(paste0(\"~\", paste0(\"bs(\", covariates, \", df=3, degree=3)\", collapse=\"+\")))\n",
    "XW <- model.matrix(fmla.xw, data)\n",
    "XX <- model.matrix(fmla.x, data)\n",
    "Y <- data[,outcome]\n",
    "\n",
    "n.folds <- 5\n",
    "indices <- split(seq(n), sort(seq(n) %% n.folds))\n",
    "\n",
    "aipw.scores <- lapply(indices, function(idx) {\n",
    "\n",
    "  # Fitting the outcome model\n",
    "  model.m <- cv.glmnet(XW[-idx,], Y[-idx])  \n",
    "  \n",
    "  # Predict outcome E[Y|X,W=w] for w in {0, 1}\n",
    "  data.0 <- data\n",
    "  data.0[,treatment] <- 0\n",
    "  XW0 <- model.matrix(fmla.xw, data.0)\n",
    "  mu.hat.0 <- predict(model.m, XW0, s=\"lambda.min\")[idx,]\n",
    "  \n",
    "  data.1 <- data\n",
    "  data.1[,treatment] <- 1\n",
    "  XW1 <- model.matrix(fmla.xw, data.1)\n",
    "  mu.hat.1 <- predict(model.m, XW1, s=\"lambda.min\")[idx,]\n",
    "  \n",
    "  # Fitting the propensity score model\n",
    "  # Comment / uncomment the lines below as appropriate.\n",
    "  # OBSERVATIONAL SETTING (with unconfoundedness+overlap):\n",
    "  # model.e <- cv.glmnet(XX[-idx,], W[-idx], family=\"binomial\")  \n",
    "  # e.hat <- predict(model.e, XX[idx,], s=\"lambda.min\", type=\"response\")\n",
    "  # RANDOMIZED SETTING\n",
    "  e.hat <- rep(0.5, length(idx))  \n",
    "  \n",
    "  # Compute CATE estimates\n",
    "  tau.hat <- mu.hat.1 - mu.hat.0\n",
    "  \n",
    "  # Compute AIPW scores\n",
    "  aipw.scores <- (tau.hat \n",
    "                  + W[idx] / e.hat * (Y[idx] -  mu.hat.1)\n",
    "                  - (1 - W[idx]) / (1 - e.hat) * (Y[idx] -  mu.hat.0))\n",
    "\n",
    "  aipw.scores\n",
    "})\n",
    "aipw.scores<- unname(do.call(c, aipw.scores))\n",
    "\n",
    "# Estimate average treatment effect conditional on group membership\n",
    "fmla <- formula(paste0('aipw.scores ~ factor(', group, ')'))\n",
    "ols <- lm(fmla, data=transform(data, aipw.scores=aipw.scores))\n",
    "ols.res <- coeftest(ols, vcov = vcovHC(ols, \"HC2\"))\n",
    "indices <- which(names(coef(ols.res)) != '(Intercept)')\n",
    "summary_rw_lm(ols, indices=indices)"
   ]
  },
  {
   "cell_type": "markdown",
   "id": "ee6b69a4",
   "metadata": {},
   "source": [
    "## Data-driven hypotheses\n",
    "\n",
    "Pre-specifying hypotheses prior to looking at the data is in general good practice to avoid \"p-hacking\" (e.g., slicing the data into different subgroups until a significant result is found). However, valid tests can also be attained if by **sample splitting**: we can use a subset of the sample to find promising subgroups, then test hypotheses about these subgroups in the remaining sample. This kind of sample splitting for hypothesis testing is called **honesty**.\n",
    "\n",
    "### Via causal trees\n",
    "\n",
    "**Causal trees** [(Athey and Imbens)](PNAS, 2016)](https://www.pnas.org/content/pnas/113/27/7353.full.pdf) are an intuitive algorithm that is available in the randomized setting to discover subgroups with different treatment effects.\n",
    "\n",
    "At a high level, the idea is to divide the sample into three subsets (not necessarily of equal size). The `splitting` subset is used to fit a decision tree whose objective is modified to maximize heterogeneity in treatment effect estimates across leaves. The `estimation` subset is then used to produce a valid estimate of the treatment effect at each leaf of the fitted tree. Finally, a `test` subset can be used to validate the tree estimates.\n",
    "\n",
    "The next snippet uses `honest.causalTree` function from the [`causalTree`](https://github.com/susanathey/causalTree) package. For more details, see the [causalTree documentation](https://github.com/susanathey/causalTree/blob/master/briefintro.pdf)."
   ]
  },
  {
   "cell_type": "code",
   "execution_count": 12,
   "id": "a6700950",
   "metadata": {
    "lines_to_next_cell": 2,
    "tags": [
     "remove_output"
    ]
   },
   "outputs": [
    {
     "name": "stdout",
     "output_type": "stream",
     "text": [
      "[1] 2\n",
      "[1] \"CT\"\n"
     ]
    }
   ],
   "source": [
    "# Only valid for randomized data!\n",
    "\n",
    "fmla <- paste(outcome, \" ~\", paste(covariates, collapse = \" + \"))\n",
    "\n",
    "# Dividing data into three subsets\n",
    "indices <- split(seq(nrow(data)), sort(seq(nrow(data)) %% 3))\n",
    "names(indices) <- c('split', 'est', 'test')\n",
    "\n",
    "# Fitting the forest\n",
    "ct.unpruned <- honest.causalTree(\n",
    "  formula=fmla,            # Define the model\n",
    "  data=data[indices$split,],\n",
    "  treatment=data[indices$split, treatment],\n",
    "  est_data=data[indices$est,],\n",
    "  est_treatment=data[indices$est, treatment],\n",
    "  minsize=1,                 # Min. number of treatment and control cases in each leaf\n",
    "  HonestSampleSize=length(indices$est), #  Num obs used in estimation after splitting\n",
    "  # We recommend not changing the parameters below\n",
    "  split.Rule=\"CT\",            # Define the splitting option\n",
    "  cv.option=\"TOT\",            # Cross validation options\n",
    "  cp=0,                       # Complexity parameter\n",
    "  split.Honest=TRUE,          # Use honesty when splitting\n",
    "  cv.Honest=TRUE              # Use honesty when performing cross-validation\n",
    ")\n",
    "\n",
    "# Table of cross-validated values by tuning parameter.\n",
    "ct.cptable <- as.data.frame(ct.unpruned$cptable)\n",
    "\n",
    "# Obtain optimal complexity parameter to prune tree.\n",
    "cp.selected <- which.min(ct.cptable$xerror)\n",
    "cp.optimal <- ct.cptable[cp.selected, \"CP\"]\n",
    "\n",
    "# Prune the tree at optimal complexity parameter.\n",
    "ct.pruned <- prune(tree=ct.unpruned, cp=cp.optimal)\n",
    "\n",
    "# Predict point estimates (on estimation sample)\n",
    "tau.hat.est <- predict(ct.pruned, newdata=data[indices$est,])\n",
    "\n",
    "# Create a factor column 'leaf' indicating leaf assignment in the estimation set\n",
    "num.leaves <- length(unique(tau.hat.est))\n",
    "leaf <- factor(tau.hat.est, levels=sort(unique(tau.hat.est)), labels = seq(num.leaves))"
   ]
  },
  {
   "cell_type": "markdown",
   "id": "27a86cfe",
   "metadata": {},
   "source": [
    "Note: if your tree is not splitting at all, try decreasing the parameter `minsize` that controls the minimum size of each leaf. The next snippet plots the learned tree. The values in the cell are the estimated treatment effect and an estimate of the fraction of the population that falls within each leaf. Both are estimated using the `estimation` sample."
   ]
  },
  {
   "cell_type": "code",
   "execution_count": 13,
   "id": "f15d590c",
   "metadata": {},
   "outputs": [
    {
     "data": {
      "image/png": "[encoded data removed]",
      "text/plain": [
       "plot without title"
      ]
     },
     "metadata": {
      "filenames": {
       "image/png": "C:\\Users\\User\\Documents\\GitHub\\mgtecon634_r\\_build\\jupyter_execute\\notebooks\\4_heterogeneous_treatment_effect_1_24_0.png"
      },
      "image/png": {
       "height": 420,
       "width": 420
      }
     },
     "output_type": "display_data"
    }
   ],
   "source": [
    "rpart.plot(\n",
    "  x=ct.pruned,        # Pruned tree\n",
    "  type=3,             # Draw separate split labels for the left and right directions\n",
    "  fallen=TRUE,        # Position the leaf nodes at the bottom of the graph\n",
    "  leaf.round=1,       # Rounding of the corners of the leaf node boxes\n",
    "  extra=100,          # Display the percentage of observations in the node\n",
    "  branch=.1,          # Shape of the branch lines\n",
    "  box.palette=\"RdBu\") # Palette for coloring the node"
   ]
  },
  {
   "cell_type": "markdown",
   "id": "e88eef6c",
   "metadata": {},
   "source": [
    "The next snippet tests if the treatment effect in leaves $\\geq 2$ is larger than the treatment effect in the first leaf. The code follows closely what we saw in the previous subsection."
   ]
  },
  {
   "cell_type": "code",
   "execution_count": 14,
   "id": "f3889e4c",
   "metadata": {},
   "outputs": [
    {
     "data": {
      "text/html": [
       "<table class=\"dataframe\">\n",
       "<caption>A matrix: 8 × 4 of type dbl</caption>\n",
       "<thead>\n",
       "\t<tr><th></th><th scope=col>Estimate</th><th scope=col>Std. Error</th><th scope=col>Orig. p-value</th><th scope=col>Adj. p-value</th></tr>\n",
       "</thead>\n",
       "<tbody>\n",
       "\t<tr><th scope=row>w:leaf2</th><td>0.04261544</td><td>0.02675955</td><td>1.112984e-01</td><td>0.1137</td></tr>\n",
       "\t<tr><th scope=row>w:leaf3</th><td>0.08304080</td><td>0.03903846</td><td>3.343291e-02</td><td>0.0629</td></tr>\n",
       "\t<tr><th scope=row>w:leaf4</th><td>0.08649780</td><td>0.02999722</td><td>3.941285e-03</td><td>0.0113</td></tr>\n",
       "\t<tr><th scope=row>w:leaf5</th><td>0.10688672</td><td>0.03346314</td><td>1.406931e-03</td><td>0.0047</td></tr>\n",
       "\t<tr><th scope=row>w:leaf6</th><td>0.14399896</td><td>0.03708540</td><td>1.039142e-04</td><td>0.0005</td></tr>\n",
       "\t<tr><th scope=row>w:leaf7</th><td>0.17514244</td><td>0.03797784</td><td>4.045881e-06</td><td>0.0000</td></tr>\n",
       "\t<tr><th scope=row>w:leaf8</th><td>0.21914803</td><td>0.04269808</td><td>2.915505e-07</td><td>0.0000</td></tr>\n",
       "\t<tr><th scope=row>w:leaf9</th><td>0.23088896</td><td>0.06627687</td><td>4.967474e-04</td><td>0.0024</td></tr>\n",
       "</tbody>\n",
       "</table>\n"
      ],
      "text/latex": [
       "A matrix: 8 × 4 of type dbl\n",
       "\\begin{tabular}{r|llll}\n",
       "  & Estimate & Std. Error & Orig. p-value & Adj. p-value\\\\\n",
       "\\hline\n",
       "\tw:leaf2 & 0.04261544 & 0.02675955 & 1.112984e-01 & 0.1137\\\\\n",
       "\tw:leaf3 & 0.08304080 & 0.03903846 & 3.343291e-02 & 0.0629\\\\\n",
       "\tw:leaf4 & 0.08649780 & 0.02999722 & 3.941285e-03 & 0.0113\\\\\n",
       "\tw:leaf5 & 0.10688672 & 0.03346314 & 1.406931e-03 & 0.0047\\\\\n",
       "\tw:leaf6 & 0.14399896 & 0.03708540 & 1.039142e-04 & 0.0005\\\\\n",
       "\tw:leaf7 & 0.17514244 & 0.03797784 & 4.045881e-06 & 0.0000\\\\\n",
       "\tw:leaf8 & 0.21914803 & 0.04269808 & 2.915505e-07 & 0.0000\\\\\n",
       "\tw:leaf9 & 0.23088896 & 0.06627687 & 4.967474e-04 & 0.0024\\\\\n",
       "\\end{tabular}\n"
      ],
      "text/markdown": [
       "\n",
       "A matrix: 8 × 4 of type dbl\n",
       "\n",
       "| <!--/--> | Estimate | Std. Error | Orig. p-value | Adj. p-value |\n",
       "|---|---|---|---|---|\n",
       "| w:leaf2 | 0.04261544 | 0.02675955 | 1.112984e-01 | 0.1137 |\n",
       "| w:leaf3 | 0.08304080 | 0.03903846 | 3.343291e-02 | 0.0629 |\n",
       "| w:leaf4 | 0.08649780 | 0.02999722 | 3.941285e-03 | 0.0113 |\n",
       "| w:leaf5 | 0.10688672 | 0.03346314 | 1.406931e-03 | 0.0047 |\n",
       "| w:leaf6 | 0.14399896 | 0.03708540 | 1.039142e-04 | 0.0005 |\n",
       "| w:leaf7 | 0.17514244 | 0.03797784 | 4.045881e-06 | 0.0000 |\n",
       "| w:leaf8 | 0.21914803 | 0.04269808 | 2.915505e-07 | 0.0000 |\n",
       "| w:leaf9 | 0.23088896 | 0.06627687 | 4.967474e-04 | 0.0024 |\n",
       "\n"
      ],
      "text/plain": [
       "        Estimate   Std. Error Orig. p-value Adj. p-value\n",
       "w:leaf2 0.04261544 0.02675955 1.112984e-01  0.1137      \n",
       "w:leaf3 0.08304080 0.03903846 3.343291e-02  0.0629      \n",
       "w:leaf4 0.08649780 0.02999722 3.941285e-03  0.0113      \n",
       "w:leaf5 0.10688672 0.03346314 1.406931e-03  0.0047      \n",
       "w:leaf6 0.14399896 0.03708540 1.039142e-04  0.0005      \n",
       "w:leaf7 0.17514244 0.03797784 4.045881e-06  0.0000      \n",
       "w:leaf8 0.21914803 0.04269808 2.915505e-07  0.0000      \n",
       "w:leaf9 0.23088896 0.06627687 4.967474e-04  0.0024      "
      ]
     },
     "metadata": {},
     "output_type": "display_data"
    }
   ],
   "source": [
    "# This is only valid in randomized datasets.\n",
    "fmla <- paste0(outcome, ' ~ ', paste0(treatment, '* leaf'))\n",
    "if (num.leaves == 1) {\n",
    "  print(\"Skipping since there's a single leaf.\")\n",
    "\n",
    "} else if (num.leaves == 2) {\n",
    "    \n",
    "  # if there are only two leaves, no need to correct for multiple hypotheses\n",
    "  ols <- lm(fmla, data=transform(data[indices$est,], leaf=leaf))\n",
    "  coeftest(ols, vcov=vcovHC(ols, 'HC2'))[4,,drop=F]\n",
    "\n",
    "} else {\n",
    "    \n",
    "  # if there are three or more leaves, use Romano-Wolf test correction \n",
    "  ols <- lm(fmla, data=transform(data[indices$est,], leaf=leaf))\n",
    "  interact <- which(sapply(names(coef(ols)), function(x) grepl(paste0(treatment, \":\"), x)))\n",
    "  summary_rw_lm(ols, indices=interact, cov.type = 'HC2')\n",
    "}"
   ]
  },
  {
   "cell_type": "markdown",
   "id": "d170a873",
   "metadata": {},
   "source": [
    "In the chapter `Introduction to Machine Learning`, we cautioned against interpreting the decision tree splits, and the same is true for causal tree splits. That a tree splits on a particular variable does not mean that this variable is relevant in the underlying data-generating process -- it could simply be correlated with some other variable that is. For the same reason, we should not try to interpret _partial effects_ from tree output. \n",
    "\n",
    "However, similar to what we have done in previous chapters, we can try to understand how the joint distribution of covariates varies for subgroups with different estimated treatment effects. The annotated heatmap below shows the average value of each covariate within each leaf. Leaves are ordered from lowest to highest treatment effect estimate. The color is a normalized distance of each leaf-specific covariate mean from the overall covariate mean, i.e.., $\\smash{\\Phi^{-1}\\left((\\widehat{\\text{E}}[X_i|L_i] - \\widehat{\\text{E}}[X_i])/\\widehat{\\text{Var}}(\\widehat{\\text{E}}[X_i|L_i])\\right)}$. The rows are in descending order of variation, measured by $\\widehat{\\text{Var}}(\\widehat{\\text{E}}[X_i|L_i])/\\widehat{\\text{Var}}(X_i)$."
   ]
  },
  {
   "cell_type": "code",
   "execution_count": 15,
   "id": "4a0dfae8",
   "metadata": {},
   "outputs": [
    {
     "data": {
      "image/png": "[encoded data removed]",
      "text/plain": [
       "plot without title"
      ]
     },
     "metadata": {
      "filenames": {
       "image/png": "C:\\Users\\User\\Documents\\GitHub\\mgtecon634_r\\_build\\jupyter_execute\\notebooks\\4_heterogeneous_treatment_effect_1_28_0.png"
      },
      "image/png": {
       "height": 420,
       "width": 420
      }
     },
     "output_type": "display_data"
    }
   ],
   "source": [
    "df <- mapply(function(covariate) {\n",
    "      # Looping over covariate names\n",
    "      # Compute average covariate value per leaf (with correct standard errors)\n",
    "      fmla <- formula(paste0(covariate, \"~ 0 + leaf\"))\n",
    "      ols <- lm(fmla, data=transform(data[indices$est,], leaf=leaf))\n",
    "      ols.res <- coeftest(ols, vcov=vcovHC(ols, \"HC2\"))\n",
    "    \n",
    "      # Retrieve results\n",
    "      avg <- ols.res[,1]\n",
    "      stderr <- ols.res[,2]\n",
    "      \n",
    "      # Tally up results\n",
    "      data.frame(covariate, avg, stderr, leaf=paste0(\"Leaf\", seq(num.leaves)), \n",
    "                 # Used for coloring\n",
    "                 scaling=pnorm((avg - mean(avg))/sd(avg)), \n",
    "                 # We will order based on how much variation is 'explain' by the averages\n",
    "                 # relative to the total variation of the covariate in the data\n",
    "                 variation=sd(avg) / sd(data[,covariate]),\n",
    "                 # String to print in each cell in heatmap below\n",
    "                 labels=paste0(signif(avg, 3), \"\\n\", \"(\", signif(stderr, 3), \")\"))\n",
    "}, covariates, SIMPLIFY = FALSE)\n",
    "df <- do.call(rbind, df)\n",
    "\n",
    "# a small optional trick to ensure heatmap will be in decreasing order of 'variation'\n",
    "df$covariate <- reorder(df$covariate, order(df$variation))\n",
    "\n",
    "# plot heatmap\n",
    "ggplot(df) +\n",
    "    aes(leaf, covariate) +\n",
    "    geom_tile(aes(fill = scaling)) + \n",
    "    geom_text(aes(label = labels)) +\n",
    "    scale_fill_gradient(low = \"#E1BE6A\", high = \"#40B0A6\") +\n",
    "    ggtitle(paste0(\"Average covariate values within each leaf\")) +\n",
    "    theme_minimal() + \n",
    "    ylab(\"\") + xlab(\"\") +\n",
    "    theme(plot.title = element_text(size = 12, face = \"bold\"),\n",
    "          axis.text=element_text(size=11))"
   ]
  },
  {
   "cell_type": "markdown",
   "id": "6a548d45",
   "metadata": {},
   "source": [
    "<font size=1>\n",
    "Interpret the heatmap above. What describes the subgroups with strongest and weakest estimated treatment effect?\n",
    "</font>"
   ]
  },
  {
   "cell_type": "markdown",
   "id": "d8a29829",
   "metadata": {},
   "source": [
    "### Via grf\n",
    "\n",
    "The function `causal_forest` from the package `grf` allows us to get estimates of the CATE  (4.1). "
   ]
  },
  {
   "cell_type": "code",
   "execution_count": 16,
   "id": "d2570d57",
   "metadata": {},
   "outputs": [],
   "source": [
    "# Get predictions from forest fitted above.\n",
    "tau.hat <- predict(forest.tau)$predictions  # tau(X) estimates"
   ]
  },
  {
   "cell_type": "markdown",
   "id": "11d19a72",
   "metadata": {},
   "source": [
    "Having fit a non-parametric method such as a causal forest, a researcher may (incorrectly) start by looking at the distribution of its predictions of the treatment effect. One might be tempted to think: \"if the histogram is concentrated at a point, then there is no heterogeneity; if the histogram is spread out, then our estimator has found interesting heterogeneity.\" However, this may be false.\n"
   ]
  },
  {
   "cell_type": "code",
   "execution_count": 17,
   "id": "78999b4e",
   "metadata": {
    "lines_to_next_cell": 2
   },
   "outputs": [
    {
     "data": {
      "image/png": "[encoded data removed]",
      "text/plain": [
       "Plot with title \"CATE estimates\""
      ]
     },
     "metadata": {
      "filenames": {
       "image/png": "C:\\Users\\User\\Documents\\GitHub\\mgtecon634_r\\_build\\jupyter_execute\\notebooks\\4_heterogeneous_treatment_effect_1_33_0.png"
      },
      "image/png": {
       "height": 420,
       "width": 420
      }
     },
     "output_type": "display_data"
    }
   ],
   "source": [
    "# Do not use this for assessing heterogeneity. See text above.\n",
    "hist(tau.hat, main=\"CATE estimates\", freq=F)"
   ]
  },
  {
   "cell_type": "markdown",
   "id": "a8957d14",
   "metadata": {},
   "source": [
    "If the histogram is concentrated at a point, we may simply be underpowered: our method was not able to detect any heterogeneity, but maybe it would detect it if we had more data. If the histogram is spread out, we may be overfitting: our model is producing very noisy estimates $\\widehat{\\tau}(x)$, but in fact the true  $\\tau(x)$ can be much smoother as a function of $x$.\n",
    "\n",
    "The `grf` package also produces a measure of variable importance that indicates how often a variable was used in a tree split. Again, much like the histogram above, this can be a rough diagnostic, but it should not be interpreted as indicating that, for example, variable with low importance is not related to heterogeneity. The reasoning is the same as the one presented in the causal trees section: if two covariates are highly correlated, the trees might split on one covariate but not the other, even though both (or maybe neither) are relevant in the true data-generating process."
   ]
  },
  {
   "cell_type": "code",
   "execution_count": 18,
   "id": "a2f1cf71",
   "metadata": {
    "lines_to_next_cell": 2
   },
   "outputs": [
    {
     "data": {
      "text/html": [
       "<style>\n",
       ".dl-inline {width: auto; margin:0; padding: 0}\n",
       ".dl-inline>dt, .dl-inline>dd {float: none; width: auto; display: inline-block}\n",
       ".dl-inline>dt::after {content: \":\\0020\"; padding-right: .5ex}\n",
       ".dl-inline>dt:not(:first-of-type) {padding-left: .5ex}\n",
       "</style><dl class=dl-inline><dt>polviews</dt><dd>0.438935064162103</dd><dt>income</dt><dd>0.341506698507115</dd><dt>age</dt><dd>0.0926576796572023</dd><dt>educ</dt><dd>0.0738855089602683</dd><dt>marital</dt><dd>0.0460403350365832</dd></dl>\n"
      ],
      "text/latex": [
       "\\begin{description*}\n",
       "\\item[polviews] 0.438935064162103\n",
       "\\item[income] 0.341506698507115\n",
       "\\item[age] 0.0926576796572023\n",
       "\\item[educ] 0.0738855089602683\n",
       "\\item[marital] 0.0460403350365832\n",
       "\\end{description*}\n"
      ],
      "text/markdown": [
       "polviews\n",
       ":   0.438935064162103income\n",
       ":   0.341506698507115age\n",
       ":   0.0926576796572023educ\n",
       ":   0.0738855089602683marital\n",
       ":   0.0460403350365832\n",
       "\n"
      ],
      "text/plain": [
       "  polviews     income        age       educ    marital \n",
       "0.43893506 0.34150670 0.09265768 0.07388551 0.04604034 "
      ]
     },
     "metadata": {},
     "output_type": "display_data"
    }
   ],
   "source": [
    "var_imp <- c(variable_importance(forest.tau))\n",
    "names(var_imp) <- covariates\n",
    "sorted_var_imp <- sort(var_imp, decreasing = TRUE)\n",
    "sorted_var_imp[1:5]  # showing only first few"
   ]
  },
  {
   "cell_type": "markdown",
   "id": "1a3546ec",
   "metadata": {},
   "source": [
    "####  Data-driven subgroups\n",
    "\n",
    "Just as with causal trees, we can use causal forests to divide our observations into subgroups. In place of leaves, we'll rank observation into (say) quintiles according to their estimated CATE prediction; see, e.g., [Chernozhukov, Demirer, Duflo, Fernández-Val (2020)](https://arxiv.org/abs/1712.04802) for similar ideas.\n",
    "\n",
    "There's a subtle but important point that needs to be addressed here. As we have mentioned before, when predicting the conditional average treatment effect $\\hat{\\tau}(X_i)$ for observation $i$ we should in general avoid using a model that was fitted using observation $i$. This sort of sample splitting (which we called **honesty** above) is one of the required ingredients to get unbiased estimates of the CATE using the methods described here. However, when ranking estimates of two observations $i$ and $j$, we need something a little stronger: we must ensure that the model was not fit using _either_ $i$ _or_ $j$'s data. \n",
    "\n",
    "One way of overcoming this obstacle is simple. First, divide the data into $K$ folds (subsets). Then, cycle through the folds, fitting a CATE model on $K-1$ folds. Next, for each held-out fold, _separately_ rank the unseen observations into $Q$ groups based on their prediction  (i.e., if $Q=5$, then we rank observations by estimated CATE into \"top quintile\", \"second quintile\", and so on). After concatenating the independent rankings together, we can study the differences in observations in each rank-group. \n",
    "\n",
    "[This gist](https://gist.github.com/halflearned/bea4e5137c0c81fd18a75f682da466c8) computes the above for `grf`, and it should not be hard to modify it so as to replace forests by any other non-parametric method. However, for `grf` specifically, there's a small trick that allows us to obtain a valid ranking: we can pass a vector of fold indices to the argument `clusters` and rank observations within each fold. This works because estimates for each fold (\"cluster\")   trees are computed using trees that were not fit using observations from that fold. Here's how to do it. "
   ]
  },
  {
   "cell_type": "code",
   "execution_count": 19,
   "id": "8ac8cec0",
   "metadata": {},
   "outputs": [],
   "source": [
    "# Valid randomized data and observational data with unconfoundedness+overlap.\n",
    "# Note: read the comments below carefully. \n",
    "# In randomized settings, do not estimate forest.e and e.hat; use known assignment probs.\n",
    "\n",
    "# Prepare dataset\n",
    "fmla <- formula(paste0(\"~ 0 + \", paste0(covariates, collapse=\"+\")))\n",
    "X <- model.matrix(fmla, data)\n",
    "W <- data[,treatment]\n",
    "Y <- data[,outcome]\n",
    "\n",
    "# Number of rankings that the predictions will be ranking on \n",
    "# (e.g., 2 for above/below median estimated CATE, 5 for estimated CATE quintiles, etc.)\n",
    "num.rankings <- 5  \n",
    "\n",
    "# Prepare for data.splitting\n",
    "# Assign a fold number to each observation.\n",
    "# The argument 'clusters' in the next step will mimick K-fold cross-fitting.\n",
    "num.folds <- 10\n",
    "folds <- sort(seq(n) %% num.folds) + 1\n",
    "\n",
    "# Comment or uncomment depending on your setting.\n",
    "# Observational setting with unconfoundedness+overlap (unknown assignment probs):\n",
    "# forest <- causal_forest(X, Y, W, clusters = folds)\n",
    "# Randomized settings with fixed and known probabilities (here: 0.5).\n",
    "forest <- causal_forest(X, Y, W, W.hat=.5, clusters = folds)\n",
    "\n",
    "# Retrieve out-of-bag predictions.\n",
    "# Predictions for observation in fold k will be computed using \n",
    "# trees that were not trained using observations for that fold.\n",
    "tau.hat <- predict(forest)$predictions\n",
    "\n",
    "# Rank observations *within each fold* into quintiles according to their CATE predictions.\n",
    "ranking <- rep(NA, n)\n",
    "for (fold in seq(num.folds)) {\n",
    "  tau.hat.quantiles <- quantile(tau.hat[folds == fold], probs = seq(0, 1, by=1/num.rankings))\n",
    "  ranking[folds == fold] <- cut(tau.hat[folds == fold], tau.hat.quantiles, include.lowest=TRUE,labels=seq(num.rankings))\n",
    "}"
   ]
  },
  {
   "cell_type": "markdown",
   "id": "9165d2e9",
   "metadata": {},
   "source": [
    "The next snippet computes the average treatment effect within each group defined above, i.e., $\\mathbf{E}[Y_i(1) - Y_i(0)|G_i = g]$. This can done in two ways. First, by computing a simple difference-in-means estimate of the ATE based on observations within each group. This is valid only in randomized settings."
   ]
  },
  {
   "cell_type": "code",
   "execution_count": 20,
   "id": "8efcb586",
   "metadata": {},
   "outputs": [
    {
     "data": {
      "text/html": [
       "<table class=\"dataframe\">\n",
       "<caption>A data.frame: 5 × 4</caption>\n",
       "<thead>\n",
       "\t<tr><th scope=col>method</th><th scope=col>ranking</th><th scope=col>estimate</th><th scope=col>std.err</th></tr>\n",
       "\t<tr><th scope=col>&lt;chr&gt;</th><th scope=col>&lt;chr&gt;</th><th scope=col>&lt;dbl&gt;</th><th scope=col>&lt;dbl&gt;</th></tr>\n",
       "</thead>\n",
       "<tbody>\n",
       "\t<tr><td>ols</td><td>Q1</td><td>-0.4358604</td><td>0.011337194</td></tr>\n",
       "\t<tr><td>ols</td><td>Q2</td><td>-0.3985154</td><td>0.011188155</td></tr>\n",
       "\t<tr><td>ols</td><td>Q3</td><td>-0.3585742</td><td>0.011027056</td></tr>\n",
       "\t<tr><td>ols</td><td>Q4</td><td>-0.3322251</td><td>0.010495648</td></tr>\n",
       "\t<tr><td>ols</td><td>Q5</td><td>-0.2135253</td><td>0.009784412</td></tr>\n",
       "</tbody>\n",
       "</table>\n"
      ],
      "text/latex": [
       "A data.frame: 5 × 4\n",
       "\\begin{tabular}{llll}\n",
       " method & ranking & estimate & std.err\\\\\n",
       " <chr> & <chr> & <dbl> & <dbl>\\\\\n",
       "\\hline\n",
       "\t ols & Q1 & -0.4358604 & 0.011337194\\\\\n",
       "\t ols & Q2 & -0.3985154 & 0.011188155\\\\\n",
       "\t ols & Q3 & -0.3585742 & 0.011027056\\\\\n",
       "\t ols & Q4 & -0.3322251 & 0.010495648\\\\\n",
       "\t ols & Q5 & -0.2135253 & 0.009784412\\\\\n",
       "\\end{tabular}\n"
      ],
      "text/markdown": [
       "\n",
       "A data.frame: 5 × 4\n",
       "\n",
       "| method &lt;chr&gt; | ranking &lt;chr&gt; | estimate &lt;dbl&gt; | std.err &lt;dbl&gt; |\n",
       "|---|---|---|---|\n",
       "| ols | Q1 | -0.4358604 | 0.011337194 |\n",
       "| ols | Q2 | -0.3985154 | 0.011188155 |\n",
       "| ols | Q3 | -0.3585742 | 0.011027056 |\n",
       "| ols | Q4 | -0.3322251 | 0.010495648 |\n",
       "| ols | Q5 | -0.2135253 | 0.009784412 |\n",
       "\n"
      ],
      "text/plain": [
       "  method ranking estimate   std.err    \n",
       "1 ols    Q1      -0.4358604 0.011337194\n",
       "2 ols    Q2      -0.3985154 0.011188155\n",
       "3 ols    Q3      -0.3585742 0.011027056\n",
       "4 ols    Q4      -0.3322251 0.010495648\n",
       "5 ols    Q5      -0.2135253 0.009784412"
      ]
     },
     "metadata": {},
     "output_type": "display_data"
    }
   ],
   "source": [
    "# Valid only in randomized settings.\n",
    "# Average difference-in-means within each ranking\n",
    "\n",
    "# Formula y ~ 0 + ranking + ranking:w\n",
    "fmla <- paste0(outcome, \" ~ 0 + ranking + ranking:\", treatment)\n",
    "ols.ate <- lm(fmla, data=transform(data, ranking=factor(ranking)))\n",
    "ols.ate <- coeftest(ols.ate, vcov=vcovHC(ols.ate, type='HC2'))\n",
    "interact <- which(grepl(\":\", rownames(ols.ate)))\n",
    "ols.ate <- data.frame(\"ols\", paste0(\"Q\", seq(num.rankings)), ols.ate[interact, 1:2])\n",
    "rownames(ols.ate) <- NULL # just for display\n",
    "colnames(ols.ate) <- c(\"method\", \"ranking\", \"estimate\", \"std.err\")\n",
    "ols.ate"
   ]
  },
  {
   "cell_type": "markdown",
   "id": "ac03e8a6",
   "metadata": {},
   "source": [
    "Another option is to average the AIPW scores within each group. This valid for both randomized settings and observational settings with unconfoundedness and overlap. Moreover, AIPW-based estimators should produce estimates with tighter confidence intervals in large samples. "
   ]
  },
  {
   "cell_type": "code",
   "execution_count": 21,
   "id": "edb78a3c",
   "metadata": {},
   "outputs": [
    {
     "data": {
      "text/html": [
       "<table class=\"dataframe\">\n",
       "<caption>A data.frame: 5 × 4</caption>\n",
       "<thead>\n",
       "\t<tr><th scope=col>method</th><th scope=col>ranking</th><th scope=col>estimate</th><th scope=col>std.err</th></tr>\n",
       "\t<tr><th scope=col>&lt;chr&gt;</th><th scope=col>&lt;chr&gt;</th><th scope=col>&lt;dbl&gt;</th><th scope=col>&lt;dbl&gt;</th></tr>\n",
       "</thead>\n",
       "<tbody>\n",
       "\t<tr><td>aipw</td><td>Q1</td><td>-0.4358885</td><td>0.011029140</td></tr>\n",
       "\t<tr><td>aipw</td><td>Q2</td><td>-0.3966333</td><td>0.010747644</td></tr>\n",
       "\t<tr><td>aipw</td><td>Q3</td><td>-0.3597643</td><td>0.010641112</td></tr>\n",
       "\t<tr><td>aipw</td><td>Q4</td><td>-0.3326391</td><td>0.010204956</td></tr>\n",
       "\t<tr><td>aipw</td><td>Q5</td><td>-0.2095279</td><td>0.009340652</td></tr>\n",
       "</tbody>\n",
       "</table>\n"
      ],
      "text/latex": [
       "A data.frame: 5 × 4\n",
       "\\begin{tabular}{llll}\n",
       " method & ranking & estimate & std.err\\\\\n",
       " <chr> & <chr> & <dbl> & <dbl>\\\\\n",
       "\\hline\n",
       "\t aipw & Q1 & -0.4358885 & 0.011029140\\\\\n",
       "\t aipw & Q2 & -0.3966333 & 0.010747644\\\\\n",
       "\t aipw & Q3 & -0.3597643 & 0.010641112\\\\\n",
       "\t aipw & Q4 & -0.3326391 & 0.010204956\\\\\n",
       "\t aipw & Q5 & -0.2095279 & 0.009340652\\\\\n",
       "\\end{tabular}\n"
      ],
      "text/markdown": [
       "\n",
       "A data.frame: 5 × 4\n",
       "\n",
       "| method &lt;chr&gt; | ranking &lt;chr&gt; | estimate &lt;dbl&gt; | std.err &lt;dbl&gt; |\n",
       "|---|---|---|---|\n",
       "| aipw | Q1 | -0.4358885 | 0.011029140 |\n",
       "| aipw | Q2 | -0.3966333 | 0.010747644 |\n",
       "| aipw | Q3 | -0.3597643 | 0.010641112 |\n",
       "| aipw | Q4 | -0.3326391 | 0.010204956 |\n",
       "| aipw | Q5 | -0.2095279 | 0.009340652 |\n",
       "\n"
      ],
      "text/plain": [
       "  method ranking estimate   std.err    \n",
       "1 aipw   Q1      -0.4358885 0.011029140\n",
       "2 aipw   Q2      -0.3966333 0.010747644\n",
       "3 aipw   Q3      -0.3597643 0.010641112\n",
       "4 aipw   Q4      -0.3326391 0.010204956\n",
       "5 aipw   Q5      -0.2095279 0.009340652"
      ]
     },
     "metadata": {},
     "output_type": "display_data"
    }
   ],
   "source": [
    "# Computing AIPW scores.\n",
    "tau.hat <- predict(forest)$predictions\n",
    "e.hat <- forest$W.hat # P[W=1|X]\n",
    "m.hat <- forest$Y.hat # E[Y|X]\n",
    "\n",
    "# Estimating mu.hat(X, 1) and mu.hat(X, 0) for obs in held-out sample\n",
    "# Note: to understand this, read equations 6-8 in this vignette:\n",
    "# https://grf-labs.github.io/grf/articles/muhats.html\n",
    "mu.hat.0 <- m.hat - e.hat * tau.hat        # E[Y|X,W=0] = E[Y|X] - e(X)*tau(X)\n",
    "mu.hat.1 <- m.hat + (1 - e.hat) * tau.hat  # E[Y|X,W=1] = E[Y|X] + (1 - e(X))*tau(X)\n",
    "\n",
    "# AIPW scores\n",
    "aipw.scores <- tau.hat + W / e.hat * (Y -  mu.hat.1) - (1 - W) / (1 - e.hat) * (Y -  mu.hat.0)\n",
    "ols <- lm(aipw.scores ~ 0 + factor(ranking))\n",
    "forest.ate <- data.frame(\"aipw\", paste0(\"Q\", seq(num.rankings)), coeftest(ols, vcov=vcovHC(ols, \"HC2\"))[,1:2])\n",
    "colnames(forest.ate) <- c(\"method\", \"ranking\", \"estimate\", \"std.err\")\n",
    "rownames(forest.ate) <- NULL # just for display\n",
    "forest.ate"
   ]
  },
  {
   "cell_type": "markdown",
   "id": "fe798eef",
   "metadata": {},
   "source": [
    "The code below plots the estimates."
   ]
  },
  {
   "cell_type": "code",
   "execution_count": 22,
   "id": "177a9a59",
   "metadata": {},
   "outputs": [
    {
     "data": {
      "image/png": "[encoded data removed]",
      "text/plain": [
       "plot without title"
      ]
     },
     "metadata": {
      "filenames": {
       "image/png": "C:\\Users\\User\\Documents\\GitHub\\mgtecon634_r\\_build\\jupyter_execute\\notebooks\\4_heterogeneous_treatment_effect_1_43_0.png"
      },
      "image/png": {
       "height": 420,
       "width": 420
      }
     },
     "output_type": "display_data"
    }
   ],
   "source": [
    "# Concatenate the two results.\n",
    "res <- rbind(forest.ate, ols.ate)\n",
    "\n",
    "# Plotting the point estimate of average treatment effect \n",
    "# and 95% confidence intervals around it.\n",
    "ggplot(res) +\n",
    "  aes(x = ranking, y = estimate, group=method, color=method) + \n",
    "  geom_point(position=position_dodge(0.2)) +\n",
    "  geom_errorbar(aes(ymin=estimate-2*std.err, ymax=estimate+2*std.err), width=.2, position=position_dodge(0.2)) +\n",
    "  ylab(\"\") + xlab(\"\") +\n",
    "  ggtitle(\"Average CATE within each ranking (as defined by predicted CATE)\") +\n",
    "  theme_minimal() +\n",
    "  theme(legend.position=\"bottom\", legend.title = element_blank())"
   ]
  },
  {
   "cell_type": "markdown",
   "id": "8b833027",
   "metadata": {
    "lines_to_next_cell": 0
   },
   "source": [
    "When there isn't much detectable heterogeneity, the plot above can end up being non-monotonic. This can mean that the number of observations is too small for us to be able to detect subgroups with relevant differences in treatment effect.\n",
    "\n",
    "<font size=1>\n",
    "As an exercise, try running the previous two snippets on few data points (e.g., the first thousand observations only). You will likely see the \"non-monotonicity\" phenomenon just described.\n",
    "</font>\n",
    "\n",
    "Next, as we did for leaves in a causal tree, we can test e.g., if the prediction for groups 2, 3, etc. are larger than the one in the first group. Here's how to do it based on a difference-in-means estimator. Note the Romano-Wolf multiple-hypothesis testing correction."
   ]
  },
  {
   "cell_type": "code",
   "execution_count": 23,
   "id": "4a78a2f2",
   "metadata": {},
   "outputs": [
    {
     "data": {
      "text/html": [
       "<table class=\"dataframe\">\n",
       "<caption>A matrix: 4 × 4 of type dbl</caption>\n",
       "<thead>\n",
       "\t<tr><th></th><th scope=col>Estimate</th><th scope=col>Std. Error</th><th scope=col>Orig. p-value</th><th scope=col>Adj. p-value</th></tr>\n",
       "</thead>\n",
       "<tbody>\n",
       "\t<tr><th scope=row>Rank 2 - Rank 1</th><td>0.03734495</td><td>0.01476554</td><td>1.143771e-02</td><td>0.0116</td></tr>\n",
       "\t<tr><th scope=row>Rank 3 - Rank 1</th><td>0.07728615</td><td>0.01475409</td><td>1.632205e-07</td><td>0.0000</td></tr>\n",
       "\t<tr><th scope=row>Rank 4 - Rank 1</th><td>0.10363528</td><td>0.01474453</td><td>2.130900e-12</td><td>0.0000</td></tr>\n",
       "\t<tr><th scope=row>Rank 5 - Rank 1</th><td>0.22233512</td><td>0.01475572</td><td>4.147490e-51</td><td>0.0000</td></tr>\n",
       "</tbody>\n",
       "</table>\n"
      ],
      "text/latex": [
       "A matrix: 4 × 4 of type dbl\n",
       "\\begin{tabular}{r|llll}\n",
       "  & Estimate & Std. Error & Orig. p-value & Adj. p-value\\\\\n",
       "\\hline\n",
       "\tRank 2 - Rank 1 & 0.03734495 & 0.01476554 & 1.143771e-02 & 0.0116\\\\\n",
       "\tRank 3 - Rank 1 & 0.07728615 & 0.01475409 & 1.632205e-07 & 0.0000\\\\\n",
       "\tRank 4 - Rank 1 & 0.10363528 & 0.01474453 & 2.130900e-12 & 0.0000\\\\\n",
       "\tRank 5 - Rank 1 & 0.22233512 & 0.01475572 & 4.147490e-51 & 0.0000\\\\\n",
       "\\end{tabular}\n"
      ],
      "text/markdown": [
       "\n",
       "A matrix: 4 × 4 of type dbl\n",
       "\n",
       "| <!--/--> | Estimate | Std. Error | Orig. p-value | Adj. p-value |\n",
       "|---|---|---|---|---|\n",
       "| Rank 2 - Rank 1 | 0.03734495 | 0.01476554 | 1.143771e-02 | 0.0116 |\n",
       "| Rank 3 - Rank 1 | 0.07728615 | 0.01475409 | 1.632205e-07 | 0.0000 |\n",
       "| Rank 4 - Rank 1 | 0.10363528 | 0.01474453 | 2.130900e-12 | 0.0000 |\n",
       "| Rank 5 - Rank 1 | 0.22233512 | 0.01475572 | 4.147490e-51 | 0.0000 |\n",
       "\n"
      ],
      "text/plain": [
       "                Estimate   Std. Error Orig. p-value Adj. p-value\n",
       "Rank 2 - Rank 1 0.03734495 0.01476554 1.143771e-02  0.0116      \n",
       "Rank 3 - Rank 1 0.07728615 0.01475409 1.632205e-07  0.0000      \n",
       "Rank 4 - Rank 1 0.10363528 0.01474453 2.130900e-12  0.0000      \n",
       "Rank 5 - Rank 1 0.22233512 0.01475572 4.147490e-51  0.0000      "
      ]
     },
     "metadata": {},
     "output_type": "display_data"
    }
   ],
   "source": [
    "# Valid in randomized settings only.\n",
    "\n",
    "# y ~ ranking + w + ranking:w\n",
    "fmla <- paste0(outcome, \"~ ranking + \", treatment, \" + ranking:\", treatment) \n",
    "ols <- lm(fmla, data=transform(data, ranking=factor(ranking)))\n",
    "interact <- which(sapply(names(coef(ols)), function(x) grepl(\":\", x)))\n",
    "res <- summary_rw_lm(ols, indices=interact)\n",
    "rownames(res) <- paste(\"Rank\", 2:num.rankings, \"- Rank 1\") # just for display\n",
    "res"
   ]
  },
  {
   "cell_type": "markdown",
   "id": "217bc055",
   "metadata": {},
   "source": [
    "Here's how to do it for AIPW-based estimates, again with Romano-Wolf correction for multiple hypothesis testing. "
   ]
  },
  {
   "cell_type": "code",
   "execution_count": 24,
   "id": "2e6ce245",
   "metadata": {
    "lines_to_next_cell": 2
   },
   "outputs": [
    {
     "data": {
      "text/html": [
       "<table class=\"dataframe\">\n",
       "<caption>A matrix: 4 × 4 of type dbl</caption>\n",
       "<thead>\n",
       "\t<tr><th></th><th scope=col>Estimate</th><th scope=col>Std. Error</th><th scope=col>Orig. p-value</th><th scope=col>Adj. p-value</th></tr>\n",
       "</thead>\n",
       "<tbody>\n",
       "\t<tr><th scope=row>Rank 2 - Rank 1</th><td>0.03925525</td><td>0.01471959</td><td>7.660420e-03</td><td>0.0089</td></tr>\n",
       "\t<tr><th scope=row>Rank 3 - Rank 1</th><td>0.07612420</td><td>0.01471895</td><td>2.333456e-07</td><td>0.0000</td></tr>\n",
       "\t<tr><th scope=row>Rank 4 - Rank 1</th><td>0.10324944</td><td>0.01471959</td><td>2.360258e-12</td><td>0.0000</td></tr>\n",
       "\t<tr><th scope=row>Rank 5 - Rank 1</th><td>0.22636068</td><td>0.01471895</td><td>3.702238e-53</td><td>0.0000</td></tr>\n",
       "</tbody>\n",
       "</table>\n"
      ],
      "text/latex": [
       "A matrix: 4 × 4 of type dbl\n",
       "\\begin{tabular}{r|llll}\n",
       "  & Estimate & Std. Error & Orig. p-value & Adj. p-value\\\\\n",
       "\\hline\n",
       "\tRank 2 - Rank 1 & 0.03925525 & 0.01471959 & 7.660420e-03 & 0.0089\\\\\n",
       "\tRank 3 - Rank 1 & 0.07612420 & 0.01471895 & 2.333456e-07 & 0.0000\\\\\n",
       "\tRank 4 - Rank 1 & 0.10324944 & 0.01471959 & 2.360258e-12 & 0.0000\\\\\n",
       "\tRank 5 - Rank 1 & 0.22636068 & 0.01471895 & 3.702238e-53 & 0.0000\\\\\n",
       "\\end{tabular}\n"
      ],
      "text/markdown": [
       "\n",
       "A matrix: 4 × 4 of type dbl\n",
       "\n",
       "| <!--/--> | Estimate | Std. Error | Orig. p-value | Adj. p-value |\n",
       "|---|---|---|---|---|\n",
       "| Rank 2 - Rank 1 | 0.03925525 | 0.01471959 | 7.660420e-03 | 0.0089 |\n",
       "| Rank 3 - Rank 1 | 0.07612420 | 0.01471895 | 2.333456e-07 | 0.0000 |\n",
       "| Rank 4 - Rank 1 | 0.10324944 | 0.01471959 | 2.360258e-12 | 0.0000 |\n",
       "| Rank 5 - Rank 1 | 0.22636068 | 0.01471895 | 3.702238e-53 | 0.0000 |\n",
       "\n"
      ],
      "text/plain": [
       "                Estimate   Std. Error Orig. p-value Adj. p-value\n",
       "Rank 2 - Rank 1 0.03925525 0.01471959 7.660420e-03  0.0089      \n",
       "Rank 3 - Rank 1 0.07612420 0.01471895 2.333456e-07  0.0000      \n",
       "Rank 4 - Rank 1 0.10324944 0.01471959 2.360258e-12  0.0000      \n",
       "Rank 5 - Rank 1 0.22636068 0.01471895 3.702238e-53  0.0000      "
      ]
     },
     "metadata": {},
     "output_type": "display_data"
    }
   ],
   "source": [
    "# Valid in randomized and observational settings with unconfoundedness+overlap.\n",
    "\n",
    "# Using AIPW scores computed above\n",
    "ols <- lm(aipw.scores ~ 1 + factor(ranking))\n",
    "res <- summary_rw_lm(ols, indices=2:num.rankings)\n",
    "rownames(res) <- paste(\"Rank\", 2:num.rankings, \"- Rank 1\") # just for display\n",
    "res"
   ]
  },
  {
   "cell_type": "markdown",
   "id": "c92066ca",
   "metadata": {},
   "source": [
    "Finally, we can also check if different groups have different average covariate levels across rankings. "
   ]
  },
  {
   "cell_type": "code",
   "execution_count": 25,
   "id": "5fb8102c",
   "metadata": {},
   "outputs": [
    {
     "data": {
      "image/png": "[encoded data removed]",
      "text/plain": [
       "plot without title"
      ]
     },
     "metadata": {
      "filenames": {
       "image/png": "C:\\Users\\User\\Documents\\GitHub\\mgtecon634_r\\_build\\jupyter_execute\\notebooks\\4_heterogeneous_treatment_effect_1_49_0.png"
      },
      "image/png": {
       "height": 420,
       "width": 420
      }
     },
     "output_type": "display_data"
    }
   ],
   "source": [
    "df <- mapply(function(covariate) {\n",
    "      # Looping over covariate names\n",
    "      # Compute average covariate value per ranking (with correct standard errors)\n",
    "      fmla <- formula(paste0(covariate, \"~ 0 + ranking\"))\n",
    "      ols <- lm(fmla, data=transform(data, ranking=factor(ranking)))\n",
    "      ols.res <- coeftest(ols, vcov=vcovHC(ols, \"HC2\"))\n",
    "    \n",
    "      # Retrieve results\n",
    "      avg <- ols.res[,1]\n",
    "      stderr <- ols.res[,2]\n",
    "      \n",
    "      # Tally up results\n",
    "      data.frame(covariate, avg, stderr, ranking=paste0(\"Q\", seq(num.rankings)), \n",
    "                 # Used for coloring\n",
    "                 scaling=pnorm((avg - mean(avg))/sd(avg)), \n",
    "                 # We will order based on how much variation is 'explain' by the averages\n",
    "                 # relative to the total variation of the covariate in the data\n",
    "                 variation=sd(avg) / sd(data[,covariate]),\n",
    "                 # String to print in each cell in heatmap below\n",
    "                 labels=paste0(signif(avg, 3), \"\\n\", \"(\", signif(stderr, 3), \")\"))\n",
    "}, covariates, SIMPLIFY = FALSE)\n",
    "df <- do.call(rbind, df)\n",
    "\n",
    "# a small optional trick to ensure heatmap will be in decreasing order of 'variation'\n",
    "df$covariate <- reorder(df$covariate, order(df$variation))\n",
    "\n",
    "# plot heatmap\n",
    "ggplot(df) +\n",
    "    aes(ranking, covariate) +\n",
    "    geom_tile(aes(fill = scaling)) + \n",
    "    geom_text(aes(label = labels)) +\n",
    "    scale_fill_gradient(low = \"#E1BE6A\", high = \"#40B0A6\") +\n",
    "    ggtitle(paste0(\"Average covariate values within group (based on CATE estimate ranking)\")) +\n",
    "    theme_minimal() + \n",
    "    ylab(\"\") + xlab(\"CATE estimate ranking\") +\n",
    "    theme(plot.title = element_text(size = 11, face = \"bold\"),\n",
    "          axis.text=element_text(size=11)) \n"
   ]
  },
  {
   "cell_type": "markdown",
   "id": "e6c09425",
   "metadata": {},
   "source": [
    "<font size=1>\n",
    "Interpret the heatmap above. What describes the subgroups with strongest and weakest estimated treatment effect? Are there variables that seem to increase or decrease monotonically across rankings?\n",
    "</font>"
   ]
  },
  {
   "cell_type": "markdown",
   "id": "e4d212eb",
   "metadata": {},
   "source": [
    "#### Best linear projection\n",
    "\n",
    "This function provides a doubly robust fit to the linear model $\\widehat{\\tau}(X_i) = \\beta_0 + A_i'\\beta_1$, where $A_i$ can be a subset of the covariate columns. The coefficients in this regression are suggestive of general trends, but they should not be interpret as partial effects -- that would only be true if the true model were really linear in covariates, and that's an assumption we shouldn't be willing to make in general."
   ]
  },
  {
   "cell_type": "code",
   "execution_count": 26,
   "id": "67b36ebb",
   "metadata": {
    "lines_to_next_cell": 2
   },
   "outputs": [
    {
     "data": {
      "text/plain": [
       "\n",
       "Best linear projection of the conditional average treatment effect.\n",
       "Confidence intervals are cluster- and heteroskedasticity-robust (HC3):\n",
       "\n",
       "               Estimate  Std. Error  t value  Pr(>|t|)    \n",
       "(Intercept) -0.17899540  0.04242640  -4.2190 2.462e-05 ***\n",
       "age          0.00148384  0.00031082   4.7739 1.816e-06 ***\n",
       "polviews    -0.03573189  0.00356500 -10.0230 < 2.2e-16 ***\n",
       "income      -0.02098048  0.00202023 -10.3852 < 2.2e-16 ***\n",
       "educ         0.00891252  0.00172206   5.1755 2.288e-07 ***\n",
       "marital      0.01035422  0.00331513   3.1233   0.00179 ** \n",
       "sex         -0.00578077  0.01000335  -0.5779   0.56335    \n",
       "---\n",
       "Signif. codes:  0 '***' 0.001 '**' 0.01 '*' 0.05 '.' 0.1 ' ' 1\n"
      ]
     },
     "metadata": {},
     "output_type": "display_data"
    }
   ],
   "source": [
    "# Best linear projection of the conditional average treatment effect on covariates\n",
    "best_linear_projection(forest.tau, X)"
   ]
  },
  {
   "cell_type": "markdown",
   "id": "32c4506e",
   "metadata": {},
   "source": [
    "#### Assessing heterogeneity\n",
    "\n",
    "The function `test_calibration` computes an estimate of the best linear predictor of true CATE based on out-of-bag predictions $\\hat{\\tau}^{-i}(\\cdot)$. The exact implementation seeks to fit the following linear model:\n",
    "\\begin{equation}\n",
    "Y_{i} - \\hat{m}^{-i}(X_{i}) = \\alpha\\bar{\\tau}\\left(W_{i} - \\hat{e}^{-i}(X_{i})\\right) + \\beta \\left(\\hat{\\tau}^{-i}(X_{i}) - \\bar{\\tau} \\right) \\left(W_{i} - \\hat{e}^{-i}(X_{i}) \\right) + \\epsilon,\n",
    "\\end{equation}\n",
    "\n",
    "where $\\bar{\\tau} := n^{-1}\\sum_{i=1}^{n} \\hat{\\tau}^{-i}(X_{i})$. The coefficients $\\alpha$ and $\\beta$ allow us to evaluate the performance of our estimates. If $\\alpha = 1$, then the average prediction produced by the forest is correct. Meanwhile, if $\\beta = 1$, then the forest predictions adequately capture the underlying heterogeneity.\n",
    "\n",
    "The slope $\\beta$ is a measure of how the CATE predictions covary with true CATE. Therefore, the p-value on the estimate of coefficient also acts as an omnibus test for the presence of heterogeneity. If the coefficient is significantly greater than zero, then we can reject the null of no heterogeneity. However, coefficients smaller than 0 are not meaningful and show not be interpreted."
   ]
  },
  {
   "cell_type": "code",
   "execution_count": 27,
   "id": "45807842",
   "metadata": {},
   "outputs": [
    {
     "data": {
      "text/plain": [
       "\n",
       "Best linear fit using forest predictions (on held-out data)\n",
       "as well as the mean forest prediction as regressors, along\n",
       "with one-sided heteroskedasticity-robust (HC3) SEs:\n",
       "\n",
       "                               Estimate Std. Error t value    Pr(>t)    \n",
       "mean.forest.prediction         1.000658   0.013708  72.999 < 2.2e-16 ***\n",
       "differential.forest.prediction 0.911907   0.048124  18.949 < 2.2e-16 ***\n",
       "---\n",
       "Signif. codes:  0 '***' 0.001 '**' 0.01 '*' 0.05 '.' 0.1 ' ' 1\n"
      ]
     },
     "metadata": {},
     "output_type": "display_data"
    }
   ],
   "source": [
    "test_calibration(forest.tau)"
   ]
  },
  {
   "cell_type": "markdown",
   "id": "7ac2c61c",
   "metadata": {},
   "source": [
    "<font size=1>\n",
    "Interpret the test above. Is the forest producing correct estimate of the average treatment effect? Is it capturing the underlying heterogeneity?\n",
    "</font>"
   ]
  },
  {
   "cell_type": "markdown",
   "id": "5bde5498",
   "metadata": {},
   "source": [
    "#### Partial dependence\n",
    "\n",
    "It may also be interesting to examine how our CATE estimates behave when we change a single covariate, while keeping all the other covariates at a some fixed value. In the plot below we evaluate a variable of interest across quantiles, while keeping all other covariates at their median. \n",
    "\n",
    "It is important to recognize that by keeping some variables at their median we may be evaluating the CATE at $x$ values in regions where there are few or no data points. Also, it may be the case that varying some particular variable while keeping others fixed may just not be very interesting.\n",
    "\n",
    "In what follows we'll again use `causal_forest` predictions, along with their variance estimates (set `estimate.variances=TRUE` when predicting to we get estimates of the asymptotic variance of the prediction for each point). Since `grf` predictions are asymptotically normal, we can construct 95\\% confidence intervals in the usual manner (i.e., $\\hat{\\tau}(x) \\pm 1.96\\sqrt{\\widehat{\\text{Var}}(\\hat{\\tau}(x))}$).\n"
   ]
  },
  {
   "cell_type": "code",
   "execution_count": 28,
   "id": "bc9ee1b1",
   "metadata": {
    "lines_to_next_cell": 2
   },
   "outputs": [
    {
     "data": {
      "image/png": "[encoded data removed]",
      "text/plain": [
       "plot without title"
      ]
     },
     "metadata": {
      "filenames": {
       "image/png": "C:\\Users\\User\\Documents\\GitHub\\mgtecon634_r\\_build\\jupyter_execute\\notebooks\\4_heterogeneous_treatment_effect_1_57_0.png"
      },
      "image/png": {
       "height": 420,
       "width": 420
      }
     },
     "output_type": "display_data"
    }
   ],
   "source": [
    "selected.covariate <- \"polviews\"\n",
    "other.covariates <- covariates[which(covariates != selected.covariate)]\n",
    "\n",
    "# Fitting a forest \n",
    "# (commented for convenience; no need re-fit if already fitted above)\n",
    "fmla <- formula(paste0(\"~ 0 + \", paste0(covariates, collapse=\"+\")))\n",
    "# Note: For smaller confidence intervals, set num.trees ~ sample size\n",
    "# X <- model.matrix(fmla, data)\n",
    "# W <- data[,treatment]\n",
    "# Y <- data[,outcome]\n",
    "# forest.tau <- causal_forest(X, Y, W, W.hat=.5)  # few trees for speed here\n",
    "\n",
    "# Compute a grid of values appropriate for the selected covariate\n",
    "grid.size <- 7 \n",
    "covariate.grid <- seq(min(data[,selected.covariate]), max(data[,selected.covariate]), length.out=grid.size)\n",
    "\n",
    "# Other options for constructing a grid:\n",
    "# For a binary variable, simply use 0 and 1\n",
    "# grid.size <- 2\n",
    "# covariate.grid <- c(0, 1)  \n",
    "\n",
    "# For a continuous variable, select appropriate percentiles\n",
    "# percentiles <- c(.1, .25, .5, .75, .9)\n",
    "# grid.size <- length(percentiles)\n",
    "# covariate.grid <- quantile(data[,selected.covariate], probs=percentiles)\n",
    "\n",
    "# Take median of other covariates \n",
    "medians <- apply(data[, other.covariates, F], 2, median)\n",
    "\n",
    "# Construct a dataset\n",
    "data.grid <- data.frame(sapply(medians, function(x) rep(x, grid.size)), covariate.grid)\n",
    "colnames(data.grid) <- c(other.covariates, selected.covariate)\n",
    "\n",
    "# Expand the data\n",
    "X.grid <- model.matrix(fmla, data.grid)\n",
    "\n",
    "# Point predictions of the CATE and standard errors \n",
    "forest.pred <- predict(forest.tau, newdata = X.grid, estimate.variance=TRUE)\n",
    "tau.hat <- forest.pred$predictions\n",
    "tau.hat.se <- sqrt(forest.pred$variance.estimates)\n",
    "\n",
    "# Plot predictions for each group and 95% confidence intervals around them.\n",
    "data.pred <- transform(data.grid, tau.hat=tau.hat, ci.low = tau.hat - 2*tau.hat.se, ci.high = tau.hat + 2*tau.hat.se)\n",
    "ggplot(data.pred) +\n",
    "  geom_line(aes_string(x=selected.covariate, y=\"tau.hat\", group = 1), color=\"black\") +\n",
    "  geom_errorbar(aes_string(x=selected.covariate, ymin=\"ci.low\", ymax=\"ci.high\", width=.2), color=\"blue\") +\n",
    "   ylab(\"\") +\n",
    "  ggtitle(paste0(\"Predicted treatment effect varying '\", selected.covariate, \"' (other variables fixed at median)\")) +\n",
    "  scale_x_continuous(\"polviews\", breaks=covariate.grid, labels=signif(covariate.grid, 2)) +\n",
    "  theme_minimal() +\n",
    "  theme(plot.title = element_text(size = 11, face = \"bold\")) + geom_hline(yintercept=0, linetype=\"dashed\", \n",
    "                color = \"black\", size=1)"
   ]
  },
  {
   "cell_type": "markdown",
   "id": "89760204",
   "metadata": {},
   "source": [
    "Note that, in this example, we got fairly large confidence intervals. This can be explained in two ways. First, as we mentioned above, there's a data scarcity problem. For example, even though the number of observations with `polviews` equal to `6` is not small,"
   ]
  },
  {
   "cell_type": "code",
   "execution_count": 29,
   "id": "96f14312",
   "metadata": {
    "lines_to_next_cell": 0
   },
   "outputs": [
    {
     "data": {
      "text/html": [
       "0.154538791749555"
      ],
      "text/latex": [
       "0.154538791749555"
      ],
      "text/markdown": [
       "0.154538791749555"
      ],
      "text/plain": [
       "[1] 0.1545388"
      ]
     },
     "metadata": {},
     "output_type": "display_data"
    }
   ],
   "source": [
    "with(data, mean(polviews == 6))"
   ]
  },
  {
   "cell_type": "markdown",
   "id": "4a1b6201",
   "metadata": {},
   "source": [
    "there's a much smaller fraction of individuals with `polviews` equal to `6` and (say) age close to the median age,"
   ]
  },
  {
   "cell_type": "code",
   "execution_count": 30,
   "id": "d17eb1ba",
   "metadata": {
    "lines_to_next_cell": 0
   },
   "outputs": [
    {
     "data": {
      "text/html": [
       "0.0224758315010645"
      ],
      "text/latex": [
       "0.0224758315010645"
      ],
      "text/markdown": [
       "0.0224758315010645"
      ],
      "text/plain": [
       "[1] 0.02247583"
      ]
     },
     "metadata": {},
     "output_type": "display_data"
    }
   ],
   "source": [
    "mean(with(data, (polviews == 6) & (abs(age - median(age)) <= 3))) # at most 3 yrs away"
   ]
  },
  {
   "cell_type": "markdown",
   "id": "01451a1a",
   "metadata": {},
   "source": [
    "and an even smaller fraction of observations with `polviews` equal to `6` and every other variable close to the median. The second cause of wide confidence intervals is statistical. Since `grf` is a non-parametric model, we should expect fairly wide confidence intervals, especially in high-dimensional problems -- that is an unavoidable consequence of avoiding modeling assumptions. \n",
    "\n",
    "\n",
    "As documented in the original paper on generalized random forests [Athey, Tibshirani and Wager, 2019](https://arxiv.org/abs/1610.01271), the coverage of `grf` confidence intervals can drop if the signal is too dense or too complex relative to the number of observations. Also, to a point, it's possible to get tighter confidence intervals by increasing the number of trees; see this [short vignette](https://grf-labs.github.io/grf/articles/ci_and_num.trees.html) for more information. \n",
    "\n",
    "\n",
    "We can vary more than one variable at a time. The next snippet shows predictions and standard errors varying two variables."
   ]
  },
  {
   "cell_type": "code",
   "execution_count": 31,
   "id": "89677c0a",
   "metadata": {
    "lines_to_next_cell": 0
   },
   "outputs": [
    {
     "data": {
      "image/png": "[encoded data removed]",
      "text/plain": [
       "plot without title"
      ]
     },
     "metadata": {
      "filenames": {
       "image/png": "C:\\Users\\User\\Documents\\GitHub\\mgtecon634_r\\_build\\jupyter_execute\\notebooks\\4_heterogeneous_treatment_effect_1_63_0.png"
      },
      "image/png": {
       "height": 420,
       "width": 420
      }
     },
     "output_type": "display_data"
    }
   ],
   "source": [
    "x1 <- 'polviews'\n",
    "x2 <- 'age'\n",
    "selected.covariates <- c(x1, x2)\n",
    "other.covariates <- covariates[-which(covariates %in% selected.covariates)]\n",
    "\n",
    "# Compute a grid of values appropriate for the selected covariate\n",
    "# See other options for constructing grids in the snippet above.\n",
    "x1.grid.size <- 7\n",
    "x2.grid.size <- 5\n",
    "x1.grid <- seq(min(data[,x1]), max(data[,x1]), length.out=x1.grid.size)\n",
    "x2.grid <- seq(min(data[,x2]), max(data[,x2]), length.out=x2.grid.size)\n",
    "\n",
    "# Take median of other covariates \n",
    "medians <- apply(data[, other.covariates, F], 2, median)\n",
    "\n",
    "# Construct dataset\n",
    "data.grid <- data.frame(\n",
    "                sapply(medians, function(x) rep(x, grid.size)), \n",
    "                expand.grid(x1.grid, x2.grid))\n",
    "colnames(data.grid) <- c(other.covariates, selected.covariates)\n",
    "\n",
    "# Expand the data according to formula used to fit forest\n",
    "X.grid <- model.matrix(fmla, data.grid)\n",
    "\n",
    "# Forest-based point estimates of CATE and standard errors around them\n",
    "forest.pred <- predict(forest.tau, newdata = X.grid, estimate.variance=TRUE)\n",
    "tau.hat <- forest.pred$predictions\n",
    "tau.hat.se <- sqrt(forest.pred$variance.estimates)\n",
    "\n",
    "# A vector of labels for plotting below\n",
    "labels <- mapply(function(est, se) paste0(signif(est, 3), \"\\n\", \"(\", signif(se, 3), \")\"), tau.hat, tau.hat.se)\n",
    "df <- data.frame(X.grid, tau.hat, labels)\n",
    "\n",
    "# Plotting\n",
    "ggplot(df) +\n",
    "    aes(age, polviews) +\n",
    "    geom_tile(aes(fill = tau.hat)) + \n",
    "    geom_text(aes(label = labels)) +\n",
    "    scale_fill_gradient(low = \"blue\", high = \"orange\") +\n",
    "    scale_y_continuous(\"polviews\", breaks=x1.grid, labels=signif(x1.grid, 2)) +\n",
    "    scale_x_continuous(\"age\", breaks=x2.grid, labels=signif(x2.grid, 2)) +\n",
    "    ggtitle(paste0(\"Predicted treatment effect varying '\", x1, \"' and '\", x2, \"' (other variables fixed at median)\")) +\n",
    "    theme_minimal() +\n",
    "    theme(plot.title = element_text(size = 10, face = \"bold\")) "
   ]
  },
  {
   "cell_type": "markdown",
   "id": "2042665f",
   "metadata": {},
   "source": []
  },
  {
   "cell_type": "markdown",
   "id": "d03d5c1c",
   "metadata": {},
   "source": [
    "## Further reading\n",
    "\n",
    "A readable summary of different method for hypothesis testing correction is laid out in the introduction to [Clarke, Romano and Wolf (2009)](http://ftp.iza.org/dp12845.pdf).\n",
    "\n",
    "[Athey and Wager (2019)](https://arxiv.org/abs/1902.07409) shows an application of causal forests to heterogeity analysis in a setting with clustering.\n",
    "\n"
   ]
  }
 ],
 "metadata": {
  "jupytext": {
   "cell_metadata_filter": "warning,tags,message,-all",
   "main_language": "R",
   "notebook_metadata_filter": "-all"
  },
  "kernelspec": {
   "display_name": "R",
   "language": "R",
   "name": "ir"
  },
  "language_info": {
   "codemirror_mode": "r",
   "file_extension": ".r",
   "mimetype": "text/x-r-source",
   "name": "R",
   "pygments_lexer": "r",
   "version": "4.2.0"
  }
 },
 "nbformat": 4,
 "nbformat_minor": 5
}