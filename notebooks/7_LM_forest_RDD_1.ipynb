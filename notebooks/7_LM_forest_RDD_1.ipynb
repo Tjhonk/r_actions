{
 "cells": [
  {
   "cell_type": "markdown",
   "id": "4b45f52f",
   "metadata": {},
   "source": [
    "# LM Forest RDD\n",
    "\n",
    "\n",
    "Trains a linear model forest that can be used to estimate $h_k(x), k=1,...,k$  at $X=x$ in the the conditional linear model $Y = c(x) + h_1(x)W_1 + ... + h_k(x)W_k$, where Y is a (potentially vector-valued) response and W a set of regressors."
   ]
  },
  {
   "cell_type": "code",
   "execution_count": 27,
   "id": "718e83ea",
   "metadata": {},
   "outputs": [
    {
     "name": "stderr",
     "output_type": "stream",
     "text": [
      "Installing package into 'C:/Users/Roberto/AppData/Local/R/win-library/4.2'\n",
      "(as 'lib' is unspecified)\n",
      "\n",
      "Warning message in install.packages(\"https://cran.r-project.org/src/contrib/Archive/rlang/rlang_1.0.3.tar.gz\", :\n",
      "\"installation of package 'C:/Users/Roberto/AppData/Local/Temp/RtmpwZRD2u/downloaded_packages/rlang_1.0.3.tar.gz' had non-zero exit status\"\n"
     ]
    }
   ],
   "source": [
    "install.packages(\"https://cran.r-project.org/src/contrib/Archive/rlang/rlang_1.0.3.tar.gz\", repo=NULL, type=\"source\")"
   ]
  },
  {
   "cell_type": "code",
   "execution_count": 16,
   "id": "cab3c4a0",
   "metadata": {},
   "outputs": [
    {
     "name": "stderr",
     "output_type": "stream",
     "text": [
      "Downloading GitHub repo grf-labs/grf@HEAD\n",
      "\n",
      "Warning message in utils::untar(tarfile, ...):\n",
      "\"'tar.exe -xf \"C:\\Users\\Roberto\\AppData\\Local\\Temp\\RtmpAttr1x\\file3e283d0d6a80.tar.gz\" -C \"C:/Users/Roberto/AppData/Local/Temp/RtmpAttr1x/remotes3e285e173c0a\"' returned error code 1\"\n"
     ]
    },
    {
     "name": "stdout",
     "output_type": "stream",
     "text": [
      "sandwich (3.0-1 -> 3.0-2) [CRAN]\n"
     ]
    },
    {
     "name": "stderr",
     "output_type": "stream",
     "text": [
      "Installing 1 packages: sandwich\n",
      "\n",
      "Warning message:\n",
      "\"package 'sandwich' is in use and will not be installed\"\n"
     ]
    },
    {
     "name": "stdout",
     "output_type": "stream",
     "text": [
      "\u001b[32m✔\u001b[39m  \u001b[90mchecking for file 'C:\\Users\\Roberto\\AppData\\Local\\Temp\\RtmpAttr1x\\remotes3e285e173c0a\\grf-labs-grf-19e2b66\\r-package\\grf/DESCRIPTION'\u001b[39m\u001b[36m\u001b[39m\n",
      "\u001b[90m─\u001b[39m\u001b[90m  \u001b[39m\u001b[90mpreparing 'grf':\u001b[39m\u001b[36m\u001b[36m (396ms)\u001b[36m\u001b[39m\n",
      "\u001b[32m✔\u001b[39m  \u001b[90mchecking DESCRIPTION meta-information\u001b[39m\u001b[36m\u001b[39m\n",
      "\u001b[90m─\u001b[39m\u001b[90m  \u001b[39m\u001b[90mcleaning src\u001b[39m\u001b[36m\u001b[39m\n",
      "\u001b[90m─\u001b[39m\u001b[90m  \u001b[39m\u001b[90mchecking for LF line-endings in source and make files and shell scripts\u001b[39m\u001b[36m\u001b[39m\n",
      "\u001b[90m─\u001b[39m\u001b[90m  \u001b[39m\u001b[90mchecking for empty or unneeded directories\u001b[39m\u001b[36m\u001b[39m\n",
      "\u001b[90m─\u001b[39m\u001b[90m  \u001b[39m\u001b[90mbuilding 'grf_2.1.0.tar.gz'\u001b[39m\u001b[36m\u001b[39m\n",
      "   \n",
      "\r"
     ]
    },
    {
     "name": "stderr",
     "output_type": "stream",
     "text": [
      "Installing package into 'C:/Users/Roberto/AppData/Local/R/win-library/4.2'\n",
      "(as 'lib' is unspecified)\n",
      "\n",
      "Warning message in i.p(...):\n",
      "\"installation of package 'C:/Users/Roberto/AppData/Local/Temp/RtmpAttr1x/file3e2823d1c9a/grf_2.1.0.tar.gz' had non-zero exit status\"\n"
     ]
    }
   ],
   "source": [
    "\n",
    "\n",
    "#remotes::install_github(\"grf-labs/grf\", subdir = \"r-package/grf\")"
   ]
  },
  {
   "cell_type": "code",
   "execution_count": 1,
   "id": "b508d5bc",
   "metadata": {},
   "outputs": [
    {
     "name": "stderr",
     "output_type": "stream",
     "text": [
      "Warning message:\n",
      "\"package 'rdd' was built under R version 4.2.1\"\n",
      "Loading required package: sandwich\n",
      "\n",
      "Warning message:\n",
      "\"package 'sandwich' was built under R version 4.2.1\"\n",
      "Loading required package: lmtest\n",
      "\n",
      "Loading required package: zoo\n",
      "\n",
      "\n",
      "Attaching package: 'zoo'\n",
      "\n",
      "\n",
      "The following objects are masked from 'package:base':\n",
      "\n",
      "    as.Date, as.Date.numeric\n",
      "\n",
      "\n",
      "Loading required package: AER\n",
      "\n",
      "Warning message:\n",
      "\"package 'AER' was built under R version 4.2.1\"\n",
      "Loading required package: car\n",
      "\n",
      "Warning message:\n",
      "\"package 'car' was built under R version 4.2.1\"\n",
      "Loading required package: carData\n",
      "\n",
      "Warning message:\n",
      "\"package 'carData' was built under R version 4.2.1\"\n",
      "Loading required package: survival\n",
      "\n",
      "Loading required package: Formula\n",
      "\n"
     ]
    },
    {
     "ename": "ERROR",
     "evalue": "Error in library(grf): 'grf' is not a valid installed package\n",
     "output_type": "error",
     "traceback": [
      "Error in library(grf): 'grf' is not a valid installed package\nTraceback:\n",
      "1. library(grf)",
      "2. stop(gettextf(\"%s is not a valid installed package\", sQuote(package)), \n .     domain = NA)"
     ]
    }
   ],
   "source": [
    "library(rdd)\n",
    "library(grf)"
   ]
  },
  {
   "cell_type": "code",
   "execution_count": 4,
   "id": "615ca023",
   "metadata": {},
   "outputs": [
    {
     "name": "stderr",
     "output_type": "stream",
     "text": [
      "Loading required package: rdd\n",
      "\n",
      "Warning message:\n",
      "\"package 'rdd' was built under R version 4.2.1\"\n",
      "Loading required package: sandwich\n",
      "\n",
      "Warning message:\n",
      "\"package 'sandwich' was built under R version 4.2.1\"\n",
      "Loading required package: lmtest\n",
      "\n",
      "Loading required package: zoo\n",
      "\n",
      "\n",
      "Attaching package: 'zoo'\n",
      "\n",
      "\n",
      "The following objects are masked from 'package:base':\n",
      "\n",
      "    as.Date, as.Date.numeric\n",
      "\n",
      "\n",
      "Loading required package: AER\n",
      "\n",
      "Warning message:\n",
      "\"package 'AER' was built under R version 4.2.1\"\n",
      "Loading required package: car\n",
      "\n",
      "Warning message:\n",
      "\"package 'car' was built under R version 4.2.1\"\n",
      "Loading required package: carData\n",
      "\n",
      "Warning message:\n",
      "\"package 'carData' was built under R version 4.2.1\"\n",
      "Loading required package: survival\n",
      "\n",
      "Loading required package: Formula\n",
      "\n"
     ]
    },
    {
     "ename": "ERROR",
     "evalue": "Error in lm_forest(X[subset, ], Y[subset], cbind(W, Z)[subset, ], sample.weights = sample.weights[subset], : no se pudo encontrar la función \"lm_forest\"\n",
     "output_type": "error",
     "traceback": [
      "Error in lm_forest(X[subset, ], Y[subset], cbind(W, Z)[subset, ], sample.weights = sample.weights[subset], : no se pudo encontrar la función \"lm_forest\"\nTraceback:\n"
     ]
    }
   ],
   "source": [
    "# \\donttest{\n",
    "if (require(\"rdd\", quietly = FALSE)) {\n",
    "# Train a LM Forest to estimate CATEs in a regression discontinuity design.\n",
    "# Simulate a simple example with a heterogeneous jump in the CEF.\n",
    "n <- 2000\n",
    "p <- 5\n",
    "X <- matrix(rnorm(n * p), n, p)\n",
    "Z <- runif(n, -4, 4)\n",
    "cutoff <- 0\n",
    "W <- as.numeric(Z >= cutoff)\n",
    "tau <- pmax(0.5 * X[, 1], 0)\n",
    "Y <- tau * W  + 1 / (1 + exp(2 * Z)) + 0.2 * rnorm(n)\n",
    "\n",
    "# Compute the Imbens-Kalyanaraman MSE-optimal bandwidth for a local linear regression.\n",
    "bandwidth <- IKbandwidth(Z, Y, cutoff)\n",
    "# Compute kernel weights for a triangular kernel.\n",
    "sample.weights <- kernelwts(Z, cutoff, bandwidth, \"triangular\")\n",
    "\n",
    "# Alternatively, specify bandwith and triangular kernel weights without using the `rdd` package.\n",
    "# bandwidth <- # user can hand-specify this.\n",
    "# dist <- abs((Z - cutoff) / bandwidth)\n",
    "# sample.weights <- (1 - dist) * (dist <= 1) / bandwidth\n",
    "\n",
    "# Estimate a local linear regression with the running variable Z conditional on covariates X = x:\n",
    "# Y = c(x) + tau(x) W + b(x) Z.\n",
    "# Specify gradient.weights = c(1, 0) to target heterogeneity in the RDD coefficient tau(x).\n",
    "# Also, fit forest on subset with non-zero weights for faster estimation.\n",
    "subset <- sample.weights > 0\n",
    "    \n",
    "lmf <- lm_forest(X[subset, ], Y[subset], cbind(W, Z)[subset, ],\n",
    "                 sample.weights = sample.weights[subset], gradient.weights = c(1, 0))\n",
    "tau.hat <- predict(lmf)$predictions[, 1, ]\n",
    "\n",
    "# Plot estimated tau(x) vs simulated ground truth.\n",
    "plot(X[subset, 1], tau.hat)\n",
    "points(X[subset, 1], tau[subset], col = \"red\", cex = 0.1)\n",
    "}\n",
    "\n",
    "#> \n",
    "#> Attaching package: ‘zoo’#> The following objects are masked from ‘package:base’:\n",
    "#> \n",
    "#>     as.Date, as.Date.numeric# }\n",
    "\n"
   ]
  },
  {
   "cell_type": "code",
   "execution_count": 5,
   "id": "d8faa836",
   "metadata": {},
   "outputs": [
    {
     "ename": "ERROR",
     "evalue": "Error in lm_forest(X[subset, ], Y[subset], cbind(W, Z)[subset, ], sample.weights = sample.weights[subset], : no se pudo encontrar la función \"lm_forest\"\n",
     "output_type": "error",
     "traceback": [
      "Error in lm_forest(X[subset, ], Y[subset], cbind(W, Z)[subset, ], sample.weights = sample.weights[subset], : no se pudo encontrar la función \"lm_forest\"\nTraceback:\n"
     ]
    }
   ],
   "source": [
    "# Train a LM Forest to estimate CATEs in a regression discontinuity design.\n",
    "# Simulate a simple example with a heterogeneous jump in the CEF.\n",
    "n <- 2000\n",
    "p <- 5\n",
    "X <- matrix(rnorm(n * p), n, p)\n",
    "Z <- runif(n, -4, 4)\n",
    "cutoff <- 0\n",
    "W <- as.numeric(Z >= cutoff)\n",
    "tau <- pmax(0.5 * X[, 1], 0)\n",
    "Y <- tau * W  + 1 / (1 + exp(2 * Z)) + 0.2 * rnorm(n)\n",
    "\n",
    "# Compute the Imbens-Kalyanaraman MSE-optimal bandwidth for a local linear regression.\n",
    "bandwidth <- IKbandwidth(Z, Y, cutoff)\n",
    "# Compute kernel weights for a triangular kernel.\n",
    "sample.weights <- kernelwts(Z, cutoff, bandwidth, \"triangular\")\n",
    "\n",
    "# Alternatively, specify bandwith and triangular kernel weights without using the `rdd` package.\n",
    "# bandwidth <- # user can hand-specify this.\n",
    "# dist <- abs((Z - cutoff) / bandwidth)\n",
    "# sample.weights <- (1 - dist) * (dist <= 1) / bandwidth\n",
    "\n",
    "# Estimate a local linear regression with the running variable Z conditional on covariates X = x:\n",
    "# Y = c(x) + tau(x) W + b(x) Z.\n",
    "# Specify gradient.weights = c(1, 0) to target heterogeneity in the RDD coefficient tau(x).\n",
    "# Also, fit forest on subset with non-zero weights for faster estimation.\n",
    "subset <- sample.weights > 0\n",
    "lmf <- lm_forest(X[subset, ], Y[subset], cbind(W, Z)[subset, ],\n",
    "                 sample.weights = sample.weights[subset], gradient.weights = c(1, 0))\n",
    "tau.hat <- predict(lmf)$predictions[, 1, ]\n",
    "\n",
    "# Plot estimated tau(x) vs simulated ground truth.\n",
    "plot(X[subset, 1], tau.hat)\n",
    "points(X[subset, 1], tau[subset], col = \"red\", cex = 0.1)"
   ]
  },
  {
   "cell_type": "code",
   "execution_count": 2,
   "id": "1e3befe2",
   "metadata": {},
   "outputs": [],
   "source": [
    "#Documentation\n",
    "\n",
    "# lm_forest(\n",
    "#   X,\n",
    "#   Y,\n",
    "#   W,\n",
    "#   Y.hat = NULL,\n",
    "#   W.hat = NULL,\n",
    "#   num.trees = 2000,\n",
    "#   sample.weights = NULL,\n",
    "#   gradient.weights = NULL,\n",
    "#   clusters = NULL,\n",
    "#   equalize.cluster.weights = FALSE,\n",
    "#   sample.fraction = 0.5,\n",
    "#   mtry = min(ceiling(sqrt(ncol(X)) + 20), ncol(X)),\n",
    "#   min.node.size = 5,\n",
    "#   honesty = TRUE,\n",
    "#   honesty.fraction = 0.5,\n",
    "#   honesty.prune.leaves = TRUE,\n",
    "#   alpha = 0.05,\n",
    "#   imbalance.penalty = 0,\n",
    "#   stabilize.splits = FALSE,\n",
    "#   ci.group.size = 2,\n",
    "#   compute.oob.predictions = TRUE,\n",
    "#   num.threads = NULL,\n",
    "#   seed = runif(1, 0, .Machine$integer.max)\n",
    "# )"
   ]
  },
  {
   "cell_type": "markdown",
   "id": "d6cc08b2",
   "metadata": {},
   "source": [
    " ## Aplication Causal Forest RDD to following paper titled \"Do Voters Affect or Elect Policies: Evidence from the u.s. House.\"\n",
    "\n",
    "link [Mixtape](https://mixtape.scunning.com/06-regression_discontinuity)"
   ]
  },
  {
   "cell_type": "code",
   "execution_count": null,
   "id": "078411e9",
   "metadata": {},
   "outputs": [],
   "source": [
    "library(tidyverse)\n",
    "library(haven)\n",
    "library(estimatr)\n",
    "\n",
    "\n",
    "read_data <- function(df)\n",
    "{\n",
    "  full_path <- paste(\"https://raw.github.com/scunning1975/mixtape/master/\", \n",
    "                     df, sep = \"\")\n",
    "  df <- read_dta(full_path)\n",
    "  return(df)\n",
    "}\n",
    "\n",
    "\n",
    "lmb_data <- read_data(\"lmb-data.dta\")\n",
    "\n",
    "\n",
    "lmb_subset <- lmb_data %>% \n",
    "  filter(lagdemvoteshare>.48 & lagdemvoteshare<.52)\n",
    "\n",
    "\n",
    "lm_1 <- lm_robust(score ~ lagdemocrat, data = lmb_subset, clusters = id)\n",
    "lm_2 <- lm_robust(score ~ democrat, data = lmb_subset, clusters = id)\n",
    "lm_3 <- lm_robust(democrat ~ lagdemocrat, data = lmb_subset, clusters = id)\n",
    "\n",
    "\n",
    "summary(lm_1)\n",
    "summary(lm_2)\n",
    "summary(lm_3)"
   ]
  },
  {
   "cell_type": "code",
   "execution_count": null,
   "id": "6e8105d5",
   "metadata": {},
   "outputs": [],
   "source": [
    "#aggregating the data\n",
    "categories <- lmb_data$lagdemvoteshare\n",
    "\n",
    "demmeans <- split(lmb_data$score, cut(lmb_data$lagdemvoteshare, 100)) %>% \n",
    "  lapply(mean) %>% \n",
    "  unlist()\n",
    "\n",
    "agg_lmb_data <- data.frame(score = demmeans, lagdemvoteshare = seq(0.01,1, by = 0.01))\n",
    "\n",
    "#plotting\n",
    "lmb_data <- lmb_data %>% \n",
    "  mutate(gg_group = case_when(lagdemvoteshare > 0.5 ~ 1, TRUE ~ 0))\n",
    "         \n",
    "ggplot(lmb_data, aes(lagdemvoteshare, score)) +\n",
    "  geom_point(aes(x = lagdemvoteshare, y = score), data = agg_lmb_data) +\n",
    "  stat_smooth(aes(lagdemvoteshare, score, group = gg_group), method = \"lm\", \n",
    "              formula = y ~ x + I(x^2)) +\n",
    "  xlim(0,1) + ylim(0,100) +\n",
    "  geom_vline(xintercept = 0.5)\n"
   ]
  },
  {
   "cell_type": "code",
   "execution_count": null,
   "id": "69d9f083",
   "metadata": {},
   "outputs": [],
   "source": [
    "summary(lmb_data)"
   ]
  },
  {
   "cell_type": "code",
   "execution_count": null,
   "id": "6441155f",
   "metadata": {},
   "outputs": [],
   "source": [
    "# Compute the Imbens-Kalyanaraman MSE-optimal bandwidth for a local linear regression.\n",
    "#attach(lmb_data)\n",
    "\n",
    "cutoff <- 0.5\n",
    "Y <- score\n",
    "Z <- lagdemvoteshare\n",
    "X <- cbind(lmb_data$realincome, lmb_data$age)\n",
    "W <- as.numeric(Z >= cutoff)\n",
    "\n",
    "bandwidth <- IKbandwidth(Z, Y, cutoff)\n",
    "# Compute kernel weights for a triangular kernel.\n",
    "sample.weights <- kernelwts(Z, cutoff, bandwidth, \"triangular\")\n",
    "\n",
    "# Alternatively, specify bandwith and triangular kernel weights without using the `rdd` package.\n",
    "# bandwidth <- # user can hand-specify this.\n",
    "dist <- abs((Z - cutoff) / bandwidth)\n",
    "sample.weights <- (1 - dist) * (dist <= 1) / bandwidth\n",
    "\n",
    "# Estimate a local linear regression with the running variable Z conditional on covariates X = x:\n",
    "# Y = c(x) + tau(x) W + b(x) Z.\n",
    "# Specify gradient.weights = c(1, 0) to target heterogeneity in the RDD coefficient tau(x).\n",
    "# Also, fit forest on subset with non-zero weights for faster estimation.\n",
    "subset <- sample.weights > 0\n",
    "subset <- ! is.na(subset)"
   ]
  },
  {
   "cell_type": "code",
   "execution_count": null,
   "id": "9143695e",
   "metadata": {},
   "outputs": [],
   "source": [
    "lmf <- lm_forest(X[subset, 1], Y[subset], cbind(W, Z)[subset, ],\n",
    "                 sample.weights = sample.weights[subset], gradient.weights = c(1, 0))\n",
    "\n",
    "plot(X[subset, 1], tau.hat)"
   ]
  },
  {
   "cell_type": "code",
   "execution_count": null,
   "id": "83d3ac06",
   "metadata": {},
   "outputs": [],
   "source": []
  },
  {
   "cell_type": "code",
   "execution_count": null,
   "id": "3aec0692",
   "metadata": {},
   "outputs": [],
   "source": []
  },
  {
   "cell_type": "code",
   "execution_count": null,
   "id": "aa30b0c2",
   "metadata": {},
   "outputs": [],
   "source": []
  },
  {
   "cell_type": "markdown",
   "id": "9d4df710",
   "metadata": {},
   "source": [
    "## References\n",
    "\n",
    "Athey, Susan, Julie Tibshirani, and Stefan Wager. \"Generalized Random Forests\". Annals of Statistics, 47(2), 2019.\n",
    "\n",
    "Zeileis, Achim, Torsten Hothorn, and Kurt Hornik. \"Model-based Recursive Partitioning.\" Journal of Computational and Graphical Statistics 17(2), 2008."
   ]
  }
 ],
 "metadata": {
  "kernelspec": {
   "display_name": "R",
   "language": "R",
   "name": "ir"
  },
  "language_info": {
   "codemirror_mode": "r",
   "file_extension": ".r",
   "mimetype": "text/x-r-source",
   "name": "R",
   "pygments_lexer": "r",
   "version": "4.2.0"
  }
 },
 "nbformat": 4,
 "nbformat_minor": 5
}
