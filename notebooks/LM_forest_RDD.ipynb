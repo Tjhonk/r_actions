{
 "cells": [
  {
   "cell_type": "markdown",
   "id": "4b45f52f",
   "metadata": {},
   "source": [
    "# LM Forest RDD\n",
    "\n",
    "\n",
    "Trains a linear model forest that can be used to estimate $h_k(x), k=1,...,k$  at $X=x$ in the the conditional linear model $Y = c(x) + h_1(x)W_1 + ... + h_k(x)W_k$, where Y is a (potentially vector-valued) response and W a set of regressors."
   ]
  },
  {
   "cell_type": "code",
   "execution_count": 27,
   "id": "718e83ea",
   "metadata": {},
   "outputs": [
    {
     "name": "stderr",
     "output_type": "stream",
     "text": [
      "Installing package into 'C:/Users/Roberto/AppData/Local/R/win-library/4.2'\n",
      "(as 'lib' is unspecified)\n",
      "\n",
      "Warning message in install.packages(\"https://cran.r-project.org/src/contrib/Archive/rlang/rlang_1.0.3.tar.gz\", :\n",
      "\"installation of package 'C:/Users/Roberto/AppData/Local/Temp/RtmpwZRD2u/downloaded_packages/rlang_1.0.3.tar.gz' had non-zero exit status\"\n"
     ]
    }
   ],
   "source": [
    "install.packages(\"https://cran.r-project.org/src/contrib/Archive/rlang/rlang_1.0.3.tar.gz\", repo=NULL, type=\"source\")"
   ]
  },
  {
   "cell_type": "code",
   "execution_count": null,
   "id": "c6b6562a",
   "metadata": {},
   "outputs": [],
   "source": [
    "remove.packages(\"rlang\")"
   ]
  },
  {
   "cell_type": "code",
   "execution_count": 20,
   "id": "636697d2",
   "metadata": {},
   "outputs": [
    {
     "name": "stderr",
     "output_type": "stream",
     "text": [
      "Installing package into 'C:/Users/Roberto/AppData/Local/R/win-library/4.2'\n",
      "(as 'lib' is unspecified)\n",
      "\n"
     ]
    },
    {
     "name": "stdout",
     "output_type": "stream",
     "text": [
      "package 'rlang' successfully unpacked and MD5 sums checked\n"
     ]
    },
    {
     "name": "stderr",
     "output_type": "stream",
     "text": [
      "Warning message:\n",
      "\"cannot remove prior installation of package 'rlang'\"\n",
      "Warning message in file.copy(savedcopy, lib, recursive = TRUE):\n",
      "\"problema al copiar C:\\Users\\Roberto\\AppData\\Local\\R\\win-library\\4.2\\00LOCK\\rlang\\libs\\x64\\rlang.dll  a C:\\Users\\Roberto\\AppData\\Local\\R\\win-library\\4.2\\rlang\\libs\\x64\\rlang.dll: Permission denied\"\n",
      "Warning message:\n",
      "\"restored 'rlang'\"\n"
     ]
    },
    {
     "name": "stdout",
     "output_type": "stream",
     "text": [
      "\n",
      "The downloaded binary packages are in\n",
      "\tC:\\Users\\Roberto\\AppData\\Local\\Temp\\RtmpwZRD2u\\downloaded_packages\n"
     ]
    }
   ],
   "source": [
    "install.packages(\"rlang\")\n",
    "#library(rlang)"
   ]
  },
  {
   "cell_type": "code",
   "execution_count": 24,
   "id": "cfa54c73",
   "metadata": {},
   "outputs": [
    {
     "ename": "ERROR",
     "evalue": "Error in packageVersion(\"rlang\"): there is no package called 'rlang'\n",
     "output_type": "error",
     "traceback": [
      "Error in packageVersion(\"rlang\"): there is no package called 'rlang'\nTraceback:\n",
      "1. packageVersion(\"rlang\")"
     ]
    }
   ],
   "source": [
    "packageVersion(\"rlang\")"
   ]
  },
  {
   "cell_type": "code",
   "execution_count": 18,
   "id": "cab3c4a0",
   "metadata": {},
   "outputs": [
    {
     "ename": "ERROR",
     "evalue": "Error in loadNamespace(i, c(lib.loc, .libPaths()), versionCheck = vI[[i]]): namespace 'rlang' 1.0.2 is already loaded, but >= 1.0.3 is required\n",
     "output_type": "error",
     "traceback": [
      "Error in loadNamespace(i, c(lib.loc, .libPaths()), versionCheck = vI[[i]]): namespace 'rlang' 1.0.2 is already loaded, but >= 1.0.3 is required\nTraceback:\n",
      "1. loadNamespace(x)",
      "2. namespaceImportFrom(ns, loadNamespace(j <- i[[1L]], c(lib.loc, \n .     .libPaths()), versionCheck = vI[[j]]), i[[2L]], from = package)",
      "3. asNamespace(ns)",
      "4. loadNamespace(j <- i[[1L]], c(lib.loc, .libPaths()), versionCheck = vI[[j]])",
      "5. namespaceImport(ns, loadNamespace(i, c(lib.loc, .libPaths()), \n .     versionCheck = vI[[i]]), from = package)",
      "6. loadNamespace(i, c(lib.loc, .libPaths()), versionCheck = vI[[i]])",
      "7. stop(gettextf(\"namespace %s %s is already loaded, but %s %s is required\", \n .     sQuote(package), current, zop, zversion), domain = NA)"
     ]
    }
   ],
   "source": [
    "#install.packages('rdd')\n",
    "\n",
    "\n",
    "#library(rdd)\n",
    "#library(grf)\n",
    "\n",
    "devtools::install_github(\"grf-labs/grf\", subdir = \"r-package/grf\")"
   ]
  },
  {
   "cell_type": "code",
   "execution_count": null,
   "id": "6011d54d",
   "metadata": {},
   "outputs": [],
   "source": [
    ".libPaths() "
   ]
  },
  {
   "cell_type": "code",
   "execution_count": 2,
   "id": "615ca023",
   "metadata": {},
   "outputs": [
    {
     "ename": "ERROR",
     "evalue": "Error in lm_forest(X[subset, ], Y[subset], cbind(W, Z)[subset, ], sample.weights = sample.weights[subset], : no se pudo encontrar la función \"lm_forest\"\n",
     "output_type": "error",
     "traceback": [
      "Error in lm_forest(X[subset, ], Y[subset], cbind(W, Z)[subset, ], sample.weights = sample.weights[subset], : no se pudo encontrar la función \"lm_forest\"\nTraceback:\n"
     ]
    }
   ],
   "source": [
    "# \\donttest{\n",
    "if (require(\"rdd\", quietly = FALSE)) {\n",
    "# Train a LM Forest to estimate CATEs in a regression discontinuity design.\n",
    "# Simulate a simple example with a heterogeneous jump in the CEF.\n",
    "n <- 2000\n",
    "p <- 5\n",
    "X <- matrix(rnorm(n * p), n, p)\n",
    "Z <- runif(n, -4, 4)\n",
    "cutoff <- 0\n",
    "W <- as.numeric(Z >= cutoff)\n",
    "tau <- pmax(0.5 * X[, 1], 0)\n",
    "Y <- tau * W  + 1 / (1 + exp(2 * Z)) + 0.2 * rnorm(n)\n",
    "\n",
    "# Compute the Imbens-Kalyanaraman MSE-optimal bandwidth for a local linear regression.\n",
    "bandwidth <- IKbandwidth(Z, Y, cutoff)\n",
    "# Compute kernel weights for a triangular kernel.\n",
    "sample.weights <- kernelwts(Z, cutoff, bandwidth, \"triangular\")\n",
    "\n",
    "# Alternatively, specify bandwith and triangular kernel weights without using the `rdd` package.\n",
    "# bandwidth <- # user can hand-specify this.\n",
    "# dist <- abs((Z - cutoff) / bandwidth)\n",
    "# sample.weights <- (1 - dist) * (dist <= 1) / bandwidth\n",
    "\n",
    "# Estimate a local linear regression with the running variable Z conditional on covariates X = x:\n",
    "# Y = c(x) + tau(x) W + b(x) Z.\n",
    "# Specify gradient.weights = c(1, 0) to target heterogeneity in the RDD coefficient tau(x).\n",
    "# Also, fit forest on subset with non-zero weights for faster estimation.\n",
    "subset <- sample.weights > 0\n",
    "    \n",
    "lmf <- lm_forest(X[subset, ], Y[subset], cbind(W, Z)[subset, ],\n",
    "                 sample.weights = sample.weights[subset], gradient.weights = c(1, 0))\n",
    "tau.hat <- predict(lmf)$predictions[, 1, ]\n",
    "\n",
    "# Plot estimated tau(x) vs simulated ground truth.\n",
    "plot(X[subset, 1], tau.hat)\n",
    "points(X[subset, 1], tau[subset], col = \"red\", cex = 0.1)\n",
    "}\n",
    "\n",
    "#> \n",
    "#> Attaching package: ‘zoo’#> The following objects are masked from ‘package:base’:\n",
    "#> \n",
    "#>     as.Date, as.Date.numeric# }\n",
    "\n"
   ]
  },
  {
   "cell_type": "code",
   "execution_count": 15,
   "id": "d8faa836",
   "metadata": {},
   "outputs": [
    {
     "ename": "ERROR",
     "evalue": "Error in lm_forest(X[subset, ], Y[subset], cbind(W, Z)[subset, ], sample.weights = sample.weights[subset], : no se pudo encontrar la función \"lm_forest\"\n",
     "output_type": "error",
     "traceback": [
      "Error in lm_forest(X[subset, ], Y[subset], cbind(W, Z)[subset, ], sample.weights = sample.weights[subset], : no se pudo encontrar la función \"lm_forest\"\nTraceback:\n"
     ]
    }
   ],
   "source": [
    "# Train a LM Forest to estimate CATEs in a regression discontinuity design.\n",
    "# Simulate a simple example with a heterogeneous jump in the CEF.\n",
    "n <- 2000\n",
    "p <- 5\n",
    "X <- matrix(rnorm(n * p), n, p)\n",
    "Z <- runif(n, -4, 4)\n",
    "cutoff <- 0\n",
    "W <- as.numeric(Z >= cutoff)\n",
    "tau <- pmax(0.5 * X[, 1], 0)\n",
    "Y <- tau * W  + 1 / (1 + exp(2 * Z)) + 0.2 * rnorm(n)\n",
    "\n",
    "# Compute the Imbens-Kalyanaraman MSE-optimal bandwidth for a local linear regression.\n",
    "bandwidth <- IKbandwidth(Z, Y, cutoff)\n",
    "# Compute kernel weights for a triangular kernel.\n",
    "sample.weights <- kernelwts(Z, cutoff, bandwidth, \"triangular\")\n",
    "\n",
    "# Alternatively, specify bandwith and triangular kernel weights without using the `rdd` package.\n",
    "# bandwidth <- # user can hand-specify this.\n",
    "# dist <- abs((Z - cutoff) / bandwidth)\n",
    "# sample.weights <- (1 - dist) * (dist <= 1) / bandwidth\n",
    "\n",
    "# Estimate a local linear regression with the running variable Z conditional on covariates X = x:\n",
    "# Y = c(x) + tau(x) W + b(x) Z.\n",
    "# Specify gradient.weights = c(1, 0) to target heterogeneity in the RDD coefficient tau(x).\n",
    "# Also, fit forest on subset with non-zero weights for faster estimation.\n",
    "subset <- sample.weights > 0\n",
    "lmf <- lm_forest(X[subset, ], Y[subset], cbind(W, Z)[subset, ],\n",
    "                 sample.weights = sample.weights[subset], gradient.weights = c(1, 0))\n",
    "tau.hat <- predict(lmf)$predictions[, 1, ]\n",
    "\n",
    "# Plot estimated tau(x) vs simulated ground truth.\n",
    "plot(X[subset, 1], tau.hat)\n",
    "points(X[subset, 1], tau[subset], col = \"red\", cex = 0.1)"
   ]
  },
  {
   "cell_type": "code",
   "execution_count": 2,
   "id": "1e3befe2",
   "metadata": {},
   "outputs": [],
   "source": [
    "#Documentation\n",
    "\n",
    "# lm_forest(\n",
    "#   X,\n",
    "#   Y,\n",
    "#   W,\n",
    "#   Y.hat = NULL,\n",
    "#   W.hat = NULL,\n",
    "#   num.trees = 2000,\n",
    "#   sample.weights = NULL,\n",
    "#   gradient.weights = NULL,\n",
    "#   clusters = NULL,\n",
    "#   equalize.cluster.weights = FALSE,\n",
    "#   sample.fraction = 0.5,\n",
    "#   mtry = min(ceiling(sqrt(ncol(X)) + 20), ncol(X)),\n",
    "#   min.node.size = 5,\n",
    "#   honesty = TRUE,\n",
    "#   honesty.fraction = 0.5,\n",
    "#   honesty.prune.leaves = TRUE,\n",
    "#   alpha = 0.05,\n",
    "#   imbalance.penalty = 0,\n",
    "#   stabilize.splits = FALSE,\n",
    "#   ci.group.size = 2,\n",
    "#   compute.oob.predictions = TRUE,\n",
    "#   num.threads = NULL,\n",
    "#   seed = runif(1, 0, .Machine$integer.max)\n",
    "# )"
   ]
  },
  {
   "cell_type": "markdown",
   "id": "9d4df710",
   "metadata": {},
   "source": [
    "## References\n",
    "\n",
    "Athey, Susan, Julie Tibshirani, and Stefan Wager. \"Generalized Random Forests\". Annals of Statistics, 47(2), 2019.\n",
    "\n",
    "Zeileis, Achim, Torsten Hothorn, and Kurt Hornik. \"Model-based Recursive Partitioning.\" Journal of Computational and Graphical Statistics 17(2), 2008."
   ]
  }
 ],
 "metadata": {
  "kernelspec": {
   "display_name": "R",
   "language": "R",
   "name": "ir"
  },
  "language_info": {
   "codemirror_mode": "r",
   "file_extension": ".r",
   "mimetype": "text/x-r-source",
   "name": "R",
   "pygments_lexer": "r",
   "version": "4.2.0"
  }
 },
 "nbformat": 4,
 "nbformat_minor": 5
}
